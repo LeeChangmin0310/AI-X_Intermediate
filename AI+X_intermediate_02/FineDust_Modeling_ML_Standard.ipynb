{
 "cells": [
  {
   "cell_type": "markdown",
   "id": "2072748e",
   "metadata": {
    "id": "2072748e"
   },
   "source": [
    "# 공공데이터를 활용한 미세먼지 농도 예측 프로젝트\n",
    "## 단계2. 모델링(머신러닝)"
   ]
  },
  {
   "cell_type": "markdown",
   "id": "428de2c9",
   "metadata": {
    "id": "428de2c9"
   },
   "source": [
    "## 0.프로젝트 소개\n",
    "\n",
    "### (1) 수행 목표\n",
    "- 미세먼지 농도를 예측하는 머신러닝 모델을 만드세요."
   ]
  },
  {
   "cell_type": "markdown",
   "id": "673a15d8",
   "metadata": {
    "id": "673a15d8"
   },
   "source": [
    "#### 우리가 풀어야 하는 문제는 무엇인가요?\n",
    "* 서울 지역의 미세먼지 데이터와 날씨 데이터를 활용하여,\n",
    "미세먼지 예측에 관련 있는 데이터 항목으로 데이터를 구성, 전처리 하여\n",
    "미세먼지 농도를 예측하는 머신러닝 모델 구현\n"
   ]
  },
  {
   "cell_type": "markdown",
   "id": "69494029",
   "metadata": {
    "id": "69494029"
   },
   "source": [
    "### (2) 데이터 소개\n",
    "\n",
    "#### 1) 기본 데이터\n",
    "\n",
    "* 학습 데이터\n",
    "    * air_2021.csv : 2021년 미세먼지 데이터\n",
    "    * weather_2021.csv : 2021년 날씨 데이터\n",
    "* 테스트 데이터\n",
    "    * air_2022.csv : 2022년 미세먼지 데이터\n",
    "    * weather_2022.csv : 2022년 날씨 데이터\n",
    "\n",
    "#### 2) 데이터셋의 변수 소개(weather_2021)\n",
    "\n",
    "* 증기압: 증기가 고체 또는 액체와 동적 평형 상태에 있을 때 증기의 압력 (증기가 되려는 힘)\n",
    "* 이슬점 온도: 불포화 상태의 공기가 냉각될 때, 포화 상태에 도달하여 수증기의 응결이 시작되는 온도\n",
    "* 일조: 일정한 물체나 땅의 겉면에 태양 광선이 비치는 시간 (1시간 중 비율)\n",
    "* 일사(량): 태양으로부터 오는 태양 복사 에너지가 지표에 닿는 양 (면적당 에너지 량)\n",
    "* 전운량: 하늘을 육안으로 관측하여 전부 구름일 때 10, 구름이 덮고 있는 하늘의 비율에 따라 0~10\n",
    "* 중하층운량: 중층과 하층에 있는 구름의 분포량(중하층 구름이 날씨에 영향 주므로 따로 표기)\n",
    "* 운형(운형약어): 구름의 종류. 약어 코드로 기재됨\n",
    "* 최저운고: 가장 낮은 구름의 높이\n",
    "* 현상번호(국내식): 비, 소낙비, 싸락눈, 눈보라 등의 기상현상을 나타낸 코드번호\n",
    "* 지면온도: 지면 0cm 온도\n",
    "* 지중온도: 땅 속 온도변수1"
   ]
  },
  {
   "cell_type": "markdown",
   "id": "bc18a997",
   "metadata": {
    "id": "bc18a997"
   },
   "source": [
    "#### 2) 라이브러리 로딩"
   ]
  },
  {
   "cell_type": "code",
   "execution_count": 3,
   "id": "efficient-minutes",
   "metadata": {
    "executionInfo": {
     "elapsed": 4453,
     "status": "ok",
     "timestamp": 1730670290598,
     "user": {
      "displayName": "이창민",
      "userId": "14847847938142148141"
     },
     "user_tz": -540
    },
    "id": "efficient-minutes",
    "tags": []
   },
   "outputs": [],
   "source": [
    "import pickle\n",
    "import numpy as np\n",
    "import pandas as pd\n",
    "import seaborn as sns\n",
    "import matplotlib.pyplot as plt\n",
    "\n",
    "from pycaret.regression import *\n",
    "\n",
    "from sklearn.ensemble import StackingRegressor\n",
    "from sklearn.preprocessing import StandardScaler\n",
    "from sklearn.linear_model import LinearRegression\n",
    "from sklearn.model_selection import train_test_split\n",
    "from sklearn.metrics import r2_score, mean_squared_error"
   ]
  },
  {
   "cell_type": "markdown",
   "id": "68991fae",
   "metadata": {
    "id": "68991fae"
   },
   "source": [
    "# MicroDust Predictor class"
   ]
  },
  {
   "cell_type": "code",
   "execution_count": 4,
   "id": "30b7dcc1",
   "metadata": {
    "executionInfo": {
     "elapsed": 4,
     "status": "ok",
     "timestamp": 1730670290599,
     "user": {
      "displayName": "이창민",
      "userId": "14847847938142148141"
     },
     "user_tz": -540
    },
    "id": "30b7dcc1"
   },
   "outputs": [],
   "source": [
    "class FineDustPredictor:\n",
    "    def __init__(self, train_x_path, train_y_path, test_x_path, test_y_path):\n",
    "        self.train_x = pd.read_csv(train_x_path)\n",
    "        self.train_y = pd.read_csv(train_y_path)\n",
    "        self.test_x = pd.read_csv(test_x_path)\n",
    "        self.test_y = pd.read_csv(test_y_path)\n",
    "        self.scaler = StandardScaler()\n",
    "        self.tuned_models = []\n",
    "        self.results = {}\n",
    "        self.pre_tuning_results = {}\n",
    "\n",
    "    def normalize_data(self):\n",
    "        \"\"\"Normalize the training and testing datasets.\"\"\"\n",
    "        self.train_x = pd.DataFrame(self.scaler.fit_transform(self.train_x), columns=self.train_x.columns)\n",
    "        self.test_x = pd.DataFrame(self.scaler.transform(self.test_x), columns=self.test_x.columns)\n",
    "\n",
    "    def setup_autoML(self):\n",
    "        \"\"\"Set up PyCaret for AutoML and compare models.\"\"\"\n",
    "        self.data = pd.concat([self.train_x, self.train_y], axis=1)\n",
    "        setup(data=self.data, target=self.train_y.columns[0], session_id=42, use_gpu=True)\n",
    "\n",
    "    def compare_models(self):\n",
    "        \"\"\"Compare models based on R2 score and return top 5 models.\"\"\"\n",
    "        self.best_models = compare_models(sort='R2', n_select=5)\n",
    "        return self.best_models\n",
    "\n",
    "    def evaluate_models(self, models, results_dict):\n",
    "        \"\"\"Evaluate the given models on the test dataset and store results.\"\"\"\n",
    "        for model in models:\n",
    "            # Make predictions\n",
    "            predictions = predict_model(model, data=self.test_x)\n",
    "            # print(predictions.columns)\n",
    "\n",
    "            # Use the 'Label' column for predicted values\n",
    "            pred = predictions['prediction_label']\n",
    "\n",
    "            # Calculate performance metrics using test_y['PM10_1'] for actual values\n",
    "            r2 = r2_score(self.test_y['PM10_1'], pred)\n",
    "            mse = mean_squared_error(self.test_y['PM10_1'], pred)\n",
    "            model_name = str(model).split('(')[0]  # Extract model name\n",
    "            results_dict[model_name] = {'R2 Score': r2, 'MSE': mse}\n",
    "\n",
    "    def stack_models(self):\n",
    "        \"\"\"Stack tuned models and evaluate performance.\"\"\"\n",
    "        # Prepare base model predictions\n",
    "        X_meta = []\n",
    "        y_meta = self.train_y['PM10_1']\n",
    "\n",
    "        for model in self.tuned_models:\n",
    "            # Predict on training set\n",
    "            train_predictions = predict_model(model, data=self.train_x)['prediction_label']\n",
    "            X_meta.append(train_predictions)\n",
    "\n",
    "        # Transpose to create features for the meta-model\n",
    "        X_meta = np.array(X_meta).T\n",
    "\n",
    "        # Split into training and validation sets for stacking\n",
    "        X_train_meta, X_val_meta, y_train_meta, y_val_meta = train_test_split(X_meta, y_meta, test_size=0.2, random_state=42)\n",
    "\n",
    "        # Define the stacking model\n",
    "        stacker = StackingRegressor(\n",
    "            estimators=[(str(model).split('(')[0], model) for model in self.tuned_models],\n",
    "            final_estimator=LinearRegression(),\n",
    "            cv=5\n",
    "        )\n",
    "\n",
    "        # Train the stacking model\n",
    "        stacker.fit(X_train_meta, y_train_meta)\n",
    "\n",
    "        # Make predictions\n",
    "        predictions = stacker.predict(X_val_meta)\n",
    "\n",
    "        # Evaluate the stacking model\n",
    "        r2 = r2_score(y_val_meta, predictions)\n",
    "        mse = mean_squared_error(y_val_meta, predictions)\n",
    "\n",
    "        print(f'Stacked Model - R2 Score: {r2:.4f}, MSE: {mse:.4f}')\n",
    "\n",
    "    def tune_and_save_models(self):\n",
    "        \"\"\"Tune hyperparameters for each of the top models and save them.\"\"\"\n",
    "        for model in self.best_models:\n",
    "            # Save performance metrics before tuning\n",
    "            self.pre_tuning_results[str(model).split('(')[0]] = {}\n",
    "\n",
    "            # Evaluate model before tuning\n",
    "            self.evaluate_models([model], self.pre_tuning_results)\n",
    "\n",
    "            tuned_model = tune_model(model, optimize='R2')\n",
    "            self.tuned_models.append(tuned_model)\n",
    "\n",
    "            # Save original model\n",
    "            model_name = str(model).split('(')[0]  # Extract model name\n",
    "            with open(f'./models/model_{model_name}.pkl', 'wb') as f:\n",
    "                pickle.dump(model, f)\n",
    "\n",
    "            # Save tuned model\n",
    "            with open(f'./models/tuned_model_{model_name}.pkl', 'wb') as f:\n",
    "                pickle.dump(tuned_model, f)\n",
    "\n",
    "            # Evaluate tuned model\n",
    "            self.evaluate_models([tuned_model], self.results)\n",
    "\n",
    "        # Call the stacking method after tuning models\n",
    "        self.stack_models()\n",
    "\n",
    "    def display_results(self):\n",
    "        \"\"\"Display the evaluation results of the models in a formatted way and visualize them.\"\"\"\n",
    "        # Prepare data for visualization\n",
    "        pre_tuning_df = pd.DataFrame.from_dict(self.pre_tuning_results, orient='index').reset_index()\n",
    "        pre_tuning_df.rename(columns={'index': 'Model Name'}, inplace=True)\n",
    "        pre_tuning_df['Stage'] = 'Before Tuning'\n",
    "\n",
    "        post_tuning_df = pd.DataFrame.from_dict(self.results, orient='index').reset_index()\n",
    "        post_tuning_df.rename(columns={'index': 'Model Name'}, inplace=True)\n",
    "        post_tuning_df['Stage'] = 'After Tuning'\n",
    "\n",
    "        # Combine dataframes for visualization\n",
    "        comparison_df = pd.concat([pre_tuning_df, post_tuning_df], ignore_index=True)\n",
    "\n",
    "        # Set up the matplotlib figure with larger size and style\n",
    "        plt.figure(figsize=(16, 8))\n",
    "        sns.set_style(\"whitegrid\")\n",
    "\n",
    "        # Create bar plots for R2 Score\n",
    "        plt.subplot(1, 2, 1)\n",
    "        r2_plot = sns.barplot(data=comparison_df, x='Model Name', y='R2 Score', hue='Stage', palette='Set2')\n",
    "        plt.title('R2 Score Comparison', fontsize=16)\n",
    "        plt.xticks(rotation=45)\n",
    "        plt.ylabel('R2 Score', fontsize=14)\n",
    "        plt.xlabel('Model Name', fontsize=14)\n",
    "        for p in r2_plot.patches:\n",
    "            r2_plot.annotate(f'{p.get_height():.2f}', (p.get_x() + p.get_width() / 2., p.get_height()),\n",
    "                            ha='center', va='bottom', fontsize=12)\n",
    "\n",
    "        # Create bar plots for MSE\n",
    "        plt.subplot(1, 2, 2)\n",
    "        mse_plot = sns.barplot(data=comparison_df, x='Model Name', y='MSE', hue='Stage', palette='Set2')\n",
    "        plt.title('MSE Comparison', fontsize=16)\n",
    "        plt.xticks(rotation=45)\n",
    "        plt.ylabel('Mean Squared Error', fontsize=14)\n",
    "        plt.xlabel('Model Name', fontsize=14)\n",
    "        for p in mse_plot.patches:\n",
    "            mse_plot.annotate(f'{p.get_height():.2f}', (p.get_x() + p.get_width() / 2., p.get_height()),\n",
    "                            ha='center', va='bottom', fontsize=12)\n",
    "\n",
    "        plt.tight_layout()\n",
    "        plt.show()\n",
    "\n",
    "        # Print results in text format with improved formatting\n",
    "        print(\"\\nModel Evaluation Results Before Tuning:\")\n",
    "        print(f\"{'Model Name':<30} {'R2 Score':<15} {'MSE':<15}\")\n",
    "        print(\"-\" * 60)\n",
    "        for model_name, metrics in self.pre_tuning_results.items():\n",
    "            print(f\"{model_name:<30} {metrics['R2 Score']:<15.4f} {metrics['MSE']:<15.4f}\")\n",
    "\n",
    "        print(\"\\nModel Evaluation Results After Tuning:\")\n",
    "        print(f\"{'Model Name':<30} {'R2 Score':<15} {'MSE':<15}\")\n",
    "        print(\"-\" * 60)\n",
    "        for model_name, metrics in self.results.items():\n",
    "            print(f\"{model_name:<30} {metrics['R2 Score']:<15.4f} {metrics['MSE']:<15.4f}\")\n"
   ]
  },
  {
   "cell_type": "markdown",
   "id": "20aaca37-89d7-4045-affa-5a510c69495e",
   "metadata": {
    "id": "20aaca37-89d7-4045-affa-5a510c69495e",
    "tags": []
   },
   "source": [
    "# [Step 3] 머신러닝 모델링 1"
   ]
  },
  {
   "cell_type": "markdown",
   "id": "1a3f4996-4681-4eae-b839-8ad6267387ae",
   "metadata": {
    "id": "1a3f4996-4681-4eae-b839-8ad6267387ae",
    "tags": []
   },
   "source": [
    "#### **<span style=\"color:blue\">[3-1] 학습 및 테스트 데이터 로딩</span>**"
   ]
  },
  {
   "cell_type": "code",
   "execution_count": 5,
   "id": "changed-arrangement",
   "metadata": {
    "executionInfo": {
     "elapsed": 2587,
     "status": "ok",
     "timestamp": 1730670293182,
     "user": {
      "displayName": "이창민",
      "userId": "14847847938142148141"
     },
     "user_tz": -540
    },
    "id": "changed-arrangement",
    "scrolled": true
   },
   "outputs": [],
   "source": [
    "predictor = FineDustPredictor(\n",
    "    train_x_path='./data/train_x.csv',\n",
    "    train_y_path='./data/train_y.csv',\n",
    "    test_x_path='./data/test_x.csv',\n",
    "    test_y_path='./data/test_y.csv'\n",
    ")"
   ]
  },
  {
   "cell_type": "code",
   "execution_count": 6,
   "id": "73a215dc",
   "metadata": {
    "executionInfo": {
     "elapsed": 4,
     "status": "ok",
     "timestamp": 1730670293183,
     "user": {
      "displayName": "이창민",
      "userId": "14847847938142148141"
     },
     "user_tz": -540
    },
    "id": "73a215dc"
   },
   "outputs": [],
   "source": [
    "predictor.normalize_data()"
   ]
  },
  {
   "cell_type": "markdown",
   "id": "2084ca1a",
   "metadata": {
    "id": "2084ca1a"
   },
   "source": [
    "---"
   ]
  },
  {
   "cell_type": "markdown",
   "id": "66dca0e8-a0d1-4562-8afe-3e8f85733393",
   "metadata": {
    "id": "66dca0e8-a0d1-4562-8afe-3e8f85733393",
    "tags": []
   },
   "source": [
    "#### **<span style=\"color:blue\">[3-2] 모델링 </span>**"
   ]
  },
  {
   "cell_type": "markdown",
   "id": "44e1265e-939a-41d6-87cd-98211da2b7d1",
   "metadata": {
    "id": "44e1265e-939a-41d6-87cd-98211da2b7d1",
    "tags": []
   },
   "source": [
    "# [Step 4, 5, 6] AutoML을 통한 머신러닝 모델링 및 상위 3개 모델에 대한 Hyperparameter tuning"
   ]
  },
  {
   "cell_type": "code",
   "execution_count": 7,
   "id": "guilty-score",
   "metadata": {
    "colab": {
     "base_uri": "https://localhost:8080/",
     "height": 1000
    },
    "executionInfo": {
     "elapsed": 4672,
     "status": "ok",
     "timestamp": 1730670297852,
     "user": {
      "displayName": "이창민",
      "userId": "14847847938142148141"
     },
     "user_tz": -540
    },
    "id": "guilty-score",
    "outputId": "2be78878-e5d8-4722-bee6-8b2363520f35"
   },
   "outputs": [
    {
     "name": "stdout",
     "output_type": "stream",
     "text": [
      "[LightGBM] [Warning] There are no meaningful features which satisfy the provided configuration. Decreasing Dataset parameters min_data_in_bin or min_data_in_leaf and re-constructing Dataset might resolve this warning.\n",
      "[LightGBM] [Info] This is the GPU trainer!!\n",
      "[LightGBM] [Info] Total Bins 0\n",
      "[LightGBM] [Info] Number of data points in the train set: 2, number of used features: 0\n",
      "[LightGBM] [Warning] There are no meaningful features which satisfy the provided configuration. Decreasing Dataset parameters min_data_in_bin or min_data_in_leaf and re-constructing Dataset might resolve this warning.\n",
      "[LightGBM] [Warning] Using sparse features with CUDA is currently not supported.\n",
      "[LightGBM] [Warning] There are no meaningful features which satisfy the provided configuration. Decreasing Dataset parameters min_data_in_bin or min_data_in_leaf and re-constructing Dataset might resolve this warning.\n",
      "[LightGBM] [Info] This is the GPU trainer!!\n",
      "[LightGBM] [Info] Total Bins 0\n",
      "[LightGBM] [Info] Number of data points in the train set: 2, number of used features: 0\n",
      "[LightGBM] [Warning] There are no meaningful features which satisfy the provided configuration. Decreasing Dataset parameters min_data_in_bin or min_data_in_leaf and re-constructing Dataset might resolve this warning.\n",
      "[LightGBM] [Warning] Using sparse features with CUDA is currently not supported.\n",
      "[LightGBM] [Warning] There are no meaningful features which satisfy the provided configuration. Decreasing Dataset parameters min_data_in_bin or min_data_in_leaf and re-constructing Dataset might resolve this warning.\n",
      "[LightGBM] [Info] This is the GPU trainer!!\n",
      "[LightGBM] [Info] Total Bins 0\n",
      "[LightGBM] [Info] Number of data points in the train set: 2, number of used features: 0\n",
      "[LightGBM] [Warning] There are no meaningful features which satisfy the provided configuration. Decreasing Dataset parameters min_data_in_bin or min_data_in_leaf and re-constructing Dataset might resolve this warning.\n",
      "[LightGBM] [Warning] Using sparse features with CUDA is currently not supported.\n",
      "[LightGBM] [Warning] There are no meaningful features which satisfy the provided configuration. Decreasing Dataset parameters min_data_in_bin or min_data_in_leaf and re-constructing Dataset might resolve this warning.\n",
      "[LightGBM] [Info] This is the GPU trainer!!\n",
      "[LightGBM] [Info] Total Bins 0\n",
      "[LightGBM] [Info] Number of data points in the train set: 2, number of used features: 0\n",
      "[LightGBM] [Warning] There are no meaningful features which satisfy the provided configuration. Decreasing Dataset parameters min_data_in_bin or min_data_in_leaf and re-constructing Dataset might resolve this warning.\n",
      "[LightGBM] [Warning] Using sparse features with CUDA is currently not supported.\n",
      "[LightGBM] [Warning] There are no meaningful features which satisfy the provided configuration. Decreasing Dataset parameters min_data_in_bin or min_data_in_leaf and re-constructing Dataset might resolve this warning.\n",
      "[LightGBM] [Info] This is the GPU trainer!!\n",
      "[LightGBM] [Info] Total Bins 0\n",
      "[LightGBM] [Info] Number of data points in the train set: 2, number of used features: 0\n",
      "[LightGBM] [Warning] There are no meaningful features which satisfy the provided configuration. Decreasing Dataset parameters min_data_in_bin or min_data_in_leaf and re-constructing Dataset might resolve this warning.\n",
      "[LightGBM] [Warning] Using sparse features with CUDA is currently not supported.\n",
      "[LightGBM] [Warning] There are no meaningful features which satisfy the provided configuration. Decreasing Dataset parameters min_data_in_bin or min_data_in_leaf and re-constructing Dataset might resolve this warning.\n",
      "[LightGBM] [Info] This is the GPU trainer!!\n",
      "[LightGBM] [Info] Total Bins 0\n",
      "[LightGBM] [Info] Number of data points in the train set: 2, number of used features: 0\n",
      "[LightGBM] [Warning] There are no meaningful features which satisfy the provided configuration. Decreasing Dataset parameters min_data_in_bin or min_data_in_leaf and re-constructing Dataset might resolve this warning.\n",
      "[LightGBM] [Warning] Using sparse features with CUDA is currently not supported.\n",
      "[LightGBM] [Warning] There are no meaningful features which satisfy the provided configuration. Decreasing Dataset parameters min_data_in_bin or min_data_in_leaf and re-constructing Dataset might resolve this warning.\n",
      "[LightGBM] [Info] This is the GPU trainer!!\n",
      "[LightGBM] [Info] Total Bins 0\n",
      "[LightGBM] [Info] Number of data points in the train set: 2, number of used features: 0\n",
      "[LightGBM] [Warning] There are no meaningful features which satisfy the provided configuration. Decreasing Dataset parameters min_data_in_bin or min_data_in_leaf and re-constructing Dataset might resolve this warning.\n",
      "[LightGBM] [Warning] Using sparse features with CUDA is currently not supported.\n",
      "[LightGBM] [Warning] There are no meaningful features which satisfy the provided configuration. Decreasing Dataset parameters min_data_in_bin or min_data_in_leaf and re-constructing Dataset might resolve this warning.\n",
      "[LightGBM] [Info] This is the GPU trainer!!\n",
      "[LightGBM] [Info] Total Bins 0\n",
      "[LightGBM] [Info] Number of data points in the train set: 2, number of used features: 0\n",
      "[LightGBM] [Warning] There are no meaningful features which satisfy the provided configuration. Decreasing Dataset parameters min_data_in_bin or min_data_in_leaf and re-constructing Dataset might resolve this warning.\n",
      "[LightGBM] [Warning] Using sparse features with CUDA is currently not supported.\n",
      "[LightGBM] [Warning] There are no meaningful features which satisfy the provided configuration. Decreasing Dataset parameters min_data_in_bin or min_data_in_leaf and re-constructing Dataset might resolve this warning.\n",
      "[LightGBM] [Info] This is the GPU trainer!!\n",
      "[LightGBM] [Info] Total Bins 0\n",
      "[LightGBM] [Info] Number of data points in the train set: 2, number of used features: 0\n",
      "[LightGBM] [Warning] There are no meaningful features which satisfy the provided configuration. Decreasing Dataset parameters min_data_in_bin or min_data_in_leaf and re-constructing Dataset might resolve this warning.\n",
      "[LightGBM] [Warning] Using sparse features with CUDA is currently not supported.\n",
      "[LightGBM] [Warning] There are no meaningful features which satisfy the provided configuration. Decreasing Dataset parameters min_data_in_bin or min_data_in_leaf and re-constructing Dataset might resolve this warning.\n",
      "[LightGBM] [Info] This is the GPU trainer!!\n",
      "[LightGBM] [Info] Total Bins 0\n",
      "[LightGBM] [Info] Number of data points in the train set: 2, number of used features: 0\n",
      "[LightGBM] [Warning] There are no meaningful features which satisfy the provided configuration. Decreasing Dataset parameters min_data_in_bin or min_data_in_leaf and re-constructing Dataset might resolve this warning.\n",
      "[LightGBM] [Warning] Using sparse features with CUDA is currently not supported.\n",
      "[LightGBM] [Warning] There are no meaningful features which satisfy the provided configuration. Decreasing Dataset parameters min_data_in_bin or min_data_in_leaf and re-constructing Dataset might resolve this warning.\n",
      "[LightGBM] [Info] This is the GPU trainer!!\n",
      "[LightGBM] [Info] Total Bins 0\n",
      "[LightGBM] [Info] Number of data points in the train set: 2, number of used features: 0\n",
      "[LightGBM] [Warning] There are no meaningful features which satisfy the provided configuration. Decreasing Dataset parameters min_data_in_bin or min_data_in_leaf and re-constructing Dataset might resolve this warning.\n",
      "[LightGBM] [Warning] Using sparse features with CUDA is currently not supported.\n",
      "[LightGBM] [Warning] There are no meaningful features which satisfy the provided configuration. Decreasing Dataset parameters min_data_in_bin or min_data_in_leaf and re-constructing Dataset might resolve this warning.\n",
      "[LightGBM] [Info] This is the GPU trainer!!\n",
      "[LightGBM] [Info] Total Bins 0\n",
      "[LightGBM] [Info] Number of data points in the train set: 2, number of used features: 0\n",
      "[LightGBM] [Warning] There are no meaningful features which satisfy the provided configuration. Decreasing Dataset parameters min_data_in_bin or min_data_in_leaf and re-constructing Dataset might resolve this warning.\n",
      "[LightGBM] [Warning] Using sparse features with CUDA is currently not supported.\n"
     ]
    },
    {
     "data": {
      "text/html": [
       "<style type=\"text/css\">\n",
       "#T_981ca_row8_col1, #T_981ca_row15_col1 {\n",
       "  background-color: lightgreen;\n",
       "}\n",
       "</style>\n",
       "<table id=\"T_981ca\" class=\"dataframe\">\n",
       "  <thead>\n",
       "    <tr>\n",
       "      <th class=\"blank level0\" >&nbsp;</th>\n",
       "      <th id=\"T_981ca_level0_col0\" class=\"col_heading level0 col0\" >Description</th>\n",
       "      <th id=\"T_981ca_level0_col1\" class=\"col_heading level0 col1\" >Value</th>\n",
       "    </tr>\n",
       "  </thead>\n",
       "  <tbody>\n",
       "    <tr>\n",
       "      <th id=\"T_981ca_level0_row0\" class=\"row_heading level0 row0\" >0</th>\n",
       "      <td id=\"T_981ca_row0_col0\" class=\"data row0 col0\" >Session id</td>\n",
       "      <td id=\"T_981ca_row0_col1\" class=\"data row0 col1\" >42</td>\n",
       "    </tr>\n",
       "    <tr>\n",
       "      <th id=\"T_981ca_level0_row1\" class=\"row_heading level0 row1\" >1</th>\n",
       "      <td id=\"T_981ca_row1_col0\" class=\"data row1 col0\" >Target</td>\n",
       "      <td id=\"T_981ca_row1_col1\" class=\"data row1 col1\" >PM10_1</td>\n",
       "    </tr>\n",
       "    <tr>\n",
       "      <th id=\"T_981ca_level0_row2\" class=\"row_heading level0 row2\" >2</th>\n",
       "      <td id=\"T_981ca_row2_col0\" class=\"data row2 col0\" >Target type</td>\n",
       "      <td id=\"T_981ca_row2_col1\" class=\"data row2 col1\" >Regression</td>\n",
       "    </tr>\n",
       "    <tr>\n",
       "      <th id=\"T_981ca_level0_row3\" class=\"row_heading level0 row3\" >3</th>\n",
       "      <td id=\"T_981ca_row3_col0\" class=\"data row3 col0\" >Original data shape</td>\n",
       "      <td id=\"T_981ca_row3_col1\" class=\"data row3 col1\" >(8432, 27)</td>\n",
       "    </tr>\n",
       "    <tr>\n",
       "      <th id=\"T_981ca_level0_row4\" class=\"row_heading level0 row4\" >4</th>\n",
       "      <td id=\"T_981ca_row4_col0\" class=\"data row4 col0\" >Transformed data shape</td>\n",
       "      <td id=\"T_981ca_row4_col1\" class=\"data row4 col1\" >(8432, 27)</td>\n",
       "    </tr>\n",
       "    <tr>\n",
       "      <th id=\"T_981ca_level0_row5\" class=\"row_heading level0 row5\" >5</th>\n",
       "      <td id=\"T_981ca_row5_col0\" class=\"data row5 col0\" >Transformed train set shape</td>\n",
       "      <td id=\"T_981ca_row5_col1\" class=\"data row5 col1\" >(5902, 27)</td>\n",
       "    </tr>\n",
       "    <tr>\n",
       "      <th id=\"T_981ca_level0_row6\" class=\"row_heading level0 row6\" >6</th>\n",
       "      <td id=\"T_981ca_row6_col0\" class=\"data row6 col0\" >Transformed test set shape</td>\n",
       "      <td id=\"T_981ca_row6_col1\" class=\"data row6 col1\" >(2530, 27)</td>\n",
       "    </tr>\n",
       "    <tr>\n",
       "      <th id=\"T_981ca_level0_row7\" class=\"row_heading level0 row7\" >7</th>\n",
       "      <td id=\"T_981ca_row7_col0\" class=\"data row7 col0\" >Numeric features</td>\n",
       "      <td id=\"T_981ca_row7_col1\" class=\"data row7 col1\" >26</td>\n",
       "    </tr>\n",
       "    <tr>\n",
       "      <th id=\"T_981ca_level0_row8\" class=\"row_heading level0 row8\" >8</th>\n",
       "      <td id=\"T_981ca_row8_col0\" class=\"data row8 col0\" >Preprocess</td>\n",
       "      <td id=\"T_981ca_row8_col1\" class=\"data row8 col1\" >True</td>\n",
       "    </tr>\n",
       "    <tr>\n",
       "      <th id=\"T_981ca_level0_row9\" class=\"row_heading level0 row9\" >9</th>\n",
       "      <td id=\"T_981ca_row9_col0\" class=\"data row9 col0\" >Imputation type</td>\n",
       "      <td id=\"T_981ca_row9_col1\" class=\"data row9 col1\" >simple</td>\n",
       "    </tr>\n",
       "    <tr>\n",
       "      <th id=\"T_981ca_level0_row10\" class=\"row_heading level0 row10\" >10</th>\n",
       "      <td id=\"T_981ca_row10_col0\" class=\"data row10 col0\" >Numeric imputation</td>\n",
       "      <td id=\"T_981ca_row10_col1\" class=\"data row10 col1\" >mean</td>\n",
       "    </tr>\n",
       "    <tr>\n",
       "      <th id=\"T_981ca_level0_row11\" class=\"row_heading level0 row11\" >11</th>\n",
       "      <td id=\"T_981ca_row11_col0\" class=\"data row11 col0\" >Categorical imputation</td>\n",
       "      <td id=\"T_981ca_row11_col1\" class=\"data row11 col1\" >mode</td>\n",
       "    </tr>\n",
       "    <tr>\n",
       "      <th id=\"T_981ca_level0_row12\" class=\"row_heading level0 row12\" >12</th>\n",
       "      <td id=\"T_981ca_row12_col0\" class=\"data row12 col0\" >Fold Generator</td>\n",
       "      <td id=\"T_981ca_row12_col1\" class=\"data row12 col1\" >KFold</td>\n",
       "    </tr>\n",
       "    <tr>\n",
       "      <th id=\"T_981ca_level0_row13\" class=\"row_heading level0 row13\" >13</th>\n",
       "      <td id=\"T_981ca_row13_col0\" class=\"data row13 col0\" >Fold Number</td>\n",
       "      <td id=\"T_981ca_row13_col1\" class=\"data row13 col1\" >10</td>\n",
       "    </tr>\n",
       "    <tr>\n",
       "      <th id=\"T_981ca_level0_row14\" class=\"row_heading level0 row14\" >14</th>\n",
       "      <td id=\"T_981ca_row14_col0\" class=\"data row14 col0\" >CPU Jobs</td>\n",
       "      <td id=\"T_981ca_row14_col1\" class=\"data row14 col1\" >-1</td>\n",
       "    </tr>\n",
       "    <tr>\n",
       "      <th id=\"T_981ca_level0_row15\" class=\"row_heading level0 row15\" >15</th>\n",
       "      <td id=\"T_981ca_row15_col0\" class=\"data row15 col0\" >Use GPU</td>\n",
       "      <td id=\"T_981ca_row15_col1\" class=\"data row15 col1\" >True</td>\n",
       "    </tr>\n",
       "    <tr>\n",
       "      <th id=\"T_981ca_level0_row16\" class=\"row_heading level0 row16\" >16</th>\n",
       "      <td id=\"T_981ca_row16_col0\" class=\"data row16 col0\" >Log Experiment</td>\n",
       "      <td id=\"T_981ca_row16_col1\" class=\"data row16 col1\" >False</td>\n",
       "    </tr>\n",
       "    <tr>\n",
       "      <th id=\"T_981ca_level0_row17\" class=\"row_heading level0 row17\" >17</th>\n",
       "      <td id=\"T_981ca_row17_col0\" class=\"data row17 col0\" >Experiment Name</td>\n",
       "      <td id=\"T_981ca_row17_col1\" class=\"data row17 col1\" >reg-default-name</td>\n",
       "    </tr>\n",
       "    <tr>\n",
       "      <th id=\"T_981ca_level0_row18\" class=\"row_heading level0 row18\" >18</th>\n",
       "      <td id=\"T_981ca_row18_col0\" class=\"data row18 col0\" >USI</td>\n",
       "      <td id=\"T_981ca_row18_col1\" class=\"data row18 col1\" >f50b</td>\n",
       "    </tr>\n",
       "  </tbody>\n",
       "</table>\n"
      ],
      "text/plain": [
       "<pandas.io.formats.style.Styler at 0x780597dcdde0>"
      ]
     },
     "metadata": {},
     "output_type": "display_data"
    },
    {
     "name": "stdout",
     "output_type": "stream",
     "text": [
      "[LightGBM] [Warning] There are no meaningful features which satisfy the provided configuration. Decreasing Dataset parameters min_data_in_bin or min_data_in_leaf and re-constructing Dataset might resolve this warning.\n",
      "[LightGBM] [Info] This is the GPU trainer!!\n",
      "[LightGBM] [Info] Total Bins 0\n",
      "[LightGBM] [Info] Number of data points in the train set: 2, number of used features: 0\n",
      "[LightGBM] [Warning] There are no meaningful features which satisfy the provided configuration. Decreasing Dataset parameters min_data_in_bin or min_data_in_leaf and re-constructing Dataset might resolve this warning.\n",
      "[LightGBM] [Warning] Using sparse features with CUDA is currently not supported.\n",
      "[LightGBM] [Warning] There are no meaningful features which satisfy the provided configuration. Decreasing Dataset parameters min_data_in_bin or min_data_in_leaf and re-constructing Dataset might resolve this warning.\n",
      "[LightGBM] [Info] This is the GPU trainer!!\n",
      "[LightGBM] [Info] Total Bins 0\n",
      "[LightGBM] [Info] Number of data points in the train set: 2, number of used features: 0\n",
      "[LightGBM] [Warning] There are no meaningful features which satisfy the provided configuration. Decreasing Dataset parameters min_data_in_bin or min_data_in_leaf and re-constructing Dataset might resolve this warning.\n",
      "[LightGBM] [Warning] Using sparse features with CUDA is currently not supported.\n"
     ]
    }
   ],
   "source": [
    "predictor.setup_autoML()"
   ]
  },
  {
   "cell_type": "code",
   "execution_count": 8,
   "id": "9ce45d0c",
   "metadata": {
    "colab": {
     "base_uri": "https://localhost:8080/",
     "height": 679,
     "referenced_widgets": [
      "463e30a20fc649e580e922ddcd6823ae",
      "4045b566f0394457a1e714eaa93a2040",
      "53911e6d9f2c41aead59039ccf83a141",
      "c39621d5298d41deb6bca578f924f289",
      "6732a26d7dc648939f156d801fef63be",
      "9bc607d9b91a4803b90337ed68cf6450",
      "a0a90ec16d7040329772163444c0f1b1",
      "520e1c68a8b44fe9a22672f7caf7eea7",
      "4b2e23ebc54442d0be629707116f9694",
      "7300161e5f2d4e9f8440a6fce0c32243",
      "e73747dc9fca47298576fc5833278ee2"
     ]
    },
    "executionInfo": {
     "elapsed": 62380,
     "status": "ok",
     "timestamp": 1730670360226,
     "user": {
      "displayName": "이창민",
      "userId": "14847847938142148141"
     },
     "user_tz": -540
    },
    "id": "9ce45d0c",
    "outputId": "eba299c4-c4af-4248-c156-2a1d7dd8f8a5"
   },
   "outputs": [
    {
     "data": {
      "text/html": [],
      "text/plain": [
       "<IPython.core.display.HTML object>"
      ]
     },
     "metadata": {},
     "output_type": "display_data"
    },
    {
     "data": {
      "text/html": [
       "<style type=\"text/css\">\n",
       "#T_0a926 th {\n",
       "  text-align: left;\n",
       "}\n",
       "#T_0a926_row0_col0, #T_0a926_row0_col1, #T_0a926_row0_col2, #T_0a926_row0_col5, #T_0a926_row0_col6, #T_0a926_row1_col0, #T_0a926_row1_col1, #T_0a926_row1_col2, #T_0a926_row1_col3, #T_0a926_row1_col4, #T_0a926_row1_col5, #T_0a926_row1_col6, #T_0a926_row2_col0, #T_0a926_row2_col3, #T_0a926_row2_col4, #T_0a926_row3_col0, #T_0a926_row3_col1, #T_0a926_row3_col2, #T_0a926_row3_col3, #T_0a926_row3_col4, #T_0a926_row3_col5, #T_0a926_row3_col6, #T_0a926_row4_col0, #T_0a926_row4_col1, #T_0a926_row4_col2, #T_0a926_row4_col3, #T_0a926_row4_col4, #T_0a926_row4_col5, #T_0a926_row4_col6, #T_0a926_row5_col0, #T_0a926_row5_col1, #T_0a926_row5_col2, #T_0a926_row5_col3, #T_0a926_row5_col4, #T_0a926_row5_col5, #T_0a926_row5_col6, #T_0a926_row6_col0, #T_0a926_row6_col1, #T_0a926_row6_col2, #T_0a926_row6_col3, #T_0a926_row6_col4, #T_0a926_row6_col5, #T_0a926_row6_col6, #T_0a926_row7_col0, #T_0a926_row7_col1, #T_0a926_row7_col2, #T_0a926_row7_col3, #T_0a926_row7_col4, #T_0a926_row7_col5, #T_0a926_row7_col6, #T_0a926_row8_col0, #T_0a926_row8_col1, #T_0a926_row8_col2, #T_0a926_row8_col3, #T_0a926_row8_col4, #T_0a926_row8_col5, #T_0a926_row8_col6, #T_0a926_row9_col0, #T_0a926_row9_col1, #T_0a926_row9_col2, #T_0a926_row9_col3, #T_0a926_row9_col4, #T_0a926_row9_col5, #T_0a926_row9_col6, #T_0a926_row10_col0, #T_0a926_row10_col1, #T_0a926_row10_col2, #T_0a926_row10_col3, #T_0a926_row10_col4, #T_0a926_row10_col5, #T_0a926_row10_col6, #T_0a926_row11_col0, #T_0a926_row11_col1, #T_0a926_row11_col2, #T_0a926_row11_col3, #T_0a926_row11_col4, #T_0a926_row11_col5, #T_0a926_row11_col6, #T_0a926_row12_col0, #T_0a926_row12_col1, #T_0a926_row12_col2, #T_0a926_row12_col3, #T_0a926_row12_col4, #T_0a926_row12_col5, #T_0a926_row12_col6, #T_0a926_row13_col0, #T_0a926_row13_col1, #T_0a926_row13_col2, #T_0a926_row13_col3, #T_0a926_row13_col4, #T_0a926_row13_col5, #T_0a926_row13_col6, #T_0a926_row14_col0, #T_0a926_row14_col1, #T_0a926_row14_col2, #T_0a926_row14_col3, #T_0a926_row14_col4, #T_0a926_row14_col5, #T_0a926_row14_col6, #T_0a926_row15_col0, #T_0a926_row15_col1, #T_0a926_row15_col2, #T_0a926_row15_col3, #T_0a926_row15_col4, #T_0a926_row15_col5, #T_0a926_row15_col6, #T_0a926_row16_col0, #T_0a926_row16_col1, #T_0a926_row16_col2, #T_0a926_row16_col3, #T_0a926_row16_col4, #T_0a926_row16_col5, #T_0a926_row16_col6, #T_0a926_row17_col0, #T_0a926_row17_col1, #T_0a926_row17_col2, #T_0a926_row17_col3, #T_0a926_row17_col4, #T_0a926_row17_col5, #T_0a926_row17_col6, #T_0a926_row18_col0, #T_0a926_row18_col1, #T_0a926_row18_col2, #T_0a926_row18_col3, #T_0a926_row18_col4, #T_0a926_row18_col5, #T_0a926_row18_col6 {\n",
       "  text-align: left;\n",
       "}\n",
       "#T_0a926_row0_col3, #T_0a926_row0_col4, #T_0a926_row2_col1, #T_0a926_row2_col2, #T_0a926_row2_col5, #T_0a926_row2_col6 {\n",
       "  text-align: left;\n",
       "  background-color: yellow;\n",
       "}\n",
       "#T_0a926_row0_col7, #T_0a926_row1_col7, #T_0a926_row2_col7, #T_0a926_row3_col7, #T_0a926_row4_col7, #T_0a926_row5_col7, #T_0a926_row6_col7, #T_0a926_row7_col7, #T_0a926_row8_col7, #T_0a926_row9_col7, #T_0a926_row10_col7, #T_0a926_row11_col7, #T_0a926_row12_col7, #T_0a926_row13_col7, #T_0a926_row14_col7, #T_0a926_row15_col7, #T_0a926_row16_col7, #T_0a926_row18_col7 {\n",
       "  text-align: left;\n",
       "  background-color: lightgrey;\n",
       "}\n",
       "#T_0a926_row17_col7 {\n",
       "  text-align: left;\n",
       "  background-color: yellow;\n",
       "  background-color: lightgrey;\n",
       "}\n",
       "</style>\n",
       "<table id=\"T_0a926\" class=\"dataframe\">\n",
       "  <thead>\n",
       "    <tr>\n",
       "      <th class=\"blank level0\" >&nbsp;</th>\n",
       "      <th id=\"T_0a926_level0_col0\" class=\"col_heading level0 col0\" >Model</th>\n",
       "      <th id=\"T_0a926_level0_col1\" class=\"col_heading level0 col1\" >MAE</th>\n",
       "      <th id=\"T_0a926_level0_col2\" class=\"col_heading level0 col2\" >MSE</th>\n",
       "      <th id=\"T_0a926_level0_col3\" class=\"col_heading level0 col3\" >RMSE</th>\n",
       "      <th id=\"T_0a926_level0_col4\" class=\"col_heading level0 col4\" >R2</th>\n",
       "      <th id=\"T_0a926_level0_col5\" class=\"col_heading level0 col5\" >RMSLE</th>\n",
       "      <th id=\"T_0a926_level0_col6\" class=\"col_heading level0 col6\" >MAPE</th>\n",
       "      <th id=\"T_0a926_level0_col7\" class=\"col_heading level0 col7\" >TT (Sec)</th>\n",
       "    </tr>\n",
       "  </thead>\n",
       "  <tbody>\n",
       "    <tr>\n",
       "      <th id=\"T_0a926_level0_row0\" class=\"row_heading level0 row0\" >et</th>\n",
       "      <td id=\"T_0a926_row0_col0\" class=\"data row0 col0\" >Extra Trees Regressor</td>\n",
       "      <td id=\"T_0a926_row0_col1\" class=\"data row0 col1\" >4.1032</td>\n",
       "      <td id=\"T_0a926_row0_col2\" class=\"data row0 col2\" >75.8464</td>\n",
       "      <td id=\"T_0a926_row0_col3\" class=\"data row0 col3\" >8.3236</td>\n",
       "      <td id=\"T_0a926_row0_col4\" class=\"data row0 col4\" >0.9662</td>\n",
       "      <td id=\"T_0a926_row0_col5\" class=\"data row0 col5\" >0.1665</td>\n",
       "      <td id=\"T_0a926_row0_col6\" class=\"data row0 col6\" >0.1294</td>\n",
       "      <td id=\"T_0a926_row0_col7\" class=\"data row0 col7\" >0.6570</td>\n",
       "    </tr>\n",
       "    <tr>\n",
       "      <th id=\"T_0a926_level0_row1\" class=\"row_heading level0 row1\" >gbr</th>\n",
       "      <td id=\"T_0a926_row1_col0\" class=\"data row1 col0\" >Gradient Boosting Regressor</td>\n",
       "      <td id=\"T_0a926_row1_col1\" class=\"data row1 col1\" >4.0033</td>\n",
       "      <td id=\"T_0a926_row1_col2\" class=\"data row1 col2\" >79.1292</td>\n",
       "      <td id=\"T_0a926_row1_col3\" class=\"data row1 col3\" >8.4246</td>\n",
       "      <td id=\"T_0a926_row1_col4\" class=\"data row1 col4\" >0.9660</td>\n",
       "      <td id=\"T_0a926_row1_col5\" class=\"data row1 col5\" >0.1650</td>\n",
       "      <td id=\"T_0a926_row1_col6\" class=\"data row1 col6\" >0.1290</td>\n",
       "      <td id=\"T_0a926_row1_col7\" class=\"data row1 col7\" >1.7680</td>\n",
       "    </tr>\n",
       "    <tr>\n",
       "      <th id=\"T_0a926_level0_row2\" class=\"row_heading level0 row2\" >huber</th>\n",
       "      <td id=\"T_0a926_row2_col0\" class=\"data row2 col0\" >Huber Regressor</td>\n",
       "      <td id=\"T_0a926_row2_col1\" class=\"data row2 col1\" >3.9636</td>\n",
       "      <td id=\"T_0a926_row2_col2\" class=\"data row2 col2\" >74.6204</td>\n",
       "      <td id=\"T_0a926_row2_col3\" class=\"data row2 col3\" >8.4360</td>\n",
       "      <td id=\"T_0a926_row2_col4\" class=\"data row2 col4\" >0.9659</td>\n",
       "      <td id=\"T_0a926_row2_col5\" class=\"data row2 col5\" >0.1615</td>\n",
       "      <td id=\"T_0a926_row2_col6\" class=\"data row2 col6\" >0.1223</td>\n",
       "      <td id=\"T_0a926_row2_col7\" class=\"data row2 col7\" >0.2350</td>\n",
       "    </tr>\n",
       "    <tr>\n",
       "      <th id=\"T_0a926_level0_row3\" class=\"row_heading level0 row3\" >br</th>\n",
       "      <td id=\"T_0a926_row3_col0\" class=\"data row3 col0\" >Bayesian Ridge</td>\n",
       "      <td id=\"T_0a926_row3_col1\" class=\"data row3 col1\" >4.0254</td>\n",
       "      <td id=\"T_0a926_row3_col2\" class=\"data row3 col2\" >75.5802</td>\n",
       "      <td id=\"T_0a926_row3_col3\" class=\"data row3 col3\" >8.4689</td>\n",
       "      <td id=\"T_0a926_row3_col4\" class=\"data row3 col4\" >0.9655</td>\n",
       "      <td id=\"T_0a926_row3_col5\" class=\"data row3 col5\" >0.1667</td>\n",
       "      <td id=\"T_0a926_row3_col6\" class=\"data row3 col6\" >0.1257</td>\n",
       "      <td id=\"T_0a926_row3_col7\" class=\"data row3 col7\" >0.0680</td>\n",
       "    </tr>\n",
       "    <tr>\n",
       "      <th id=\"T_0a926_level0_row4\" class=\"row_heading level0 row4\" >ridge</th>\n",
       "      <td id=\"T_0a926_row4_col0\" class=\"data row4 col0\" >Ridge Regression</td>\n",
       "      <td id=\"T_0a926_row4_col1\" class=\"data row4 col1\" >4.0250</td>\n",
       "      <td id=\"T_0a926_row4_col2\" class=\"data row4 col2\" >75.5712</td>\n",
       "      <td id=\"T_0a926_row4_col3\" class=\"data row4 col3\" >8.4685</td>\n",
       "      <td id=\"T_0a926_row4_col4\" class=\"data row4 col4\" >0.9655</td>\n",
       "      <td id=\"T_0a926_row4_col5\" class=\"data row4 col5\" >0.1666</td>\n",
       "      <td id=\"T_0a926_row4_col6\" class=\"data row4 col6\" >0.1257</td>\n",
       "      <td id=\"T_0a926_row4_col7\" class=\"data row4 col7\" >0.0360</td>\n",
       "    </tr>\n",
       "    <tr>\n",
       "      <th id=\"T_0a926_level0_row5\" class=\"row_heading level0 row5\" >lr</th>\n",
       "      <td id=\"T_0a926_row5_col0\" class=\"data row5 col0\" >Linear Regression</td>\n",
       "      <td id=\"T_0a926_row5_col1\" class=\"data row5 col1\" >4.0300</td>\n",
       "      <td id=\"T_0a926_row5_col2\" class=\"data row5 col2\" >75.6520</td>\n",
       "      <td id=\"T_0a926_row5_col3\" class=\"data row5 col3\" >8.4725</td>\n",
       "      <td id=\"T_0a926_row5_col4\" class=\"data row5 col4\" >0.9654</td>\n",
       "      <td id=\"T_0a926_row5_col5\" class=\"data row5 col5\" >0.1667</td>\n",
       "      <td id=\"T_0a926_row5_col6\" class=\"data row5 col6\" >0.1259</td>\n",
       "      <td id=\"T_0a926_row5_col7\" class=\"data row5 col7\" >0.0470</td>\n",
       "    </tr>\n",
       "    <tr>\n",
       "      <th id=\"T_0a926_level0_row6\" class=\"row_heading level0 row6\" >omp</th>\n",
       "      <td id=\"T_0a926_row6_col0\" class=\"data row6 col0\" >Orthogonal Matching Pursuit</td>\n",
       "      <td id=\"T_0a926_row6_col1\" class=\"data row6 col1\" >4.0267</td>\n",
       "      <td id=\"T_0a926_row6_col2\" class=\"data row6 col2\" >76.4056</td>\n",
       "      <td id=\"T_0a926_row6_col3\" class=\"data row6 col3\" >8.5132</td>\n",
       "      <td id=\"T_0a926_row6_col4\" class=\"data row6 col4\" >0.9651</td>\n",
       "      <td id=\"T_0a926_row6_col5\" class=\"data row6 col5\" >0.1644</td>\n",
       "      <td id=\"T_0a926_row6_col6\" class=\"data row6 col6\" >0.1261</td>\n",
       "      <td id=\"T_0a926_row6_col7\" class=\"data row6 col7\" >0.0340</td>\n",
       "    </tr>\n",
       "    <tr>\n",
       "      <th id=\"T_0a926_level0_row7\" class=\"row_heading level0 row7\" >lasso</th>\n",
       "      <td id=\"T_0a926_row7_col0\" class=\"data row7 col0\" >Lasso Regression</td>\n",
       "      <td id=\"T_0a926_row7_col1\" class=\"data row7 col1\" >4.0982</td>\n",
       "      <td id=\"T_0a926_row7_col2\" class=\"data row7 col2\" >76.6930</td>\n",
       "      <td id=\"T_0a926_row7_col3\" class=\"data row7 col3\" >8.5682</td>\n",
       "      <td id=\"T_0a926_row7_col4\" class=\"data row7 col4\" >0.9648</td>\n",
       "      <td id=\"T_0a926_row7_col5\" class=\"data row7 col5\" >0.1714</td>\n",
       "      <td id=\"T_0a926_row7_col6\" class=\"data row7 col6\" >0.1369</td>\n",
       "      <td id=\"T_0a926_row7_col7\" class=\"data row7 col7\" >0.0770</td>\n",
       "    </tr>\n",
       "    <tr>\n",
       "      <th id=\"T_0a926_level0_row8\" class=\"row_heading level0 row8\" >llar</th>\n",
       "      <td id=\"T_0a926_row8_col0\" class=\"data row8 col0\" >Lasso Least Angle Regression</td>\n",
       "      <td id=\"T_0a926_row8_col1\" class=\"data row8 col1\" >4.0982</td>\n",
       "      <td id=\"T_0a926_row8_col2\" class=\"data row8 col2\" >76.6930</td>\n",
       "      <td id=\"T_0a926_row8_col3\" class=\"data row8 col3\" >8.5682</td>\n",
       "      <td id=\"T_0a926_row8_col4\" class=\"data row8 col4\" >0.9648</td>\n",
       "      <td id=\"T_0a926_row8_col5\" class=\"data row8 col5\" >0.1714</td>\n",
       "      <td id=\"T_0a926_row8_col6\" class=\"data row8 col6\" >0.1369</td>\n",
       "      <td id=\"T_0a926_row8_col7\" class=\"data row8 col7\" >0.0340</td>\n",
       "    </tr>\n",
       "    <tr>\n",
       "      <th id=\"T_0a926_level0_row9\" class=\"row_heading level0 row9\" >rf</th>\n",
       "      <td id=\"T_0a926_row9_col0\" class=\"data row9 col0\" >Random Forest Regressor</td>\n",
       "      <td id=\"T_0a926_row9_col1\" class=\"data row9 col1\" >4.1114</td>\n",
       "      <td id=\"T_0a926_row9_col2\" class=\"data row9 col2\" >81.5854</td>\n",
       "      <td id=\"T_0a926_row9_col3\" class=\"data row9 col3\" >8.5713</td>\n",
       "      <td id=\"T_0a926_row9_col4\" class=\"data row9 col4\" >0.9644</td>\n",
       "      <td id=\"T_0a926_row9_col5\" class=\"data row9 col5\" >0.1645</td>\n",
       "      <td id=\"T_0a926_row9_col6\" class=\"data row9 col6\" >0.1275</td>\n",
       "      <td id=\"T_0a926_row9_col7\" class=\"data row9 col7\" >1.1900</td>\n",
       "    </tr>\n",
       "    <tr>\n",
       "      <th id=\"T_0a926_level0_row10\" class=\"row_heading level0 row10\" >xgboost</th>\n",
       "      <td id=\"T_0a926_row10_col0\" class=\"data row10 col0\" >Extreme Gradient Boosting</td>\n",
       "      <td id=\"T_0a926_row10_col1\" class=\"data row10 col1\" >4.1550</td>\n",
       "      <td id=\"T_0a926_row10_col2\" class=\"data row10 col2\" >95.1974</td>\n",
       "      <td id=\"T_0a926_row10_col3\" class=\"data row10 col3\" >9.2780</td>\n",
       "      <td id=\"T_0a926_row10_col4\" class=\"data row10 col4\" >0.9569</td>\n",
       "      <td id=\"T_0a926_row10_col5\" class=\"data row10 col5\" >0.1748</td>\n",
       "      <td id=\"T_0a926_row10_col6\" class=\"data row10 col6\" >0.1309</td>\n",
       "      <td id=\"T_0a926_row10_col7\" class=\"data row10 col7\" >0.3370</td>\n",
       "    </tr>\n",
       "    <tr>\n",
       "      <th id=\"T_0a926_level0_row11\" class=\"row_heading level0 row11\" >par</th>\n",
       "      <td id=\"T_0a926_row11_col0\" class=\"data row11 col0\" >Passive Aggressive Regressor</td>\n",
       "      <td id=\"T_0a926_row11_col1\" class=\"data row11 col1\" >6.5305</td>\n",
       "      <td id=\"T_0a926_row11_col2\" class=\"data row11 col2\" >118.6046</td>\n",
       "      <td id=\"T_0a926_row11_col3\" class=\"data row11 col3\" >10.7117</td>\n",
       "      <td id=\"T_0a926_row11_col4\" class=\"data row11 col4\" >0.9457</td>\n",
       "      <td id=\"T_0a926_row11_col5\" class=\"data row11 col5\" >0.3158</td>\n",
       "      <td id=\"T_0a926_row11_col6\" class=\"data row11 col6\" >0.2540</td>\n",
       "      <td id=\"T_0a926_row11_col7\" class=\"data row11 col7\" >0.0470</td>\n",
       "    </tr>\n",
       "    <tr>\n",
       "      <th id=\"T_0a926_level0_row12\" class=\"row_heading level0 row12\" >lightgbm</th>\n",
       "      <td id=\"T_0a926_row12_col0\" class=\"data row12 col0\" >Light Gradient Boosting Machine</td>\n",
       "      <td id=\"T_0a926_row12_col1\" class=\"data row12 col1\" >4.2386</td>\n",
       "      <td id=\"T_0a926_row12_col2\" class=\"data row12 col2\" >128.7328</td>\n",
       "      <td id=\"T_0a926_row12_col3\" class=\"data row12 col3\" >10.8313</td>\n",
       "      <td id=\"T_0a926_row12_col4\" class=\"data row12 col4\" >0.9438</td>\n",
       "      <td id=\"T_0a926_row12_col5\" class=\"data row12 col5\" >0.1710</td>\n",
       "      <td id=\"T_0a926_row12_col6\" class=\"data row12 col6\" >0.1272</td>\n",
       "      <td id=\"T_0a926_row12_col7\" class=\"data row12 col7\" >0.1500</td>\n",
       "    </tr>\n",
       "    <tr>\n",
       "      <th id=\"T_0a926_level0_row13\" class=\"row_heading level0 row13\" >dt</th>\n",
       "      <td id=\"T_0a926_row13_col0\" class=\"data row13 col0\" >Decision Tree Regressor</td>\n",
       "      <td id=\"T_0a926_row13_col1\" class=\"data row13 col1\" >5.7278</td>\n",
       "      <td id=\"T_0a926_row13_col2\" class=\"data row13 col2\" >142.6072</td>\n",
       "      <td id=\"T_0a926_row13_col3\" class=\"data row13 col3\" >11.5042</td>\n",
       "      <td id=\"T_0a926_row13_col4\" class=\"data row13 col4\" >0.9380</td>\n",
       "      <td id=\"T_0a926_row13_col5\" class=\"data row13 col5\" >0.2265</td>\n",
       "      <td id=\"T_0a926_row13_col6\" class=\"data row13 col6\" >0.1756</td>\n",
       "      <td id=\"T_0a926_row13_col7\" class=\"data row13 col7\" >0.1430</td>\n",
       "    </tr>\n",
       "    <tr>\n",
       "      <th id=\"T_0a926_level0_row14\" class=\"row_heading level0 row14\" >knn</th>\n",
       "      <td id=\"T_0a926_row14_col0\" class=\"data row14 col0\" >K Neighbors Regressor</td>\n",
       "      <td id=\"T_0a926_row14_col1\" class=\"data row14 col1\" >7.0562</td>\n",
       "      <td id=\"T_0a926_row14_col2\" class=\"data row14 col2\" >156.1271</td>\n",
       "      <td id=\"T_0a926_row14_col3\" class=\"data row14 col3\" >12.3351</td>\n",
       "      <td id=\"T_0a926_row14_col4\" class=\"data row14 col4\" >0.9293</td>\n",
       "      <td id=\"T_0a926_row14_col5\" class=\"data row14 col5\" >0.2930</td>\n",
       "      <td id=\"T_0a926_row14_col6\" class=\"data row14 col6\" >0.2487</td>\n",
       "      <td id=\"T_0a926_row14_col7\" class=\"data row14 col7\" >0.0330</td>\n",
       "    </tr>\n",
       "    <tr>\n",
       "      <th id=\"T_0a926_level0_row15\" class=\"row_heading level0 row15\" >ada</th>\n",
       "      <td id=\"T_0a926_row15_col0\" class=\"data row15 col0\" >AdaBoost Regressor</td>\n",
       "      <td id=\"T_0a926_row15_col1\" class=\"data row15 col1\" >8.6368</td>\n",
       "      <td id=\"T_0a926_row15_col2\" class=\"data row15 col2\" >163.7765</td>\n",
       "      <td id=\"T_0a926_row15_col3\" class=\"data row15 col3\" >12.5978</td>\n",
       "      <td id=\"T_0a926_row15_col4\" class=\"data row15 col4\" >0.9238</td>\n",
       "      <td id=\"T_0a926_row15_col5\" class=\"data row15 col5\" >0.4745</td>\n",
       "      <td id=\"T_0a926_row15_col6\" class=\"data row15 col6\" >0.5351</td>\n",
       "      <td id=\"T_0a926_row15_col7\" class=\"data row15 col7\" >0.4620</td>\n",
       "    </tr>\n",
       "    <tr>\n",
       "      <th id=\"T_0a926_level0_row16\" class=\"row_heading level0 row16\" >en</th>\n",
       "      <td id=\"T_0a926_row16_col0\" class=\"data row16 col0\" >Elastic Net</td>\n",
       "      <td id=\"T_0a926_row16_col1\" class=\"data row16 col1\" >7.1737</td>\n",
       "      <td id=\"T_0a926_row16_col2\" class=\"data row16 col2\" >326.4090</td>\n",
       "      <td id=\"T_0a926_row16_col3\" class=\"data row16 col3\" >17.8357</td>\n",
       "      <td id=\"T_0a926_row16_col4\" class=\"data row16 col4\" >0.8587</td>\n",
       "      <td id=\"T_0a926_row16_col5\" class=\"data row16 col5\" >0.3096</td>\n",
       "      <td id=\"T_0a926_row16_col6\" class=\"data row16 col6\" >0.2912</td>\n",
       "      <td id=\"T_0a926_row16_col7\" class=\"data row16 col7\" >0.0760</td>\n",
       "    </tr>\n",
       "    <tr>\n",
       "      <th id=\"T_0a926_level0_row17\" class=\"row_heading level0 row17\" >dummy</th>\n",
       "      <td id=\"T_0a926_row17_col0\" class=\"data row17 col0\" >Dummy Regressor</td>\n",
       "      <td id=\"T_0a926_row17_col1\" class=\"data row17 col1\" >22.9016</td>\n",
       "      <td id=\"T_0a926_row17_col2\" class=\"data row17 col2\" >2313.9860</td>\n",
       "      <td id=\"T_0a926_row17_col3\" class=\"data row17 col3\" >47.6004</td>\n",
       "      <td id=\"T_0a926_row17_col4\" class=\"data row17 col4\" >-0.0023</td>\n",
       "      <td id=\"T_0a926_row17_col5\" class=\"data row17 col5\" >0.7848</td>\n",
       "      <td id=\"T_0a926_row17_col6\" class=\"data row17 col6\" >1.0794</td>\n",
       "      <td id=\"T_0a926_row17_col7\" class=\"data row17 col7\" >0.0200</td>\n",
       "    </tr>\n",
       "    <tr>\n",
       "      <th id=\"T_0a926_level0_row18\" class=\"row_heading level0 row18\" >lar</th>\n",
       "      <td id=\"T_0a926_row18_col0\" class=\"data row18 col0\" >Least Angle Regression</td>\n",
       "      <td id=\"T_0a926_row18_col1\" class=\"data row18 col1\" >36.2394</td>\n",
       "      <td id=\"T_0a926_row18_col2\" class=\"data row18 col2\" >6102.7122</td>\n",
       "      <td id=\"T_0a926_row18_col3\" class=\"data row18 col3\" >47.0113</td>\n",
       "      <td id=\"T_0a926_row18_col4\" class=\"data row18 col4\" >-1.7708</td>\n",
       "      <td id=\"T_0a926_row18_col5\" class=\"data row18 col5\" >0.7662</td>\n",
       "      <td id=\"T_0a926_row18_col6\" class=\"data row18 col6\" >1.7054</td>\n",
       "      <td id=\"T_0a926_row18_col7\" class=\"data row18 col7\" >0.0400</td>\n",
       "    </tr>\n",
       "  </tbody>\n",
       "</table>\n"
      ],
      "text/plain": [
       "<pandas.io.formats.style.Styler at 0x78058e75b520>"
      ]
     },
     "metadata": {},
     "output_type": "display_data"
    },
    {
     "data": {
      "application/vnd.jupyter.widget-view+json": {
       "model_id": "463e30a20fc649e580e922ddcd6823ae",
       "version_major": 2,
       "version_minor": 0
      },
      "text/plain": [
       "Processing:   0%|          | 0/85 [00:00<?, ?it/s]"
      ]
     },
     "metadata": {
      "application/vnd.jupyter.widget-view+json": {
       "colab": {
        "custom_widget_manager": {
         "url": "https://ssl.gstatic.com/colaboratory-static/widgets/colab-cdn-widget-manager/2b70e893a8ba7c0f/manager.min.js"
        }
       }
      }
     },
     "output_type": "display_data"
    },
    {
     "data": {
      "text/html": [],
      "text/plain": [
       "<IPython.core.display.HTML object>"
      ]
     },
     "metadata": {},
     "output_type": "display_data"
    },
    {
     "name": "stdout",
     "output_type": "stream",
     "text": [
      "Top 5 Models based on R2 Score:\n",
      "[ExtraTreesRegressor(n_jobs=-1, random_state=42), GradientBoostingRegressor(random_state=42), HuberRegressor(), BayesianRidge(), Ridge(random_state=42)]\n"
     ]
    }
   ],
   "source": [
    "best_models = predictor.compare_models()\n",
    "print(\"Top 5 Models based on R2 Score:\")\n",
    "print(best_models)"
   ]
  },
  {
   "cell_type": "markdown",
   "id": "6c734a46",
   "metadata": {
    "id": "6c734a46"
   },
   "source": [
    "## 학습한 모델을 파일로 저장"
   ]
  },
  {
   "cell_type": "code",
   "execution_count": 9,
   "id": "41971ff8",
   "metadata": {
    "colab": {
     "base_uri": "https://localhost:8080/",
     "height": 1000,
     "referenced_widgets": [
      "af419f958e254e5baa203fb1e9220357",
      "4a401a128a6d4adf9dfb1d80d191231d",
      "27e153df0c2643f4a62c0e37770e8b6d",
      "6cade873a7be492b85f83ea0105bf39b",
      "d74cc4e1e425421da70ce82d4af4010e",
      "280ba5f7bd8b45f2aa5b9ef9800df4fe",
      "531f60cbe875420085883e3349759511",
      "cc1764e8a0b34409ae297a8faa868a83",
      "77def81775aa4c3592cc731628d1a7e3",
      "202c8ee95db5471595d84ebebdf531e7",
      "cdcd82b11d194764af868c1cbb200cb0",
      "57971aa5165b4279bf59e85dbd4b3f54",
      "bbc44999a693441893a36dbb94951122",
      "de49504d9ba242b3aa7813277a22870e",
      "1d64772b7d7d44318cf2844d9add0221",
      "066c333ec4d0469aaea7bf0f2fef5eb2",
      "f82280e82e124298b9b794afff0647b8",
      "80977a80184746f4a57a8db4d65cb453",
      "0e1de4f9ceeb4830a9e23ad89c3679ac",
      "0fdbcdc4e69148a7ab859652eee1e4f9",
      "fbdae5af9f7a44a79d5978b6d7ec7b7e",
      "4c2fdbbda7f14b5c8af1ec33b45bb15e",
      "154b070954f4463c97e3f352287b7f44",
      "e4edeb8e2e1e468da72598fac24acdc5",
      "e7e300ae6d524d03ae76926a041689f7",
      "b5ac2329709847ca9e2773974dd4d018",
      "942d3d8b32454cc99931303ec627b3bc",
      "61ec74f72fdf4143a0d75d829fe6fc83",
      "11e83d65c108426ba7cec488f194226f",
      "4c019a20e3d741b3b9ee7bc05ba2b4b0",
      "f16b073aad8641ea95eb6b102fffbbe8",
      "30b2c355583f493584ef701299d5667f",
      "a040c95d210f4a2cbd7100862d14ff92",
      "afd3e9dee59c49458ff7169f1d3e40a5",
      "998a55aaa8b64eb0b5e731c79f6fcab0",
      "fa77d5f669094e2faf8f8dc9dfd648be",
      "296477c1d233479c9aa964f50757d055",
      "190b1136985a4b82af53fb2de014ab96",
      "00923a029dff4794a79698a8f1a0750f",
      "317ae22b85e14928986f9bd6438b7f11",
      "6c60f09858c347ccadfa2cb06d7dfa1e",
      "a6366fcd22b0455cb804c5bcbdb122f0",
      "70893a8ffb8649b3ba391804522a1309",
      "995da4512241451c89e71e397af63bcc",
      "106c5d2cd2774057bcd8d964147e25a8",
      "c657e055432445d1a70a8c5f46ab8f37",
      "9064f11eea2c40eab7d5a4313bf35859",
      "d5c33a065d5c41419503a3cc0e7f9f91",
      "16b015767bc4421b90473e2ac1c64b65",
      "5e11cb8240024dbeb1f2010413acb041",
      "da38c3c51d83499284516abf82f42863",
      "83390e9f415945bbb66a43804f29bee0",
      "167ca0581bef43a1b39d2b6c7d07215d",
      "a6aafcd17e5c440cbad369de314e78e9",
      "e79a910652cd439da4ca565f5900f886"
     ]
    },
    "executionInfo": {
     "elapsed": 145672,
     "status": "ok",
     "timestamp": 1730670505897,
     "user": {
      "displayName": "이창민",
      "userId": "14847847938142148141"
     },
     "user_tz": -540
    },
    "id": "41971ff8",
    "outputId": "35073766-9849-4ab4-dda3-6d29eca362a3"
   },
   "outputs": [
    {
     "data": {
      "text/html": [],
      "text/plain": [
       "<IPython.core.display.HTML object>"
      ]
     },
     "metadata": {},
     "output_type": "display_data"
    },
    {
     "data": {
      "text/html": [],
      "text/plain": [
       "<IPython.core.display.HTML object>"
      ]
     },
     "metadata": {},
     "output_type": "display_data"
    },
    {
     "data": {
      "text/html": [
       "<style type=\"text/css\">\n",
       "#T_c93e1_row10_col0, #T_c93e1_row10_col1, #T_c93e1_row10_col2, #T_c93e1_row10_col3, #T_c93e1_row10_col4, #T_c93e1_row10_col5 {\n",
       "  background: yellow;\n",
       "}\n",
       "</style>\n",
       "<table id=\"T_c93e1\" class=\"dataframe\">\n",
       "  <thead>\n",
       "    <tr>\n",
       "      <th class=\"blank level0\" >&nbsp;</th>\n",
       "      <th id=\"T_c93e1_level0_col0\" class=\"col_heading level0 col0\" >MAE</th>\n",
       "      <th id=\"T_c93e1_level0_col1\" class=\"col_heading level0 col1\" >MSE</th>\n",
       "      <th id=\"T_c93e1_level0_col2\" class=\"col_heading level0 col2\" >RMSE</th>\n",
       "      <th id=\"T_c93e1_level0_col3\" class=\"col_heading level0 col3\" >R2</th>\n",
       "      <th id=\"T_c93e1_level0_col4\" class=\"col_heading level0 col4\" >RMSLE</th>\n",
       "      <th id=\"T_c93e1_level0_col5\" class=\"col_heading level0 col5\" >MAPE</th>\n",
       "    </tr>\n",
       "    <tr>\n",
       "      <th class=\"index_name level0\" >Fold</th>\n",
       "      <th class=\"blank col0\" >&nbsp;</th>\n",
       "      <th class=\"blank col1\" >&nbsp;</th>\n",
       "      <th class=\"blank col2\" >&nbsp;</th>\n",
       "      <th class=\"blank col3\" >&nbsp;</th>\n",
       "      <th class=\"blank col4\" >&nbsp;</th>\n",
       "      <th class=\"blank col5\" >&nbsp;</th>\n",
       "    </tr>\n",
       "  </thead>\n",
       "  <tbody>\n",
       "    <tr>\n",
       "      <th id=\"T_c93e1_level0_row0\" class=\"row_heading level0 row0\" >0</th>\n",
       "      <td id=\"T_c93e1_row0_col0\" class=\"data row0 col0\" >6.2519</td>\n",
       "      <td id=\"T_c93e1_row0_col1\" class=\"data row0 col1\" >86.3611</td>\n",
       "      <td id=\"T_c93e1_row0_col2\" class=\"data row0 col2\" >9.2931</td>\n",
       "      <td id=\"T_c93e1_row0_col3\" class=\"data row0 col3\" >0.9635</td>\n",
       "      <td id=\"T_c93e1_row0_col4\" class=\"data row0 col4\" >0.3334</td>\n",
       "      <td id=\"T_c93e1_row0_col5\" class=\"data row0 col5\" >0.3206</td>\n",
       "    </tr>\n",
       "    <tr>\n",
       "      <th id=\"T_c93e1_level0_row1\" class=\"row_heading level0 row1\" >1</th>\n",
       "      <td id=\"T_c93e1_row1_col0\" class=\"data row1 col0\" >5.9850</td>\n",
       "      <td id=\"T_c93e1_row1_col1\" class=\"data row1 col1\" >125.5489</td>\n",
       "      <td id=\"T_c93e1_row1_col2\" class=\"data row1 col2\" >11.2049</td>\n",
       "      <td id=\"T_c93e1_row1_col3\" class=\"data row1 col3\" >0.9342</td>\n",
       "      <td id=\"T_c93e1_row1_col4\" class=\"data row1 col4\" >0.2823</td>\n",
       "      <td id=\"T_c93e1_row1_col5\" class=\"data row1 col5\" >0.2607</td>\n",
       "    </tr>\n",
       "    <tr>\n",
       "      <th id=\"T_c93e1_level0_row2\" class=\"row_heading level0 row2\" >2</th>\n",
       "      <td id=\"T_c93e1_row2_col0\" class=\"data row2 col0\" >6.0640</td>\n",
       "      <td id=\"T_c93e1_row2_col1\" class=\"data row2 col1\" >94.6008</td>\n",
       "      <td id=\"T_c93e1_row2_col2\" class=\"data row2 col2\" >9.7263</td>\n",
       "      <td id=\"T_c93e1_row2_col3\" class=\"data row2 col3\" >0.9566</td>\n",
       "      <td id=\"T_c93e1_row2_col4\" class=\"data row2 col4\" >0.3189</td>\n",
       "      <td id=\"T_c93e1_row2_col5\" class=\"data row2 col5\" >0.3024</td>\n",
       "    </tr>\n",
       "    <tr>\n",
       "      <th id=\"T_c93e1_level0_row3\" class=\"row_heading level0 row3\" >3</th>\n",
       "      <td id=\"T_c93e1_row3_col0\" class=\"data row3 col0\" >6.2256</td>\n",
       "      <td id=\"T_c93e1_row3_col1\" class=\"data row3 col1\" >116.5290</td>\n",
       "      <td id=\"T_c93e1_row3_col2\" class=\"data row3 col2\" >10.7949</td>\n",
       "      <td id=\"T_c93e1_row3_col3\" class=\"data row3 col3\" >0.9539</td>\n",
       "      <td id=\"T_c93e1_row3_col4\" class=\"data row3 col4\" >0.3058</td>\n",
       "      <td id=\"T_c93e1_row3_col5\" class=\"data row3 col5\" >0.2873</td>\n",
       "    </tr>\n",
       "    <tr>\n",
       "      <th id=\"T_c93e1_level0_row4\" class=\"row_heading level0 row4\" >4</th>\n",
       "      <td id=\"T_c93e1_row4_col0\" class=\"data row4 col0\" >6.0564</td>\n",
       "      <td id=\"T_c93e1_row4_col1\" class=\"data row4 col1\" >79.1104</td>\n",
       "      <td id=\"T_c93e1_row4_col2\" class=\"data row4 col2\" >8.8944</td>\n",
       "      <td id=\"T_c93e1_row4_col3\" class=\"data row4 col3\" >0.9745</td>\n",
       "      <td id=\"T_c93e1_row4_col4\" class=\"data row4 col4\" >0.3492</td>\n",
       "      <td id=\"T_c93e1_row4_col5\" class=\"data row4 col5\" >0.3432</td>\n",
       "    </tr>\n",
       "    <tr>\n",
       "      <th id=\"T_c93e1_level0_row5\" class=\"row_heading level0 row5\" >5</th>\n",
       "      <td id=\"T_c93e1_row5_col0\" class=\"data row5 col0\" >6.3727</td>\n",
       "      <td id=\"T_c93e1_row5_col1\" class=\"data row5 col1\" >177.8628</td>\n",
       "      <td id=\"T_c93e1_row5_col2\" class=\"data row5 col2\" >13.3365</td>\n",
       "      <td id=\"T_c93e1_row5_col3\" class=\"data row5 col3\" >0.9414</td>\n",
       "      <td id=\"T_c93e1_row5_col4\" class=\"data row5 col4\" >0.3242</td>\n",
       "      <td id=\"T_c93e1_row5_col5\" class=\"data row5 col5\" >0.3011</td>\n",
       "    </tr>\n",
       "    <tr>\n",
       "      <th id=\"T_c93e1_level0_row6\" class=\"row_heading level0 row6\" >6</th>\n",
       "      <td id=\"T_c93e1_row6_col0\" class=\"data row6 col0\" >5.5587</td>\n",
       "      <td id=\"T_c93e1_row6_col1\" class=\"data row6 col1\" >67.4713</td>\n",
       "      <td id=\"T_c93e1_row6_col2\" class=\"data row6 col2\" >8.2141</td>\n",
       "      <td id=\"T_c93e1_row6_col3\" class=\"data row6 col3\" >0.9213</td>\n",
       "      <td id=\"T_c93e1_row6_col4\" class=\"data row6 col4\" >0.3237</td>\n",
       "      <td id=\"T_c93e1_row6_col5\" class=\"data row6 col5\" >0.3122</td>\n",
       "    </tr>\n",
       "    <tr>\n",
       "      <th id=\"T_c93e1_level0_row7\" class=\"row_heading level0 row7\" >7</th>\n",
       "      <td id=\"T_c93e1_row7_col0\" class=\"data row7 col0\" >5.8853</td>\n",
       "      <td id=\"T_c93e1_row7_col1\" class=\"data row7 col1\" >75.7819</td>\n",
       "      <td id=\"T_c93e1_row7_col2\" class=\"data row7 col2\" >8.7053</td>\n",
       "      <td id=\"T_c93e1_row7_col3\" class=\"data row7 col3\" >0.9663</td>\n",
       "      <td id=\"T_c93e1_row7_col4\" class=\"data row7 col4\" >0.2899</td>\n",
       "      <td id=\"T_c93e1_row7_col5\" class=\"data row7 col5\" >0.2652</td>\n",
       "    </tr>\n",
       "    <tr>\n",
       "      <th id=\"T_c93e1_level0_row8\" class=\"row_heading level0 row8\" >8</th>\n",
       "      <td id=\"T_c93e1_row8_col0\" class=\"data row8 col0\" >6.7710</td>\n",
       "      <td id=\"T_c93e1_row8_col1\" class=\"data row8 col1\" >175.9321</td>\n",
       "      <td id=\"T_c93e1_row8_col2\" class=\"data row8 col2\" >13.2639</td>\n",
       "      <td id=\"T_c93e1_row8_col3\" class=\"data row8 col3\" >0.9316</td>\n",
       "      <td id=\"T_c93e1_row8_col4\" class=\"data row8 col4\" >0.2937</td>\n",
       "      <td id=\"T_c93e1_row8_col5\" class=\"data row8 col5\" >0.2737</td>\n",
       "    </tr>\n",
       "    <tr>\n",
       "      <th id=\"T_c93e1_level0_row9\" class=\"row_heading level0 row9\" >9</th>\n",
       "      <td id=\"T_c93e1_row9_col0\" class=\"data row9 col0\" >6.1961</td>\n",
       "      <td id=\"T_c93e1_row9_col1\" class=\"data row9 col1\" >117.0776</td>\n",
       "      <td id=\"T_c93e1_row9_col2\" class=\"data row9 col2\" >10.8202</td>\n",
       "      <td id=\"T_c93e1_row9_col3\" class=\"data row9 col3\" >0.9495</td>\n",
       "      <td id=\"T_c93e1_row9_col4\" class=\"data row9 col4\" >0.3119</td>\n",
       "      <td id=\"T_c93e1_row9_col5\" class=\"data row9 col5\" >0.2943</td>\n",
       "    </tr>\n",
       "    <tr>\n",
       "      <th id=\"T_c93e1_level0_row10\" class=\"row_heading level0 row10\" >Mean</th>\n",
       "      <td id=\"T_c93e1_row10_col0\" class=\"data row10 col0\" >6.1367</td>\n",
       "      <td id=\"T_c93e1_row10_col1\" class=\"data row10 col1\" >111.6276</td>\n",
       "      <td id=\"T_c93e1_row10_col2\" class=\"data row10 col2\" >10.4254</td>\n",
       "      <td id=\"T_c93e1_row10_col3\" class=\"data row10 col3\" >0.9493</td>\n",
       "      <td id=\"T_c93e1_row10_col4\" class=\"data row10 col4\" >0.3133</td>\n",
       "      <td id=\"T_c93e1_row10_col5\" class=\"data row10 col5\" >0.2961</td>\n",
       "    </tr>\n",
       "    <tr>\n",
       "      <th id=\"T_c93e1_level0_row11\" class=\"row_heading level0 row11\" >Std</th>\n",
       "      <td id=\"T_c93e1_row11_col0\" class=\"data row11 col0\" >0.3024</td>\n",
       "      <td id=\"T_c93e1_row11_col1\" class=\"data row11 col1\" >37.4033</td>\n",
       "      <td id=\"T_c93e1_row11_col2\" class=\"data row11 col2\" >1.7145</td>\n",
       "      <td id=\"T_c93e1_row11_col3\" class=\"data row11 col3\" >0.0161</td>\n",
       "      <td id=\"T_c93e1_row11_col4\" class=\"data row11 col4\" >0.0197</td>\n",
       "      <td id=\"T_c93e1_row11_col5\" class=\"data row11 col5\" >0.0244</td>\n",
       "    </tr>\n",
       "  </tbody>\n",
       "</table>\n"
      ],
      "text/plain": [
       "<pandas.io.formats.style.Styler at 0x7805f0cb77f0>"
      ]
     },
     "metadata": {},
     "output_type": "display_data"
    },
    {
     "data": {
      "application/vnd.jupyter.widget-view+json": {
       "model_id": "af419f958e254e5baa203fb1e9220357",
       "version_major": 2,
       "version_minor": 0
      },
      "text/plain": [
       "Processing:   0%|          | 0/7 [00:00<?, ?it/s]"
      ]
     },
     "metadata": {
      "application/vnd.jupyter.widget-view+json": {
       "colab": {
        "custom_widget_manager": {
         "url": "https://ssl.gstatic.com/colaboratory-static/widgets/colab-cdn-widget-manager/2b70e893a8ba7c0f/manager.min.js"
        }
       }
      }
     },
     "output_type": "display_data"
    },
    {
     "name": "stdout",
     "output_type": "stream",
     "text": [
      "Fitting 10 folds for each of 10 candidates, totalling 100 fits\n"
     ]
    },
    {
     "data": {
      "text/html": [],
      "text/plain": [
       "<IPython.core.display.HTML object>"
      ]
     },
     "metadata": {},
     "output_type": "display_data"
    },
    {
     "name": "stdout",
     "output_type": "stream",
     "text": [
      "Original model was better than the tuned model, hence it will be returned. NOTE: The display metrics are for the tuned model (not the original one).\n"
     ]
    },
    {
     "data": {
      "text/html": [],
      "text/plain": [
       "<IPython.core.display.HTML object>"
      ]
     },
     "metadata": {},
     "output_type": "display_data"
    },
    {
     "data": {
      "text/html": [],
      "text/plain": [
       "<IPython.core.display.HTML object>"
      ]
     },
     "metadata": {},
     "output_type": "display_data"
    },
    {
     "data": {
      "text/html": [],
      "text/plain": [
       "<IPython.core.display.HTML object>"
      ]
     },
     "metadata": {},
     "output_type": "display_data"
    },
    {
     "data": {
      "text/html": [
       "<style type=\"text/css\">\n",
       "#T_a4823_row10_col0, #T_a4823_row10_col1, #T_a4823_row10_col2, #T_a4823_row10_col3, #T_a4823_row10_col4, #T_a4823_row10_col5 {\n",
       "  background: yellow;\n",
       "}\n",
       "</style>\n",
       "<table id=\"T_a4823\" class=\"dataframe\">\n",
       "  <thead>\n",
       "    <tr>\n",
       "      <th class=\"blank level0\" >&nbsp;</th>\n",
       "      <th id=\"T_a4823_level0_col0\" class=\"col_heading level0 col0\" >MAE</th>\n",
       "      <th id=\"T_a4823_level0_col1\" class=\"col_heading level0 col1\" >MSE</th>\n",
       "      <th id=\"T_a4823_level0_col2\" class=\"col_heading level0 col2\" >RMSE</th>\n",
       "      <th id=\"T_a4823_level0_col3\" class=\"col_heading level0 col3\" >R2</th>\n",
       "      <th id=\"T_a4823_level0_col4\" class=\"col_heading level0 col4\" >RMSLE</th>\n",
       "      <th id=\"T_a4823_level0_col5\" class=\"col_heading level0 col5\" >MAPE</th>\n",
       "    </tr>\n",
       "    <tr>\n",
       "      <th class=\"index_name level0\" >Fold</th>\n",
       "      <th class=\"blank col0\" >&nbsp;</th>\n",
       "      <th class=\"blank col1\" >&nbsp;</th>\n",
       "      <th class=\"blank col2\" >&nbsp;</th>\n",
       "      <th class=\"blank col3\" >&nbsp;</th>\n",
       "      <th class=\"blank col4\" >&nbsp;</th>\n",
       "      <th class=\"blank col5\" >&nbsp;</th>\n",
       "    </tr>\n",
       "  </thead>\n",
       "  <tbody>\n",
       "    <tr>\n",
       "      <th id=\"T_a4823_level0_row0\" class=\"row_heading level0 row0\" >0</th>\n",
       "      <td id=\"T_a4823_row0_col0\" class=\"data row0 col0\" >4.4569</td>\n",
       "      <td id=\"T_a4823_row0_col1\" class=\"data row0 col1\" >68.7553</td>\n",
       "      <td id=\"T_a4823_row0_col2\" class=\"data row0 col2\" >8.2919</td>\n",
       "      <td id=\"T_a4823_row0_col3\" class=\"data row0 col3\" >0.9709</td>\n",
       "      <td id=\"T_a4823_row0_col4\" class=\"data row0 col4\" >0.1870</td>\n",
       "      <td id=\"T_a4823_row0_col5\" class=\"data row0 col5\" >0.1517</td>\n",
       "    </tr>\n",
       "    <tr>\n",
       "      <th id=\"T_a4823_level0_row1\" class=\"row_heading level0 row1\" >1</th>\n",
       "      <td id=\"T_a4823_row1_col0\" class=\"data row1 col0\" >4.6730</td>\n",
       "      <td id=\"T_a4823_row1_col1\" class=\"data row1 col1\" >132.1329</td>\n",
       "      <td id=\"T_a4823_row1_col2\" class=\"data row1 col2\" >11.4949</td>\n",
       "      <td id=\"T_a4823_row1_col3\" class=\"data row1 col3\" >0.9307</td>\n",
       "      <td id=\"T_a4823_row1_col4\" class=\"data row1 col4\" >0.1871</td>\n",
       "      <td id=\"T_a4823_row1_col5\" class=\"data row1 col5\" >0.1470</td>\n",
       "    </tr>\n",
       "    <tr>\n",
       "      <th id=\"T_a4823_level0_row2\" class=\"row_heading level0 row2\" >2</th>\n",
       "      <td id=\"T_a4823_row2_col0\" class=\"data row2 col0\" >4.2749</td>\n",
       "      <td id=\"T_a4823_row2_col1\" class=\"data row2 col1\" >80.2934</td>\n",
       "      <td id=\"T_a4823_row2_col2\" class=\"data row2 col2\" >8.9607</td>\n",
       "      <td id=\"T_a4823_row2_col3\" class=\"data row2 col3\" >0.9631</td>\n",
       "      <td id=\"T_a4823_row2_col4\" class=\"data row2 col4\" >0.1967</td>\n",
       "      <td id=\"T_a4823_row2_col5\" class=\"data row2 col5\" >0.1523</td>\n",
       "    </tr>\n",
       "    <tr>\n",
       "      <th id=\"T_a4823_level0_row3\" class=\"row_heading level0 row3\" >3</th>\n",
       "      <td id=\"T_a4823_row3_col0\" class=\"data row3 col0\" >4.2545</td>\n",
       "      <td id=\"T_a4823_row3_col1\" class=\"data row3 col1\" >47.2390</td>\n",
       "      <td id=\"T_a4823_row3_col2\" class=\"data row3 col2\" >6.8731</td>\n",
       "      <td id=\"T_a4823_row3_col3\" class=\"data row3 col3\" >0.9813</td>\n",
       "      <td id=\"T_a4823_row3_col4\" class=\"data row3 col4\" >0.1920</td>\n",
       "      <td id=\"T_a4823_row3_col5\" class=\"data row3 col5\" >0.1547</td>\n",
       "    </tr>\n",
       "    <tr>\n",
       "      <th id=\"T_a4823_level0_row4\" class=\"row_heading level0 row4\" >4</th>\n",
       "      <td id=\"T_a4823_row4_col0\" class=\"data row4 col0\" >4.5425</td>\n",
       "      <td id=\"T_a4823_row4_col1\" class=\"data row4 col1\" >63.3296</td>\n",
       "      <td id=\"T_a4823_row4_col2\" class=\"data row4 col2\" >7.9580</td>\n",
       "      <td id=\"T_a4823_row4_col3\" class=\"data row4 col3\" >0.9796</td>\n",
       "      <td id=\"T_a4823_row4_col4\" class=\"data row4 col4\" >0.2084</td>\n",
       "      <td id=\"T_a4823_row4_col5\" class=\"data row4 col5\" >0.1668</td>\n",
       "    </tr>\n",
       "    <tr>\n",
       "      <th id=\"T_a4823_level0_row5\" class=\"row_heading level0 row5\" >5</th>\n",
       "      <td id=\"T_a4823_row5_col0\" class=\"data row5 col0\" >4.5516</td>\n",
       "      <td id=\"T_a4823_row5_col1\" class=\"data row5 col1\" >147.3572</td>\n",
       "      <td id=\"T_a4823_row5_col2\" class=\"data row5 col2\" >12.1391</td>\n",
       "      <td id=\"T_a4823_row5_col3\" class=\"data row5 col3\" >0.9514</td>\n",
       "      <td id=\"T_a4823_row5_col4\" class=\"data row5 col4\" >0.1974</td>\n",
       "      <td id=\"T_a4823_row5_col5\" class=\"data row5 col5\" >0.1508</td>\n",
       "    </tr>\n",
       "    <tr>\n",
       "      <th id=\"T_a4823_level0_row6\" class=\"row_heading level0 row6\" >6</th>\n",
       "      <td id=\"T_a4823_row6_col0\" class=\"data row6 col0\" >3.8592</td>\n",
       "      <td id=\"T_a4823_row6_col1\" class=\"data row6 col1\" >44.1666</td>\n",
       "      <td id=\"T_a4823_row6_col2\" class=\"data row6 col2\" >6.6458</td>\n",
       "      <td id=\"T_a4823_row6_col3\" class=\"data row6 col3\" >0.9485</td>\n",
       "      <td id=\"T_a4823_row6_col4\" class=\"data row6 col4\" >0.2023</td>\n",
       "      <td id=\"T_a4823_row6_col5\" class=\"data row6 col5\" >0.1530</td>\n",
       "    </tr>\n",
       "    <tr>\n",
       "      <th id=\"T_a4823_level0_row7\" class=\"row_heading level0 row7\" >7</th>\n",
       "      <td id=\"T_a4823_row7_col0\" class=\"data row7 col0\" >4.3873</td>\n",
       "      <td id=\"T_a4823_row7_col1\" class=\"data row7 col1\" >57.5188</td>\n",
       "      <td id=\"T_a4823_row7_col2\" class=\"data row7 col2\" >7.5841</td>\n",
       "      <td id=\"T_a4823_row7_col3\" class=\"data row7 col3\" >0.9744</td>\n",
       "      <td id=\"T_a4823_row7_col4\" class=\"data row7 col4\" >0.2014</td>\n",
       "      <td id=\"T_a4823_row7_col5\" class=\"data row7 col5\" >0.1498</td>\n",
       "    </tr>\n",
       "    <tr>\n",
       "      <th id=\"T_a4823_level0_row8\" class=\"row_heading level0 row8\" >8</th>\n",
       "      <td id=\"T_a4823_row8_col0\" class=\"data row8 col0\" >5.1042</td>\n",
       "      <td id=\"T_a4823_row8_col1\" class=\"data row8 col1\" >123.3769</td>\n",
       "      <td id=\"T_a4823_row8_col2\" class=\"data row8 col2\" >11.1075</td>\n",
       "      <td id=\"T_a4823_row8_col3\" class=\"data row8 col3\" >0.9520</td>\n",
       "      <td id=\"T_a4823_row8_col4\" class=\"data row8 col4\" >0.2312</td>\n",
       "      <td id=\"T_a4823_row8_col5\" class=\"data row8 col5\" >0.1695</td>\n",
       "    </tr>\n",
       "    <tr>\n",
       "      <th id=\"T_a4823_level0_row9\" class=\"row_heading level0 row9\" >9</th>\n",
       "      <td id=\"T_a4823_row9_col0\" class=\"data row9 col0\" >4.5881</td>\n",
       "      <td id=\"T_a4823_row9_col1\" class=\"data row9 col1\" >82.3789</td>\n",
       "      <td id=\"T_a4823_row9_col2\" class=\"data row9 col2\" >9.0763</td>\n",
       "      <td id=\"T_a4823_row9_col3\" class=\"data row9 col3\" >0.9645</td>\n",
       "      <td id=\"T_a4823_row9_col4\" class=\"data row9 col4\" >0.2055</td>\n",
       "      <td id=\"T_a4823_row9_col5\" class=\"data row9 col5\" >0.1497</td>\n",
       "    </tr>\n",
       "    <tr>\n",
       "      <th id=\"T_a4823_level0_row10\" class=\"row_heading level0 row10\" >Mean</th>\n",
       "      <td id=\"T_a4823_row10_col0\" class=\"data row10 col0\" >4.4692</td>\n",
       "      <td id=\"T_a4823_row10_col1\" class=\"data row10 col1\" >84.6549</td>\n",
       "      <td id=\"T_a4823_row10_col2\" class=\"data row10 col2\" >9.0131</td>\n",
       "      <td id=\"T_a4823_row10_col3\" class=\"data row10 col3\" >0.9617</td>\n",
       "      <td id=\"T_a4823_row10_col4\" class=\"data row10 col4\" >0.2009</td>\n",
       "      <td id=\"T_a4823_row10_col5\" class=\"data row10 col5\" >0.1545</td>\n",
       "    </tr>\n",
       "    <tr>\n",
       "      <th id=\"T_a4823_level0_row11\" class=\"row_heading level0 row11\" >Std</th>\n",
       "      <td id=\"T_a4823_row11_col0\" class=\"data row11 col0\" >0.3056</td>\n",
       "      <td id=\"T_a4823_row11_col1\" class=\"data row11 col1\" >34.9178</td>\n",
       "      <td id=\"T_a4823_row11_col2\" class=\"data row11 col2\" >1.8489</td>\n",
       "      <td id=\"T_a4823_row11_col3\" class=\"data row11 col3\" >0.0151</td>\n",
       "      <td id=\"T_a4823_row11_col4\" class=\"data row11 col4\" >0.0122</td>\n",
       "      <td id=\"T_a4823_row11_col5\" class=\"data row11 col5\" >0.0071</td>\n",
       "    </tr>\n",
       "  </tbody>\n",
       "</table>\n"
      ],
      "text/plain": [
       "<pandas.io.formats.style.Styler at 0x780597578550>"
      ]
     },
     "metadata": {},
     "output_type": "display_data"
    },
    {
     "data": {
      "application/vnd.jupyter.widget-view+json": {
       "model_id": "4c2fdbbda7f14b5c8af1ec33b45bb15e",
       "version_major": 2,
       "version_minor": 0
      },
      "text/plain": [
       "Processing:   0%|          | 0/7 [00:00<?, ?it/s]"
      ]
     },
     "metadata": {
      "application/vnd.jupyter.widget-view+json": {
       "colab": {
        "custom_widget_manager": {
         "url": "https://ssl.gstatic.com/colaboratory-static/widgets/colab-cdn-widget-manager/2b70e893a8ba7c0f/manager.min.js"
        }
       }
      }
     },
     "output_type": "display_data"
    },
    {
     "name": "stdout",
     "output_type": "stream",
     "text": [
      "Fitting 10 folds for each of 10 candidates, totalling 100 fits\n"
     ]
    },
    {
     "data": {
      "text/html": [],
      "text/plain": [
       "<IPython.core.display.HTML object>"
      ]
     },
     "metadata": {},
     "output_type": "display_data"
    },
    {
     "name": "stdout",
     "output_type": "stream",
     "text": [
      "Original model was better than the tuned model, hence it will be returned. NOTE: The display metrics are for the tuned model (not the original one).\n"
     ]
    },
    {
     "data": {
      "text/html": [],
      "text/plain": [
       "<IPython.core.display.HTML object>"
      ]
     },
     "metadata": {},
     "output_type": "display_data"
    },
    {
     "data": {
      "text/html": [],
      "text/plain": [
       "<IPython.core.display.HTML object>"
      ]
     },
     "metadata": {},
     "output_type": "display_data"
    },
    {
     "data": {
      "text/html": [],
      "text/plain": [
       "<IPython.core.display.HTML object>"
      ]
     },
     "metadata": {},
     "output_type": "display_data"
    },
    {
     "data": {
      "text/html": [
       "<style type=\"text/css\">\n",
       "#T_58fe0_row10_col0, #T_58fe0_row10_col1, #T_58fe0_row10_col2, #T_58fe0_row10_col3, #T_58fe0_row10_col4, #T_58fe0_row10_col5 {\n",
       "  background: yellow;\n",
       "}\n",
       "</style>\n",
       "<table id=\"T_58fe0\" class=\"dataframe\">\n",
       "  <thead>\n",
       "    <tr>\n",
       "      <th class=\"blank level0\" >&nbsp;</th>\n",
       "      <th id=\"T_58fe0_level0_col0\" class=\"col_heading level0 col0\" >MAE</th>\n",
       "      <th id=\"T_58fe0_level0_col1\" class=\"col_heading level0 col1\" >MSE</th>\n",
       "      <th id=\"T_58fe0_level0_col2\" class=\"col_heading level0 col2\" >RMSE</th>\n",
       "      <th id=\"T_58fe0_level0_col3\" class=\"col_heading level0 col3\" >R2</th>\n",
       "      <th id=\"T_58fe0_level0_col4\" class=\"col_heading level0 col4\" >RMSLE</th>\n",
       "      <th id=\"T_58fe0_level0_col5\" class=\"col_heading level0 col5\" >MAPE</th>\n",
       "    </tr>\n",
       "    <tr>\n",
       "      <th class=\"index_name level0\" >Fold</th>\n",
       "      <th class=\"blank col0\" >&nbsp;</th>\n",
       "      <th class=\"blank col1\" >&nbsp;</th>\n",
       "      <th class=\"blank col2\" >&nbsp;</th>\n",
       "      <th class=\"blank col3\" >&nbsp;</th>\n",
       "      <th class=\"blank col4\" >&nbsp;</th>\n",
       "      <th class=\"blank col5\" >&nbsp;</th>\n",
       "    </tr>\n",
       "  </thead>\n",
       "  <tbody>\n",
       "    <tr>\n",
       "      <th id=\"T_58fe0_level0_row0\" class=\"row_heading level0 row0\" >0</th>\n",
       "      <td id=\"T_58fe0_row0_col0\" class=\"data row0 col0\" >3.9048</td>\n",
       "      <td id=\"T_58fe0_row0_col1\" class=\"data row0 col1\" >45.3336</td>\n",
       "      <td id=\"T_58fe0_row0_col2\" class=\"data row0 col2\" >6.7330</td>\n",
       "      <td id=\"T_58fe0_row0_col3\" class=\"data row0 col3\" >0.9808</td>\n",
       "      <td id=\"T_58fe0_row0_col4\" class=\"data row0 col4\" >0.1621</td>\n",
       "      <td id=\"T_58fe0_row0_col5\" class=\"data row0 col5\" >0.1294</td>\n",
       "    </tr>\n",
       "    <tr>\n",
       "      <th id=\"T_58fe0_level0_row1\" class=\"row_heading level0 row1\" >1</th>\n",
       "      <td id=\"T_58fe0_row1_col0\" class=\"data row1 col0\" >4.1624</td>\n",
       "      <td id=\"T_58fe0_row1_col1\" class=\"data row1 col1\" >102.7335</td>\n",
       "      <td id=\"T_58fe0_row1_col2\" class=\"data row1 col2\" >10.1358</td>\n",
       "      <td id=\"T_58fe0_row1_col3\" class=\"data row1 col3\" >0.9461</td>\n",
       "      <td id=\"T_58fe0_row1_col4\" class=\"data row1 col4\" >0.1565</td>\n",
       "      <td id=\"T_58fe0_row1_col5\" class=\"data row1 col5\" >0.1173</td>\n",
       "    </tr>\n",
       "    <tr>\n",
       "      <th id=\"T_58fe0_level0_row2\" class=\"row_heading level0 row2\" >2</th>\n",
       "      <td id=\"T_58fe0_row2_col0\" class=\"data row2 col0\" >3.7697</td>\n",
       "      <td id=\"T_58fe0_row2_col1\" class=\"data row2 col1\" >47.4669</td>\n",
       "      <td id=\"T_58fe0_row2_col2\" class=\"data row2 col2\" >6.8896</td>\n",
       "      <td id=\"T_58fe0_row2_col3\" class=\"data row2 col3\" >0.9782</td>\n",
       "      <td id=\"T_58fe0_row2_col4\" class=\"data row2 col4\" >0.1570</td>\n",
       "      <td id=\"T_58fe0_row2_col5\" class=\"data row2 col5\" >0.1223</td>\n",
       "    </tr>\n",
       "    <tr>\n",
       "      <th id=\"T_58fe0_level0_row3\" class=\"row_heading level0 row3\" >3</th>\n",
       "      <td id=\"T_58fe0_row3_col0\" class=\"data row3 col0\" >3.7232</td>\n",
       "      <td id=\"T_58fe0_row3_col1\" class=\"data row3 col1\" >42.3658</td>\n",
       "      <td id=\"T_58fe0_row3_col2\" class=\"data row3 col2\" >6.5089</td>\n",
       "      <td id=\"T_58fe0_row3_col3\" class=\"data row3 col3\" >0.9832</td>\n",
       "      <td id=\"T_58fe0_row3_col4\" class=\"data row3 col4\" >0.1492</td>\n",
       "      <td id=\"T_58fe0_row3_col5\" class=\"data row3 col5\" >0.1151</td>\n",
       "    </tr>\n",
       "    <tr>\n",
       "      <th id=\"T_58fe0_level0_row4\" class=\"row_heading level0 row4\" >4</th>\n",
       "      <td id=\"T_58fe0_row4_col0\" class=\"data row4 col0\" >4.0002</td>\n",
       "      <td id=\"T_58fe0_row4_col1\" class=\"data row4 col1\" >69.2280</td>\n",
       "      <td id=\"T_58fe0_row4_col2\" class=\"data row4 col2\" >8.3203</td>\n",
       "      <td id=\"T_58fe0_row4_col3\" class=\"data row4 col3\" >0.9777</td>\n",
       "      <td id=\"T_58fe0_row4_col4\" class=\"data row4 col4\" >0.1732</td>\n",
       "      <td id=\"T_58fe0_row4_col5\" class=\"data row4 col5\" >0.1308</td>\n",
       "    </tr>\n",
       "    <tr>\n",
       "      <th id=\"T_58fe0_level0_row5\" class=\"row_heading level0 row5\" >5</th>\n",
       "      <td id=\"T_58fe0_row5_col0\" class=\"data row5 col0\" >4.0545</td>\n",
       "      <td id=\"T_58fe0_row5_col1\" class=\"data row5 col1\" >101.5524</td>\n",
       "      <td id=\"T_58fe0_row5_col2\" class=\"data row5 col2\" >10.0773</td>\n",
       "      <td id=\"T_58fe0_row5_col3\" class=\"data row5 col3\" >0.9665</td>\n",
       "      <td id=\"T_58fe0_row5_col4\" class=\"data row5 col4\" >0.1621</td>\n",
       "      <td id=\"T_58fe0_row5_col5\" class=\"data row5 col5\" >0.1198</td>\n",
       "    </tr>\n",
       "    <tr>\n",
       "      <th id=\"T_58fe0_level0_row6\" class=\"row_heading level0 row6\" >6</th>\n",
       "      <td id=\"T_58fe0_row6_col0\" class=\"data row6 col0\" >3.4255</td>\n",
       "      <td id=\"T_58fe0_row6_col1\" class=\"data row6 col1\" >46.6145</td>\n",
       "      <td id=\"T_58fe0_row6_col2\" class=\"data row6 col2\" >6.8275</td>\n",
       "      <td id=\"T_58fe0_row6_col3\" class=\"data row6 col3\" >0.9456</td>\n",
       "      <td id=\"T_58fe0_row6_col4\" class=\"data row6 col4\" >0.1547</td>\n",
       "      <td id=\"T_58fe0_row6_col5\" class=\"data row6 col5\" >0.1164</td>\n",
       "    </tr>\n",
       "    <tr>\n",
       "      <th id=\"T_58fe0_level0_row7\" class=\"row_heading level0 row7\" >7</th>\n",
       "      <td id=\"T_58fe0_row7_col0\" class=\"data row7 col0\" >4.0604</td>\n",
       "      <td id=\"T_58fe0_row7_col1\" class=\"data row7 col1\" >50.7435</td>\n",
       "      <td id=\"T_58fe0_row7_col2\" class=\"data row7 col2\" >7.1234</td>\n",
       "      <td id=\"T_58fe0_row7_col3\" class=\"data row7 col3\" >0.9774</td>\n",
       "      <td id=\"T_58fe0_row7_col4\" class=\"data row7 col4\" >0.1741</td>\n",
       "      <td id=\"T_58fe0_row7_col5\" class=\"data row7 col5\" >0.1277</td>\n",
       "    </tr>\n",
       "    <tr>\n",
       "      <th id=\"T_58fe0_level0_row8\" class=\"row_heading level0 row8\" >8</th>\n",
       "      <td id=\"T_58fe0_row8_col0\" class=\"data row8 col0\" >4.6566</td>\n",
       "      <td id=\"T_58fe0_row8_col1\" class=\"data row8 col1\" >147.8363</td>\n",
       "      <td id=\"T_58fe0_row8_col2\" class=\"data row8 col2\" >12.1588</td>\n",
       "      <td id=\"T_58fe0_row8_col3\" class=\"data row8 col3\" >0.9425</td>\n",
       "      <td id=\"T_58fe0_row8_col4\" class=\"data row8 col4\" >0.1749</td>\n",
       "      <td id=\"T_58fe0_row8_col5\" class=\"data row8 col5\" >0.1290</td>\n",
       "    </tr>\n",
       "    <tr>\n",
       "      <th id=\"T_58fe0_level0_row9\" class=\"row_heading level0 row9\" >9</th>\n",
       "      <td id=\"T_58fe0_row9_col0\" class=\"data row9 col0\" >3.8682</td>\n",
       "      <td id=\"T_58fe0_row9_col1\" class=\"data row9 col1\" >91.7301</td>\n",
       "      <td id=\"T_58fe0_row9_col2\" class=\"data row9 col2\" >9.5776</td>\n",
       "      <td id=\"T_58fe0_row9_col3\" class=\"data row9 col3\" >0.9605</td>\n",
       "      <td id=\"T_58fe0_row9_col4\" class=\"data row9 col4\" >0.1502</td>\n",
       "      <td id=\"T_58fe0_row9_col5\" class=\"data row9 col5\" >0.1147</td>\n",
       "    </tr>\n",
       "    <tr>\n",
       "      <th id=\"T_58fe0_level0_row10\" class=\"row_heading level0 row10\" >Mean</th>\n",
       "      <td id=\"T_58fe0_row10_col0\" class=\"data row10 col0\" >3.9625</td>\n",
       "      <td id=\"T_58fe0_row10_col1\" class=\"data row10 col1\" >74.5605</td>\n",
       "      <td id=\"T_58fe0_row10_col2\" class=\"data row10 col2\" >8.4352</td>\n",
       "      <td id=\"T_58fe0_row10_col3\" class=\"data row10 col3\" >0.9659</td>\n",
       "      <td id=\"T_58fe0_row10_col4\" class=\"data row10 col4\" >0.1614</td>\n",
       "      <td id=\"T_58fe0_row10_col5\" class=\"data row10 col5\" >0.1223</td>\n",
       "    </tr>\n",
       "    <tr>\n",
       "      <th id=\"T_58fe0_level0_row11\" class=\"row_heading level0 row11\" >Std</th>\n",
       "      <td id=\"T_58fe0_row11_col0\" class=\"data row11 col0\" >0.3060</td>\n",
       "      <td id=\"T_58fe0_row11_col1\" class=\"data row11 col1\" >33.4483</td>\n",
       "      <td id=\"T_58fe0_row11_col2\" class=\"data row11 col2\" >1.8459</td>\n",
       "      <td id=\"T_58fe0_row11_col3\" class=\"data row11 col3\" >0.0152</td>\n",
       "      <td id=\"T_58fe0_row11_col4\" class=\"data row11 col4\" >0.0092</td>\n",
       "      <td id=\"T_58fe0_row11_col5\" class=\"data row11 col5\" >0.0061</td>\n",
       "    </tr>\n",
       "  </tbody>\n",
       "</table>\n"
      ],
      "text/plain": [
       "<pandas.io.formats.style.Styler at 0x7805975fd240>"
      ]
     },
     "metadata": {},
     "output_type": "display_data"
    },
    {
     "data": {
      "application/vnd.jupyter.widget-view+json": {
       "model_id": "a040c95d210f4a2cbd7100862d14ff92",
       "version_major": 2,
       "version_minor": 0
      },
      "text/plain": [
       "Processing:   0%|          | 0/7 [00:00<?, ?it/s]"
      ]
     },
     "metadata": {
      "application/vnd.jupyter.widget-view+json": {
       "colab": {
        "custom_widget_manager": {
         "url": "https://ssl.gstatic.com/colaboratory-static/widgets/colab-cdn-widget-manager/2b70e893a8ba7c0f/manager.min.js"
        }
       }
      }
     },
     "output_type": "display_data"
    },
    {
     "name": "stdout",
     "output_type": "stream",
     "text": [
      "Fitting 10 folds for each of 10 candidates, totalling 100 fits\n"
     ]
    },
    {
     "data": {
      "text/html": [],
      "text/plain": [
       "<IPython.core.display.HTML object>"
      ]
     },
     "metadata": {},
     "output_type": "display_data"
    },
    {
     "name": "stdout",
     "output_type": "stream",
     "text": [
      "Original model was better than the tuned model, hence it will be returned. NOTE: The display metrics are for the tuned model (not the original one).\n"
     ]
    },
    {
     "data": {
      "text/html": [],
      "text/plain": [
       "<IPython.core.display.HTML object>"
      ]
     },
     "metadata": {},
     "output_type": "display_data"
    },
    {
     "data": {
      "text/html": [],
      "text/plain": [
       "<IPython.core.display.HTML object>"
      ]
     },
     "metadata": {},
     "output_type": "display_data"
    },
    {
     "data": {
      "text/html": [],
      "text/plain": [
       "<IPython.core.display.HTML object>"
      ]
     },
     "metadata": {},
     "output_type": "display_data"
    },
    {
     "data": {
      "text/html": [
       "<style type=\"text/css\">\n",
       "#T_b693b_row10_col0, #T_b693b_row10_col1, #T_b693b_row10_col2, #T_b693b_row10_col3, #T_b693b_row10_col4, #T_b693b_row10_col5 {\n",
       "  background: yellow;\n",
       "}\n",
       "</style>\n",
       "<table id=\"T_b693b\" class=\"dataframe\">\n",
       "  <thead>\n",
       "    <tr>\n",
       "      <th class=\"blank level0\" >&nbsp;</th>\n",
       "      <th id=\"T_b693b_level0_col0\" class=\"col_heading level0 col0\" >MAE</th>\n",
       "      <th id=\"T_b693b_level0_col1\" class=\"col_heading level0 col1\" >MSE</th>\n",
       "      <th id=\"T_b693b_level0_col2\" class=\"col_heading level0 col2\" >RMSE</th>\n",
       "      <th id=\"T_b693b_level0_col3\" class=\"col_heading level0 col3\" >R2</th>\n",
       "      <th id=\"T_b693b_level0_col4\" class=\"col_heading level0 col4\" >RMSLE</th>\n",
       "      <th id=\"T_b693b_level0_col5\" class=\"col_heading level0 col5\" >MAPE</th>\n",
       "    </tr>\n",
       "    <tr>\n",
       "      <th class=\"index_name level0\" >Fold</th>\n",
       "      <th class=\"blank col0\" >&nbsp;</th>\n",
       "      <th class=\"blank col1\" >&nbsp;</th>\n",
       "      <th class=\"blank col2\" >&nbsp;</th>\n",
       "      <th class=\"blank col3\" >&nbsp;</th>\n",
       "      <th class=\"blank col4\" >&nbsp;</th>\n",
       "      <th class=\"blank col5\" >&nbsp;</th>\n",
       "    </tr>\n",
       "  </thead>\n",
       "  <tbody>\n",
       "    <tr>\n",
       "      <th id=\"T_b693b_level0_row0\" class=\"row_heading level0 row0\" >0</th>\n",
       "      <td id=\"T_b693b_row0_col0\" class=\"data row0 col0\" >3.9008</td>\n",
       "      <td id=\"T_b693b_row0_col1\" class=\"data row0 col1\" >44.3792</td>\n",
       "      <td id=\"T_b693b_row0_col2\" class=\"data row0 col2\" >6.6618</td>\n",
       "      <td id=\"T_b693b_row0_col3\" class=\"data row0 col3\" >0.9812</td>\n",
       "      <td id=\"T_b693b_row0_col4\" class=\"data row0 col4\" >0.1722</td>\n",
       "      <td id=\"T_b693b_row0_col5\" class=\"data row0 col5\" >0.1298</td>\n",
       "    </tr>\n",
       "    <tr>\n",
       "      <th id=\"T_b693b_level0_row1\" class=\"row_heading level0 row1\" >1</th>\n",
       "      <td id=\"T_b693b_row1_col0\" class=\"data row1 col0\" >4.2577</td>\n",
       "      <td id=\"T_b693b_row1_col1\" class=\"data row1 col1\" >105.6092</td>\n",
       "      <td id=\"T_b693b_row1_col2\" class=\"data row1 col2\" >10.2766</td>\n",
       "      <td id=\"T_b693b_row1_col3\" class=\"data row1 col3\" >0.9446</td>\n",
       "      <td id=\"T_b693b_row1_col4\" class=\"data row1 col4\" >0.1628</td>\n",
       "      <td id=\"T_b693b_row1_col5\" class=\"data row1 col5\" >0.1212</td>\n",
       "    </tr>\n",
       "    <tr>\n",
       "      <th id=\"T_b693b_level0_row2\" class=\"row_heading level0 row2\" >2</th>\n",
       "      <td id=\"T_b693b_row2_col0\" class=\"data row2 col0\" >3.8534</td>\n",
       "      <td id=\"T_b693b_row2_col1\" class=\"data row2 col1\" >46.6456</td>\n",
       "      <td id=\"T_b693b_row2_col2\" class=\"data row2 col2\" >6.8298</td>\n",
       "      <td id=\"T_b693b_row2_col3\" class=\"data row2 col3\" >0.9786</td>\n",
       "      <td id=\"T_b693b_row2_col4\" class=\"data row2 col4\" >0.1646</td>\n",
       "      <td id=\"T_b693b_row2_col5\" class=\"data row2 col5\" >0.1267</td>\n",
       "    </tr>\n",
       "    <tr>\n",
       "      <th id=\"T_b693b_level0_row3\" class=\"row_heading level0 row3\" >3</th>\n",
       "      <td id=\"T_b693b_row3_col0\" class=\"data row3 col0\" >3.7450</td>\n",
       "      <td id=\"T_b693b_row3_col1\" class=\"data row3 col1\" >39.6401</td>\n",
       "      <td id=\"T_b693b_row3_col2\" class=\"data row3 col2\" >6.2960</td>\n",
       "      <td id=\"T_b693b_row3_col3\" class=\"data row3 col3\" >0.9843</td>\n",
       "      <td id=\"T_b693b_row3_col4\" class=\"data row3 col4\" >0.1511</td>\n",
       "      <td id=\"T_b693b_row3_col5\" class=\"data row3 col5\" >0.1189</td>\n",
       "    </tr>\n",
       "    <tr>\n",
       "      <th id=\"T_b693b_level0_row4\" class=\"row_heading level0 row4\" >4</th>\n",
       "      <td id=\"T_b693b_row4_col0\" class=\"data row4 col0\" >4.1213</td>\n",
       "      <td id=\"T_b693b_row4_col1\" class=\"data row4 col1\" >76.8819</td>\n",
       "      <td id=\"T_b693b_row4_col2\" class=\"data row4 col2\" >8.7682</td>\n",
       "      <td id=\"T_b693b_row4_col3\" class=\"data row4 col3\" >0.9752</td>\n",
       "      <td id=\"T_b693b_row4_col4\" class=\"data row4 col4\" >0.1781</td>\n",
       "      <td id=\"T_b693b_row4_col5\" class=\"data row4 col5\" >0.1359</td>\n",
       "    </tr>\n",
       "    <tr>\n",
       "      <th id=\"T_b693b_level0_row5\" class=\"row_heading level0 row5\" >5</th>\n",
       "      <td id=\"T_b693b_row5_col0\" class=\"data row5 col0\" >4.1097</td>\n",
       "      <td id=\"T_b693b_row5_col1\" class=\"data row5 col1\" >99.2381</td>\n",
       "      <td id=\"T_b693b_row5_col2\" class=\"data row5 col2\" >9.9618</td>\n",
       "      <td id=\"T_b693b_row5_col3\" class=\"data row5 col3\" >0.9673</td>\n",
       "      <td id=\"T_b693b_row5_col4\" class=\"data row5 col4\" >0.1652</td>\n",
       "      <td id=\"T_b693b_row5_col5\" class=\"data row5 col5\" >0.1222</td>\n",
       "    </tr>\n",
       "    <tr>\n",
       "      <th id=\"T_b693b_level0_row6\" class=\"row_heading level0 row6\" >6</th>\n",
       "      <td id=\"T_b693b_row6_col0\" class=\"data row6 col0\" >3.5354</td>\n",
       "      <td id=\"T_b693b_row6_col1\" class=\"data row6 col1\" >47.1037</td>\n",
       "      <td id=\"T_b693b_row6_col2\" class=\"data row6 col2\" >6.8632</td>\n",
       "      <td id=\"T_b693b_row6_col3\" class=\"data row6 col3\" >0.9451</td>\n",
       "      <td id=\"T_b693b_row6_col4\" class=\"data row6 col4\" >0.1620</td>\n",
       "      <td id=\"T_b693b_row6_col5\" class=\"data row6 col5\" >0.1223</td>\n",
       "    </tr>\n",
       "    <tr>\n",
       "      <th id=\"T_b693b_level0_row7\" class=\"row_heading level0 row7\" >7</th>\n",
       "      <td id=\"T_b693b_row7_col0\" class=\"data row7 col0\" >4.0822</td>\n",
       "      <td id=\"T_b693b_row7_col1\" class=\"data row7 col1\" >49.2162</td>\n",
       "      <td id=\"T_b693b_row7_col2\" class=\"data row7 col2\" >7.0154</td>\n",
       "      <td id=\"T_b693b_row7_col3\" class=\"data row7 col3\" >0.9781</td>\n",
       "      <td id=\"T_b693b_row7_col4\" class=\"data row7 col4\" >0.1757</td>\n",
       "      <td id=\"T_b693b_row7_col5\" class=\"data row7 col5\" >0.1303</td>\n",
       "    </tr>\n",
       "    <tr>\n",
       "      <th id=\"T_b693b_level0_row8\" class=\"row_heading level0 row8\" >8</th>\n",
       "      <td id=\"T_b693b_row8_col0\" class=\"data row8 col0\" >4.7600</td>\n",
       "      <td id=\"T_b693b_row8_col1\" class=\"data row8 col1\" >157.3974</td>\n",
       "      <td id=\"T_b693b_row8_col2\" class=\"data row8 col2\" >12.5458</td>\n",
       "      <td id=\"T_b693b_row8_col3\" class=\"data row8 col3\" >0.9388</td>\n",
       "      <td id=\"T_b693b_row8_col4\" class=\"data row8 col4\" >0.1819</td>\n",
       "      <td id=\"T_b693b_row8_col5\" class=\"data row8 col5\" >0.1337</td>\n",
       "    </tr>\n",
       "    <tr>\n",
       "      <th id=\"T_b693b_level0_row9\" class=\"row_heading level0 row9\" >9</th>\n",
       "      <td id=\"T_b693b_row9_col0\" class=\"data row9 col0\" >3.8881</td>\n",
       "      <td id=\"T_b693b_row9_col1\" class=\"data row9 col1\" >89.6901</td>\n",
       "      <td id=\"T_b693b_row9_col2\" class=\"data row9 col2\" >9.4705</td>\n",
       "      <td id=\"T_b693b_row9_col3\" class=\"data row9 col3\" >0.9613</td>\n",
       "      <td id=\"T_b693b_row9_col4\" class=\"data row9 col4\" >0.1530</td>\n",
       "      <td id=\"T_b693b_row9_col5\" class=\"data row9 col5\" >0.1165</td>\n",
       "    </tr>\n",
       "    <tr>\n",
       "      <th id=\"T_b693b_level0_row10\" class=\"row_heading level0 row10\" >Mean</th>\n",
       "      <td id=\"T_b693b_row10_col0\" class=\"data row10 col0\" >4.0254</td>\n",
       "      <td id=\"T_b693b_row10_col1\" class=\"data row10 col1\" >75.5802</td>\n",
       "      <td id=\"T_b693b_row10_col2\" class=\"data row10 col2\" >8.4689</td>\n",
       "      <td id=\"T_b693b_row10_col3\" class=\"data row10 col3\" >0.9655</td>\n",
       "      <td id=\"T_b693b_row10_col4\" class=\"data row10 col4\" >0.1667</td>\n",
       "      <td id=\"T_b693b_row10_col5\" class=\"data row10 col5\" >0.1257</td>\n",
       "    </tr>\n",
       "    <tr>\n",
       "      <th id=\"T_b693b_level0_row11\" class=\"row_heading level0 row11\" >Std</th>\n",
       "      <td id=\"T_b693b_row11_col0\" class=\"data row11 col0\" >0.3156</td>\n",
       "      <td id=\"T_b693b_row11_col1\" class=\"data row11 col1\" >36.0065</td>\n",
       "      <td id=\"T_b693b_row11_col2\" class=\"data row11 col2\" >1.9641</td>\n",
       "      <td id=\"T_b693b_row11_col3\" class=\"data row11 col3\" >0.0162</td>\n",
       "      <td id=\"T_b693b_row11_col4\" class=\"data row11 col4\" >0.0097</td>\n",
       "      <td id=\"T_b693b_row11_col5\" class=\"data row11 col5\" >0.0062</td>\n",
       "    </tr>\n",
       "  </tbody>\n",
       "</table>\n"
      ],
      "text/plain": [
       "<pandas.io.formats.style.Styler at 0x7805975fcfa0>"
      ]
     },
     "metadata": {},
     "output_type": "display_data"
    },
    {
     "data": {
      "application/vnd.jupyter.widget-view+json": {
       "model_id": "995da4512241451c89e71e397af63bcc",
       "version_major": 2,
       "version_minor": 0
      },
      "text/plain": [
       "Processing:   0%|          | 0/7 [00:00<?, ?it/s]"
      ]
     },
     "metadata": {
      "application/vnd.jupyter.widget-view+json": {
       "colab": {
        "custom_widget_manager": {
         "url": "https://ssl.gstatic.com/colaboratory-static/widgets/colab-cdn-widget-manager/2b70e893a8ba7c0f/manager.min.js"
        }
       }
      }
     },
     "output_type": "display_data"
    },
    {
     "name": "stdout",
     "output_type": "stream",
     "text": [
      "Fitting 10 folds for each of 10 candidates, totalling 100 fits\n"
     ]
    },
    {
     "data": {
      "text/html": [],
      "text/plain": [
       "<IPython.core.display.HTML object>"
      ]
     },
     "metadata": {},
     "output_type": "display_data"
    },
    {
     "name": "stdout",
     "output_type": "stream",
     "text": [
      "Original model was better than the tuned model, hence it will be returned. NOTE: The display metrics are for the tuned model (not the original one).\n"
     ]
    },
    {
     "data": {
      "text/html": [],
      "text/plain": [
       "<IPython.core.display.HTML object>"
      ]
     },
     "metadata": {},
     "output_type": "display_data"
    },
    {
     "data": {
      "text/html": [],
      "text/plain": [
       "<IPython.core.display.HTML object>"
      ]
     },
     "metadata": {},
     "output_type": "display_data"
    },
    {
     "data": {
      "text/html": [],
      "text/plain": [
       "<IPython.core.display.HTML object>"
      ]
     },
     "metadata": {},
     "output_type": "display_data"
    },
    {
     "data": {
      "text/html": [
       "<style type=\"text/css\">\n",
       "#T_6aa33_row10_col0, #T_6aa33_row10_col1, #T_6aa33_row10_col2, #T_6aa33_row10_col3, #T_6aa33_row10_col4, #T_6aa33_row10_col5 {\n",
       "  background: yellow;\n",
       "}\n",
       "</style>\n",
       "<table id=\"T_6aa33\" class=\"dataframe\">\n",
       "  <thead>\n",
       "    <tr>\n",
       "      <th class=\"blank level0\" >&nbsp;</th>\n",
       "      <th id=\"T_6aa33_level0_col0\" class=\"col_heading level0 col0\" >MAE</th>\n",
       "      <th id=\"T_6aa33_level0_col1\" class=\"col_heading level0 col1\" >MSE</th>\n",
       "      <th id=\"T_6aa33_level0_col2\" class=\"col_heading level0 col2\" >RMSE</th>\n",
       "      <th id=\"T_6aa33_level0_col3\" class=\"col_heading level0 col3\" >R2</th>\n",
       "      <th id=\"T_6aa33_level0_col4\" class=\"col_heading level0 col4\" >RMSLE</th>\n",
       "      <th id=\"T_6aa33_level0_col5\" class=\"col_heading level0 col5\" >MAPE</th>\n",
       "    </tr>\n",
       "    <tr>\n",
       "      <th class=\"index_name level0\" >Fold</th>\n",
       "      <th class=\"blank col0\" >&nbsp;</th>\n",
       "      <th class=\"blank col1\" >&nbsp;</th>\n",
       "      <th class=\"blank col2\" >&nbsp;</th>\n",
       "      <th class=\"blank col3\" >&nbsp;</th>\n",
       "      <th class=\"blank col4\" >&nbsp;</th>\n",
       "      <th class=\"blank col5\" >&nbsp;</th>\n",
       "    </tr>\n",
       "  </thead>\n",
       "  <tbody>\n",
       "    <tr>\n",
       "      <th id=\"T_6aa33_level0_row0\" class=\"row_heading level0 row0\" >0</th>\n",
       "      <td id=\"T_6aa33_row0_col0\" class=\"data row0 col0\" >3.9022</td>\n",
       "      <td id=\"T_6aa33_row0_col1\" class=\"data row0 col1\" >44.4968</td>\n",
       "      <td id=\"T_6aa33_row0_col2\" class=\"data row0 col2\" >6.6706</td>\n",
       "      <td id=\"T_6aa33_row0_col3\" class=\"data row0 col3\" >0.9812</td>\n",
       "      <td id=\"T_6aa33_row0_col4\" class=\"data row0 col4\" >0.1752</td>\n",
       "      <td id=\"T_6aa33_row0_col5\" class=\"data row0 col5\" >0.1300</td>\n",
       "    </tr>\n",
       "    <tr>\n",
       "      <th id=\"T_6aa33_level0_row1\" class=\"row_heading level0 row1\" >1</th>\n",
       "      <td id=\"T_6aa33_row1_col0\" class=\"data row1 col0\" >4.2392</td>\n",
       "      <td id=\"T_6aa33_row1_col1\" class=\"data row1 col1\" >104.9277</td>\n",
       "      <td id=\"T_6aa33_row1_col2\" class=\"data row1 col2\" >10.2434</td>\n",
       "      <td id=\"T_6aa33_row1_col3\" class=\"data row1 col3\" >0.9450</td>\n",
       "      <td id=\"T_6aa33_row1_col4\" class=\"data row1 col4\" >0.1619</td>\n",
       "      <td id=\"T_6aa33_row1_col5\" class=\"data row1 col5\" >0.1207</td>\n",
       "    </tr>\n",
       "    <tr>\n",
       "      <th id=\"T_6aa33_level0_row2\" class=\"row_heading level0 row2\" >2</th>\n",
       "      <td id=\"T_6aa33_row2_col0\" class=\"data row2 col0\" >3.8543</td>\n",
       "      <td id=\"T_6aa33_row2_col1\" class=\"data row2 col1\" >46.8923</td>\n",
       "      <td id=\"T_6aa33_row2_col2\" class=\"data row2 col2\" >6.8478</td>\n",
       "      <td id=\"T_6aa33_row2_col3\" class=\"data row2 col3\" >0.9785</td>\n",
       "      <td id=\"T_6aa33_row2_col4\" class=\"data row2 col4\" >0.1637</td>\n",
       "      <td id=\"T_6aa33_row2_col5\" class=\"data row2 col5\" >0.1266</td>\n",
       "    </tr>\n",
       "    <tr>\n",
       "      <th id=\"T_6aa33_level0_row3\" class=\"row_heading level0 row3\" >3</th>\n",
       "      <td id=\"T_6aa33_row3_col0\" class=\"data row3 col0\" >3.7497</td>\n",
       "      <td id=\"T_6aa33_row3_col1\" class=\"data row3 col1\" >40.0547</td>\n",
       "      <td id=\"T_6aa33_row3_col2\" class=\"data row3 col2\" >6.3289</td>\n",
       "      <td id=\"T_6aa33_row3_col3\" class=\"data row3 col3\" >0.9841</td>\n",
       "      <td id=\"T_6aa33_row3_col4\" class=\"data row3 col4\" >0.1511</td>\n",
       "      <td id=\"T_6aa33_row3_col5\" class=\"data row3 col5\" >0.1189</td>\n",
       "    </tr>\n",
       "    <tr>\n",
       "      <th id=\"T_6aa33_level0_row4\" class=\"row_heading level0 row4\" >4</th>\n",
       "      <td id=\"T_6aa33_row4_col0\" class=\"data row4 col0\" >4.1072</td>\n",
       "      <td id=\"T_6aa33_row4_col1\" class=\"data row4 col1\" >75.9078</td>\n",
       "      <td id=\"T_6aa33_row4_col2\" class=\"data row4 col2\" >8.7125</td>\n",
       "      <td id=\"T_6aa33_row4_col3\" class=\"data row4 col3\" >0.9756</td>\n",
       "      <td id=\"T_6aa33_row4_col4\" class=\"data row4 col4\" >0.1777</td>\n",
       "      <td id=\"T_6aa33_row4_col5\" class=\"data row4 col5\" >0.1358</td>\n",
       "    </tr>\n",
       "    <tr>\n",
       "      <th id=\"T_6aa33_level0_row5\" class=\"row_heading level0 row5\" >5</th>\n",
       "      <td id=\"T_6aa33_row5_col0\" class=\"data row5 col0\" >4.1085</td>\n",
       "      <td id=\"T_6aa33_row5_col1\" class=\"data row5 col1\" >99.6260</td>\n",
       "      <td id=\"T_6aa33_row5_col2\" class=\"data row5 col2\" >9.9813</td>\n",
       "      <td id=\"T_6aa33_row5_col3\" class=\"data row5 col3\" >0.9672</td>\n",
       "      <td id=\"T_6aa33_row5_col4\" class=\"data row5 col4\" >0.1644</td>\n",
       "      <td id=\"T_6aa33_row5_col5\" class=\"data row5 col5\" >0.1219</td>\n",
       "    </tr>\n",
       "    <tr>\n",
       "      <th id=\"T_6aa33_level0_row6\" class=\"row_heading level0 row6\" >6</th>\n",
       "      <td id=\"T_6aa33_row6_col0\" class=\"data row6 col0\" >3.5324</td>\n",
       "      <td id=\"T_6aa33_row6_col1\" class=\"data row6 col1\" >47.1502</td>\n",
       "      <td id=\"T_6aa33_row6_col2\" class=\"data row6 col2\" >6.8666</td>\n",
       "      <td id=\"T_6aa33_row6_col3\" class=\"data row6 col3\" >0.9450</td>\n",
       "      <td id=\"T_6aa33_row6_col4\" class=\"data row6 col4\" >0.1612</td>\n",
       "      <td id=\"T_6aa33_row6_col5\" class=\"data row6 col5\" >0.1219</td>\n",
       "    </tr>\n",
       "    <tr>\n",
       "      <th id=\"T_6aa33_level0_row7\" class=\"row_heading level0 row7\" >7</th>\n",
       "      <td id=\"T_6aa33_row7_col0\" class=\"data row7 col0\" >4.0832</td>\n",
       "      <td id=\"T_6aa33_row7_col1\" class=\"data row7 col1\" >49.3748</td>\n",
       "      <td id=\"T_6aa33_row7_col2\" class=\"data row7 col2\" >7.0267</td>\n",
       "      <td id=\"T_6aa33_row7_col3\" class=\"data row7 col3\" >0.9781</td>\n",
       "      <td id=\"T_6aa33_row7_col4\" class=\"data row7 col4\" >0.1749</td>\n",
       "      <td id=\"T_6aa33_row7_col5\" class=\"data row7 col5\" >0.1301</td>\n",
       "    </tr>\n",
       "    <tr>\n",
       "      <th id=\"T_6aa33_level0_row8\" class=\"row_heading level0 row8\" >8</th>\n",
       "      <td id=\"T_6aa33_row8_col0\" class=\"data row8 col0\" >4.7522</td>\n",
       "      <td id=\"T_6aa33_row8_col1\" class=\"data row8 col1\" >156.6770</td>\n",
       "      <td id=\"T_6aa33_row8_col2\" class=\"data row8 col2\" >12.5171</td>\n",
       "      <td id=\"T_6aa33_row8_col3\" class=\"data row8 col3\" >0.9391</td>\n",
       "      <td id=\"T_6aa33_row8_col4\" class=\"data row8 col4\" >0.1811</td>\n",
       "      <td id=\"T_6aa33_row8_col5\" class=\"data row8 col5\" >0.1334</td>\n",
       "    </tr>\n",
       "    <tr>\n",
       "      <th id=\"T_6aa33_level0_row9\" class=\"row_heading level0 row9\" >9</th>\n",
       "      <td id=\"T_6aa33_row9_col0\" class=\"data row9 col0\" >3.8859</td>\n",
       "      <td id=\"T_6aa33_row9_col1\" class=\"data row9 col1\" >90.1342</td>\n",
       "      <td id=\"T_6aa33_row9_col2\" class=\"data row9 col2\" >9.4939</td>\n",
       "      <td id=\"T_6aa33_row9_col3\" class=\"data row9 col3\" >0.9611</td>\n",
       "      <td id=\"T_6aa33_row9_col4\" class=\"data row9 col4\" >0.1527</td>\n",
       "      <td id=\"T_6aa33_row9_col5\" class=\"data row9 col5\" >0.1165</td>\n",
       "    </tr>\n",
       "    <tr>\n",
       "      <th id=\"T_6aa33_level0_row10\" class=\"row_heading level0 row10\" >Mean</th>\n",
       "      <td id=\"T_6aa33_row10_col0\" class=\"data row10 col0\" >4.0215</td>\n",
       "      <td id=\"T_6aa33_row10_col1\" class=\"data row10 col1\" >75.5242</td>\n",
       "      <td id=\"T_6aa33_row10_col2\" class=\"data row10 col2\" >8.4689</td>\n",
       "      <td id=\"T_6aa33_row10_col3\" class=\"data row10 col3\" >0.9655</td>\n",
       "      <td id=\"T_6aa33_row10_col4\" class=\"data row10 col4\" >0.1664</td>\n",
       "      <td id=\"T_6aa33_row10_col5\" class=\"data row10 col5\" >0.1256</td>\n",
       "    </tr>\n",
       "    <tr>\n",
       "      <th id=\"T_6aa33_level0_row11\" class=\"row_heading level0 row11\" >Std</th>\n",
       "      <td id=\"T_6aa33_row11_col0\" class=\"data row11 col0\" >0.3120</td>\n",
       "      <td id=\"T_6aa33_row11_col1\" class=\"data row11 col1\" >35.7411</td>\n",
       "      <td id=\"T_6aa33_row11_col2\" class=\"data row11 col2\" >1.9499</td>\n",
       "      <td id=\"T_6aa33_row11_col3\" class=\"data row11 col3\" >0.0161</td>\n",
       "      <td id=\"T_6aa33_row11_col4\" class=\"data row11 col4\" >0.0099</td>\n",
       "      <td id=\"T_6aa33_row11_col5\" class=\"data row11 col5\" >0.0062</td>\n",
       "    </tr>\n",
       "  </tbody>\n",
       "</table>\n"
      ],
      "text/plain": [
       "<pandas.io.formats.style.Styler at 0x78058ebdde70>"
      ]
     },
     "metadata": {},
     "output_type": "display_data"
    },
    {
     "data": {
      "application/vnd.jupyter.widget-view+json": {
       "model_id": "e79a910652cd439da4ca565f5900f886",
       "version_major": 2,
       "version_minor": 0
      },
      "text/plain": [
       "Processing:   0%|          | 0/7 [00:00<?, ?it/s]"
      ]
     },
     "metadata": {
      "application/vnd.jupyter.widget-view+json": {
       "colab": {
        "custom_widget_manager": {
         "url": "https://ssl.gstatic.com/colaboratory-static/widgets/colab-cdn-widget-manager/2b70e893a8ba7c0f/manager.min.js"
        }
       }
      }
     },
     "output_type": "display_data"
    },
    {
     "name": "stdout",
     "output_type": "stream",
     "text": [
      "Fitting 10 folds for each of 10 candidates, totalling 100 fits\n"
     ]
    },
    {
     "data": {
      "text/html": [],
      "text/plain": [
       "<IPython.core.display.HTML object>"
      ]
     },
     "metadata": {},
     "output_type": "display_data"
    },
    {
     "name": "stdout",
     "output_type": "stream",
     "text": [
      "Original model was better than the tuned model, hence it will be returned. NOTE: The display metrics are for the tuned model (not the original one).\n"
     ]
    },
    {
     "data": {
      "text/html": [],
      "text/plain": [
       "<IPython.core.display.HTML object>"
      ]
     },
     "metadata": {},
     "output_type": "display_data"
    },
    {
     "data": {
      "text/html": [],
      "text/plain": [
       "<IPython.core.display.HTML object>"
      ]
     },
     "metadata": {},
     "output_type": "display_data"
    },
    {
     "data": {
      "text/html": [],
      "text/plain": [
       "<IPython.core.display.HTML object>"
      ]
     },
     "metadata": {},
     "output_type": "display_data"
    },
    {
     "data": {
      "text/html": [],
      "text/plain": [
       "<IPython.core.display.HTML object>"
      ]
     },
     "metadata": {},
     "output_type": "display_data"
    },
    {
     "data": {
      "text/html": [],
      "text/plain": [
       "<IPython.core.display.HTML object>"
      ]
     },
     "metadata": {},
     "output_type": "display_data"
    },
    {
     "data": {
      "text/html": [],
      "text/plain": [
       "<IPython.core.display.HTML object>"
      ]
     },
     "metadata": {},
     "output_type": "display_data"
    },
    {
     "name": "stdout",
     "output_type": "stream",
     "text": [
      "Stacked Model - R2 Score: 0.9446, MSE: 128.3302\n"
     ]
    }
   ],
   "source": [
    "predictor.tune_and_save_models()"
   ]
  },
  {
   "cell_type": "code",
   "execution_count": 12,
   "id": "vEr3Tr1jAXe7",
   "metadata": {
    "colab": {
     "base_uri": "https://localhost:8080/",
     "height": 34
    },
    "executionInfo": {
     "elapsed": 10465,
     "status": "ok",
     "timestamp": 1730670608573,
     "user": {
      "displayName": "이창민",
      "userId": "14847847938142148141"
     },
     "user_tz": -540
    },
    "id": "vEr3Tr1jAXe7",
    "outputId": "2a50895c-6ca4-4c4b-cefd-53d1494bd572"
   },
   "outputs": [
    {
     "data": {
      "text/html": [],
      "text/plain": [
       "<IPython.core.display.HTML object>"
      ]
     },
     "metadata": {},
     "output_type": "display_data"
    },
    {
     "data": {
      "text/html": [],
      "text/plain": [
       "<IPython.core.display.HTML object>"
      ]
     },
     "metadata": {},
     "output_type": "display_data"
    },
    {
     "data": {
      "text/html": [],
      "text/plain": [
       "<IPython.core.display.HTML object>"
      ]
     },
     "metadata": {},
     "output_type": "display_data"
    },
    {
     "data": {
      "text/html": [],
      "text/plain": [
       "<IPython.core.display.HTML object>"
      ]
     },
     "metadata": {},
     "output_type": "display_data"
    },
    {
     "data": {
      "text/html": [],
      "text/plain": [
       "<IPython.core.display.HTML object>"
      ]
     },
     "metadata": {},
     "output_type": "display_data"
    },
    {
     "name": "stdout",
     "output_type": "stream",
     "text": [
      "Stacked Model - R2 Score: 0.9446, MSE: 128.3302\n"
     ]
    }
   ],
   "source": [
    "predictor.stack_models()"
   ]
  },
  {
   "cell_type": "markdown",
   "id": "3fa0b677",
   "metadata": {
    "id": "3fa0b677"
   },
   "source": [
    "## Test 데이터로 성능을 평가한 결과"
   ]
  },
  {
   "cell_type": "code",
   "execution_count": 11,
   "id": "d42630d8",
   "metadata": {
    "colab": {
     "base_uri": "https://localhost:8080/",
     "height": 1000
    },
    "executionInfo": {
     "elapsed": 1458,
     "status": "ok",
     "timestamp": 1730670540945,
     "user": {
      "displayName": "이창민",
      "userId": "14847847938142148141"
     },
     "user_tz": -540
    },
    "id": "d42630d8",
    "outputId": "c46da81f-74e7-46ba-e888-6fcb7227ee04"
   },
   "outputs": [
    {
     "data": {
      "image/png": "[encoded data removed]",
      "text/plain": [
       "<Figure size 1600x800 with 2 Axes>"
      ]
     },
     "metadata": {},
     "output_type": "display_data"
    },
    {
     "name": "stdout",
     "output_type": "stream",
     "text": [
      "\n",
      "Model Evaluation Results Before Tuning:\n",
      "Model Name                     R2 Score        MSE            \n",
      "------------------------------------------------------------\n",
      "ExtraTreesRegressor            0.9309          38.5060        \n",
      "GradientBoostingRegressor      0.9333          37.1398        \n",
      "HuberRegressor                 0.9333          37.1707        \n",
      "BayesianRidge                  0.9326          37.5664        \n",
      "Ridge                          0.9326          37.5643        \n",
      "\n",
      "Model Evaluation Results After Tuning:\n",
      "Model Name                     R2 Score        MSE            \n",
      "------------------------------------------------------------\n",
      "ExtraTreesRegressor            0.9309          38.5060        \n",
      "GradientBoostingRegressor      0.9333          37.1398        \n",
      "HuberRegressor                 0.9333          37.1707        \n",
      "BayesianRidge                  0.9326          37.5664        \n",
      "Ridge                          0.9326          37.5643        \n"
     ]
    }
   ],
   "source": [
    "predictor.display_results()"
   ]
  },
  {
   "cell_type": "markdown",
   "id": "e415c33a",
   "metadata": {
    "id": "e415c33a"
   },
   "source": [
    "# 확인할 수 있는 인사이트\n",
    "## 1. No Scaling, MinMax Scaling, Standard Scaling 중 MinMax Scaling을 통한 ML이 가장 좋게 나온다.\n",
    "    - 우리 data에 적합한 scaling은 MinMaxScaler\n",
    "## 2. Hyperparameter Tuning을 해봤자 default로 돌린 게 제일 잘 나온다.\n",
    "    - data 자체가 많지 않고 task가 복잡한 편이 아님\n",
    "## 3. 일부 regressor를 제외하면 대부분이 비슷한 성능이 나옴.\n",
    "    - Model 자체로 성능을 올리기 보단 더 많은 데이터 혹은 학습기법을 통한 성능 향상이 필요해보임 ex. Stacking Ensemble"
   ]
  }
 ],
 "metadata": {
  "accelerator": "GPU",
  "colab": {
   "gpuType": "A100",
   "provenance": []
  },
  "kernelspec": {
   "display_name": "Python 3",
   "name": "python3"
  },
  "language_info": {
   "codemirror_mode": {
    "name": "ipython",
    "version": 3
   },
   "file_extension": ".py",
   "mimetype": "text/x-python",
   "name": "python",
   "nbconvert_exporter": "python",
   "pygments_lexer": "ipython3",
   "version": "3.9.7"
  },
  "widgets": {
   "application/vnd.jupyter.widget-state+json": {
    "00923a029dff4794a79698a8f1a0750f": {
     "model_module": "@jupyter-widgets/controls",
     "model_module_version": "1.5.0",
     "model_name": "DescriptionStyleModel",
     "state": {
      "_model_module": "@jupyter-widgets/controls",
      "_model_module_version": "1.5.0",
      "_model_name": "DescriptionStyleModel",
      "_view_count": null,
      "_view_module": "@jupyter-widgets/base",
      "_view_module_version": "1.2.0",
      "_view_name": "StyleView",
      "description_width": ""
     }
    },
    "066c333ec4d0469aaea7bf0f2fef5eb2": {
     "model_module": "@jupyter-widgets/base",
     "model_module_version": "1.2.0",
     "model_name": "LayoutModel",
     "state": {
      "_model_module": "@jupyter-widgets/base",
      "_model_module_version": "1.2.0",
      "_model_name": "LayoutModel",
      "_view_count": null,
      "_view_module": "@jupyter-widgets/base",
      "_view_module_version": "1.2.0",
      "_view_name": "LayoutView",
      "align_content": null,
      "align_items": null,
      "align_self": null,
      "border": null,
      "bottom": null,
      "display": null,
      "flex": null,
      "flex_flow": null,
      "grid_area": null,
      "grid_auto_columns": null,
      "grid_auto_flow": null,
      "grid_auto_rows": null,
      "grid_column": null,
      "grid_gap": null,
      "grid_row": null,
      "grid_template_areas": null,
      "grid_template_columns": null,
      "grid_template_rows": null,
      "height": null,
      "justify_content": null,
      "justify_items": null,
      "left": null,
      "margin": null,
      "max_height": null,
      "max_width": null,
      "min_height": null,
      "min_width": null,
      "object_fit": null,
      "object_position": null,
      "order": null,
      "overflow": null,
      "overflow_x": null,
      "overflow_y": null,
      "padding": null,
      "right": null,
      "top": null,
      "visibility": null,
      "width": null
     }
    },
    "0e1de4f9ceeb4830a9e23ad89c3679ac": {
     "model_module": "@jupyter-widgets/controls",
     "model_module_version": "1.5.0",
     "model_name": "FloatProgressModel",
     "state": {
      "_dom_classes": [],
      "_model_module": "@jupyter-widgets/controls",
      "_model_module_version": "1.5.0",
      "_model_name": "FloatProgressModel",
      "_view_count": null,
      "_view_module": "@jupyter-widgets/controls",
      "_view_module_version": "1.5.0",
      "_view_name": "ProgressView",
      "bar_style": "",
      "description": "",
      "description_tooltip": null,
      "layout": "IPY_MODEL_57971aa5165b4279bf59e85dbd4b3f54",
      "max": 7,
      "min": 0,
      "orientation": "horizontal",
      "style": "IPY_MODEL_bbc44999a693441893a36dbb94951122",
      "value": 7
     }
    },
    "0fdbcdc4e69148a7ab859652eee1e4f9": {
     "model_module": "@jupyter-widgets/controls",
     "model_module_version": "1.5.0",
     "model_name": "HTMLModel",
     "state": {
      "_dom_classes": [],
      "_model_module": "@jupyter-widgets/controls",
      "_model_module_version": "1.5.0",
      "_model_name": "HTMLModel",
      "_view_count": null,
      "_view_module": "@jupyter-widgets/controls",
      "_view_module_version": "1.5.0",
      "_view_name": "HTMLView",
      "description": "",
      "description_tooltip": null,
      "layout": "IPY_MODEL_066c333ec4d0469aaea7bf0f2fef5eb2",
      "placeholder": "​",
      "style": "IPY_MODEL_f82280e82e124298b9b794afff0647b8",
      "value": " 7/7 [00:31&lt;00:00,  4.39s/it]"
     }
    },
    "106c5d2cd2774057bcd8d964147e25a8": {
     "model_module": "@jupyter-widgets/base",
     "model_module_version": "1.2.0",
     "model_name": "LayoutModel",
     "state": {
      "_model_module": "@jupyter-widgets/base",
      "_model_module_version": "1.2.0",
      "_model_name": "LayoutModel",
      "_view_count": null,
      "_view_module": "@jupyter-widgets/base",
      "_view_module_version": "1.2.0",
      "_view_name": "LayoutView",
      "align_content": null,
      "align_items": null,
      "align_self": null,
      "border": null,
      "bottom": null,
      "display": null,
      "flex": null,
      "flex_flow": null,
      "grid_area": null,
      "grid_auto_columns": null,
      "grid_auto_flow": null,
      "grid_auto_rows": null,
      "grid_column": null,
      "grid_gap": null,
      "grid_row": null,
      "grid_template_areas": null,
      "grid_template_columns": null,
      "grid_template_rows": null,
      "height": null,
      "justify_content": null,
      "justify_items": null,
      "left": null,
      "margin": null,
      "max_height": null,
      "max_width": null,
      "min_height": null,
      "min_width": null,
      "object_fit": null,
      "object_position": null,
      "order": null,
      "overflow": null,
      "overflow_x": null,
      "overflow_y": null,
      "padding": null,
      "right": null,
      "top": null,
      "visibility": null,
      "width": null
     }
    },
    "11e83d65c108426ba7cec488f194226f": {
     "model_module": "@jupyter-widgets/controls",
     "model_module_version": "1.5.0",
     "model_name": "HTMLModel",
     "state": {
      "_dom_classes": [],
      "_model_module": "@jupyter-widgets/controls",
      "_model_module_version": "1.5.0",
      "_model_name": "HTMLModel",
      "_view_count": null,
      "_view_module": "@jupyter-widgets/controls",
      "_view_module_version": "1.5.0",
      "_view_name": "HTMLView",
      "description": "",
      "description_tooltip": null,
      "layout": "IPY_MODEL_e7e300ae6d524d03ae76926a041689f7",
      "placeholder": "​",
      "style": "IPY_MODEL_b5ac2329709847ca9e2773974dd4d018",
      "value": "Processing: 100%"
     }
    },
    "154b070954f4463c97e3f352287b7f44": {
     "model_module": "@jupyter-widgets/base",
     "model_module_version": "1.2.0",
     "model_name": "LayoutModel",
     "state": {
      "_model_module": "@jupyter-widgets/base",
      "_model_module_version": "1.2.0",
      "_model_name": "LayoutModel",
      "_view_count": null,
      "_view_module": "@jupyter-widgets/base",
      "_view_module_version": "1.2.0",
      "_view_name": "LayoutView",
      "align_content": null,
      "align_items": null,
      "align_self": null,
      "border": null,
      "bottom": null,
      "display": null,
      "flex": null,
      "flex_flow": null,
      "grid_area": null,
      "grid_auto_columns": null,
      "grid_auto_flow": null,
      "grid_auto_rows": null,
      "grid_column": null,
      "grid_gap": null,
      "grid_row": null,
      "grid_template_areas": null,
      "grid_template_columns": null,
      "grid_template_rows": null,
      "height": null,
      "justify_content": null,
      "justify_items": null,
      "left": null,
      "margin": null,
      "max_height": null,
      "max_width": null,
      "min_height": null,
      "min_width": null,
      "object_fit": null,
      "object_position": null,
      "order": null,
      "overflow": null,
      "overflow_x": null,
      "overflow_y": null,
      "padding": null,
      "right": null,
      "top": null,
      "visibility": null,
      "width": null
     }
    },
    "167ca0581bef43a1b39d2b6c7d07215d": {
     "model_module": "@jupyter-widgets/controls",
     "model_module_version": "1.5.0",
     "model_name": "HTMLModel",
     "state": {
      "_dom_classes": [],
      "_model_module": "@jupyter-widgets/controls",
      "_model_module_version": "1.5.0",
      "_model_name": "HTMLModel",
      "_view_count": null,
      "_view_module": "@jupyter-widgets/controls",
      "_view_module_version": "1.5.0",
      "_view_name": "HTMLView",
      "description": "",
      "description_tooltip": null,
      "layout": "IPY_MODEL_16b015767bc4421b90473e2ac1c64b65",
      "placeholder": "​",
      "style": "IPY_MODEL_5e11cb8240024dbeb1f2010413acb041",
      "value": " 6/7 [00:01&lt;00:00,  5.97it/s]"
     }
    },
    "16b015767bc4421b90473e2ac1c64b65": {
     "model_module": "@jupyter-widgets/base",
     "model_module_version": "1.2.0",
     "model_name": "LayoutModel",
     "state": {
      "_model_module": "@jupyter-widgets/base",
      "_model_module_version": "1.2.0",
      "_model_name": "LayoutModel",
      "_view_count": null,
      "_view_module": "@jupyter-widgets/base",
      "_view_module_version": "1.2.0",
      "_view_name": "LayoutView",
      "align_content": null,
      "align_items": null,
      "align_self": null,
      "border": null,
      "bottom": null,
      "display": null,
      "flex": null,
      "flex_flow": null,
      "grid_area": null,
      "grid_auto_columns": null,
      "grid_auto_flow": null,
      "grid_auto_rows": null,
      "grid_column": null,
      "grid_gap": null,
      "grid_row": null,
      "grid_template_areas": null,
      "grid_template_columns": null,
      "grid_template_rows": null,
      "height": null,
      "justify_content": null,
      "justify_items": null,
      "left": null,
      "margin": null,
      "max_height": null,
      "max_width": null,
      "min_height": null,
      "min_width": null,
      "object_fit": null,
      "object_position": null,
      "order": null,
      "overflow": null,
      "overflow_x": null,
      "overflow_y": null,
      "padding": null,
      "right": null,
      "top": null,
      "visibility": null,
      "width": null
     }
    },
    "190b1136985a4b82af53fb2de014ab96": {
     "model_module": "@jupyter-widgets/base",
     "model_module_version": "1.2.0",
     "model_name": "LayoutModel",
     "state": {
      "_model_module": "@jupyter-widgets/base",
      "_model_module_version": "1.2.0",
      "_model_name": "LayoutModel",
      "_view_count": null,
      "_view_module": "@jupyter-widgets/base",
      "_view_module_version": "1.2.0",
      "_view_name": "LayoutView",
      "align_content": null,
      "align_items": null,
      "align_self": null,
      "border": null,
      "bottom": null,
      "display": null,
      "flex": null,
      "flex_flow": null,
      "grid_area": null,
      "grid_auto_columns": null,
      "grid_auto_flow": null,
      "grid_auto_rows": null,
      "grid_column": null,
      "grid_gap": null,
      "grid_row": null,
      "grid_template_areas": null,
      "grid_template_columns": null,
      "grid_template_rows": null,
      "height": null,
      "justify_content": null,
      "justify_items": null,
      "left": null,
      "margin": null,
      "max_height": null,
      "max_width": null,
      "min_height": null,
      "min_width": null,
      "object_fit": null,
      "object_position": null,
      "order": null,
      "overflow": null,
      "overflow_x": null,
      "overflow_y": null,
      "padding": null,
      "right": null,
      "top": null,
      "visibility": null,
      "width": null
     }
    },
    "1d64772b7d7d44318cf2844d9add0221": {
     "model_module": "@jupyter-widgets/controls",
     "model_module_version": "1.5.0",
     "model_name": "DescriptionStyleModel",
     "state": {
      "_model_module": "@jupyter-widgets/controls",
      "_model_module_version": "1.5.0",
      "_model_name": "DescriptionStyleModel",
      "_view_count": null,
      "_view_module": "@jupyter-widgets/base",
      "_view_module_version": "1.2.0",
      "_view_name": "StyleView",
      "description_width": ""
     }
    },
    "202c8ee95db5471595d84ebebdf531e7": {
     "model_module": "@jupyter-widgets/base",
     "model_module_version": "1.2.0",
     "model_name": "LayoutModel",
     "state": {
      "_model_module": "@jupyter-widgets/base",
      "_model_module_version": "1.2.0",
      "_model_name": "LayoutModel",
      "_view_count": null,
      "_view_module": "@jupyter-widgets/base",
      "_view_module_version": "1.2.0",
      "_view_name": "LayoutView",
      "align_content": null,
      "align_items": null,
      "align_self": null,
      "border": null,
      "bottom": null,
      "display": null,
      "flex": null,
      "flex_flow": null,
      "grid_area": null,
      "grid_auto_columns": null,
      "grid_auto_flow": null,
      "grid_auto_rows": null,
      "grid_column": null,
      "grid_gap": null,
      "grid_row": null,
      "grid_template_areas": null,
      "grid_template_columns": null,
      "grid_template_rows": null,
      "height": null,
      "justify_content": null,
      "justify_items": null,
      "left": null,
      "margin": null,
      "max_height": null,
      "max_width": null,
      "min_height": null,
      "min_width": null,
      "object_fit": null,
      "object_position": null,
      "order": null,
      "overflow": null,
      "overflow_x": null,
      "overflow_y": null,
      "padding": null,
      "right": null,
      "top": null,
      "visibility": null,
      "width": null
     }
    },
    "27e153df0c2643f4a62c0e37770e8b6d": {
     "model_module": "@jupyter-widgets/controls",
     "model_module_version": "1.5.0",
     "model_name": "FloatProgressModel",
     "state": {
      "_dom_classes": [],
      "_model_module": "@jupyter-widgets/controls",
      "_model_module_version": "1.5.0",
      "_model_name": "FloatProgressModel",
      "_view_count": null,
      "_view_module": "@jupyter-widgets/controls",
      "_view_module_version": "1.5.0",
      "_view_name": "ProgressView",
      "bar_style": "",
      "description": "",
      "description_tooltip": null,
      "layout": "IPY_MODEL_cc1764e8a0b34409ae297a8faa868a83",
      "max": 7,
      "min": 0,
      "orientation": "horizontal",
      "style": "IPY_MODEL_77def81775aa4c3592cc731628d1a7e3",
      "value": 7
     }
    },
    "280ba5f7bd8b45f2aa5b9ef9800df4fe": {
     "model_module": "@jupyter-widgets/base",
     "model_module_version": "1.2.0",
     "model_name": "LayoutModel",
     "state": {
      "_model_module": "@jupyter-widgets/base",
      "_model_module_version": "1.2.0",
      "_model_name": "LayoutModel",
      "_view_count": null,
      "_view_module": "@jupyter-widgets/base",
      "_view_module_version": "1.2.0",
      "_view_name": "LayoutView",
      "align_content": null,
      "align_items": null,
      "align_self": null,
      "border": null,
      "bottom": null,
      "display": null,
      "flex": null,
      "flex_flow": null,
      "grid_area": null,
      "grid_auto_columns": null,
      "grid_auto_flow": null,
      "grid_auto_rows": null,
      "grid_column": null,
      "grid_gap": null,
      "grid_row": null,
      "grid_template_areas": null,
      "grid_template_columns": null,
      "grid_template_rows": null,
      "height": null,
      "justify_content": null,
      "justify_items": null,
      "left": null,
      "margin": null,
      "max_height": null,
      "max_width": null,
      "min_height": null,
      "min_width": null,
      "object_fit": null,
      "object_position": null,
      "order": null,
      "overflow": null,
      "overflow_x": null,
      "overflow_y": null,
      "padding": null,
      "right": null,
      "top": null,
      "visibility": null,
      "width": null
     }
    },
    "296477c1d233479c9aa964f50757d055": {
     "model_module": "@jupyter-widgets/controls",
     "model_module_version": "1.5.0",
     "model_name": "DescriptionStyleModel",
     "state": {
      "_model_module": "@jupyter-widgets/controls",
      "_model_module_version": "1.5.0",
      "_model_name": "DescriptionStyleModel",
      "_view_count": null,
      "_view_module": "@jupyter-widgets/base",
      "_view_module_version": "1.2.0",
      "_view_name": "StyleView",
      "description_width": ""
     }
    },
    "30b2c355583f493584ef701299d5667f": {
     "model_module": "@jupyter-widgets/base",
     "model_module_version": "1.2.0",
     "model_name": "LayoutModel",
     "state": {
      "_model_module": "@jupyter-widgets/base",
      "_model_module_version": "1.2.0",
      "_model_name": "LayoutModel",
      "_view_count": null,
      "_view_module": "@jupyter-widgets/base",
      "_view_module_version": "1.2.0",
      "_view_name": "LayoutView",
      "align_content": null,
      "align_items": null,
      "align_self": null,
      "border": null,
      "bottom": null,
      "display": null,
      "flex": null,
      "flex_flow": null,
      "grid_area": null,
      "grid_auto_columns": null,
      "grid_auto_flow": null,
      "grid_auto_rows": null,
      "grid_column": null,
      "grid_gap": null,
      "grid_row": null,
      "grid_template_areas": null,
      "grid_template_columns": null,
      "grid_template_rows": null,
      "height": null,
      "justify_content": null,
      "justify_items": null,
      "left": null,
      "margin": null,
      "max_height": null,
      "max_width": null,
      "min_height": null,
      "min_width": null,
      "object_fit": null,
      "object_position": null,
      "order": null,
      "overflow": null,
      "overflow_x": null,
      "overflow_y": null,
      "padding": null,
      "right": null,
      "top": null,
      "visibility": "hidden",
      "width": null
     }
    },
    "317ae22b85e14928986f9bd6438b7f11": {
     "model_module": "@jupyter-widgets/controls",
     "model_module_version": "1.5.0",
     "model_name": "HTMLModel",
     "state": {
      "_dom_classes": [],
      "_model_module": "@jupyter-widgets/controls",
      "_model_module_version": "1.5.0",
      "_model_name": "HTMLModel",
      "_view_count": null,
      "_view_module": "@jupyter-widgets/controls",
      "_view_module_version": "1.5.0",
      "_view_name": "HTMLView",
      "description": "",
      "description_tooltip": null,
      "layout": "IPY_MODEL_fa77d5f669094e2faf8f8dc9dfd648be",
      "placeholder": "​",
      "style": "IPY_MODEL_296477c1d233479c9aa964f50757d055",
      "value": "Processing:  86%"
     }
    },
    "4045b566f0394457a1e714eaa93a2040": {
     "model_module": "@jupyter-widgets/controls",
     "model_module_version": "1.5.0",
     "model_name": "HTMLModel",
     "state": {
      "_dom_classes": [],
      "_model_module": "@jupyter-widgets/controls",
      "_model_module_version": "1.5.0",
      "_model_name": "HTMLModel",
      "_view_count": null,
      "_view_module": "@jupyter-widgets/controls",
      "_view_module_version": "1.5.0",
      "_view_name": "HTMLView",
      "description": "",
      "description_tooltip": null,
      "layout": "IPY_MODEL_9bc607d9b91a4803b90337ed68cf6450",
      "placeholder": "​",
      "style": "IPY_MODEL_a0a90ec16d7040329772163444c0f1b1",
      "value": "Processing: 100%"
     }
    },
    "463e30a20fc649e580e922ddcd6823ae": {
     "model_module": "@jupyter-widgets/controls",
     "model_module_version": "1.5.0",
     "model_name": "HBoxModel",
     "state": {
      "_dom_classes": [],
      "_model_module": "@jupyter-widgets/controls",
      "_model_module_version": "1.5.0",
      "_model_name": "HBoxModel",
      "_view_count": null,
      "_view_module": "@jupyter-widgets/controls",
      "_view_module_version": "1.5.0",
      "_view_name": "HBoxView",
      "box_style": "",
      "children": [
       "IPY_MODEL_4045b566f0394457a1e714eaa93a2040",
       "IPY_MODEL_53911e6d9f2c41aead59039ccf83a141",
       "IPY_MODEL_c39621d5298d41deb6bca578f924f289"
      ],
      "layout": "IPY_MODEL_6732a26d7dc648939f156d801fef63be"
     }
    },
    "4a401a128a6d4adf9dfb1d80d191231d": {
     "model_module": "@jupyter-widgets/controls",
     "model_module_version": "1.5.0",
     "model_name": "HTMLModel",
     "state": {
      "_dom_classes": [],
      "_model_module": "@jupyter-widgets/controls",
      "_model_module_version": "1.5.0",
      "_model_name": "HTMLModel",
      "_view_count": null,
      "_view_module": "@jupyter-widgets/controls",
      "_view_module_version": "1.5.0",
      "_view_name": "HTMLView",
      "description": "",
      "description_tooltip": null,
      "layout": "IPY_MODEL_280ba5f7bd8b45f2aa5b9ef9800df4fe",
      "placeholder": "​",
      "style": "IPY_MODEL_531f60cbe875420085883e3349759511",
      "value": "Processing: 100%"
     }
    },
    "4b2e23ebc54442d0be629707116f9694": {
     "model_module": "@jupyter-widgets/controls",
     "model_module_version": "1.5.0",
     "model_name": "ProgressStyleModel",
     "state": {
      "_model_module": "@jupyter-widgets/controls",
      "_model_module_version": "1.5.0",
      "_model_name": "ProgressStyleModel",
      "_view_count": null,
      "_view_module": "@jupyter-widgets/base",
      "_view_module_version": "1.2.0",
      "_view_name": "StyleView",
      "bar_color": null,
      "description_width": ""
     }
    },
    "4c019a20e3d741b3b9ee7bc05ba2b4b0": {
     "model_module": "@jupyter-widgets/controls",
     "model_module_version": "1.5.0",
     "model_name": "FloatProgressModel",
     "state": {
      "_dom_classes": [],
      "_model_module": "@jupyter-widgets/controls",
      "_model_module_version": "1.5.0",
      "_model_name": "FloatProgressModel",
      "_view_count": null,
      "_view_module": "@jupyter-widgets/controls",
      "_view_module_version": "1.5.0",
      "_view_name": "ProgressView",
      "bar_style": "",
      "description": "",
      "description_tooltip": null,
      "layout": "IPY_MODEL_154b070954f4463c97e3f352287b7f44",
      "max": 7,
      "min": 0,
      "orientation": "horizontal",
      "style": "IPY_MODEL_e4edeb8e2e1e468da72598fac24acdc5",
      "value": 7
     }
    },
    "4c2fdbbda7f14b5c8af1ec33b45bb15e": {
     "model_module": "@jupyter-widgets/controls",
     "model_module_version": "1.5.0",
     "model_name": "HBoxModel",
     "state": {
      "_dom_classes": [],
      "_model_module": "@jupyter-widgets/controls",
      "_model_module_version": "1.5.0",
      "_model_name": "HBoxModel",
      "_view_count": null,
      "_view_module": "@jupyter-widgets/controls",
      "_view_module_version": "1.5.0",
      "_view_name": "HBoxView",
      "box_style": "",
      "children": [
       "IPY_MODEL_80977a80184746f4a57a8db4d65cb453",
       "IPY_MODEL_0e1de4f9ceeb4830a9e23ad89c3679ac",
       "IPY_MODEL_0fdbcdc4e69148a7ab859652eee1e4f9"
      ],
      "layout": "IPY_MODEL_fbdae5af9f7a44a79d5978b6d7ec7b7e"
     }
    },
    "520e1c68a8b44fe9a22672f7caf7eea7": {
     "model_module": "@jupyter-widgets/base",
     "model_module_version": "1.2.0",
     "model_name": "LayoutModel",
     "state": {
      "_model_module": "@jupyter-widgets/base",
      "_model_module_version": "1.2.0",
      "_model_name": "LayoutModel",
      "_view_count": null,
      "_view_module": "@jupyter-widgets/base",
      "_view_module_version": "1.2.0",
      "_view_name": "LayoutView",
      "align_content": null,
      "align_items": null,
      "align_self": null,
      "border": null,
      "bottom": null,
      "display": null,
      "flex": null,
      "flex_flow": null,
      "grid_area": null,
      "grid_auto_columns": null,
      "grid_auto_flow": null,
      "grid_auto_rows": null,
      "grid_column": null,
      "grid_gap": null,
      "grid_row": null,
      "grid_template_areas": null,
      "grid_template_columns": null,
      "grid_template_rows": null,
      "height": null,
      "justify_content": null,
      "justify_items": null,
      "left": null,
      "margin": null,
      "max_height": null,
      "max_width": null,
      "min_height": null,
      "min_width": null,
      "object_fit": null,
      "object_position": null,
      "order": null,
      "overflow": null,
      "overflow_x": null,
      "overflow_y": null,
      "padding": null,
      "right": null,
      "top": null,
      "visibility": null,
      "width": null
     }
    },
    "531f60cbe875420085883e3349759511": {
     "model_module": "@jupyter-widgets/controls",
     "model_module_version": "1.5.0",
     "model_name": "DescriptionStyleModel",
     "state": {
      "_model_module": "@jupyter-widgets/controls",
      "_model_module_version": "1.5.0",
      "_model_name": "DescriptionStyleModel",
      "_view_count": null,
      "_view_module": "@jupyter-widgets/base",
      "_view_module_version": "1.2.0",
      "_view_name": "StyleView",
      "description_width": ""
     }
    },
    "53911e6d9f2c41aead59039ccf83a141": {
     "model_module": "@jupyter-widgets/controls",
     "model_module_version": "1.5.0",
     "model_name": "FloatProgressModel",
     "state": {
      "_dom_classes": [],
      "_model_module": "@jupyter-widgets/controls",
      "_model_module_version": "1.5.0",
      "_model_name": "FloatProgressModel",
      "_view_count": null,
      "_view_module": "@jupyter-widgets/controls",
      "_view_module_version": "1.5.0",
      "_view_name": "ProgressView",
      "bar_style": "",
      "description": "",
      "description_tooltip": null,
      "layout": "IPY_MODEL_520e1c68a8b44fe9a22672f7caf7eea7",
      "max": 85,
      "min": 0,
      "orientation": "horizontal",
      "style": "IPY_MODEL_4b2e23ebc54442d0be629707116f9694",
      "value": 85
     }
    },
    "57971aa5165b4279bf59e85dbd4b3f54": {
     "model_module": "@jupyter-widgets/base",
     "model_module_version": "1.2.0",
     "model_name": "LayoutModel",
     "state": {
      "_model_module": "@jupyter-widgets/base",
      "_model_module_version": "1.2.0",
      "_model_name": "LayoutModel",
      "_view_count": null,
      "_view_module": "@jupyter-widgets/base",
      "_view_module_version": "1.2.0",
      "_view_name": "LayoutView",
      "align_content": null,
      "align_items": null,
      "align_self": null,
      "border": null,
      "bottom": null,
      "display": null,
      "flex": null,
      "flex_flow": null,
      "grid_area": null,
      "grid_auto_columns": null,
      "grid_auto_flow": null,
      "grid_auto_rows": null,
      "grid_column": null,
      "grid_gap": null,
      "grid_row": null,
      "grid_template_areas": null,
      "grid_template_columns": null,
      "grid_template_rows": null,
      "height": null,
      "justify_content": null,
      "justify_items": null,
      "left": null,
      "margin": null,
      "max_height": null,
      "max_width": null,
      "min_height": null,
      "min_width": null,
      "object_fit": null,
      "object_position": null,
      "order": null,
      "overflow": null,
      "overflow_x": null,
      "overflow_y": null,
      "padding": null,
      "right": null,
      "top": null,
      "visibility": null,
      "width": null
     }
    },
    "5e11cb8240024dbeb1f2010413acb041": {
     "model_module": "@jupyter-widgets/controls",
     "model_module_version": "1.5.0",
     "model_name": "DescriptionStyleModel",
     "state": {
      "_model_module": "@jupyter-widgets/controls",
      "_model_module_version": "1.5.0",
      "_model_name": "DescriptionStyleModel",
      "_view_count": null,
      "_view_module": "@jupyter-widgets/base",
      "_view_module_version": "1.2.0",
      "_view_name": "StyleView",
      "description_width": ""
     }
    },
    "61ec74f72fdf4143a0d75d829fe6fc83": {
     "model_module": "@jupyter-widgets/controls",
     "model_module_version": "1.5.0",
     "model_name": "DescriptionStyleModel",
     "state": {
      "_model_module": "@jupyter-widgets/controls",
      "_model_module_version": "1.5.0",
      "_model_name": "DescriptionStyleModel",
      "_view_count": null,
      "_view_module": "@jupyter-widgets/base",
      "_view_module_version": "1.2.0",
      "_view_name": "StyleView",
      "description_width": ""
     }
    },
    "6732a26d7dc648939f156d801fef63be": {
     "model_module": "@jupyter-widgets/base",
     "model_module_version": "1.2.0",
     "model_name": "LayoutModel",
     "state": {
      "_model_module": "@jupyter-widgets/base",
      "_model_module_version": "1.2.0",
      "_model_name": "LayoutModel",
      "_view_count": null,
      "_view_module": "@jupyter-widgets/base",
      "_view_module_version": "1.2.0",
      "_view_name": "LayoutView",
      "align_content": null,
      "align_items": null,
      "align_self": null,
      "border": null,
      "bottom": null,
      "display": null,
      "flex": null,
      "flex_flow": null,
      "grid_area": null,
      "grid_auto_columns": null,
      "grid_auto_flow": null,
      "grid_auto_rows": null,
      "grid_column": null,
      "grid_gap": null,
      "grid_row": null,
      "grid_template_areas": null,
      "grid_template_columns": null,
      "grid_template_rows": null,
      "height": null,
      "justify_content": null,
      "justify_items": null,
      "left": null,
      "margin": null,
      "max_height": null,
      "max_width": null,
      "min_height": null,
      "min_width": null,
      "object_fit": null,
      "object_position": null,
      "order": null,
      "overflow": null,
      "overflow_x": null,
      "overflow_y": null,
      "padding": null,
      "right": null,
      "top": null,
      "visibility": "hidden",
      "width": null
     }
    },
    "6c60f09858c347ccadfa2cb06d7dfa1e": {
     "model_module": "@jupyter-widgets/controls",
     "model_module_version": "1.5.0",
     "model_name": "FloatProgressModel",
     "state": {
      "_dom_classes": [],
      "_model_module": "@jupyter-widgets/controls",
      "_model_module_version": "1.5.0",
      "_model_name": "FloatProgressModel",
      "_view_count": null,
      "_view_module": "@jupyter-widgets/controls",
      "_view_module_version": "1.5.0",
      "_view_name": "ProgressView",
      "bar_style": "",
      "description": "",
      "description_tooltip": null,
      "layout": "IPY_MODEL_afd3e9dee59c49458ff7169f1d3e40a5",
      "max": 7,
      "min": 0,
      "orientation": "horizontal",
      "style": "IPY_MODEL_998a55aaa8b64eb0b5e731c79f6fcab0",
      "value": 7
     }
    },
    "6cade873a7be492b85f83ea0105bf39b": {
     "model_module": "@jupyter-widgets/controls",
     "model_module_version": "1.5.0",
     "model_name": "HTMLModel",
     "state": {
      "_dom_classes": [],
      "_model_module": "@jupyter-widgets/controls",
      "_model_module_version": "1.5.0",
      "_model_name": "HTMLModel",
      "_view_count": null,
      "_view_module": "@jupyter-widgets/controls",
      "_view_module_version": "1.5.0",
      "_view_name": "HTMLView",
      "description": "",
      "description_tooltip": null,
      "layout": "IPY_MODEL_202c8ee95db5471595d84ebebdf531e7",
      "placeholder": "​",
      "style": "IPY_MODEL_cdcd82b11d194764af868c1cbb200cb0",
      "value": " 7/7 [00:52&lt;00:00,  5.94s/it]"
     }
    },
    "70893a8ffb8649b3ba391804522a1309": {
     "model_module": "@jupyter-widgets/base",
     "model_module_version": "1.2.0",
     "model_name": "LayoutModel",
     "state": {
      "_model_module": "@jupyter-widgets/base",
      "_model_module_version": "1.2.0",
      "_model_name": "LayoutModel",
      "_view_count": null,
      "_view_module": "@jupyter-widgets/base",
      "_view_module_version": "1.2.0",
      "_view_name": "LayoutView",
      "align_content": null,
      "align_items": null,
      "align_self": null,
      "border": null,
      "bottom": null,
      "display": null,
      "flex": null,
      "flex_flow": null,
      "grid_area": null,
      "grid_auto_columns": null,
      "grid_auto_flow": null,
      "grid_auto_rows": null,
      "grid_column": null,
      "grid_gap": null,
      "grid_row": null,
      "grid_template_areas": null,
      "grid_template_columns": null,
      "grid_template_rows": null,
      "height": null,
      "justify_content": null,
      "justify_items": null,
      "left": null,
      "margin": null,
      "max_height": null,
      "max_width": null,
      "min_height": null,
      "min_width": null,
      "object_fit": null,
      "object_position": null,
      "order": null,
      "overflow": null,
      "overflow_x": null,
      "overflow_y": null,
      "padding": null,
      "right": null,
      "top": null,
      "visibility": "hidden",
      "width": null
     }
    },
    "7300161e5f2d4e9f8440a6fce0c32243": {
     "model_module": "@jupyter-widgets/base",
     "model_module_version": "1.2.0",
     "model_name": "LayoutModel",
     "state": {
      "_model_module": "@jupyter-widgets/base",
      "_model_module_version": "1.2.0",
      "_model_name": "LayoutModel",
      "_view_count": null,
      "_view_module": "@jupyter-widgets/base",
      "_view_module_version": "1.2.0",
      "_view_name": "LayoutView",
      "align_content": null,
      "align_items": null,
      "align_self": null,
      "border": null,
      "bottom": null,
      "display": null,
      "flex": null,
      "flex_flow": null,
      "grid_area": null,
      "grid_auto_columns": null,
      "grid_auto_flow": null,
      "grid_auto_rows": null,
      "grid_column": null,
      "grid_gap": null,
      "grid_row": null,
      "grid_template_areas": null,
      "grid_template_columns": null,
      "grid_template_rows": null,
      "height": null,
      "justify_content": null,
      "justify_items": null,
      "left": null,
      "margin": null,
      "max_height": null,
      "max_width": null,
      "min_height": null,
      "min_width": null,
      "object_fit": null,
      "object_position": null,
      "order": null,
      "overflow": null,
      "overflow_x": null,
      "overflow_y": null,
      "padding": null,
      "right": null,
      "top": null,
      "visibility": null,
      "width": null
     }
    },
    "77def81775aa4c3592cc731628d1a7e3": {
     "model_module": "@jupyter-widgets/controls",
     "model_module_version": "1.5.0",
     "model_name": "ProgressStyleModel",
     "state": {
      "_model_module": "@jupyter-widgets/controls",
      "_model_module_version": "1.5.0",
      "_model_name": "ProgressStyleModel",
      "_view_count": null,
      "_view_module": "@jupyter-widgets/base",
      "_view_module_version": "1.2.0",
      "_view_name": "StyleView",
      "bar_color": null,
      "description_width": ""
     }
    },
    "80977a80184746f4a57a8db4d65cb453": {
     "model_module": "@jupyter-widgets/controls",
     "model_module_version": "1.5.0",
     "model_name": "HTMLModel",
     "state": {
      "_dom_classes": [],
      "_model_module": "@jupyter-widgets/controls",
      "_model_module_version": "1.5.0",
      "_model_name": "HTMLModel",
      "_view_count": null,
      "_view_module": "@jupyter-widgets/controls",
      "_view_module_version": "1.5.0",
      "_view_name": "HTMLView",
      "description": "",
      "description_tooltip": null,
      "layout": "IPY_MODEL_de49504d9ba242b3aa7813277a22870e",
      "placeholder": "​",
      "style": "IPY_MODEL_1d64772b7d7d44318cf2844d9add0221",
      "value": "Processing: 100%"
     }
    },
    "83390e9f415945bbb66a43804f29bee0": {
     "model_module": "@jupyter-widgets/controls",
     "model_module_version": "1.5.0",
     "model_name": "FloatProgressModel",
     "state": {
      "_dom_classes": [],
      "_model_module": "@jupyter-widgets/controls",
      "_model_module_version": "1.5.0",
      "_model_name": "FloatProgressModel",
      "_view_count": null,
      "_view_module": "@jupyter-widgets/controls",
      "_view_module_version": "1.5.0",
      "_view_name": "ProgressView",
      "bar_style": "",
      "description": "",
      "description_tooltip": null,
      "layout": "IPY_MODEL_106c5d2cd2774057bcd8d964147e25a8",
      "max": 7,
      "min": 0,
      "orientation": "horizontal",
      "style": "IPY_MODEL_c657e055432445d1a70a8c5f46ab8f37",
      "value": 7
     }
    },
    "9064f11eea2c40eab7d5a4313bf35859": {
     "model_module": "@jupyter-widgets/base",
     "model_module_version": "1.2.0",
     "model_name": "LayoutModel",
     "state": {
      "_model_module": "@jupyter-widgets/base",
      "_model_module_version": "1.2.0",
      "_model_name": "LayoutModel",
      "_view_count": null,
      "_view_module": "@jupyter-widgets/base",
      "_view_module_version": "1.2.0",
      "_view_name": "LayoutView",
      "align_content": null,
      "align_items": null,
      "align_self": null,
      "border": null,
      "bottom": null,
      "display": null,
      "flex": null,
      "flex_flow": null,
      "grid_area": null,
      "grid_auto_columns": null,
      "grid_auto_flow": null,
      "grid_auto_rows": null,
      "grid_column": null,
      "grid_gap": null,
      "grid_row": null,
      "grid_template_areas": null,
      "grid_template_columns": null,
      "grid_template_rows": null,
      "height": null,
      "justify_content": null,
      "justify_items": null,
      "left": null,
      "margin": null,
      "max_height": null,
      "max_width": null,
      "min_height": null,
      "min_width": null,
      "object_fit": null,
      "object_position": null,
      "order": null,
      "overflow": null,
      "overflow_x": null,
      "overflow_y": null,
      "padding": null,
      "right": null,
      "top": null,
      "visibility": null,
      "width": null
     }
    },
    "942d3d8b32454cc99931303ec627b3bc": {
     "model_module": "@jupyter-widgets/base",
     "model_module_version": "1.2.0",
     "model_name": "LayoutModel",
     "state": {
      "_model_module": "@jupyter-widgets/base",
      "_model_module_version": "1.2.0",
      "_model_name": "LayoutModel",
      "_view_count": null,
      "_view_module": "@jupyter-widgets/base",
      "_view_module_version": "1.2.0",
      "_view_name": "LayoutView",
      "align_content": null,
      "align_items": null,
      "align_self": null,
      "border": null,
      "bottom": null,
      "display": null,
      "flex": null,
      "flex_flow": null,
      "grid_area": null,
      "grid_auto_columns": null,
      "grid_auto_flow": null,
      "grid_auto_rows": null,
      "grid_column": null,
      "grid_gap": null,
      "grid_row": null,
      "grid_template_areas": null,
      "grid_template_columns": null,
      "grid_template_rows": null,
      "height": null,
      "justify_content": null,
      "justify_items": null,
      "left": null,
      "margin": null,
      "max_height": null,
      "max_width": null,
      "min_height": null,
      "min_width": null,
      "object_fit": null,
      "object_position": null,
      "order": null,
      "overflow": null,
      "overflow_x": null,
      "overflow_y": null,
      "padding": null,
      "right": null,
      "top": null,
      "visibility": null,
      "width": null
     }
    },
    "995da4512241451c89e71e397af63bcc": {
     "model_module": "@jupyter-widgets/controls",
     "model_module_version": "1.5.0",
     "model_name": "HBoxModel",
     "state": {
      "_dom_classes": [],
      "_model_module": "@jupyter-widgets/controls",
      "_model_module_version": "1.5.0",
      "_model_name": "HBoxModel",
      "_view_count": null,
      "_view_module": "@jupyter-widgets/controls",
      "_view_module_version": "1.5.0",
      "_view_name": "HBoxView",
      "box_style": "",
      "children": [
       "IPY_MODEL_317ae22b85e14928986f9bd6438b7f11",
       "IPY_MODEL_6c60f09858c347ccadfa2cb06d7dfa1e",
       "IPY_MODEL_a6366fcd22b0455cb804c5bcbdb122f0"
      ],
      "layout": "IPY_MODEL_70893a8ffb8649b3ba391804522a1309"
     }
    },
    "998a55aaa8b64eb0b5e731c79f6fcab0": {
     "model_module": "@jupyter-widgets/controls",
     "model_module_version": "1.5.0",
     "model_name": "ProgressStyleModel",
     "state": {
      "_model_module": "@jupyter-widgets/controls",
      "_model_module_version": "1.5.0",
      "_model_name": "ProgressStyleModel",
      "_view_count": null,
      "_view_module": "@jupyter-widgets/base",
      "_view_module_version": "1.2.0",
      "_view_name": "StyleView",
      "bar_color": null,
      "description_width": ""
     }
    },
    "9bc607d9b91a4803b90337ed68cf6450": {
     "model_module": "@jupyter-widgets/base",
     "model_module_version": "1.2.0",
     "model_name": "LayoutModel",
     "state": {
      "_model_module": "@jupyter-widgets/base",
      "_model_module_version": "1.2.0",
      "_model_name": "LayoutModel",
      "_view_count": null,
      "_view_module": "@jupyter-widgets/base",
      "_view_module_version": "1.2.0",
      "_view_name": "LayoutView",
      "align_content": null,
      "align_items": null,
      "align_self": null,
      "border": null,
      "bottom": null,
      "display": null,
      "flex": null,
      "flex_flow": null,
      "grid_area": null,
      "grid_auto_columns": null,
      "grid_auto_flow": null,
      "grid_auto_rows": null,
      "grid_column": null,
      "grid_gap": null,
      "grid_row": null,
      "grid_template_areas": null,
      "grid_template_columns": null,
      "grid_template_rows": null,
      "height": null,
      "justify_content": null,
      "justify_items": null,
      "left": null,
      "margin": null,
      "max_height": null,
      "max_width": null,
      "min_height": null,
      "min_width": null,
      "object_fit": null,
      "object_position": null,
      "order": null,
      "overflow": null,
      "overflow_x": null,
      "overflow_y": null,
      "padding": null,
      "right": null,
      "top": null,
      "visibility": null,
      "width": null
     }
    },
    "a040c95d210f4a2cbd7100862d14ff92": {
     "model_module": "@jupyter-widgets/controls",
     "model_module_version": "1.5.0",
     "model_name": "HBoxModel",
     "state": {
      "_dom_classes": [],
      "_model_module": "@jupyter-widgets/controls",
      "_model_module_version": "1.5.0",
      "_model_name": "HBoxModel",
      "_view_count": null,
      "_view_module": "@jupyter-widgets/controls",
      "_view_module_version": "1.5.0",
      "_view_name": "HBoxView",
      "box_style": "",
      "children": [
       "IPY_MODEL_11e83d65c108426ba7cec488f194226f",
       "IPY_MODEL_4c019a20e3d741b3b9ee7bc05ba2b4b0",
       "IPY_MODEL_f16b073aad8641ea95eb6b102fffbbe8"
      ],
      "layout": "IPY_MODEL_30b2c355583f493584ef701299d5667f"
     }
    },
    "a0a90ec16d7040329772163444c0f1b1": {
     "model_module": "@jupyter-widgets/controls",
     "model_module_version": "1.5.0",
     "model_name": "DescriptionStyleModel",
     "state": {
      "_model_module": "@jupyter-widgets/controls",
      "_model_module_version": "1.5.0",
      "_model_name": "DescriptionStyleModel",
      "_view_count": null,
      "_view_module": "@jupyter-widgets/base",
      "_view_module_version": "1.2.0",
      "_view_name": "StyleView",
      "description_width": ""
     }
    },
    "a6366fcd22b0455cb804c5bcbdb122f0": {
     "model_module": "@jupyter-widgets/controls",
     "model_module_version": "1.5.0",
     "model_name": "HTMLModel",
     "state": {
      "_dom_classes": [],
      "_model_module": "@jupyter-widgets/controls",
      "_model_module_version": "1.5.0",
      "_model_name": "HTMLModel",
      "_view_count": null,
      "_view_module": "@jupyter-widgets/controls",
      "_view_module_version": "1.5.0",
      "_view_name": "HTMLView",
      "description": "",
      "description_tooltip": null,
      "layout": "IPY_MODEL_190b1136985a4b82af53fb2de014ab96",
      "placeholder": "​",
      "style": "IPY_MODEL_00923a029dff4794a79698a8f1a0750f",
      "value": " 6/7 [00:01&lt;00:00,  4.57it/s]"
     }
    },
    "a6aafcd17e5c440cbad369de314e78e9": {
     "model_module": "@jupyter-widgets/base",
     "model_module_version": "1.2.0",
     "model_name": "LayoutModel",
     "state": {
      "_model_module": "@jupyter-widgets/base",
      "_model_module_version": "1.2.0",
      "_model_name": "LayoutModel",
      "_view_count": null,
      "_view_module": "@jupyter-widgets/base",
      "_view_module_version": "1.2.0",
      "_view_name": "LayoutView",
      "align_content": null,
      "align_items": null,
      "align_self": null,
      "border": null,
      "bottom": null,
      "display": null,
      "flex": null,
      "flex_flow": null,
      "grid_area": null,
      "grid_auto_columns": null,
      "grid_auto_flow": null,
      "grid_auto_rows": null,
      "grid_column": null,
      "grid_gap": null,
      "grid_row": null,
      "grid_template_areas": null,
      "grid_template_columns": null,
      "grid_template_rows": null,
      "height": null,
      "justify_content": null,
      "justify_items": null,
      "left": null,
      "margin": null,
      "max_height": null,
      "max_width": null,
      "min_height": null,
      "min_width": null,
      "object_fit": null,
      "object_position": null,
      "order": null,
      "overflow": null,
      "overflow_x": null,
      "overflow_y": null,
      "padding": null,
      "right": null,
      "top": null,
      "visibility": "hidden",
      "width": null
     }
    },
    "af419f958e254e5baa203fb1e9220357": {
     "model_module": "@jupyter-widgets/controls",
     "model_module_version": "1.5.0",
     "model_name": "HBoxModel",
     "state": {
      "_dom_classes": [],
      "_model_module": "@jupyter-widgets/controls",
      "_model_module_version": "1.5.0",
      "_model_name": "HBoxModel",
      "_view_count": null,
      "_view_module": "@jupyter-widgets/controls",
      "_view_module_version": "1.5.0",
      "_view_name": "HBoxView",
      "box_style": "",
      "children": [
       "IPY_MODEL_4a401a128a6d4adf9dfb1d80d191231d",
       "IPY_MODEL_27e153df0c2643f4a62c0e37770e8b6d",
       "IPY_MODEL_6cade873a7be492b85f83ea0105bf39b"
      ],
      "layout": "IPY_MODEL_d74cc4e1e425421da70ce82d4af4010e"
     }
    },
    "afd3e9dee59c49458ff7169f1d3e40a5": {
     "model_module": "@jupyter-widgets/base",
     "model_module_version": "1.2.0",
     "model_name": "LayoutModel",
     "state": {
      "_model_module": "@jupyter-widgets/base",
      "_model_module_version": "1.2.0",
      "_model_name": "LayoutModel",
      "_view_count": null,
      "_view_module": "@jupyter-widgets/base",
      "_view_module_version": "1.2.0",
      "_view_name": "LayoutView",
      "align_content": null,
      "align_items": null,
      "align_self": null,
      "border": null,
      "bottom": null,
      "display": null,
      "flex": null,
      "flex_flow": null,
      "grid_area": null,
      "grid_auto_columns": null,
      "grid_auto_flow": null,
      "grid_auto_rows": null,
      "grid_column": null,
      "grid_gap": null,
      "grid_row": null,
      "grid_template_areas": null,
      "grid_template_columns": null,
      "grid_template_rows": null,
      "height": null,
      "justify_content": null,
      "justify_items": null,
      "left": null,
      "margin": null,
      "max_height": null,
      "max_width": null,
      "min_height": null,
      "min_width": null,
      "object_fit": null,
      "object_position": null,
      "order": null,
      "overflow": null,
      "overflow_x": null,
      "overflow_y": null,
      "padding": null,
      "right": null,
      "top": null,
      "visibility": null,
      "width": null
     }
    },
    "b5ac2329709847ca9e2773974dd4d018": {
     "model_module": "@jupyter-widgets/controls",
     "model_module_version": "1.5.0",
     "model_name": "DescriptionStyleModel",
     "state": {
      "_model_module": "@jupyter-widgets/controls",
      "_model_module_version": "1.5.0",
      "_model_name": "DescriptionStyleModel",
      "_view_count": null,
      "_view_module": "@jupyter-widgets/base",
      "_view_module_version": "1.2.0",
      "_view_name": "StyleView",
      "description_width": ""
     }
    },
    "bbc44999a693441893a36dbb94951122": {
     "model_module": "@jupyter-widgets/controls",
     "model_module_version": "1.5.0",
     "model_name": "ProgressStyleModel",
     "state": {
      "_model_module": "@jupyter-widgets/controls",
      "_model_module_version": "1.5.0",
      "_model_name": "ProgressStyleModel",
      "_view_count": null,
      "_view_module": "@jupyter-widgets/base",
      "_view_module_version": "1.2.0",
      "_view_name": "StyleView",
      "bar_color": null,
      "description_width": ""
     }
    },
    "c39621d5298d41deb6bca578f924f289": {
     "model_module": "@jupyter-widgets/controls",
     "model_module_version": "1.5.0",
     "model_name": "HTMLModel",
     "state": {
      "_dom_classes": [],
      "_model_module": "@jupyter-widgets/controls",
      "_model_module_version": "1.5.0",
      "_model_name": "HTMLModel",
      "_view_count": null,
      "_view_module": "@jupyter-widgets/controls",
      "_view_module_version": "1.5.0",
      "_view_name": "HTMLView",
      "description": "",
      "description_tooltip": null,
      "layout": "IPY_MODEL_7300161e5f2d4e9f8440a6fce0c32243",
      "placeholder": "​",
      "style": "IPY_MODEL_e73747dc9fca47298576fc5833278ee2",
      "value": " 85/85 [01:02&lt;00:00,  2.01it/s]"
     }
    },
    "c657e055432445d1a70a8c5f46ab8f37": {
     "model_module": "@jupyter-widgets/controls",
     "model_module_version": "1.5.0",
     "model_name": "ProgressStyleModel",
     "state": {
      "_model_module": "@jupyter-widgets/controls",
      "_model_module_version": "1.5.0",
      "_model_name": "ProgressStyleModel",
      "_view_count": null,
      "_view_module": "@jupyter-widgets/base",
      "_view_module_version": "1.2.0",
      "_view_name": "StyleView",
      "bar_color": null,
      "description_width": ""
     }
    },
    "cc1764e8a0b34409ae297a8faa868a83": {
     "model_module": "@jupyter-widgets/base",
     "model_module_version": "1.2.0",
     "model_name": "LayoutModel",
     "state": {
      "_model_module": "@jupyter-widgets/base",
      "_model_module_version": "1.2.0",
      "_model_name": "LayoutModel",
      "_view_count": null,
      "_view_module": "@jupyter-widgets/base",
      "_view_module_version": "1.2.0",
      "_view_name": "LayoutView",
      "align_content": null,
      "align_items": null,
      "align_self": null,
      "border": null,
      "bottom": null,
      "display": null,
      "flex": null,
      "flex_flow": null,
      "grid_area": null,
      "grid_auto_columns": null,
      "grid_auto_flow": null,
      "grid_auto_rows": null,
      "grid_column": null,
      "grid_gap": null,
      "grid_row": null,
      "grid_template_areas": null,
      "grid_template_columns": null,
      "grid_template_rows": null,
      "height": null,
      "justify_content": null,
      "justify_items": null,
      "left": null,
      "margin": null,
      "max_height": null,
      "max_width": null,
      "min_height": null,
      "min_width": null,
      "object_fit": null,
      "object_position": null,
      "order": null,
      "overflow": null,
      "overflow_x": null,
      "overflow_y": null,
      "padding": null,
      "right": null,
      "top": null,
      "visibility": null,
      "width": null
     }
    },
    "cdcd82b11d194764af868c1cbb200cb0": {
     "model_module": "@jupyter-widgets/controls",
     "model_module_version": "1.5.0",
     "model_name": "DescriptionStyleModel",
     "state": {
      "_model_module": "@jupyter-widgets/controls",
      "_model_module_version": "1.5.0",
      "_model_name": "DescriptionStyleModel",
      "_view_count": null,
      "_view_module": "@jupyter-widgets/base",
      "_view_module_version": "1.2.0",
      "_view_name": "StyleView",
      "description_width": ""
     }
    },
    "d5c33a065d5c41419503a3cc0e7f9f91": {
     "model_module": "@jupyter-widgets/controls",
     "model_module_version": "1.5.0",
     "model_name": "DescriptionStyleModel",
     "state": {
      "_model_module": "@jupyter-widgets/controls",
      "_model_module_version": "1.5.0",
      "_model_name": "DescriptionStyleModel",
      "_view_count": null,
      "_view_module": "@jupyter-widgets/base",
      "_view_module_version": "1.2.0",
      "_view_name": "StyleView",
      "description_width": ""
     }
    },
    "d74cc4e1e425421da70ce82d4af4010e": {
     "model_module": "@jupyter-widgets/base",
     "model_module_version": "1.2.0",
     "model_name": "LayoutModel",
     "state": {
      "_model_module": "@jupyter-widgets/base",
      "_model_module_version": "1.2.0",
      "_model_name": "LayoutModel",
      "_view_count": null,
      "_view_module": "@jupyter-widgets/base",
      "_view_module_version": "1.2.0",
      "_view_name": "LayoutView",
      "align_content": null,
      "align_items": null,
      "align_self": null,
      "border": null,
      "bottom": null,
      "display": null,
      "flex": null,
      "flex_flow": null,
      "grid_area": null,
      "grid_auto_columns": null,
      "grid_auto_flow": null,
      "grid_auto_rows": null,
      "grid_column": null,
      "grid_gap": null,
      "grid_row": null,
      "grid_template_areas": null,
      "grid_template_columns": null,
      "grid_template_rows": null,
      "height": null,
      "justify_content": null,
      "justify_items": null,
      "left": null,
      "margin": null,
      "max_height": null,
      "max_width": null,
      "min_height": null,
      "min_width": null,
      "object_fit": null,
      "object_position": null,
      "order": null,
      "overflow": null,
      "overflow_x": null,
      "overflow_y": null,
      "padding": null,
      "right": null,
      "top": null,
      "visibility": "hidden",
      "width": null
     }
    },
    "da38c3c51d83499284516abf82f42863": {
     "model_module": "@jupyter-widgets/controls",
     "model_module_version": "1.5.0",
     "model_name": "HTMLModel",
     "state": {
      "_dom_classes": [],
      "_model_module": "@jupyter-widgets/controls",
      "_model_module_version": "1.5.0",
      "_model_name": "HTMLModel",
      "_view_count": null,
      "_view_module": "@jupyter-widgets/controls",
      "_view_module_version": "1.5.0",
      "_view_name": "HTMLView",
      "description": "",
      "description_tooltip": null,
      "layout": "IPY_MODEL_9064f11eea2c40eab7d5a4313bf35859",
      "placeholder": "​",
      "style": "IPY_MODEL_d5c33a065d5c41419503a3cc0e7f9f91",
      "value": "Processing:  86%"
     }
    },
    "de49504d9ba242b3aa7813277a22870e": {
     "model_module": "@jupyter-widgets/base",
     "model_module_version": "1.2.0",
     "model_name": "LayoutModel",
     "state": {
      "_model_module": "@jupyter-widgets/base",
      "_model_module_version": "1.2.0",
      "_model_name": "LayoutModel",
      "_view_count": null,
      "_view_module": "@jupyter-widgets/base",
      "_view_module_version": "1.2.0",
      "_view_name": "LayoutView",
      "align_content": null,
      "align_items": null,
      "align_self": null,
      "border": null,
      "bottom": null,
      "display": null,
      "flex": null,
      "flex_flow": null,
      "grid_area": null,
      "grid_auto_columns": null,
      "grid_auto_flow": null,
      "grid_auto_rows": null,
      "grid_column": null,
      "grid_gap": null,
      "grid_row": null,
      "grid_template_areas": null,
      "grid_template_columns": null,
      "grid_template_rows": null,
      "height": null,
      "justify_content": null,
      "justify_items": null,
      "left": null,
      "margin": null,
      "max_height": null,
      "max_width": null,
      "min_height": null,
      "min_width": null,
      "object_fit": null,
      "object_position": null,
      "order": null,
      "overflow": null,
      "overflow_x": null,
      "overflow_y": null,
      "padding": null,
      "right": null,
      "top": null,
      "visibility": null,
      "width": null
     }
    },
    "e4edeb8e2e1e468da72598fac24acdc5": {
     "model_module": "@jupyter-widgets/controls",
     "model_module_version": "1.5.0",
     "model_name": "ProgressStyleModel",
     "state": {
      "_model_module": "@jupyter-widgets/controls",
      "_model_module_version": "1.5.0",
      "_model_name": "ProgressStyleModel",
      "_view_count": null,
      "_view_module": "@jupyter-widgets/base",
      "_view_module_version": "1.2.0",
      "_view_name": "StyleView",
      "bar_color": null,
      "description_width": ""
     }
    },
    "e73747dc9fca47298576fc5833278ee2": {
     "model_module": "@jupyter-widgets/controls",
     "model_module_version": "1.5.0",
     "model_name": "DescriptionStyleModel",
     "state": {
      "_model_module": "@jupyter-widgets/controls",
      "_model_module_version": "1.5.0",
      "_model_name": "DescriptionStyleModel",
      "_view_count": null,
      "_view_module": "@jupyter-widgets/base",
      "_view_module_version": "1.2.0",
      "_view_name": "StyleView",
      "description_width": ""
     }
    },
    "e79a910652cd439da4ca565f5900f886": {
     "model_module": "@jupyter-widgets/controls",
     "model_module_version": "1.5.0",
     "model_name": "HBoxModel",
     "state": {
      "_dom_classes": [],
      "_model_module": "@jupyter-widgets/controls",
      "_model_module_version": "1.5.0",
      "_model_name": "HBoxModel",
      "_view_count": null,
      "_view_module": "@jupyter-widgets/controls",
      "_view_module_version": "1.5.0",
      "_view_name": "HBoxView",
      "box_style": "",
      "children": [
       "IPY_MODEL_da38c3c51d83499284516abf82f42863",
       "IPY_MODEL_83390e9f415945bbb66a43804f29bee0",
       "IPY_MODEL_167ca0581bef43a1b39d2b6c7d07215d"
      ],
      "layout": "IPY_MODEL_a6aafcd17e5c440cbad369de314e78e9"
     }
    },
    "e7e300ae6d524d03ae76926a041689f7": {
     "model_module": "@jupyter-widgets/base",
     "model_module_version": "1.2.0",
     "model_name": "LayoutModel",
     "state": {
      "_model_module": "@jupyter-widgets/base",
      "_model_module_version": "1.2.0",
      "_model_name": "LayoutModel",
      "_view_count": null,
      "_view_module": "@jupyter-widgets/base",
      "_view_module_version": "1.2.0",
      "_view_name": "LayoutView",
      "align_content": null,
      "align_items": null,
      "align_self": null,
      "border": null,
      "bottom": null,
      "display": null,
      "flex": null,
      "flex_flow": null,
      "grid_area": null,
      "grid_auto_columns": null,
      "grid_auto_flow": null,
      "grid_auto_rows": null,
      "grid_column": null,
      "grid_gap": null,
      "grid_row": null,
      "grid_template_areas": null,
      "grid_template_columns": null,
      "grid_template_rows": null,
      "height": null,
      "justify_content": null,
      "justify_items": null,
      "left": null,
      "margin": null,
      "max_height": null,
      "max_width": null,
      "min_height": null,
      "min_width": null,
      "object_fit": null,
      "object_position": null,
      "order": null,
      "overflow": null,
      "overflow_x": null,
      "overflow_y": null,
      "padding": null,
      "right": null,
      "top": null,
      "visibility": null,
      "width": null
     }
    },
    "f16b073aad8641ea95eb6b102fffbbe8": {
     "model_module": "@jupyter-widgets/controls",
     "model_module_version": "1.5.0",
     "model_name": "HTMLModel",
     "state": {
      "_dom_classes": [],
      "_model_module": "@jupyter-widgets/controls",
      "_model_module_version": "1.5.0",
      "_model_name": "HTMLModel",
      "_view_count": null,
      "_view_module": "@jupyter-widgets/controls",
      "_view_module_version": "1.5.0",
      "_view_name": "HTMLView",
      "description": "",
      "description_tooltip": null,
      "layout": "IPY_MODEL_942d3d8b32454cc99931303ec627b3bc",
      "placeholder": "​",
      "style": "IPY_MODEL_61ec74f72fdf4143a0d75d829fe6fc83",
      "value": " 7/7 [00:05&lt;00:00,  1.26it/s]"
     }
    },
    "f82280e82e124298b9b794afff0647b8": {
     "model_module": "@jupyter-widgets/controls",
     "model_module_version": "1.5.0",
     "model_name": "DescriptionStyleModel",
     "state": {
      "_model_module": "@jupyter-widgets/controls",
      "_model_module_version": "1.5.0",
      "_model_name": "DescriptionStyleModel",
      "_view_count": null,
      "_view_module": "@jupyter-widgets/base",
      "_view_module_version": "1.2.0",
      "_view_name": "StyleView",
      "description_width": ""
     }
    },
    "fa77d5f669094e2faf8f8dc9dfd648be": {
     "model_module": "@jupyter-widgets/base",
     "model_module_version": "1.2.0",
     "model_name": "LayoutModel",
     "state": {
      "_model_module": "@jupyter-widgets/base",
      "_model_module_version": "1.2.0",
      "_model_name": "LayoutModel",
      "_view_count": null,
      "_view_module": "@jupyter-widgets/base",
      "_view_module_version": "1.2.0",
      "_view_name": "LayoutView",
      "align_content": null,
      "align_items": null,
      "align_self": null,
      "border": null,
      "bottom": null,
      "display": null,
      "flex": null,
      "flex_flow": null,
      "grid_area": null,
      "grid_auto_columns": null,
      "grid_auto_flow": null,
      "grid_auto_rows": null,
      "grid_column": null,
      "grid_gap": null,
      "grid_row": null,
      "grid_template_areas": null,
      "grid_template_columns": null,
      "grid_template_rows": null,
      "height": null,
      "justify_content": null,
      "justify_items": null,
      "left": null,
      "margin": null,
      "max_height": null,
      "max_width": null,
      "min_height": null,
      "min_width": null,
      "object_fit": null,
      "object_position": null,
      "order": null,
      "overflow": null,
      "overflow_x": null,
      "overflow_y": null,
      "padding": null,
      "right": null,
      "top": null,
      "visibility": null,
      "width": null
     }
    },
    "fbdae5af9f7a44a79d5978b6d7ec7b7e": {
     "model_module": "@jupyter-widgets/base",
     "model_module_version": "1.2.0",
     "model_name": "LayoutModel",
     "state": {
      "_model_module": "@jupyter-widgets/base",
      "_model_module_version": "1.2.0",
      "_model_name": "LayoutModel",
      "_view_count": null,
      "_view_module": "@jupyter-widgets/base",
      "_view_module_version": "1.2.0",
      "_view_name": "LayoutView",
      "align_content": null,
      "align_items": null,
      "align_self": null,
      "border": null,
      "bottom": null,
      "display": null,
      "flex": null,
      "flex_flow": null,
      "grid_area": null,
      "grid_auto_columns": null,
      "grid_auto_flow": null,
      "grid_auto_rows": null,
      "grid_column": null,
      "grid_gap": null,
      "grid_row": null,
      "grid_template_areas": null,
      "grid_template_columns": null,
      "grid_template_rows": null,
      "height": null,
      "justify_content": null,
      "justify_items": null,
      "left": null,
      "margin": null,
      "max_height": null,
      "max_width": null,
      "min_height": null,
      "min_width": null,
      "object_fit": null,
      "object_position": null,
      "order": null,
      "overflow": null,
      "overflow_x": null,
      "overflow_y": null,
      "padding": null,
      "right": null,
      "top": null,
      "visibility": "hidden",
      "width": null
     }
    }
   }
  }
 },
 "nbformat": 4,
 "nbformat_minor": 5
}
