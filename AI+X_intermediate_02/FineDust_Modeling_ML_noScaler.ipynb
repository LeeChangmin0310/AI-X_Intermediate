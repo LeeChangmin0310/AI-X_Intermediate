{
 "cells": [
  {
   "cell_type": "markdown",
   "id": "2072748e",
   "metadata": {
    "id": "2072748e"
   },
   "source": [
    "# 공공데이터를 활용한 미세먼지 농도 예측 프로젝트\n",
    "## 단계2. 모델링(머신러닝)"
   ]
  },
  {
   "cell_type": "markdown",
   "id": "428de2c9",
   "metadata": {
    "id": "428de2c9"
   },
   "source": [
    "## 0.프로젝트 소개\n",
    "\n",
    "### (1) 수행 목표\n",
    "- 미세먼지 농도를 예측하는 머신러닝 모델을 만드세요."
   ]
  },
  {
   "cell_type": "markdown",
   "id": "673a15d8",
   "metadata": {
    "id": "673a15d8"
   },
   "source": [
    "#### 우리가 풀어야 하는 문제는 무엇인가요?\n",
    "* 서울 지역의 미세먼지 데이터와 날씨 데이터를 활용하여,\n",
    "미세먼지 예측에 관련 있는 데이터 항목으로 데이터를 구성, 전처리 하여\n",
    "미세먼지 농도를 예측하는 머신러닝 모델 구현\n"
   ]
  },
  {
   "cell_type": "markdown",
   "id": "69494029",
   "metadata": {
    "id": "69494029"
   },
   "source": [
    "### (2) 데이터 소개\n",
    "\n",
    "#### 1) 기본 데이터\n",
    "\n",
    "* 학습 데이터\n",
    "    * air_2021.csv : 2021년 미세먼지 데이터\n",
    "    * weather_2021.csv : 2021년 날씨 데이터\n",
    "* 테스트 데이터\n",
    "    * air_2022.csv : 2022년 미세먼지 데이터\n",
    "    * weather_2022.csv : 2022년 날씨 데이터\n",
    "\n",
    "#### 2) 데이터셋의 변수 소개(weather_2021)\n",
    "\n",
    "* 증기압: 증기가 고체 또는 액체와 동적 평형 상태에 있을 때 증기의 압력 (증기가 되려는 힘)\n",
    "* 이슬점 온도: 불포화 상태의 공기가 냉각될 때, 포화 상태에 도달하여 수증기의 응결이 시작되는 온도\n",
    "* 일조: 일정한 물체나 땅의 겉면에 태양 광선이 비치는 시간 (1시간 중 비율)\n",
    "* 일사(량): 태양으로부터 오는 태양 복사 에너지가 지표에 닿는 양 (면적당 에너지 량)\n",
    "* 전운량: 하늘을 육안으로 관측하여 전부 구름일 때 10, 구름이 덮고 있는 하늘의 비율에 따라 0~10\n",
    "* 중하층운량: 중층과 하층에 있는 구름의 분포량(중하층 구름이 날씨에 영향 주므로 따로 표기)\n",
    "* 운형(운형약어): 구름의 종류. 약어 코드로 기재됨\n",
    "* 최저운고: 가장 낮은 구름의 높이\n",
    "* 현상번호(국내식): 비, 소낙비, 싸락눈, 눈보라 등의 기상현상을 나타낸 코드번호\n",
    "* 지면온도: 지면 0cm 온도\n",
    "* 지중온도: 땅 속 온도변수1"
   ]
  },
  {
   "cell_type": "markdown",
   "id": "bc18a997",
   "metadata": {
    "id": "bc18a997"
   },
   "source": [
    "#### 2) 라이브러리 로딩"
   ]
  },
  {
   "cell_type": "code",
   "execution_count": 3,
   "id": "efficient-minutes",
   "metadata": {
    "executionInfo": {
     "elapsed": 4463,
     "status": "ok",
     "timestamp": 1730724723738,
     "user": {
      "displayName": "이창민",
      "userId": "14847847938142148141"
     },
     "user_tz": -540
    },
    "id": "efficient-minutes",
    "tags": []
   },
   "outputs": [],
   "source": [
    "import pickle\n",
    "import numpy as np\n",
    "import pandas as pd\n",
    "import seaborn as sns\n",
    "import matplotlib.pyplot as plt\n",
    "\n",
    "from pycaret.regression import *\n",
    "\n",
    "from sklearn.ensemble import StackingRegressor\n",
    "from sklearn.linear_model import LinearRegression\n",
    "from sklearn.model_selection import train_test_split\n",
    "from sklearn.metrics import r2_score, mean_squared_error"
   ]
  },
  {
   "cell_type": "markdown",
   "id": "68991fae",
   "metadata": {
    "id": "68991fae"
   },
   "source": [
    "# MicroDust Predictor class"
   ]
  },
  {
   "cell_type": "code",
   "execution_count": 4,
   "id": "30b7dcc1",
   "metadata": {
    "executionInfo": {
     "elapsed": 4,
     "status": "ok",
     "timestamp": 1730724723738,
     "user": {
      "displayName": "이창민",
      "userId": "14847847938142148141"
     },
     "user_tz": -540
    },
    "id": "30b7dcc1"
   },
   "outputs": [],
   "source": [
    "class FineDustPredictor:\n",
    "    def __init__(self, train_x_path, train_y_path, test_x_path, test_y_path):\n",
    "        self.train_x = pd.read_csv(train_x_path)\n",
    "        self.train_y = pd.read_csv(train_y_path)\n",
    "        self.test_x = pd.read_csv(test_x_path)\n",
    "        self.test_y = pd.read_csv(test_y_path)\n",
    "        self.tuned_models = []\n",
    "        self.results = {}\n",
    "        self.pre_tuning_results = {}\n",
    "\n",
    "    def normalize_data(self):\n",
    "        \"\"\"Normalize the training and testing datasets.\"\"\"\n",
    "        # self.train_x = pd.DataFrame(self.scaler.fit_transform(self.train_x), columns=self.train_x.columns)\n",
    "        # self.test_x = pd.DataFrame(self.scaler.transform(self.test_x), columns=self.test_x.columns)\n",
    "\n",
    "    def setup_autoML(self):\n",
    "        \"\"\"Set up PyCaret for AutoML and compare models.\"\"\"\n",
    "        self.data = pd.concat([self.train_x, self.train_y], axis=1)\n",
    "        setup(data=self.data, target=self.train_y.columns[0], session_id=42, use_gpu=True)\n",
    "\n",
    "    def compare_models(self):\n",
    "        \"\"\"Compare models based on R2 score and return top 5 models.\"\"\"\n",
    "        self.best_models = compare_models(sort='R2', n_select=5)\n",
    "        return self.best_models\n",
    "\n",
    "    def evaluate_models(self, models, results_dict):\n",
    "        \"\"\"Evaluate the given models on the test dataset and store results.\"\"\"\n",
    "        for model in models:\n",
    "            # Make predictions\n",
    "            predictions = predict_model(model, data=self.test_x)\n",
    "            # print(predictions.columns)\n",
    "\n",
    "            # Use the 'Label' column for predicted values\n",
    "            pred = predictions['prediction_label']\n",
    "\n",
    "            # Calculate performance metrics using test_y['PM10_1'] for actual values\n",
    "            r2 = r2_score(self.test_y['PM10_1'], pred)\n",
    "            mse = mean_squared_error(self.test_y['PM10_1'], pred)\n",
    "            model_name = str(model).split('(')[0]  # Extract model name\n",
    "            results_dict[model_name] = {'R2 Score': r2, 'MSE': mse}\n",
    "\n",
    "    def stack_models(self):\n",
    "        \"\"\"Stack tuned models and evaluate performance.\"\"\"\n",
    "        # Prepare base model predictions\n",
    "        X_meta = []\n",
    "        y_meta = self.train_y['PM10_1']\n",
    "\n",
    "        for model in self.tuned_models:\n",
    "            train_predictions = predict_model(model, data=self.train_x)['prediction_label']\n",
    "            X_meta.append(train_predictions)\n",
    "\n",
    "        X_meta = np.array(X_meta).T\n",
    "\n",
    "        # Split into training and validation sets for stacking\n",
    "        X_train_meta, X_val_meta, y_train_meta, y_val_meta = train_test_split(X_meta, y_meta, test_size=0.2, random_state=42)\n",
    "\n",
    "        # Define the stacking model\n",
    "        stacker = StackingRegressor(\n",
    "            estimators=[(str(model).split('(')[0], model) for model in self.tuned_models],\n",
    "            final_estimator=LinearRegression(),\n",
    "            cv=5\n",
    "        )\n",
    "\n",
    "        # Train the stacking model\n",
    "        stacker.fit(X_train_meta, y_train_meta)\n",
    "\n",
    "        # Make predictions\n",
    "        predictions = stacker.predict(X_val_meta)\n",
    "\n",
    "        # Evaluate the stacking model\n",
    "        r2 = r2_score(y_val_meta, predictions)\n",
    "        mse = mean_squared_error(y_val_meta, predictions)\n",
    "\n",
    "        # Store the stacking results\n",
    "        self.results['Stacked Model'] = {'R2 Score': r2, 'MSE': mse}\n",
    "        print(f'Stacked Model - R2 Score: {r2:.4f}, MSE: {mse:.4f}')\n",
    "\n",
    "    def tune_and_save_models(self):\n",
    "        \"\"\"Tune hyperparameters for each of the top models and save them.\"\"\"\n",
    "        for model in self.best_models:\n",
    "            # Save performance metrics before tuning\n",
    "            self.pre_tuning_results[str(model).split('(')[0]] = {}\n",
    "\n",
    "            # Evaluate model before tuning\n",
    "            self.evaluate_models([model], self.pre_tuning_results)\n",
    "\n",
    "            tuned_model = tune_model(model, optimize='R2')\n",
    "            self.tuned_models.append(tuned_model)\n",
    "\n",
    "            # Save original model\n",
    "            model_name = str(model).split('(')[0]  # Extract model name\n",
    "            with open(f'./models/model_{model_name}.pkl', 'wb') as f:\n",
    "                pickle.dump(model, f)\n",
    "\n",
    "            # Save tuned model\n",
    "            with open(f'./models/tuned_model_{model_name}.pkl', 'wb') as f:\n",
    "                pickle.dump(tuned_model, f)\n",
    "\n",
    "            # Evaluate tuned model\n",
    "            self.evaluate_models([tuned_model], self.results)\n",
    "\n",
    "        # Call the stacking method after tuning models\n",
    "        self.stack_models()\n",
    "\n",
    "    def display_results(self):\n",
    "        \"\"\"Display the evaluation results of the models in a formatted way and visualize them.\"\"\"\n",
    "        # Prepare data for visualization\n",
    "        pre_tuning_df = pd.DataFrame.from_dict(self.pre_tuning_results, orient='index').reset_index()\n",
    "        pre_tuning_df.rename(columns={'index': 'Model Name'}, inplace=True)\n",
    "        pre_tuning_df['Stage'] = 'Before Tuning'\n",
    "\n",
    "        post_tuning_df = pd.DataFrame.from_dict(self.results, orient='index').reset_index()\n",
    "        post_tuning_df.rename(columns={'index': 'Model Name'}, inplace=True)\n",
    "        post_tuning_df['Stage'] = 'After Tuning'\n",
    "\n",
    "        # Combine dataframes for visualization\n",
    "        comparison_df = pd.concat([pre_tuning_df, post_tuning_df], ignore_index=True)\n",
    "\n",
    "        # Set up the matplotlib figure with larger size and style\n",
    "        plt.figure(figsize=(16, 8))\n",
    "        sns.set_style(\"whitegrid\")\n",
    "\n",
    "        # Create bar plots for R2 Score\n",
    "        plt.subplot(1, 2, 1)\n",
    "        r2_plot = sns.barplot(data=comparison_df, x='Model Name', y='R2 Score', hue='Stage', palette='Set2')\n",
    "        plt.title('R2 Score Comparison', fontsize=16)\n",
    "        plt.xticks(rotation=45)\n",
    "        plt.ylabel('R2 Score', fontsize=14)\n",
    "        plt.xlabel('Model Name', fontsize=14)\n",
    "        for p in r2_plot.patches:\n",
    "            r2_plot.annotate(f'{p.get_height():.2f}', (p.get_x() + p.get_width() / 2., p.get_height()),\n",
    "                            ha='center', va='bottom', fontsize=12)\n",
    "\n",
    "        # Create bar plots for MSE\n",
    "        plt.subplot(1, 2, 2)\n",
    "        mse_plot = sns.barplot(data=comparison_df, x='Model Name', y='MSE', hue='Stage', palette='Set2')\n",
    "        plt.title('MSE Comparison', fontsize=16)\n",
    "        plt.xticks(rotation=45)\n",
    "        plt.ylabel('Mean Squared Error', fontsize=14)\n",
    "        plt.xlabel('Model Name', fontsize=14)\n",
    "        for p in mse_plot.patches:\n",
    "            mse_plot.annotate(f'{p.get_height():.2f}', (p.get_x() + p.get_width() / 2., p.get_height()),\n",
    "                            ha='center', va='bottom', fontsize=12)\n",
    "\n",
    "        plt.tight_layout()\n",
    "        plt.show()\n",
    "\n",
    "        # Print results in text format with improved formatting\n",
    "        print(\"\\nModel Evaluation Results Before Tuning:\")\n",
    "        print(f\"{'Model Name':<30} {'R2 Score':<15} {'MSE':<15}\")\n",
    "        print(\"-\" * 60)\n",
    "        for model_name, metrics in self.pre_tuning_results.items():\n",
    "            print(f\"{model_name:<30} {metrics['R2 Score']:<15.4f} {metrics['MSE']:<15.4f}\")\n",
    "\n",
    "        print(\"\\nModel Evaluation Results After Tuning:\")\n",
    "        print(f\"{'Model Name':<30} {'R2 Score':<15} {'MSE':<15}\")\n",
    "        print(\"-\" * 60)\n",
    "        for model_name, metrics in self.results.items():\n",
    "            print(f\"{model_name:<30} {metrics['R2 Score']:<15.4f} {metrics['MSE']:<15.4f}\")\n"
   ]
  },
  {
   "cell_type": "markdown",
   "id": "20aaca37-89d7-4045-affa-5a510c69495e",
   "metadata": {
    "id": "20aaca37-89d7-4045-affa-5a510c69495e",
    "tags": []
   },
   "source": [
    "# [Step 3] 머신러닝 모델링 1"
   ]
  },
  {
   "cell_type": "markdown",
   "id": "1a3f4996-4681-4eae-b839-8ad6267387ae",
   "metadata": {
    "id": "1a3f4996-4681-4eae-b839-8ad6267387ae",
    "tags": []
   },
   "source": [
    "#### **<span style=\"color:blue\">[3-1] 학습 및 테스트 데이터 로딩</span>**"
   ]
  },
  {
   "cell_type": "code",
   "execution_count": 5,
   "id": "changed-arrangement",
   "metadata": {
    "executionInfo": {
     "elapsed": 1005,
     "status": "ok",
     "timestamp": 1730724724740,
     "user": {
      "displayName": "이창민",
      "userId": "14847847938142148141"
     },
     "user_tz": -540
    },
    "id": "changed-arrangement",
    "scrolled": true
   },
   "outputs": [],
   "source": [
    "predictor = FineDustPredictor(\n",
    "    train_x_path='./data/train_x.csv',\n",
    "    train_y_path='./data/train_y.csv',\n",
    "    test_x_path='./data/test_x.csv',\n",
    "    test_y_path='./data/test_y.csv'\n",
    ")"
   ]
  },
  {
   "cell_type": "code",
   "execution_count": 6,
   "id": "73a215dc",
   "metadata": {
    "executionInfo": {
     "elapsed": 2,
     "status": "ok",
     "timestamp": 1730724724740,
     "user": {
      "displayName": "이창민",
      "userId": "14847847938142148141"
     },
     "user_tz": -540
    },
    "id": "73a215dc"
   },
   "outputs": [],
   "source": [
    "\n",
    "predictor.normalize_data()"
   ]
  },
  {
   "cell_type": "markdown",
   "id": "2084ca1a",
   "metadata": {
    "id": "2084ca1a"
   },
   "source": [
    "---"
   ]
  },
  {
   "cell_type": "markdown",
   "id": "66dca0e8-a0d1-4562-8afe-3e8f85733393",
   "metadata": {
    "id": "66dca0e8-a0d1-4562-8afe-3e8f85733393",
    "tags": []
   },
   "source": [
    "#### **<span style=\"color:blue\">[3-2] 모델링 </span>**"
   ]
  },
  {
   "cell_type": "markdown",
   "id": "44e1265e-939a-41d6-87cd-98211da2b7d1",
   "metadata": {
    "id": "44e1265e-939a-41d6-87cd-98211da2b7d1",
    "tags": []
   },
   "source": [
    "# [Step 4, 5, 6] AutoML을 통한 머신러닝 모델링 및 상위 3개 모델에 대한 Hyperparameter tuning"
   ]
  },
  {
   "cell_type": "code",
   "execution_count": 7,
   "id": "guilty-score",
   "metadata": {
    "colab": {
     "base_uri": "https://localhost:8080/",
     "height": 1000
    },
    "executionInfo": {
     "elapsed": 5273,
     "status": "ok",
     "timestamp": 1730724730011,
     "user": {
      "displayName": "이창민",
      "userId": "14847847938142148141"
     },
     "user_tz": -540
    },
    "id": "guilty-score",
    "outputId": "3c68894c-7a6a-415c-96cf-2028f3754098"
   },
   "outputs": [
    {
     "name": "stdout",
     "output_type": "stream",
     "text": [
      "[LightGBM] [Warning] There are no meaningful features which satisfy the provided configuration. Decreasing Dataset parameters min_data_in_bin or min_data_in_leaf and re-constructing Dataset might resolve this warning.\n",
      "[LightGBM] [Info] This is the GPU trainer!!\n",
      "[LightGBM] [Info] Total Bins 0\n",
      "[LightGBM] [Info] Number of data points in the train set: 2, number of used features: 0\n",
      "[LightGBM] [Warning] There are no meaningful features which satisfy the provided configuration. Decreasing Dataset parameters min_data_in_bin or min_data_in_leaf and re-constructing Dataset might resolve this warning.\n",
      "[LightGBM] [Warning] Using sparse features with CUDA is currently not supported.\n",
      "[LightGBM] [Warning] There are no meaningful features which satisfy the provided configuration. Decreasing Dataset parameters min_data_in_bin or min_data_in_leaf and re-constructing Dataset might resolve this warning.\n",
      "[LightGBM] [Info] This is the GPU trainer!!\n",
      "[LightGBM] [Info] Total Bins 0\n",
      "[LightGBM] [Info] Number of data points in the train set: 2, number of used features: 0\n",
      "[LightGBM] [Warning] There are no meaningful features which satisfy the provided configuration. Decreasing Dataset parameters min_data_in_bin or min_data_in_leaf and re-constructing Dataset might resolve this warning.\n",
      "[LightGBM] [Warning] Using sparse features with CUDA is currently not supported.\n",
      "[LightGBM] [Warning] There are no meaningful features which satisfy the provided configuration. Decreasing Dataset parameters min_data_in_bin or min_data_in_leaf and re-constructing Dataset might resolve this warning.\n",
      "[LightGBM] [Info] This is the GPU trainer!!\n",
      "[LightGBM] [Info] Total Bins 0\n",
      "[LightGBM] [Info] Number of data points in the train set: 2, number of used features: 0\n",
      "[LightGBM] [Warning] There are no meaningful features which satisfy the provided configuration. Decreasing Dataset parameters min_data_in_bin or min_data_in_leaf and re-constructing Dataset might resolve this warning.\n",
      "[LightGBM] [Warning] Using sparse features with CUDA is currently not supported.\n",
      "[LightGBM] [Warning] There are no meaningful features which satisfy the provided configuration. Decreasing Dataset parameters min_data_in_bin or min_data_in_leaf and re-constructing Dataset might resolve this warning.\n",
      "[LightGBM] [Info] This is the GPU trainer!!\n",
      "[LightGBM] [Info] Total Bins 0\n",
      "[LightGBM] [Info] Number of data points in the train set: 2, number of used features: 0\n",
      "[LightGBM] [Warning] There are no meaningful features which satisfy the provided configuration. Decreasing Dataset parameters min_data_in_bin or min_data_in_leaf and re-constructing Dataset might resolve this warning.\n",
      "[LightGBM] [Warning] Using sparse features with CUDA is currently not supported.\n",
      "[LightGBM] [Warning] There are no meaningful features which satisfy the provided configuration. Decreasing Dataset parameters min_data_in_bin or min_data_in_leaf and re-constructing Dataset might resolve this warning.\n",
      "[LightGBM] [Info] This is the GPU trainer!!\n",
      "[LightGBM] [Info] Total Bins 0\n",
      "[LightGBM] [Info] Number of data points in the train set: 2, number of used features: 0\n",
      "[LightGBM] [Warning] There are no meaningful features which satisfy the provided configuration. Decreasing Dataset parameters min_data_in_bin or min_data_in_leaf and re-constructing Dataset might resolve this warning.\n",
      "[LightGBM] [Warning] Using sparse features with CUDA is currently not supported.\n",
      "[LightGBM] [Warning] There are no meaningful features which satisfy the provided configuration. Decreasing Dataset parameters min_data_in_bin or min_data_in_leaf and re-constructing Dataset might resolve this warning.\n",
      "[LightGBM] [Info] This is the GPU trainer!!\n",
      "[LightGBM] [Info] Total Bins 0\n",
      "[LightGBM] [Info] Number of data points in the train set: 2, number of used features: 0\n",
      "[LightGBM] [Warning] There are no meaningful features which satisfy the provided configuration. Decreasing Dataset parameters min_data_in_bin or min_data_in_leaf and re-constructing Dataset might resolve this warning.\n",
      "[LightGBM] [Warning] Using sparse features with CUDA is currently not supported.\n",
      "[LightGBM] [Warning] There are no meaningful features which satisfy the provided configuration. Decreasing Dataset parameters min_data_in_bin or min_data_in_leaf and re-constructing Dataset might resolve this warning.\n",
      "[LightGBM] [Info] This is the GPU trainer!!\n",
      "[LightGBM] [Info] Total Bins 0\n",
      "[LightGBM] [Info] Number of data points in the train set: 2, number of used features: 0\n",
      "[LightGBM] [Warning] There are no meaningful features which satisfy the provided configuration. Decreasing Dataset parameters min_data_in_bin or min_data_in_leaf and re-constructing Dataset might resolve this warning.\n",
      "[LightGBM] [Warning] Using sparse features with CUDA is currently not supported.\n",
      "[LightGBM] [Warning] There are no meaningful features which satisfy the provided configuration. Decreasing Dataset parameters min_data_in_bin or min_data_in_leaf and re-constructing Dataset might resolve this warning.\n",
      "[LightGBM] [Info] This is the GPU trainer!!\n",
      "[LightGBM] [Info] Total Bins 0\n",
      "[LightGBM] [Info] Number of data points in the train set: 2, number of used features: 0\n",
      "[LightGBM] [Warning] There are no meaningful features which satisfy the provided configuration. Decreasing Dataset parameters min_data_in_bin or min_data_in_leaf and re-constructing Dataset might resolve this warning.\n",
      "[LightGBM] [Warning] Using sparse features with CUDA is currently not supported.\n",
      "[LightGBM] [Warning] There are no meaningful features which satisfy the provided configuration. Decreasing Dataset parameters min_data_in_bin or min_data_in_leaf and re-constructing Dataset might resolve this warning.\n",
      "[LightGBM] [Info] This is the GPU trainer!!\n",
      "[LightGBM] [Info] Total Bins 0\n",
      "[LightGBM] [Info] Number of data points in the train set: 2, number of used features: 0\n",
      "[LightGBM] [Warning] There are no meaningful features which satisfy the provided configuration. Decreasing Dataset parameters min_data_in_bin or min_data_in_leaf and re-constructing Dataset might resolve this warning.\n",
      "[LightGBM] [Warning] Using sparse features with CUDA is currently not supported.\n",
      "[LightGBM] [Warning] There are no meaningful features which satisfy the provided configuration. Decreasing Dataset parameters min_data_in_bin or min_data_in_leaf and re-constructing Dataset might resolve this warning.\n",
      "[LightGBM] [Info] This is the GPU trainer!!\n",
      "[LightGBM] [Info] Total Bins 0\n",
      "[LightGBM] [Info] Number of data points in the train set: 2, number of used features: 0\n",
      "[LightGBM] [Warning] There are no meaningful features which satisfy the provided configuration. Decreasing Dataset parameters min_data_in_bin or min_data_in_leaf and re-constructing Dataset might resolve this warning.\n",
      "[LightGBM] [Warning] Using sparse features with CUDA is currently not supported.\n",
      "[LightGBM] [Warning] There are no meaningful features which satisfy the provided configuration. Decreasing Dataset parameters min_data_in_bin or min_data_in_leaf and re-constructing Dataset might resolve this warning.\n",
      "[LightGBM] [Info] This is the GPU trainer!!\n",
      "[LightGBM] [Info] Total Bins 0\n",
      "[LightGBM] [Info] Number of data points in the train set: 2, number of used features: 0\n",
      "[LightGBM] [Warning] There are no meaningful features which satisfy the provided configuration. Decreasing Dataset parameters min_data_in_bin or min_data_in_leaf and re-constructing Dataset might resolve this warning.\n",
      "[LightGBM] [Warning] Using sparse features with CUDA is currently not supported.\n",
      "[LightGBM] [Warning] There are no meaningful features which satisfy the provided configuration. Decreasing Dataset parameters min_data_in_bin or min_data_in_leaf and re-constructing Dataset might resolve this warning.\n",
      "[LightGBM] [Info] This is the GPU trainer!!\n",
      "[LightGBM] [Info] Total Bins 0\n",
      "[LightGBM] [Info] Number of data points in the train set: 2, number of used features: 0\n",
      "[LightGBM] [Warning] There are no meaningful features which satisfy the provided configuration. Decreasing Dataset parameters min_data_in_bin or min_data_in_leaf and re-constructing Dataset might resolve this warning.\n",
      "[LightGBM] [Warning] Using sparse features with CUDA is currently not supported.\n"
     ]
    },
    {
     "data": {
      "text/html": [
       "<style type=\"text/css\">\n",
       "#T_51348_row8_col1, #T_51348_row15_col1 {\n",
       "  background-color: lightgreen;\n",
       "}\n",
       "</style>\n",
       "<table id=\"T_51348\" class=\"dataframe\">\n",
       "  <thead>\n",
       "    <tr>\n",
       "      <th class=\"blank level0\" >&nbsp;</th>\n",
       "      <th id=\"T_51348_level0_col0\" class=\"col_heading level0 col0\" >Description</th>\n",
       "      <th id=\"T_51348_level0_col1\" class=\"col_heading level0 col1\" >Value</th>\n",
       "    </tr>\n",
       "  </thead>\n",
       "  <tbody>\n",
       "    <tr>\n",
       "      <th id=\"T_51348_level0_row0\" class=\"row_heading level0 row0\" >0</th>\n",
       "      <td id=\"T_51348_row0_col0\" class=\"data row0 col0\" >Session id</td>\n",
       "      <td id=\"T_51348_row0_col1\" class=\"data row0 col1\" >42</td>\n",
       "    </tr>\n",
       "    <tr>\n",
       "      <th id=\"T_51348_level0_row1\" class=\"row_heading level0 row1\" >1</th>\n",
       "      <td id=\"T_51348_row1_col0\" class=\"data row1 col0\" >Target</td>\n",
       "      <td id=\"T_51348_row1_col1\" class=\"data row1 col1\" >PM10_1</td>\n",
       "    </tr>\n",
       "    <tr>\n",
       "      <th id=\"T_51348_level0_row2\" class=\"row_heading level0 row2\" >2</th>\n",
       "      <td id=\"T_51348_row2_col0\" class=\"data row2 col0\" >Target type</td>\n",
       "      <td id=\"T_51348_row2_col1\" class=\"data row2 col1\" >Regression</td>\n",
       "    </tr>\n",
       "    <tr>\n",
       "      <th id=\"T_51348_level0_row3\" class=\"row_heading level0 row3\" >3</th>\n",
       "      <td id=\"T_51348_row3_col0\" class=\"data row3 col0\" >Original data shape</td>\n",
       "      <td id=\"T_51348_row3_col1\" class=\"data row3 col1\" >(8432, 27)</td>\n",
       "    </tr>\n",
       "    <tr>\n",
       "      <th id=\"T_51348_level0_row4\" class=\"row_heading level0 row4\" >4</th>\n",
       "      <td id=\"T_51348_row4_col0\" class=\"data row4 col0\" >Transformed data shape</td>\n",
       "      <td id=\"T_51348_row4_col1\" class=\"data row4 col1\" >(8432, 27)</td>\n",
       "    </tr>\n",
       "    <tr>\n",
       "      <th id=\"T_51348_level0_row5\" class=\"row_heading level0 row5\" >5</th>\n",
       "      <td id=\"T_51348_row5_col0\" class=\"data row5 col0\" >Transformed train set shape</td>\n",
       "      <td id=\"T_51348_row5_col1\" class=\"data row5 col1\" >(5902, 27)</td>\n",
       "    </tr>\n",
       "    <tr>\n",
       "      <th id=\"T_51348_level0_row6\" class=\"row_heading level0 row6\" >6</th>\n",
       "      <td id=\"T_51348_row6_col0\" class=\"data row6 col0\" >Transformed test set shape</td>\n",
       "      <td id=\"T_51348_row6_col1\" class=\"data row6 col1\" >(2530, 27)</td>\n",
       "    </tr>\n",
       "    <tr>\n",
       "      <th id=\"T_51348_level0_row7\" class=\"row_heading level0 row7\" >7</th>\n",
       "      <td id=\"T_51348_row7_col0\" class=\"data row7 col0\" >Numeric features</td>\n",
       "      <td id=\"T_51348_row7_col1\" class=\"data row7 col1\" >26</td>\n",
       "    </tr>\n",
       "    <tr>\n",
       "      <th id=\"T_51348_level0_row8\" class=\"row_heading level0 row8\" >8</th>\n",
       "      <td id=\"T_51348_row8_col0\" class=\"data row8 col0\" >Preprocess</td>\n",
       "      <td id=\"T_51348_row8_col1\" class=\"data row8 col1\" >True</td>\n",
       "    </tr>\n",
       "    <tr>\n",
       "      <th id=\"T_51348_level0_row9\" class=\"row_heading level0 row9\" >9</th>\n",
       "      <td id=\"T_51348_row9_col0\" class=\"data row9 col0\" >Imputation type</td>\n",
       "      <td id=\"T_51348_row9_col1\" class=\"data row9 col1\" >simple</td>\n",
       "    </tr>\n",
       "    <tr>\n",
       "      <th id=\"T_51348_level0_row10\" class=\"row_heading level0 row10\" >10</th>\n",
       "      <td id=\"T_51348_row10_col0\" class=\"data row10 col0\" >Numeric imputation</td>\n",
       "      <td id=\"T_51348_row10_col1\" class=\"data row10 col1\" >mean</td>\n",
       "    </tr>\n",
       "    <tr>\n",
       "      <th id=\"T_51348_level0_row11\" class=\"row_heading level0 row11\" >11</th>\n",
       "      <td id=\"T_51348_row11_col0\" class=\"data row11 col0\" >Categorical imputation</td>\n",
       "      <td id=\"T_51348_row11_col1\" class=\"data row11 col1\" >mode</td>\n",
       "    </tr>\n",
       "    <tr>\n",
       "      <th id=\"T_51348_level0_row12\" class=\"row_heading level0 row12\" >12</th>\n",
       "      <td id=\"T_51348_row12_col0\" class=\"data row12 col0\" >Fold Generator</td>\n",
       "      <td id=\"T_51348_row12_col1\" class=\"data row12 col1\" >KFold</td>\n",
       "    </tr>\n",
       "    <tr>\n",
       "      <th id=\"T_51348_level0_row13\" class=\"row_heading level0 row13\" >13</th>\n",
       "      <td id=\"T_51348_row13_col0\" class=\"data row13 col0\" >Fold Number</td>\n",
       "      <td id=\"T_51348_row13_col1\" class=\"data row13 col1\" >10</td>\n",
       "    </tr>\n",
       "    <tr>\n",
       "      <th id=\"T_51348_level0_row14\" class=\"row_heading level0 row14\" >14</th>\n",
       "      <td id=\"T_51348_row14_col0\" class=\"data row14 col0\" >CPU Jobs</td>\n",
       "      <td id=\"T_51348_row14_col1\" class=\"data row14 col1\" >-1</td>\n",
       "    </tr>\n",
       "    <tr>\n",
       "      <th id=\"T_51348_level0_row15\" class=\"row_heading level0 row15\" >15</th>\n",
       "      <td id=\"T_51348_row15_col0\" class=\"data row15 col0\" >Use GPU</td>\n",
       "      <td id=\"T_51348_row15_col1\" class=\"data row15 col1\" >True</td>\n",
       "    </tr>\n",
       "    <tr>\n",
       "      <th id=\"T_51348_level0_row16\" class=\"row_heading level0 row16\" >16</th>\n",
       "      <td id=\"T_51348_row16_col0\" class=\"data row16 col0\" >Log Experiment</td>\n",
       "      <td id=\"T_51348_row16_col1\" class=\"data row16 col1\" >False</td>\n",
       "    </tr>\n",
       "    <tr>\n",
       "      <th id=\"T_51348_level0_row17\" class=\"row_heading level0 row17\" >17</th>\n",
       "      <td id=\"T_51348_row17_col0\" class=\"data row17 col0\" >Experiment Name</td>\n",
       "      <td id=\"T_51348_row17_col1\" class=\"data row17 col1\" >reg-default-name</td>\n",
       "    </tr>\n",
       "    <tr>\n",
       "      <th id=\"T_51348_level0_row18\" class=\"row_heading level0 row18\" >18</th>\n",
       "      <td id=\"T_51348_row18_col0\" class=\"data row18 col0\" >USI</td>\n",
       "      <td id=\"T_51348_row18_col1\" class=\"data row18 col1\" >6d4f</td>\n",
       "    </tr>\n",
       "  </tbody>\n",
       "</table>\n"
      ],
      "text/plain": [
       "<pandas.io.formats.style.Styler at 0x7f50f0bab3a0>"
      ]
     },
     "metadata": {},
     "output_type": "display_data"
    },
    {
     "name": "stdout",
     "output_type": "stream",
     "text": [
      "[LightGBM] [Warning] There are no meaningful features which satisfy the provided configuration. Decreasing Dataset parameters min_data_in_bin or min_data_in_leaf and re-constructing Dataset might resolve this warning.\n",
      "[LightGBM] [Info] This is the GPU trainer!!\n",
      "[LightGBM] [Info] Total Bins 0\n",
      "[LightGBM] [Info] Number of data points in the train set: 2, number of used features: 0\n",
      "[LightGBM] [Warning] There are no meaningful features which satisfy the provided configuration. Decreasing Dataset parameters min_data_in_bin or min_data_in_leaf and re-constructing Dataset might resolve this warning.\n",
      "[LightGBM] [Warning] Using sparse features with CUDA is currently not supported.\n",
      "[LightGBM] [Warning] There are no meaningful features which satisfy the provided configuration. Decreasing Dataset parameters min_data_in_bin or min_data_in_leaf and re-constructing Dataset might resolve this warning.\n",
      "[LightGBM] [Info] This is the GPU trainer!!\n",
      "[LightGBM] [Info] Total Bins 0\n",
      "[LightGBM] [Info] Number of data points in the train set: 2, number of used features: 0\n",
      "[LightGBM] [Warning] There are no meaningful features which satisfy the provided configuration. Decreasing Dataset parameters min_data_in_bin or min_data_in_leaf and re-constructing Dataset might resolve this warning.\n",
      "[LightGBM] [Warning] Using sparse features with CUDA is currently not supported.\n"
     ]
    }
   ],
   "source": [
    "predictor.setup_autoML()"
   ]
  },
  {
   "cell_type": "code",
   "execution_count": 8,
   "id": "9ce45d0c",
   "metadata": {
    "colab": {
     "base_uri": "https://localhost:8080/",
     "height": 680,
     "referenced_widgets": [
      "782434b1e31f4d86a180b71f83c04d40",
      "80d0ab0de0514702b77d3703c93d7ab5",
      "69e6b210db7745af89742d3750f6409a",
      "4e73db2f1b134dc38482d696e88c8835",
      "5e20d8e5a60948f19185c6cf4053efb6",
      "7c4fbb5ca8a747468ebe271ea415792b",
      "eff6845215604f80b6837bec4ed764b1",
      "fd6a89082d9f4577b7e77dd44e1b77c7",
      "6258bee3bd674e3192001b38af500852",
      "d7124e12c1e5475386f223a8090ae72a",
      "76276a0d9f8c456ea60b5f79e49873ca"
     ]
    },
    "executionInfo": {
     "elapsed": 64731,
     "status": "ok",
     "timestamp": 1730724794738,
     "user": {
      "displayName": "이창민",
      "userId": "14847847938142148141"
     },
     "user_tz": -540
    },
    "id": "9ce45d0c",
    "outputId": "0d0883d0-4adc-4b95-abd1-7063d6099408"
   },
   "outputs": [
    {
     "data": {
      "text/html": [],
      "text/plain": [
       "<IPython.core.display.HTML object>"
      ]
     },
     "metadata": {},
     "output_type": "display_data"
    },
    {
     "data": {
      "text/html": [
       "<style type=\"text/css\">\n",
       "#T_c7fd0 th {\n",
       "  text-align: left;\n",
       "}\n",
       "#T_c7fd0_row0_col0, #T_c7fd0_row0_col1, #T_c7fd0_row0_col2, #T_c7fd0_row0_col5, #T_c7fd0_row0_col6, #T_c7fd0_row1_col0, #T_c7fd0_row1_col1, #T_c7fd0_row1_col3, #T_c7fd0_row1_col4, #T_c7fd0_row2_col0, #T_c7fd0_row2_col2, #T_c7fd0_row2_col3, #T_c7fd0_row2_col4, #T_c7fd0_row2_col5, #T_c7fd0_row2_col6, #T_c7fd0_row3_col0, #T_c7fd0_row3_col1, #T_c7fd0_row3_col2, #T_c7fd0_row3_col3, #T_c7fd0_row3_col4, #T_c7fd0_row3_col5, #T_c7fd0_row3_col6, #T_c7fd0_row4_col0, #T_c7fd0_row4_col1, #T_c7fd0_row4_col2, #T_c7fd0_row4_col3, #T_c7fd0_row4_col4, #T_c7fd0_row4_col5, #T_c7fd0_row4_col6, #T_c7fd0_row5_col0, #T_c7fd0_row5_col1, #T_c7fd0_row5_col2, #T_c7fd0_row5_col3, #T_c7fd0_row5_col4, #T_c7fd0_row5_col5, #T_c7fd0_row5_col6, #T_c7fd0_row6_col0, #T_c7fd0_row6_col1, #T_c7fd0_row6_col2, #T_c7fd0_row6_col3, #T_c7fd0_row6_col4, #T_c7fd0_row6_col5, #T_c7fd0_row6_col6, #T_c7fd0_row7_col0, #T_c7fd0_row7_col1, #T_c7fd0_row7_col2, #T_c7fd0_row7_col3, #T_c7fd0_row7_col4, #T_c7fd0_row7_col5, #T_c7fd0_row7_col6, #T_c7fd0_row8_col0, #T_c7fd0_row8_col1, #T_c7fd0_row8_col2, #T_c7fd0_row8_col3, #T_c7fd0_row8_col4, #T_c7fd0_row8_col5, #T_c7fd0_row8_col6, #T_c7fd0_row9_col0, #T_c7fd0_row9_col1, #T_c7fd0_row9_col2, #T_c7fd0_row9_col3, #T_c7fd0_row9_col4, #T_c7fd0_row9_col5, #T_c7fd0_row9_col6, #T_c7fd0_row10_col0, #T_c7fd0_row10_col1, #T_c7fd0_row10_col2, #T_c7fd0_row10_col3, #T_c7fd0_row10_col4, #T_c7fd0_row10_col5, #T_c7fd0_row10_col6, #T_c7fd0_row11_col0, #T_c7fd0_row11_col1, #T_c7fd0_row11_col2, #T_c7fd0_row11_col3, #T_c7fd0_row11_col4, #T_c7fd0_row11_col5, #T_c7fd0_row11_col6, #T_c7fd0_row12_col0, #T_c7fd0_row12_col1, #T_c7fd0_row12_col2, #T_c7fd0_row12_col3, #T_c7fd0_row12_col4, #T_c7fd0_row12_col5, #T_c7fd0_row12_col6, #T_c7fd0_row13_col0, #T_c7fd0_row13_col1, #T_c7fd0_row13_col2, #T_c7fd0_row13_col3, #T_c7fd0_row13_col4, #T_c7fd0_row13_col5, #T_c7fd0_row13_col6, #T_c7fd0_row14_col0, #T_c7fd0_row14_col1, #T_c7fd0_row14_col2, #T_c7fd0_row14_col3, #T_c7fd0_row14_col4, #T_c7fd0_row14_col5, #T_c7fd0_row14_col6, #T_c7fd0_row15_col0, #T_c7fd0_row15_col1, #T_c7fd0_row15_col2, #T_c7fd0_row15_col3, #T_c7fd0_row15_col4, #T_c7fd0_row15_col5, #T_c7fd0_row15_col6, #T_c7fd0_row16_col0, #T_c7fd0_row16_col1, #T_c7fd0_row16_col2, #T_c7fd0_row16_col3, #T_c7fd0_row16_col4, #T_c7fd0_row16_col5, #T_c7fd0_row16_col6, #T_c7fd0_row17_col0, #T_c7fd0_row17_col1, #T_c7fd0_row17_col2, #T_c7fd0_row17_col3, #T_c7fd0_row17_col4, #T_c7fd0_row17_col5, #T_c7fd0_row17_col6, #T_c7fd0_row18_col0, #T_c7fd0_row18_col1, #T_c7fd0_row18_col2, #T_c7fd0_row18_col3, #T_c7fd0_row18_col4, #T_c7fd0_row18_col5, #T_c7fd0_row18_col6 {\n",
       "  text-align: left;\n",
       "}\n",
       "#T_c7fd0_row0_col3, #T_c7fd0_row0_col4, #T_c7fd0_row1_col2, #T_c7fd0_row1_col5, #T_c7fd0_row1_col6, #T_c7fd0_row2_col1 {\n",
       "  text-align: left;\n",
       "  background-color: yellow;\n",
       "}\n",
       "#T_c7fd0_row0_col7, #T_c7fd0_row1_col7, #T_c7fd0_row2_col7, #T_c7fd0_row3_col7, #T_c7fd0_row4_col7, #T_c7fd0_row5_col7, #T_c7fd0_row6_col7, #T_c7fd0_row7_col7, #T_c7fd0_row8_col7, #T_c7fd0_row9_col7, #T_c7fd0_row10_col7, #T_c7fd0_row11_col7, #T_c7fd0_row12_col7, #T_c7fd0_row13_col7, #T_c7fd0_row14_col7, #T_c7fd0_row15_col7, #T_c7fd0_row16_col7, #T_c7fd0_row17_col7 {\n",
       "  text-align: left;\n",
       "  background-color: lightgrey;\n",
       "}\n",
       "#T_c7fd0_row18_col7 {\n",
       "  text-align: left;\n",
       "  background-color: yellow;\n",
       "  background-color: lightgrey;\n",
       "}\n",
       "</style>\n",
       "<table id=\"T_c7fd0\" class=\"dataframe\">\n",
       "  <thead>\n",
       "    <tr>\n",
       "      <th class=\"blank level0\" >&nbsp;</th>\n",
       "      <th id=\"T_c7fd0_level0_col0\" class=\"col_heading level0 col0\" >Model</th>\n",
       "      <th id=\"T_c7fd0_level0_col1\" class=\"col_heading level0 col1\" >MAE</th>\n",
       "      <th id=\"T_c7fd0_level0_col2\" class=\"col_heading level0 col2\" >MSE</th>\n",
       "      <th id=\"T_c7fd0_level0_col3\" class=\"col_heading level0 col3\" >RMSE</th>\n",
       "      <th id=\"T_c7fd0_level0_col4\" class=\"col_heading level0 col4\" >R2</th>\n",
       "      <th id=\"T_c7fd0_level0_col5\" class=\"col_heading level0 col5\" >RMSLE</th>\n",
       "      <th id=\"T_c7fd0_level0_col6\" class=\"col_heading level0 col6\" >MAPE</th>\n",
       "      <th id=\"T_c7fd0_level0_col7\" class=\"col_heading level0 col7\" >TT (Sec)</th>\n",
       "    </tr>\n",
       "  </thead>\n",
       "  <tbody>\n",
       "    <tr>\n",
       "      <th id=\"T_c7fd0_level0_row0\" class=\"row_heading level0 row0\" >et</th>\n",
       "      <td id=\"T_c7fd0_row0_col0\" class=\"data row0 col0\" >Extra Trees Regressor</td>\n",
       "      <td id=\"T_c7fd0_row0_col1\" class=\"data row0 col1\" >4.1010</td>\n",
       "      <td id=\"T_c7fd0_row0_col2\" class=\"data row0 col2\" >75.8461</td>\n",
       "      <td id=\"T_c7fd0_row0_col3\" class=\"data row0 col3\" >8.3238</td>\n",
       "      <td id=\"T_c7fd0_row0_col4\" class=\"data row0 col4\" >0.9662</td>\n",
       "      <td id=\"T_c7fd0_row0_col5\" class=\"data row0 col5\" >0.1665</td>\n",
       "      <td id=\"T_c7fd0_row0_col6\" class=\"data row0 col6\" >0.1294</td>\n",
       "      <td id=\"T_c7fd0_row0_col7\" class=\"data row0 col7\" >0.5750</td>\n",
       "    </tr>\n",
       "    <tr>\n",
       "      <th id=\"T_c7fd0_level0_row1\" class=\"row_heading level0 row1\" >huber</th>\n",
       "      <td id=\"T_c7fd0_row1_col0\" class=\"data row1 col0\" >Huber Regressor</td>\n",
       "      <td id=\"T_c7fd0_row1_col1\" class=\"data row1 col1\" >4.0071</td>\n",
       "      <td id=\"T_c7fd0_row1_col2\" class=\"data row1 col2\" >74.3261</td>\n",
       "      <td id=\"T_c7fd0_row1_col3\" class=\"data row1 col3\" >8.4027</td>\n",
       "      <td id=\"T_c7fd0_row1_col4\" class=\"data row1 col4\" >0.9660</td>\n",
       "      <td id=\"T_c7fd0_row1_col5\" class=\"data row1 col5\" >0.1634</td>\n",
       "      <td id=\"T_c7fd0_row1_col6\" class=\"data row1 col6\" >0.1248</td>\n",
       "      <td id=\"T_c7fd0_row1_col7\" class=\"data row1 col7\" >0.2630</td>\n",
       "    </tr>\n",
       "    <tr>\n",
       "      <th id=\"T_c7fd0_level0_row2\" class=\"row_heading level0 row2\" >gbr</th>\n",
       "      <td id=\"T_c7fd0_row2_col0\" class=\"data row2 col0\" >Gradient Boosting Regressor</td>\n",
       "      <td id=\"T_c7fd0_row2_col1\" class=\"data row2 col1\" >4.0018</td>\n",
       "      <td id=\"T_c7fd0_row2_col2\" class=\"data row2 col2\" >79.0190</td>\n",
       "      <td id=\"T_c7fd0_row2_col3\" class=\"data row2 col3\" >8.4280</td>\n",
       "      <td id=\"T_c7fd0_row2_col4\" class=\"data row2 col4\" >0.9660</td>\n",
       "      <td id=\"T_c7fd0_row2_col5\" class=\"data row2 col5\" >0.1650</td>\n",
       "      <td id=\"T_c7fd0_row2_col6\" class=\"data row2 col6\" >0.1290</td>\n",
       "      <td id=\"T_c7fd0_row2_col7\" class=\"data row2 col7\" >1.8140</td>\n",
       "    </tr>\n",
       "    <tr>\n",
       "      <th id=\"T_c7fd0_level0_row3\" class=\"row_heading level0 row3\" >br</th>\n",
       "      <td id=\"T_c7fd0_row3_col0\" class=\"data row3 col0\" >Bayesian Ridge</td>\n",
       "      <td id=\"T_c7fd0_row3_col1\" class=\"data row3 col1\" >4.0137</td>\n",
       "      <td id=\"T_c7fd0_row3_col2\" class=\"data row3 col2\" >75.6746</td>\n",
       "      <td id=\"T_c7fd0_row3_col3\" class=\"data row3 col3\" >8.4699</td>\n",
       "      <td id=\"T_c7fd0_row3_col4\" class=\"data row3 col4\" >0.9655</td>\n",
       "      <td id=\"T_c7fd0_row3_col5\" class=\"data row3 col5\" >0.1647</td>\n",
       "      <td id=\"T_c7fd0_row3_col6\" class=\"data row3 col6\" >0.1255</td>\n",
       "      <td id=\"T_c7fd0_row3_col7\" class=\"data row3 col7\" >0.0990</td>\n",
       "    </tr>\n",
       "    <tr>\n",
       "      <th id=\"T_c7fd0_level0_row4\" class=\"row_heading level0 row4\" >ridge</th>\n",
       "      <td id=\"T_c7fd0_row4_col0\" class=\"data row4 col0\" >Ridge Regression</td>\n",
       "      <td id=\"T_c7fd0_row4_col1\" class=\"data row4 col1\" >4.0235</td>\n",
       "      <td id=\"T_c7fd0_row4_col2\" class=\"data row4 col2\" >75.5686</td>\n",
       "      <td id=\"T_c7fd0_row4_col3\" class=\"data row4 col3\" >8.4656</td>\n",
       "      <td id=\"T_c7fd0_row4_col4\" class=\"data row4 col4\" >0.9655</td>\n",
       "      <td id=\"T_c7fd0_row4_col5\" class=\"data row4 col5\" >0.1665</td>\n",
       "      <td id=\"T_c7fd0_row4_col6\" class=\"data row4 col6\" >0.1256</td>\n",
       "      <td id=\"T_c7fd0_row4_col7\" class=\"data row4 col7\" >0.0520</td>\n",
       "    </tr>\n",
       "    <tr>\n",
       "      <th id=\"T_c7fd0_level0_row5\" class=\"row_heading level0 row5\" >en</th>\n",
       "      <td id=\"T_c7fd0_row5_col0\" class=\"data row5 col0\" >Elastic Net</td>\n",
       "      <td id=\"T_c7fd0_row5_col1\" class=\"data row5 col1\" >4.0379</td>\n",
       "      <td id=\"T_c7fd0_row5_col2\" class=\"data row5 col2\" >75.8224</td>\n",
       "      <td id=\"T_c7fd0_row5_col3\" class=\"data row5 col3\" >8.4789</td>\n",
       "      <td id=\"T_c7fd0_row5_col4\" class=\"data row5 col4\" >0.9654</td>\n",
       "      <td id=\"T_c7fd0_row5_col5\" class=\"data row5 col5\" >0.1644</td>\n",
       "      <td id=\"T_c7fd0_row5_col6\" class=\"data row5 col6\" >0.1275</td>\n",
       "      <td id=\"T_c7fd0_row5_col7\" class=\"data row5 col7\" >0.0790</td>\n",
       "    </tr>\n",
       "    <tr>\n",
       "      <th id=\"T_c7fd0_level0_row6\" class=\"row_heading level0 row6\" >lr</th>\n",
       "      <td id=\"T_c7fd0_row6_col0\" class=\"data row6 col0\" >Linear Regression</td>\n",
       "      <td id=\"T_c7fd0_row6_col1\" class=\"data row6 col1\" >4.0300</td>\n",
       "      <td id=\"T_c7fd0_row6_col2\" class=\"data row6 col2\" >75.6519</td>\n",
       "      <td id=\"T_c7fd0_row6_col3\" class=\"data row6 col3\" >8.4725</td>\n",
       "      <td id=\"T_c7fd0_row6_col4\" class=\"data row6 col4\" >0.9654</td>\n",
       "      <td id=\"T_c7fd0_row6_col5\" class=\"data row6 col5\" >0.1667</td>\n",
       "      <td id=\"T_c7fd0_row6_col6\" class=\"data row6 col6\" >0.1259</td>\n",
       "      <td id=\"T_c7fd0_row6_col7\" class=\"data row6 col7\" >0.0590</td>\n",
       "    </tr>\n",
       "    <tr>\n",
       "      <th id=\"T_c7fd0_level0_row7\" class=\"row_heading level0 row7\" >lasso</th>\n",
       "      <td id=\"T_c7fd0_row7_col0\" class=\"data row7 col0\" >Lasso Regression</td>\n",
       "      <td id=\"T_c7fd0_row7_col1\" class=\"data row7 col1\" >4.0407</td>\n",
       "      <td id=\"T_c7fd0_row7_col2\" class=\"data row7 col2\" >75.8849</td>\n",
       "      <td id=\"T_c7fd0_row7_col3\" class=\"data row7 col3\" >8.4832</td>\n",
       "      <td id=\"T_c7fd0_row7_col4\" class=\"data row7 col4\" >0.9654</td>\n",
       "      <td id=\"T_c7fd0_row7_col5\" class=\"data row7 col5\" >0.1644</td>\n",
       "      <td id=\"T_c7fd0_row7_col6\" class=\"data row7 col6\" >0.1275</td>\n",
       "      <td id=\"T_c7fd0_row7_col7\" class=\"data row7 col7\" >0.0710</td>\n",
       "    </tr>\n",
       "    <tr>\n",
       "      <th id=\"T_c7fd0_level0_row8\" class=\"row_heading level0 row8\" >llar</th>\n",
       "      <td id=\"T_c7fd0_row8_col0\" class=\"data row8 col0\" >Lasso Least Angle Regression</td>\n",
       "      <td id=\"T_c7fd0_row8_col1\" class=\"data row8 col1\" >4.0407</td>\n",
       "      <td id=\"T_c7fd0_row8_col2\" class=\"data row8 col2\" >75.8852</td>\n",
       "      <td id=\"T_c7fd0_row8_col3\" class=\"data row8 col3\" >8.4832</td>\n",
       "      <td id=\"T_c7fd0_row8_col4\" class=\"data row8 col4\" >0.9654</td>\n",
       "      <td id=\"T_c7fd0_row8_col5\" class=\"data row8 col5\" >0.1644</td>\n",
       "      <td id=\"T_c7fd0_row8_col6\" class=\"data row8 col6\" >0.1275</td>\n",
       "      <td id=\"T_c7fd0_row8_col7\" class=\"data row8 col7\" >0.0450</td>\n",
       "    </tr>\n",
       "    <tr>\n",
       "      <th id=\"T_c7fd0_level0_row9\" class=\"row_heading level0 row9\" >omp</th>\n",
       "      <td id=\"T_c7fd0_row9_col0\" class=\"data row9 col0\" >Orthogonal Matching Pursuit</td>\n",
       "      <td id=\"T_c7fd0_row9_col1\" class=\"data row9 col1\" >4.0453</td>\n",
       "      <td id=\"T_c7fd0_row9_col2\" class=\"data row9 col2\" >75.9089</td>\n",
       "      <td id=\"T_c7fd0_row9_col3\" class=\"data row9 col3\" >8.4897</td>\n",
       "      <td id=\"T_c7fd0_row9_col4\" class=\"data row9 col4\" >0.9653</td>\n",
       "      <td id=\"T_c7fd0_row9_col5\" class=\"data row9 col5\" >0.1649</td>\n",
       "      <td id=\"T_c7fd0_row9_col6\" class=\"data row9 col6\" >0.1282</td>\n",
       "      <td id=\"T_c7fd0_row9_col7\" class=\"data row9 col7\" >0.0490</td>\n",
       "    </tr>\n",
       "    <tr>\n",
       "      <th id=\"T_c7fd0_level0_row10\" class=\"row_heading level0 row10\" >rf</th>\n",
       "      <td id=\"T_c7fd0_row10_col0\" class=\"data row10 col0\" >Random Forest Regressor</td>\n",
       "      <td id=\"T_c7fd0_row10_col1\" class=\"data row10 col1\" >4.1005</td>\n",
       "      <td id=\"T_c7fd0_row10_col2\" class=\"data row10 col2\" >80.9765</td>\n",
       "      <td id=\"T_c7fd0_row10_col3\" class=\"data row10 col3\" >8.5462</td>\n",
       "      <td id=\"T_c7fd0_row10_col4\" class=\"data row10 col4\" >0.9647</td>\n",
       "      <td id=\"T_c7fd0_row10_col5\" class=\"data row10 col5\" >0.1645</td>\n",
       "      <td id=\"T_c7fd0_row10_col6\" class=\"data row10 col6\" >0.1274</td>\n",
       "      <td id=\"T_c7fd0_row10_col7\" class=\"data row10 col7\" >1.1620</td>\n",
       "    </tr>\n",
       "    <tr>\n",
       "      <th id=\"T_c7fd0_level0_row11\" class=\"row_heading level0 row11\" >par</th>\n",
       "      <td id=\"T_c7fd0_row11_col0\" class=\"data row11 col0\" >Passive Aggressive Regressor</td>\n",
       "      <td id=\"T_c7fd0_row11_col1\" class=\"data row11 col1\" >4.5278</td>\n",
       "      <td id=\"T_c7fd0_row11_col2\" class=\"data row11 col2\" >82.5293</td>\n",
       "      <td id=\"T_c7fd0_row11_col3\" class=\"data row11 col3\" >8.8694</td>\n",
       "      <td id=\"T_c7fd0_row11_col4\" class=\"data row11 col4\" >0.9619</td>\n",
       "      <td id=\"T_c7fd0_row11_col5\" class=\"data row11 col5\" >0.2128</td>\n",
       "      <td id=\"T_c7fd0_row11_col6\" class=\"data row11 col6\" >0.1520</td>\n",
       "      <td id=\"T_c7fd0_row11_col7\" class=\"data row11 col7\" >0.0760</td>\n",
       "    </tr>\n",
       "    <tr>\n",
       "      <th id=\"T_c7fd0_level0_row12\" class=\"row_heading level0 row12\" >xgboost</th>\n",
       "      <td id=\"T_c7fd0_row12_col0\" class=\"data row12 col0\" >Extreme Gradient Boosting</td>\n",
       "      <td id=\"T_c7fd0_row12_col1\" class=\"data row12 col1\" >4.1550</td>\n",
       "      <td id=\"T_c7fd0_row12_col2\" class=\"data row12 col2\" >95.1974</td>\n",
       "      <td id=\"T_c7fd0_row12_col3\" class=\"data row12 col3\" >9.2780</td>\n",
       "      <td id=\"T_c7fd0_row12_col4\" class=\"data row12 col4\" >0.9569</td>\n",
       "      <td id=\"T_c7fd0_row12_col5\" class=\"data row12 col5\" >0.1748</td>\n",
       "      <td id=\"T_c7fd0_row12_col6\" class=\"data row12 col6\" >0.1309</td>\n",
       "      <td id=\"T_c7fd0_row12_col7\" class=\"data row12 col7\" >0.2950</td>\n",
       "    </tr>\n",
       "    <tr>\n",
       "      <th id=\"T_c7fd0_level0_row13\" class=\"row_heading level0 row13\" >lightgbm</th>\n",
       "      <td id=\"T_c7fd0_row13_col0\" class=\"data row13 col0\" >Light Gradient Boosting Machine</td>\n",
       "      <td id=\"T_c7fd0_row13_col1\" class=\"data row13 col1\" >4.2605</td>\n",
       "      <td id=\"T_c7fd0_row13_col2\" class=\"data row13 col2\" >133.4533</td>\n",
       "      <td id=\"T_c7fd0_row13_col3\" class=\"data row13 col3\" >11.0164</td>\n",
       "      <td id=\"T_c7fd0_row13_col4\" class=\"data row13 col4\" >0.9417</td>\n",
       "      <td id=\"T_c7fd0_row13_col5\" class=\"data row13 col5\" >0.1686</td>\n",
       "      <td id=\"T_c7fd0_row13_col6\" class=\"data row13 col6\" >0.1267</td>\n",
       "      <td id=\"T_c7fd0_row13_col7\" class=\"data row13 col7\" >0.1660</td>\n",
       "    </tr>\n",
       "    <tr>\n",
       "      <th id=\"T_c7fd0_level0_row14\" class=\"row_heading level0 row14\" >dt</th>\n",
       "      <td id=\"T_c7fd0_row14_col0\" class=\"data row14 col0\" >Decision Tree Regressor</td>\n",
       "      <td id=\"T_c7fd0_row14_col1\" class=\"data row14 col1\" >5.7359</td>\n",
       "      <td id=\"T_c7fd0_row14_col2\" class=\"data row14 col2\" >143.7588</td>\n",
       "      <td id=\"T_c7fd0_row14_col3\" class=\"data row14 col3\" >11.5536</td>\n",
       "      <td id=\"T_c7fd0_row14_col4\" class=\"data row14 col4\" >0.9375</td>\n",
       "      <td id=\"T_c7fd0_row14_col5\" class=\"data row14 col5\" >0.2268</td>\n",
       "      <td id=\"T_c7fd0_row14_col6\" class=\"data row14 col6\" >0.1757</td>\n",
       "      <td id=\"T_c7fd0_row14_col7\" class=\"data row14 col7\" >0.1480</td>\n",
       "    </tr>\n",
       "    <tr>\n",
       "      <th id=\"T_c7fd0_level0_row15\" class=\"row_heading level0 row15\" >knn</th>\n",
       "      <td id=\"T_c7fd0_row15_col0\" class=\"data row15 col0\" >K Neighbors Regressor</td>\n",
       "      <td id=\"T_c7fd0_row15_col1\" class=\"data row15 col1\" >6.7558</td>\n",
       "      <td id=\"T_c7fd0_row15_col2\" class=\"data row15 col2\" >163.8341</td>\n",
       "      <td id=\"T_c7fd0_row15_col3\" class=\"data row15 col3\" >12.6064</td>\n",
       "      <td id=\"T_c7fd0_row15_col4\" class=\"data row15 col4\" >0.9228</td>\n",
       "      <td id=\"T_c7fd0_row15_col5\" class=\"data row15 col5\" >0.2966</td>\n",
       "      <td id=\"T_c7fd0_row15_col6\" class=\"data row15 col6\" >0.2601</td>\n",
       "      <td id=\"T_c7fd0_row15_col7\" class=\"data row15 col7\" >0.0380</td>\n",
       "    </tr>\n",
       "    <tr>\n",
       "      <th id=\"T_c7fd0_level0_row16\" class=\"row_heading level0 row16\" >ada</th>\n",
       "      <td id=\"T_c7fd0_row16_col0\" class=\"data row16 col0\" >AdaBoost Regressor</td>\n",
       "      <td id=\"T_c7fd0_row16_col1\" class=\"data row16 col1\" >8.8229</td>\n",
       "      <td id=\"T_c7fd0_row16_col2\" class=\"data row16 col2\" >170.3759</td>\n",
       "      <td id=\"T_c7fd0_row16_col3\" class=\"data row16 col3\" >12.8766</td>\n",
       "      <td id=\"T_c7fd0_row16_col4\" class=\"data row16 col4\" >0.9200</td>\n",
       "      <td id=\"T_c7fd0_row16_col5\" class=\"data row16 col5\" >0.4849</td>\n",
       "      <td id=\"T_c7fd0_row16_col6\" class=\"data row16 col6\" >0.5541</td>\n",
       "      <td id=\"T_c7fd0_row16_col7\" class=\"data row16 col7\" >0.5110</td>\n",
       "    </tr>\n",
       "    <tr>\n",
       "      <th id=\"T_c7fd0_level0_row17\" class=\"row_heading level0 row17\" >lar</th>\n",
       "      <td id=\"T_c7fd0_row17_col0\" class=\"data row17 col0\" >Least Angle Regression</td>\n",
       "      <td id=\"T_c7fd0_row17_col1\" class=\"data row17 col1\" >28.1911</td>\n",
       "      <td id=\"T_c7fd0_row17_col2\" class=\"data row17 col2\" >1543.0839</td>\n",
       "      <td id=\"T_c7fd0_row17_col3\" class=\"data row17 col3\" >36.0756</td>\n",
       "      <td id=\"T_c7fd0_row17_col4\" class=\"data row17 col4\" >0.3226</td>\n",
       "      <td id=\"T_c7fd0_row17_col5\" class=\"data row17 col5\" >0.8922</td>\n",
       "      <td id=\"T_c7fd0_row17_col6\" class=\"data row17 col6\" >1.3401</td>\n",
       "      <td id=\"T_c7fd0_row17_col7\" class=\"data row17 col7\" >0.0630</td>\n",
       "    </tr>\n",
       "    <tr>\n",
       "      <th id=\"T_c7fd0_level0_row18\" class=\"row_heading level0 row18\" >dummy</th>\n",
       "      <td id=\"T_c7fd0_row18_col0\" class=\"data row18 col0\" >Dummy Regressor</td>\n",
       "      <td id=\"T_c7fd0_row18_col1\" class=\"data row18 col1\" >22.9016</td>\n",
       "      <td id=\"T_c7fd0_row18_col2\" class=\"data row18 col2\" >2313.9860</td>\n",
       "      <td id=\"T_c7fd0_row18_col3\" class=\"data row18 col3\" >47.6004</td>\n",
       "      <td id=\"T_c7fd0_row18_col4\" class=\"data row18 col4\" >-0.0023</td>\n",
       "      <td id=\"T_c7fd0_row18_col5\" class=\"data row18 col5\" >0.7848</td>\n",
       "      <td id=\"T_c7fd0_row18_col6\" class=\"data row18 col6\" >1.0794</td>\n",
       "      <td id=\"T_c7fd0_row18_col7\" class=\"data row18 col7\" >0.0240</td>\n",
       "    </tr>\n",
       "  </tbody>\n",
       "</table>\n"
      ],
      "text/plain": [
       "<pandas.io.formats.style.Styler at 0x7f50d8bde530>"
      ]
     },
     "metadata": {},
     "output_type": "display_data"
    },
    {
     "data": {
      "application/vnd.jupyter.widget-view+json": {
       "model_id": "782434b1e31f4d86a180b71f83c04d40",
       "version_major": 2,
       "version_minor": 0
      },
      "text/plain": [
       "Processing:   0%|          | 0/85 [00:00<?, ?it/s]"
      ]
     },
     "metadata": {
      "application/vnd.jupyter.widget-view+json": {
       "colab": {
        "custom_widget_manager": {
         "url": "https://ssl.gstatic.com/colaboratory-static/widgets/colab-cdn-widget-manager/2b70e893a8ba7c0f/manager.min.js"
        }
       }
      }
     },
     "output_type": "display_data"
    },
    {
     "data": {
      "text/html": [],
      "text/plain": [
       "<IPython.core.display.HTML object>"
      ]
     },
     "metadata": {},
     "output_type": "display_data"
    },
    {
     "name": "stdout",
     "output_type": "stream",
     "text": [
      "Top 5 Models based on R2 Score:\n",
      "[ExtraTreesRegressor(n_jobs=-1, random_state=42), HuberRegressor(), GradientBoostingRegressor(random_state=42), BayesianRidge(), Ridge(random_state=42)]\n"
     ]
    }
   ],
   "source": [
    "best_models = predictor.compare_models()\n",
    "print(\"Top 5 Models based on R2 Score:\")\n",
    "print(best_models)"
   ]
  },
  {
   "cell_type": "markdown",
   "id": "6c734a46",
   "metadata": {
    "id": "6c734a46"
   },
   "source": [
    "## 학습한 모델을 파일로 저장"
   ]
  },
  {
   "cell_type": "code",
   "execution_count": 9,
   "id": "41971ff8",
   "metadata": {
    "colab": {
     "base_uri": "https://localhost:8080/",
     "height": 1000,
     "referenced_widgets": [
      "a7c10d8e83e949ba8c85df39203cb816",
      "e2b99794840d4e0a8e247b3d63b50852",
      "ccbeb4025f9b4ffc9fa66b0dd34f24c1",
      "44a5e165ce704091a1983e3d982035f3",
      "2129001550c6448695169fa76a4c6a45",
      "d7a3586728a34e10ab0171f66032e74f",
      "4a23803f277b4efab857d721eeb47798",
      "c04a95a1f2e444dcb55df1dffec6dc20",
      "0636158d8221453cbe9428668329616f",
      "3e6b35cd2f844c249bc6401ca48dd219",
      "55bf1e6ca78e42599122c7b23ed8291b",
      "a60e7beb53ef4deb8875730beab9578a",
      "0219c599c1c54e3fb79acffc149d7786",
      "8f4ce3250ab045b9909c1d5247729996",
      "ab01e82423c44cc0ba6a1d933158557b",
      "22e6d4d316574844bd2748e9bd7f7e60",
      "fac165c7b4d84486af74ca98a4af5fc8",
      "a158f8d7ae4c410fafdb25614841d03a",
      "9db9cd2c7a4f43f4afa4d93fa81417d4",
      "ad2d5e27020148a79624487ff12a5745",
      "7b880155e2654051a0adbb7c0861632b",
      "dac445aa8d4c46f086638d69e61b84f1",
      "f6d86a3907034900afdb69781d18838f",
      "d06a583a038744449d76c24fcdedb06b",
      "4dfe8cf9686f4e168c46caf5ed862cab",
      "57515004b9b248ecb9f06b80754e2ed5",
      "17348bfb26f740589680a0b91786f220",
      "454888ae56534d018a95588419ba9418",
      "340b105ee93c45889792354d42e3a1e1",
      "7e7c45441c274279852d4a9f663780c0",
      "8b1b64f765a243ac902456439db5b79d",
      "279f09df51434af28ce0fcda67b16ce4",
      "80df81df4b3a4d34940fb30b64947a18",
      "49ab6c84336142869b19e84e571093fc",
      "a91f3d6bfcc843a1acda7ced86cc70f8",
      "c442a7c971f143718350d60ca3e7c448",
      "207b7531203e4d15acb24354299d0d58",
      "a48a6c8d1d91472c8c00ce6f52b5b80e",
      "591fddd78b0e41e6929664c424908698",
      "f7b0a78e0db340bca8fe1f800963a0f2",
      "7d4fb9cc16da4d98b407ed9d0dd8d408",
      "1f7466105b264d6facb1f1f92fdec9b2",
      "164151d71e6f41fc868d9405a26166f7",
      "5fe36ead68334067ab0b264cd35d9943",
      "62bcff33de174c548a5c929df5e4007d",
      "8057df0f935b4d808ccdfe03ff39432d",
      "2baf6b9e22e648ba8cb9f10600fa007e",
      "99d9fb85443c455fa418d8409bf9eda1",
      "d3899dbd60bc4d0ca5c97f497887ece4",
      "231b62546c9841b8a37713b0e6112272",
      "15f7ed7110d04afd86eee1912194ce7d",
      "633daebe51ed4aa3ac6ea4cbf433e102",
      "efe4866b4a49496e8833866ddfb3002b",
      "4253efbb31934a4c8c121fb931640745",
      "53a22e09395a47be92c908cd4f8739e2"
     ]
    },
    "executionInfo": {
     "elapsed": 144946,
     "status": "ok",
     "timestamp": 1730724939676,
     "user": {
      "displayName": "이창민",
      "userId": "14847847938142148141"
     },
     "user_tz": -540
    },
    "id": "41971ff8",
    "outputId": "f02ba050-e9eb-47b9-b3a7-e1debe5f3ac6"
   },
   "outputs": [
    {
     "data": {
      "text/html": [],
      "text/plain": [
       "<IPython.core.display.HTML object>"
      ]
     },
     "metadata": {},
     "output_type": "display_data"
    },
    {
     "data": {
      "text/html": [],
      "text/plain": [
       "<IPython.core.display.HTML object>"
      ]
     },
     "metadata": {},
     "output_type": "display_data"
    },
    {
     "data": {
      "text/html": [
       "<style type=\"text/css\">\n",
       "#T_f8484_row10_col0, #T_f8484_row10_col1, #T_f8484_row10_col2, #T_f8484_row10_col3, #T_f8484_row10_col4, #T_f8484_row10_col5 {\n",
       "  background: yellow;\n",
       "}\n",
       "</style>\n",
       "<table id=\"T_f8484\" class=\"dataframe\">\n",
       "  <thead>\n",
       "    <tr>\n",
       "      <th class=\"blank level0\" >&nbsp;</th>\n",
       "      <th id=\"T_f8484_level0_col0\" class=\"col_heading level0 col0\" >MAE</th>\n",
       "      <th id=\"T_f8484_level0_col1\" class=\"col_heading level0 col1\" >MSE</th>\n",
       "      <th id=\"T_f8484_level0_col2\" class=\"col_heading level0 col2\" >RMSE</th>\n",
       "      <th id=\"T_f8484_level0_col3\" class=\"col_heading level0 col3\" >R2</th>\n",
       "      <th id=\"T_f8484_level0_col4\" class=\"col_heading level0 col4\" >RMSLE</th>\n",
       "      <th id=\"T_f8484_level0_col5\" class=\"col_heading level0 col5\" >MAPE</th>\n",
       "    </tr>\n",
       "    <tr>\n",
       "      <th class=\"index_name level0\" >Fold</th>\n",
       "      <th class=\"blank col0\" >&nbsp;</th>\n",
       "      <th class=\"blank col1\" >&nbsp;</th>\n",
       "      <th class=\"blank col2\" >&nbsp;</th>\n",
       "      <th class=\"blank col3\" >&nbsp;</th>\n",
       "      <th class=\"blank col4\" >&nbsp;</th>\n",
       "      <th class=\"blank col5\" >&nbsp;</th>\n",
       "    </tr>\n",
       "  </thead>\n",
       "  <tbody>\n",
       "    <tr>\n",
       "      <th id=\"T_f8484_level0_row0\" class=\"row_heading level0 row0\" >0</th>\n",
       "      <td id=\"T_f8484_row0_col0\" class=\"data row0 col0\" >6.2519</td>\n",
       "      <td id=\"T_f8484_row0_col1\" class=\"data row0 col1\" >86.3611</td>\n",
       "      <td id=\"T_f8484_row0_col2\" class=\"data row0 col2\" >9.2931</td>\n",
       "      <td id=\"T_f8484_row0_col3\" class=\"data row0 col3\" >0.9635</td>\n",
       "      <td id=\"T_f8484_row0_col4\" class=\"data row0 col4\" >0.3334</td>\n",
       "      <td id=\"T_f8484_row0_col5\" class=\"data row0 col5\" >0.3206</td>\n",
       "    </tr>\n",
       "    <tr>\n",
       "      <th id=\"T_f8484_level0_row1\" class=\"row_heading level0 row1\" >1</th>\n",
       "      <td id=\"T_f8484_row1_col0\" class=\"data row1 col0\" >5.9850</td>\n",
       "      <td id=\"T_f8484_row1_col1\" class=\"data row1 col1\" >125.5489</td>\n",
       "      <td id=\"T_f8484_row1_col2\" class=\"data row1 col2\" >11.2049</td>\n",
       "      <td id=\"T_f8484_row1_col3\" class=\"data row1 col3\" >0.9342</td>\n",
       "      <td id=\"T_f8484_row1_col4\" class=\"data row1 col4\" >0.2823</td>\n",
       "      <td id=\"T_f8484_row1_col5\" class=\"data row1 col5\" >0.2607</td>\n",
       "    </tr>\n",
       "    <tr>\n",
       "      <th id=\"T_f8484_level0_row2\" class=\"row_heading level0 row2\" >2</th>\n",
       "      <td id=\"T_f8484_row2_col0\" class=\"data row2 col0\" >6.0640</td>\n",
       "      <td id=\"T_f8484_row2_col1\" class=\"data row2 col1\" >94.6008</td>\n",
       "      <td id=\"T_f8484_row2_col2\" class=\"data row2 col2\" >9.7263</td>\n",
       "      <td id=\"T_f8484_row2_col3\" class=\"data row2 col3\" >0.9566</td>\n",
       "      <td id=\"T_f8484_row2_col4\" class=\"data row2 col4\" >0.3189</td>\n",
       "      <td id=\"T_f8484_row2_col5\" class=\"data row2 col5\" >0.3024</td>\n",
       "    </tr>\n",
       "    <tr>\n",
       "      <th id=\"T_f8484_level0_row3\" class=\"row_heading level0 row3\" >3</th>\n",
       "      <td id=\"T_f8484_row3_col0\" class=\"data row3 col0\" >6.2256</td>\n",
       "      <td id=\"T_f8484_row3_col1\" class=\"data row3 col1\" >116.5290</td>\n",
       "      <td id=\"T_f8484_row3_col2\" class=\"data row3 col2\" >10.7949</td>\n",
       "      <td id=\"T_f8484_row3_col3\" class=\"data row3 col3\" >0.9539</td>\n",
       "      <td id=\"T_f8484_row3_col4\" class=\"data row3 col4\" >0.3058</td>\n",
       "      <td id=\"T_f8484_row3_col5\" class=\"data row3 col5\" >0.2873</td>\n",
       "    </tr>\n",
       "    <tr>\n",
       "      <th id=\"T_f8484_level0_row4\" class=\"row_heading level0 row4\" >4</th>\n",
       "      <td id=\"T_f8484_row4_col0\" class=\"data row4 col0\" >6.0564</td>\n",
       "      <td id=\"T_f8484_row4_col1\" class=\"data row4 col1\" >79.1104</td>\n",
       "      <td id=\"T_f8484_row4_col2\" class=\"data row4 col2\" >8.8944</td>\n",
       "      <td id=\"T_f8484_row4_col3\" class=\"data row4 col3\" >0.9745</td>\n",
       "      <td id=\"T_f8484_row4_col4\" class=\"data row4 col4\" >0.3492</td>\n",
       "      <td id=\"T_f8484_row4_col5\" class=\"data row4 col5\" >0.3432</td>\n",
       "    </tr>\n",
       "    <tr>\n",
       "      <th id=\"T_f8484_level0_row5\" class=\"row_heading level0 row5\" >5</th>\n",
       "      <td id=\"T_f8484_row5_col0\" class=\"data row5 col0\" >6.3727</td>\n",
       "      <td id=\"T_f8484_row5_col1\" class=\"data row5 col1\" >177.8628</td>\n",
       "      <td id=\"T_f8484_row5_col2\" class=\"data row5 col2\" >13.3365</td>\n",
       "      <td id=\"T_f8484_row5_col3\" class=\"data row5 col3\" >0.9414</td>\n",
       "      <td id=\"T_f8484_row5_col4\" class=\"data row5 col4\" >0.3242</td>\n",
       "      <td id=\"T_f8484_row5_col5\" class=\"data row5 col5\" >0.3011</td>\n",
       "    </tr>\n",
       "    <tr>\n",
       "      <th id=\"T_f8484_level0_row6\" class=\"row_heading level0 row6\" >6</th>\n",
       "      <td id=\"T_f8484_row6_col0\" class=\"data row6 col0\" >5.5587</td>\n",
       "      <td id=\"T_f8484_row6_col1\" class=\"data row6 col1\" >67.4713</td>\n",
       "      <td id=\"T_f8484_row6_col2\" class=\"data row6 col2\" >8.2141</td>\n",
       "      <td id=\"T_f8484_row6_col3\" class=\"data row6 col3\" >0.9213</td>\n",
       "      <td id=\"T_f8484_row6_col4\" class=\"data row6 col4\" >0.3237</td>\n",
       "      <td id=\"T_f8484_row6_col5\" class=\"data row6 col5\" >0.3122</td>\n",
       "    </tr>\n",
       "    <tr>\n",
       "      <th id=\"T_f8484_level0_row7\" class=\"row_heading level0 row7\" >7</th>\n",
       "      <td id=\"T_f8484_row7_col0\" class=\"data row7 col0\" >5.8853</td>\n",
       "      <td id=\"T_f8484_row7_col1\" class=\"data row7 col1\" >75.7819</td>\n",
       "      <td id=\"T_f8484_row7_col2\" class=\"data row7 col2\" >8.7053</td>\n",
       "      <td id=\"T_f8484_row7_col3\" class=\"data row7 col3\" >0.9663</td>\n",
       "      <td id=\"T_f8484_row7_col4\" class=\"data row7 col4\" >0.2899</td>\n",
       "      <td id=\"T_f8484_row7_col5\" class=\"data row7 col5\" >0.2652</td>\n",
       "    </tr>\n",
       "    <tr>\n",
       "      <th id=\"T_f8484_level0_row8\" class=\"row_heading level0 row8\" >8</th>\n",
       "      <td id=\"T_f8484_row8_col0\" class=\"data row8 col0\" >6.7710</td>\n",
       "      <td id=\"T_f8484_row8_col1\" class=\"data row8 col1\" >175.9321</td>\n",
       "      <td id=\"T_f8484_row8_col2\" class=\"data row8 col2\" >13.2639</td>\n",
       "      <td id=\"T_f8484_row8_col3\" class=\"data row8 col3\" >0.9316</td>\n",
       "      <td id=\"T_f8484_row8_col4\" class=\"data row8 col4\" >0.2937</td>\n",
       "      <td id=\"T_f8484_row8_col5\" class=\"data row8 col5\" >0.2737</td>\n",
       "    </tr>\n",
       "    <tr>\n",
       "      <th id=\"T_f8484_level0_row9\" class=\"row_heading level0 row9\" >9</th>\n",
       "      <td id=\"T_f8484_row9_col0\" class=\"data row9 col0\" >6.1961</td>\n",
       "      <td id=\"T_f8484_row9_col1\" class=\"data row9 col1\" >117.0776</td>\n",
       "      <td id=\"T_f8484_row9_col2\" class=\"data row9 col2\" >10.8202</td>\n",
       "      <td id=\"T_f8484_row9_col3\" class=\"data row9 col3\" >0.9495</td>\n",
       "      <td id=\"T_f8484_row9_col4\" class=\"data row9 col4\" >0.3119</td>\n",
       "      <td id=\"T_f8484_row9_col5\" class=\"data row9 col5\" >0.2943</td>\n",
       "    </tr>\n",
       "    <tr>\n",
       "      <th id=\"T_f8484_level0_row10\" class=\"row_heading level0 row10\" >Mean</th>\n",
       "      <td id=\"T_f8484_row10_col0\" class=\"data row10 col0\" >6.1367</td>\n",
       "      <td id=\"T_f8484_row10_col1\" class=\"data row10 col1\" >111.6276</td>\n",
       "      <td id=\"T_f8484_row10_col2\" class=\"data row10 col2\" >10.4254</td>\n",
       "      <td id=\"T_f8484_row10_col3\" class=\"data row10 col3\" >0.9493</td>\n",
       "      <td id=\"T_f8484_row10_col4\" class=\"data row10 col4\" >0.3133</td>\n",
       "      <td id=\"T_f8484_row10_col5\" class=\"data row10 col5\" >0.2961</td>\n",
       "    </tr>\n",
       "    <tr>\n",
       "      <th id=\"T_f8484_level0_row11\" class=\"row_heading level0 row11\" >Std</th>\n",
       "      <td id=\"T_f8484_row11_col0\" class=\"data row11 col0\" >0.3024</td>\n",
       "      <td id=\"T_f8484_row11_col1\" class=\"data row11 col1\" >37.4033</td>\n",
       "      <td id=\"T_f8484_row11_col2\" class=\"data row11 col2\" >1.7145</td>\n",
       "      <td id=\"T_f8484_row11_col3\" class=\"data row11 col3\" >0.0161</td>\n",
       "      <td id=\"T_f8484_row11_col4\" class=\"data row11 col4\" >0.0197</td>\n",
       "      <td id=\"T_f8484_row11_col5\" class=\"data row11 col5\" >0.0244</td>\n",
       "    </tr>\n",
       "  </tbody>\n",
       "</table>\n"
      ],
      "text/plain": [
       "<pandas.io.formats.style.Styler at 0x7f50f00c0850>"
      ]
     },
     "metadata": {},
     "output_type": "display_data"
    },
    {
     "data": {
      "application/vnd.jupyter.widget-view+json": {
       "model_id": "a7c10d8e83e949ba8c85df39203cb816",
       "version_major": 2,
       "version_minor": 0
      },
      "text/plain": [
       "Processing:   0%|          | 0/7 [00:00<?, ?it/s]"
      ]
     },
     "metadata": {
      "application/vnd.jupyter.widget-view+json": {
       "colab": {
        "custom_widget_manager": {
         "url": "https://ssl.gstatic.com/colaboratory-static/widgets/colab-cdn-widget-manager/2b70e893a8ba7c0f/manager.min.js"
        }
       }
      }
     },
     "output_type": "display_data"
    },
    {
     "name": "stdout",
     "output_type": "stream",
     "text": [
      "Fitting 10 folds for each of 10 candidates, totalling 100 fits\n"
     ]
    },
    {
     "data": {
      "text/html": [],
      "text/plain": [
       "<IPython.core.display.HTML object>"
      ]
     },
     "metadata": {},
     "output_type": "display_data"
    },
    {
     "name": "stdout",
     "output_type": "stream",
     "text": [
      "Original model was better than the tuned model, hence it will be returned. NOTE: The display metrics are for the tuned model (not the original one).\n"
     ]
    },
    {
     "data": {
      "text/html": [],
      "text/plain": [
       "<IPython.core.display.HTML object>"
      ]
     },
     "metadata": {},
     "output_type": "display_data"
    },
    {
     "data": {
      "text/html": [],
      "text/plain": [
       "<IPython.core.display.HTML object>"
      ]
     },
     "metadata": {},
     "output_type": "display_data"
    },
    {
     "data": {
      "text/html": [],
      "text/plain": [
       "<IPython.core.display.HTML object>"
      ]
     },
     "metadata": {},
     "output_type": "display_data"
    },
    {
     "data": {
      "text/html": [
       "<style type=\"text/css\">\n",
       "#T_c47bf_row10_col0, #T_c47bf_row10_col1, #T_c47bf_row10_col2, #T_c47bf_row10_col3, #T_c47bf_row10_col4, #T_c47bf_row10_col5 {\n",
       "  background: yellow;\n",
       "}\n",
       "</style>\n",
       "<table id=\"T_c47bf\" class=\"dataframe\">\n",
       "  <thead>\n",
       "    <tr>\n",
       "      <th class=\"blank level0\" >&nbsp;</th>\n",
       "      <th id=\"T_c47bf_level0_col0\" class=\"col_heading level0 col0\" >MAE</th>\n",
       "      <th id=\"T_c47bf_level0_col1\" class=\"col_heading level0 col1\" >MSE</th>\n",
       "      <th id=\"T_c47bf_level0_col2\" class=\"col_heading level0 col2\" >RMSE</th>\n",
       "      <th id=\"T_c47bf_level0_col3\" class=\"col_heading level0 col3\" >R2</th>\n",
       "      <th id=\"T_c47bf_level0_col4\" class=\"col_heading level0 col4\" >RMSLE</th>\n",
       "      <th id=\"T_c47bf_level0_col5\" class=\"col_heading level0 col5\" >MAPE</th>\n",
       "    </tr>\n",
       "    <tr>\n",
       "      <th class=\"index_name level0\" >Fold</th>\n",
       "      <th class=\"blank col0\" >&nbsp;</th>\n",
       "      <th class=\"blank col1\" >&nbsp;</th>\n",
       "      <th class=\"blank col2\" >&nbsp;</th>\n",
       "      <th class=\"blank col3\" >&nbsp;</th>\n",
       "      <th class=\"blank col4\" >&nbsp;</th>\n",
       "      <th class=\"blank col5\" >&nbsp;</th>\n",
       "    </tr>\n",
       "  </thead>\n",
       "  <tbody>\n",
       "    <tr>\n",
       "      <th id=\"T_c47bf_level0_row0\" class=\"row_heading level0 row0\" >0</th>\n",
       "      <td id=\"T_c47bf_row0_col0\" class=\"data row0 col0\" >3.9292</td>\n",
       "      <td id=\"T_c47bf_row0_col1\" class=\"data row0 col1\" >44.5087</td>\n",
       "      <td id=\"T_c47bf_row0_col2\" class=\"data row0 col2\" >6.6715</td>\n",
       "      <td id=\"T_c47bf_row0_col3\" class=\"data row0 col3\" >0.9812</td>\n",
       "      <td id=\"T_c47bf_row0_col4\" class=\"data row0 col4\" >0.1661</td>\n",
       "      <td id=\"T_c47bf_row0_col5\" class=\"data row0 col5\" >0.1324</td>\n",
       "    </tr>\n",
       "    <tr>\n",
       "      <th id=\"T_c47bf_level0_row1\" class=\"row_heading level0 row1\" >1</th>\n",
       "      <td id=\"T_c47bf_row1_col0\" class=\"data row1 col0\" >4.2924</td>\n",
       "      <td id=\"T_c47bf_row1_col1\" class=\"data row1 col1\" >106.8340</td>\n",
       "      <td id=\"T_c47bf_row1_col2\" class=\"data row1 col2\" >10.3361</td>\n",
       "      <td id=\"T_c47bf_row1_col3\" class=\"data row1 col3\" >0.9440</td>\n",
       "      <td id=\"T_c47bf_row1_col4\" class=\"data row1 col4\" >0.1595</td>\n",
       "      <td id=\"T_c47bf_row1_col5\" class=\"data row1 col5\" >0.1214</td>\n",
       "    </tr>\n",
       "    <tr>\n",
       "      <th id=\"T_c47bf_level0_row2\" class=\"row_heading level0 row2\" >2</th>\n",
       "      <td id=\"T_c47bf_row2_col0\" class=\"data row2 col0\" >3.8552</td>\n",
       "      <td id=\"T_c47bf_row2_col1\" class=\"data row2 col1\" >46.6210</td>\n",
       "      <td id=\"T_c47bf_row2_col2\" class=\"data row2 col2\" >6.8280</td>\n",
       "      <td id=\"T_c47bf_row2_col3\" class=\"data row2 col3\" >0.9786</td>\n",
       "      <td id=\"T_c47bf_row2_col4\" class=\"data row2 col4\" >0.1647</td>\n",
       "      <td id=\"T_c47bf_row2_col5\" class=\"data row2 col5\" >0.1305</td>\n",
       "    </tr>\n",
       "    <tr>\n",
       "      <th id=\"T_c47bf_level0_row3\" class=\"row_heading level0 row3\" >3</th>\n",
       "      <td id=\"T_c47bf_row3_col0\" class=\"data row3 col0\" >3.7400</td>\n",
       "      <td id=\"T_c47bf_row3_col1\" class=\"data row3 col1\" >38.7710</td>\n",
       "      <td id=\"T_c47bf_row3_col2\" class=\"data row3 col2\" >6.2266</td>\n",
       "      <td id=\"T_c47bf_row3_col3\" class=\"data row3 col3\" >0.9847</td>\n",
       "      <td id=\"T_c47bf_row3_col4\" class=\"data row3 col4\" >0.1600</td>\n",
       "      <td id=\"T_c47bf_row3_col5\" class=\"data row3 col5\" >0.1247</td>\n",
       "    </tr>\n",
       "    <tr>\n",
       "      <th id=\"T_c47bf_level0_row4\" class=\"row_heading level0 row4\" >4</th>\n",
       "      <td id=\"T_c47bf_row4_col0\" class=\"data row4 col0\" >4.0907</td>\n",
       "      <td id=\"T_c47bf_row4_col1\" class=\"data row4 col1\" >70.6852</td>\n",
       "      <td id=\"T_c47bf_row4_col2\" class=\"data row4 col2\" >8.4075</td>\n",
       "      <td id=\"T_c47bf_row4_col3\" class=\"data row4 col3\" >0.9772</td>\n",
       "      <td id=\"T_c47bf_row4_col4\" class=\"data row4 col4\" >0.1800</td>\n",
       "      <td id=\"T_c47bf_row4_col5\" class=\"data row4 col5\" >0.1407</td>\n",
       "    </tr>\n",
       "    <tr>\n",
       "      <th id=\"T_c47bf_level0_row5\" class=\"row_heading level0 row5\" >5</th>\n",
       "      <td id=\"T_c47bf_row5_col0\" class=\"data row5 col0\" >4.1365</td>\n",
       "      <td id=\"T_c47bf_row5_col1\" class=\"data row5 col1\" >98.2599</td>\n",
       "      <td id=\"T_c47bf_row5_col2\" class=\"data row5 col2\" >9.9126</td>\n",
       "      <td id=\"T_c47bf_row5_col3\" class=\"data row5 col3\" >0.9676</td>\n",
       "      <td id=\"T_c47bf_row5_col4\" class=\"data row5 col4\" >0.1691</td>\n",
       "      <td id=\"T_c47bf_row5_col5\" class=\"data row5 col5\" >0.1260</td>\n",
       "    </tr>\n",
       "    <tr>\n",
       "      <th id=\"T_c47bf_level0_row6\" class=\"row_heading level0 row6\" >6</th>\n",
       "      <td id=\"T_c47bf_row6_col0\" class=\"data row6 col0\" >3.5309</td>\n",
       "      <td id=\"T_c47bf_row6_col1\" class=\"data row6 col1\" >47.2352</td>\n",
       "      <td id=\"T_c47bf_row6_col2\" class=\"data row6 col2\" >6.8728</td>\n",
       "      <td id=\"T_c47bf_row6_col3\" class=\"data row6 col3\" >0.9449</td>\n",
       "      <td id=\"T_c47bf_row6_col4\" class=\"data row6 col4\" >0.1590</td>\n",
       "      <td id=\"T_c47bf_row6_col5\" class=\"data row6 col5\" >0.1210</td>\n",
       "    </tr>\n",
       "    <tr>\n",
       "      <th id=\"T_c47bf_level0_row7\" class=\"row_heading level0 row7\" >7</th>\n",
       "      <td id=\"T_c47bf_row7_col0\" class=\"data row7 col0\" >4.1800</td>\n",
       "      <td id=\"T_c47bf_row7_col1\" class=\"data row7 col1\" >51.8487</td>\n",
       "      <td id=\"T_c47bf_row7_col2\" class=\"data row7 col2\" >7.2006</td>\n",
       "      <td id=\"T_c47bf_row7_col3\" class=\"data row7 col3\" >0.9770</td>\n",
       "      <td id=\"T_c47bf_row7_col4\" class=\"data row7 col4\" >0.1812</td>\n",
       "      <td id=\"T_c47bf_row7_col5\" class=\"data row7 col5\" >0.1369</td>\n",
       "    </tr>\n",
       "    <tr>\n",
       "      <th id=\"T_c47bf_level0_row8\" class=\"row_heading level0 row8\" >8</th>\n",
       "      <td id=\"T_c47bf_row8_col0\" class=\"data row8 col0\" >4.7513</td>\n",
       "      <td id=\"T_c47bf_row8_col1\" class=\"data row8 col1\" >149.8391</td>\n",
       "      <td id=\"T_c47bf_row8_col2\" class=\"data row8 col2\" >12.2409</td>\n",
       "      <td id=\"T_c47bf_row8_col3\" class=\"data row8 col3\" >0.9417</td>\n",
       "      <td id=\"T_c47bf_row8_col4\" class=\"data row8 col4\" >0.1800</td>\n",
       "      <td id=\"T_c47bf_row8_col5\" class=\"data row8 col5\" >0.1346</td>\n",
       "    </tr>\n",
       "    <tr>\n",
       "      <th id=\"T_c47bf_level0_row9\" class=\"row_heading level0 row9\" >9</th>\n",
       "      <td id=\"T_c47bf_row9_col0\" class=\"data row9 col0\" >3.9368</td>\n",
       "      <td id=\"T_c47bf_row9_col1\" class=\"data row9 col1\" >88.6730</td>\n",
       "      <td id=\"T_c47bf_row9_col2\" class=\"data row9 col2\" >9.4166</td>\n",
       "      <td id=\"T_c47bf_row9_col3\" class=\"data row9 col3\" >0.9618</td>\n",
       "      <td id=\"T_c47bf_row9_col4\" class=\"data row9 col4\" >0.1587</td>\n",
       "      <td id=\"T_c47bf_row9_col5\" class=\"data row9 col5\" >0.1213</td>\n",
       "    </tr>\n",
       "    <tr>\n",
       "      <th id=\"T_c47bf_level0_row10\" class=\"row_heading level0 row10\" >Mean</th>\n",
       "      <td id=\"T_c47bf_row10_col0\" class=\"data row10 col0\" >4.0443</td>\n",
       "      <td id=\"T_c47bf_row10_col1\" class=\"data row10 col1\" >74.3276</td>\n",
       "      <td id=\"T_c47bf_row10_col2\" class=\"data row10 col2\" >8.4113</td>\n",
       "      <td id=\"T_c47bf_row10_col3\" class=\"data row10 col3\" >0.9659</td>\n",
       "      <td id=\"T_c47bf_row10_col4\" class=\"data row10 col4\" >0.1678</td>\n",
       "      <td id=\"T_c47bf_row10_col5\" class=\"data row10 col5\" >0.1289</td>\n",
       "    </tr>\n",
       "    <tr>\n",
       "      <th id=\"T_c47bf_level0_row11\" class=\"row_heading level0 row11\" >Std</th>\n",
       "      <td id=\"T_c47bf_row11_col0\" class=\"data row11 col0\" >0.3174</td>\n",
       "      <td id=\"T_c47bf_row11_col1\" class=\"data row11 col1\" >34.2211</td>\n",
       "      <td id=\"T_c47bf_row11_col2\" class=\"data row11 col2\" >1.8914</td>\n",
       "      <td id=\"T_c47bf_row11_col3\" class=\"data row11 col3\" >0.0159</td>\n",
       "      <td id=\"T_c47bf_row11_col4\" class=\"data row11 col4\" >0.0088</td>\n",
       "      <td id=\"T_c47bf_row11_col5\" class=\"data row11 col5\" >0.0067</td>\n",
       "    </tr>\n",
       "  </tbody>\n",
       "</table>\n"
      ],
      "text/plain": [
       "<pandas.io.formats.style.Styler at 0x7f50f0b02500>"
      ]
     },
     "metadata": {},
     "output_type": "display_data"
    },
    {
     "data": {
      "application/vnd.jupyter.widget-view+json": {
       "model_id": "dac445aa8d4c46f086638d69e61b84f1",
       "version_major": 2,
       "version_minor": 0
      },
      "text/plain": [
       "Processing:   0%|          | 0/7 [00:00<?, ?it/s]"
      ]
     },
     "metadata": {
      "application/vnd.jupyter.widget-view+json": {
       "colab": {
        "custom_widget_manager": {
         "url": "https://ssl.gstatic.com/colaboratory-static/widgets/colab-cdn-widget-manager/2b70e893a8ba7c0f/manager.min.js"
        }
       }
      }
     },
     "output_type": "display_data"
    },
    {
     "name": "stdout",
     "output_type": "stream",
     "text": [
      "Fitting 10 folds for each of 10 candidates, totalling 100 fits\n"
     ]
    },
    {
     "data": {
      "text/html": [],
      "text/plain": [
       "<IPython.core.display.HTML object>"
      ]
     },
     "metadata": {},
     "output_type": "display_data"
    },
    {
     "name": "stdout",
     "output_type": "stream",
     "text": [
      "Original model was better than the tuned model, hence it will be returned. NOTE: The display metrics are for the tuned model (not the original one).\n"
     ]
    },
    {
     "data": {
      "text/html": [],
      "text/plain": [
       "<IPython.core.display.HTML object>"
      ]
     },
     "metadata": {},
     "output_type": "display_data"
    },
    {
     "data": {
      "text/html": [],
      "text/plain": [
       "<IPython.core.display.HTML object>"
      ]
     },
     "metadata": {},
     "output_type": "display_data"
    },
    {
     "data": {
      "text/html": [],
      "text/plain": [
       "<IPython.core.display.HTML object>"
      ]
     },
     "metadata": {},
     "output_type": "display_data"
    },
    {
     "data": {
      "text/html": [
       "<style type=\"text/css\">\n",
       "#T_a9b9a_row10_col0, #T_a9b9a_row10_col1, #T_a9b9a_row10_col2, #T_a9b9a_row10_col3, #T_a9b9a_row10_col4, #T_a9b9a_row10_col5 {\n",
       "  background: yellow;\n",
       "}\n",
       "</style>\n",
       "<table id=\"T_a9b9a\" class=\"dataframe\">\n",
       "  <thead>\n",
       "    <tr>\n",
       "      <th class=\"blank level0\" >&nbsp;</th>\n",
       "      <th id=\"T_a9b9a_level0_col0\" class=\"col_heading level0 col0\" >MAE</th>\n",
       "      <th id=\"T_a9b9a_level0_col1\" class=\"col_heading level0 col1\" >MSE</th>\n",
       "      <th id=\"T_a9b9a_level0_col2\" class=\"col_heading level0 col2\" >RMSE</th>\n",
       "      <th id=\"T_a9b9a_level0_col3\" class=\"col_heading level0 col3\" >R2</th>\n",
       "      <th id=\"T_a9b9a_level0_col4\" class=\"col_heading level0 col4\" >RMSLE</th>\n",
       "      <th id=\"T_a9b9a_level0_col5\" class=\"col_heading level0 col5\" >MAPE</th>\n",
       "    </tr>\n",
       "    <tr>\n",
       "      <th class=\"index_name level0\" >Fold</th>\n",
       "      <th class=\"blank col0\" >&nbsp;</th>\n",
       "      <th class=\"blank col1\" >&nbsp;</th>\n",
       "      <th class=\"blank col2\" >&nbsp;</th>\n",
       "      <th class=\"blank col3\" >&nbsp;</th>\n",
       "      <th class=\"blank col4\" >&nbsp;</th>\n",
       "      <th class=\"blank col5\" >&nbsp;</th>\n",
       "    </tr>\n",
       "  </thead>\n",
       "  <tbody>\n",
       "    <tr>\n",
       "      <th id=\"T_a9b9a_level0_row0\" class=\"row_heading level0 row0\" >0</th>\n",
       "      <td id=\"T_a9b9a_row0_col0\" class=\"data row0 col0\" >4.3470</td>\n",
       "      <td id=\"T_a9b9a_row0_col1\" class=\"data row0 col1\" >59.6703</td>\n",
       "      <td id=\"T_a9b9a_row0_col2\" class=\"data row0 col2\" >7.7247</td>\n",
       "      <td id=\"T_a9b9a_row0_col3\" class=\"data row0 col3\" >0.9748</td>\n",
       "      <td id=\"T_a9b9a_row0_col4\" class=\"data row0 col4\" >0.1902</td>\n",
       "      <td id=\"T_a9b9a_row0_col5\" class=\"data row0 col5\" >0.1542</td>\n",
       "    </tr>\n",
       "    <tr>\n",
       "      <th id=\"T_a9b9a_level0_row1\" class=\"row_heading level0 row1\" >1</th>\n",
       "      <td id=\"T_a9b9a_row1_col0\" class=\"data row1 col0\" >4.6731</td>\n",
       "      <td id=\"T_a9b9a_row1_col1\" class=\"data row1 col1\" >138.3545</td>\n",
       "      <td id=\"T_a9b9a_row1_col2\" class=\"data row1 col2\" >11.7624</td>\n",
       "      <td id=\"T_a9b9a_row1_col3\" class=\"data row1 col3\" >0.9275</td>\n",
       "      <td id=\"T_a9b9a_row1_col4\" class=\"data row1 col4\" >0.1862</td>\n",
       "      <td id=\"T_a9b9a_row1_col5\" class=\"data row1 col5\" >0.1447</td>\n",
       "    </tr>\n",
       "    <tr>\n",
       "      <th id=\"T_a9b9a_level0_row2\" class=\"row_heading level0 row2\" >2</th>\n",
       "      <td id=\"T_a9b9a_row2_col0\" class=\"data row2 col0\" >4.0951</td>\n",
       "      <td id=\"T_a9b9a_row2_col1\" class=\"data row2 col1\" >70.4999</td>\n",
       "      <td id=\"T_a9b9a_row2_col2\" class=\"data row2 col2\" >8.3964</td>\n",
       "      <td id=\"T_a9b9a_row2_col3\" class=\"data row2 col3\" >0.9676</td>\n",
       "      <td id=\"T_a9b9a_row2_col4\" class=\"data row2 col4\" >0.1865</td>\n",
       "      <td id=\"T_a9b9a_row2_col5\" class=\"data row2 col5\" >0.1479</td>\n",
       "    </tr>\n",
       "    <tr>\n",
       "      <th id=\"T_a9b9a_level0_row3\" class=\"row_heading level0 row3\" >3</th>\n",
       "      <td id=\"T_a9b9a_row3_col0\" class=\"data row3 col0\" >4.4145</td>\n",
       "      <td id=\"T_a9b9a_row3_col1\" class=\"data row3 col1\" >56.8859</td>\n",
       "      <td id=\"T_a9b9a_row3_col2\" class=\"data row3 col2\" >7.5423</td>\n",
       "      <td id=\"T_a9b9a_row3_col3\" class=\"data row3 col3\" >0.9775</td>\n",
       "      <td id=\"T_a9b9a_row3_col4\" class=\"data row3 col4\" >0.1902</td>\n",
       "      <td id=\"T_a9b9a_row3_col5\" class=\"data row3 col5\" >0.1537</td>\n",
       "    </tr>\n",
       "    <tr>\n",
       "      <th id=\"T_a9b9a_level0_row4\" class=\"row_heading level0 row4\" >4</th>\n",
       "      <td id=\"T_a9b9a_row4_col0\" class=\"data row4 col0\" >4.4067</td>\n",
       "      <td id=\"T_a9b9a_row4_col1\" class=\"data row4 col1\" >58.7397</td>\n",
       "      <td id=\"T_a9b9a_row4_col2\" class=\"data row4 col2\" >7.6642</td>\n",
       "      <td id=\"T_a9b9a_row4_col3\" class=\"data row4 col3\" >0.9811</td>\n",
       "      <td id=\"T_a9b9a_row4_col4\" class=\"data row4 col4\" >0.2038</td>\n",
       "      <td id=\"T_a9b9a_row4_col5\" class=\"data row4 col5\" >0.1640</td>\n",
       "    </tr>\n",
       "    <tr>\n",
       "      <th id=\"T_a9b9a_level0_row5\" class=\"row_heading level0 row5\" >5</th>\n",
       "      <td id=\"T_a9b9a_row5_col0\" class=\"data row5 col0\" >4.5944</td>\n",
       "      <td id=\"T_a9b9a_row5_col1\" class=\"data row5 col1\" >154.2305</td>\n",
       "      <td id=\"T_a9b9a_row5_col2\" class=\"data row5 col2\" >12.4190</td>\n",
       "      <td id=\"T_a9b9a_row5_col3\" class=\"data row5 col3\" >0.9492</td>\n",
       "      <td id=\"T_a9b9a_row5_col4\" class=\"data row5 col4\" >0.1946</td>\n",
       "      <td id=\"T_a9b9a_row5_col5\" class=\"data row5 col5\" >0.1495</td>\n",
       "    </tr>\n",
       "    <tr>\n",
       "      <th id=\"T_a9b9a_level0_row6\" class=\"row_heading level0 row6\" >6</th>\n",
       "      <td id=\"T_a9b9a_row6_col0\" class=\"data row6 col0\" >3.8411</td>\n",
       "      <td id=\"T_a9b9a_row6_col1\" class=\"data row6 col1\" >41.5819</td>\n",
       "      <td id=\"T_a9b9a_row6_col2\" class=\"data row6 col2\" >6.4484</td>\n",
       "      <td id=\"T_a9b9a_row6_col3\" class=\"data row6 col3\" >0.9515</td>\n",
       "      <td id=\"T_a9b9a_row6_col4\" class=\"data row6 col4\" >0.1960</td>\n",
       "      <td id=\"T_a9b9a_row6_col5\" class=\"data row6 col5\" >0.1500</td>\n",
       "    </tr>\n",
       "    <tr>\n",
       "      <th id=\"T_a9b9a_level0_row7\" class=\"row_heading level0 row7\" >7</th>\n",
       "      <td id=\"T_a9b9a_row7_col0\" class=\"data row7 col0\" >4.3380</td>\n",
       "      <td id=\"T_a9b9a_row7_col1\" class=\"data row7 col1\" >54.6762</td>\n",
       "      <td id=\"T_a9b9a_row7_col2\" class=\"data row7 col2\" >7.3943</td>\n",
       "      <td id=\"T_a9b9a_row7_col3\" class=\"data row7 col3\" >0.9757</td>\n",
       "      <td id=\"T_a9b9a_row7_col4\" class=\"data row7 col4\" >0.1960</td>\n",
       "      <td id=\"T_a9b9a_row7_col5\" class=\"data row7 col5\" >0.1477</td>\n",
       "    </tr>\n",
       "    <tr>\n",
       "      <th id=\"T_a9b9a_level0_row8\" class=\"row_heading level0 row8\" >8</th>\n",
       "      <td id=\"T_a9b9a_row8_col0\" class=\"data row8 col0\" >5.1512</td>\n",
       "      <td id=\"T_a9b9a_row8_col1\" class=\"data row8 col1\" >117.4820</td>\n",
       "      <td id=\"T_a9b9a_row8_col2\" class=\"data row8 col2\" >10.8389</td>\n",
       "      <td id=\"T_a9b9a_row8_col3\" class=\"data row8 col3\" >0.9543</td>\n",
       "      <td id=\"T_a9b9a_row8_col4\" class=\"data row8 col4\" >0.2381</td>\n",
       "      <td id=\"T_a9b9a_row8_col5\" class=\"data row8 col5\" >0.1716</td>\n",
       "    </tr>\n",
       "    <tr>\n",
       "      <th id=\"T_a9b9a_level0_row9\" class=\"row_heading level0 row9\" >9</th>\n",
       "      <td id=\"T_a9b9a_row9_col0\" class=\"data row9 col0\" >4.6680</td>\n",
       "      <td id=\"T_a9b9a_row9_col1\" class=\"data row9 col1\" >90.0477</td>\n",
       "      <td id=\"T_a9b9a_row9_col2\" class=\"data row9 col2\" >9.4893</td>\n",
       "      <td id=\"T_a9b9a_row9_col3\" class=\"data row9 col3\" >0.9612</td>\n",
       "      <td id=\"T_a9b9a_row9_col4\" class=\"data row9 col4\" >0.2055</td>\n",
       "      <td id=\"T_a9b9a_row9_col5\" class=\"data row9 col5\" >0.1546</td>\n",
       "    </tr>\n",
       "    <tr>\n",
       "      <th id=\"T_a9b9a_level0_row10\" class=\"row_heading level0 row10\" >Mean</th>\n",
       "      <td id=\"T_a9b9a_row10_col0\" class=\"data row10 col0\" >4.4529</td>\n",
       "      <td id=\"T_a9b9a_row10_col1\" class=\"data row10 col1\" >84.2169</td>\n",
       "      <td id=\"T_a9b9a_row10_col2\" class=\"data row10 col2\" >8.9680</td>\n",
       "      <td id=\"T_a9b9a_row10_col3\" class=\"data row10 col3\" >0.9620</td>\n",
       "      <td id=\"T_a9b9a_row10_col4\" class=\"data row10 col4\" >0.1987</td>\n",
       "      <td id=\"T_a9b9a_row10_col5\" class=\"data row10 col5\" >0.1538</td>\n",
       "    </tr>\n",
       "    <tr>\n",
       "      <th id=\"T_a9b9a_level0_row11\" class=\"row_heading level0 row11\" >Std</th>\n",
       "      <td id=\"T_a9b9a_row11_col0\" class=\"data row11 col0\" >0.3366</td>\n",
       "      <td id=\"T_a9b9a_row11_col1\" class=\"data row11 col1\" >37.2163</td>\n",
       "      <td id=\"T_a9b9a_row11_col2\" class=\"data row11 col2\" >1.9473</td>\n",
       "      <td id=\"T_a9b9a_row11_col3\" class=\"data row11 col3\" >0.0159</td>\n",
       "      <td id=\"T_a9b9a_row11_col4\" class=\"data row11 col4\" >0.0145</td>\n",
       "      <td id=\"T_a9b9a_row11_col5\" class=\"data row11 col5\" >0.0078</td>\n",
       "    </tr>\n",
       "  </tbody>\n",
       "</table>\n"
      ],
      "text/plain": [
       "<pandas.io.formats.style.Styler at 0x7f508f3c0520>"
      ]
     },
     "metadata": {},
     "output_type": "display_data"
    },
    {
     "data": {
      "application/vnd.jupyter.widget-view+json": {
       "model_id": "80df81df4b3a4d34940fb30b64947a18",
       "version_major": 2,
       "version_minor": 0
      },
      "text/plain": [
       "Processing:   0%|          | 0/7 [00:00<?, ?it/s]"
      ]
     },
     "metadata": {
      "application/vnd.jupyter.widget-view+json": {
       "colab": {
        "custom_widget_manager": {
         "url": "https://ssl.gstatic.com/colaboratory-static/widgets/colab-cdn-widget-manager/2b70e893a8ba7c0f/manager.min.js"
        }
       }
      }
     },
     "output_type": "display_data"
    },
    {
     "name": "stdout",
     "output_type": "stream",
     "text": [
      "Fitting 10 folds for each of 10 candidates, totalling 100 fits\n"
     ]
    },
    {
     "data": {
      "text/html": [],
      "text/plain": [
       "<IPython.core.display.HTML object>"
      ]
     },
     "metadata": {},
     "output_type": "display_data"
    },
    {
     "name": "stdout",
     "output_type": "stream",
     "text": [
      "Original model was better than the tuned model, hence it will be returned. NOTE: The display metrics are for the tuned model (not the original one).\n"
     ]
    },
    {
     "data": {
      "text/html": [],
      "text/plain": [
       "<IPython.core.display.HTML object>"
      ]
     },
     "metadata": {},
     "output_type": "display_data"
    },
    {
     "data": {
      "text/html": [],
      "text/plain": [
       "<IPython.core.display.HTML object>"
      ]
     },
     "metadata": {},
     "output_type": "display_data"
    },
    {
     "data": {
      "text/html": [],
      "text/plain": [
       "<IPython.core.display.HTML object>"
      ]
     },
     "metadata": {},
     "output_type": "display_data"
    },
    {
     "data": {
      "text/html": [
       "<style type=\"text/css\">\n",
       "#T_1db9a_row10_col0, #T_1db9a_row10_col1, #T_1db9a_row10_col2, #T_1db9a_row10_col3, #T_1db9a_row10_col4, #T_1db9a_row10_col5 {\n",
       "  background: yellow;\n",
       "}\n",
       "</style>\n",
       "<table id=\"T_1db9a\" class=\"dataframe\">\n",
       "  <thead>\n",
       "    <tr>\n",
       "      <th class=\"blank level0\" >&nbsp;</th>\n",
       "      <th id=\"T_1db9a_level0_col0\" class=\"col_heading level0 col0\" >MAE</th>\n",
       "      <th id=\"T_1db9a_level0_col1\" class=\"col_heading level0 col1\" >MSE</th>\n",
       "      <th id=\"T_1db9a_level0_col2\" class=\"col_heading level0 col2\" >RMSE</th>\n",
       "      <th id=\"T_1db9a_level0_col3\" class=\"col_heading level0 col3\" >R2</th>\n",
       "      <th id=\"T_1db9a_level0_col4\" class=\"col_heading level0 col4\" >RMSLE</th>\n",
       "      <th id=\"T_1db9a_level0_col5\" class=\"col_heading level0 col5\" >MAPE</th>\n",
       "    </tr>\n",
       "    <tr>\n",
       "      <th class=\"index_name level0\" >Fold</th>\n",
       "      <th class=\"blank col0\" >&nbsp;</th>\n",
       "      <th class=\"blank col1\" >&nbsp;</th>\n",
       "      <th class=\"blank col2\" >&nbsp;</th>\n",
       "      <th class=\"blank col3\" >&nbsp;</th>\n",
       "      <th class=\"blank col4\" >&nbsp;</th>\n",
       "      <th class=\"blank col5\" >&nbsp;</th>\n",
       "    </tr>\n",
       "  </thead>\n",
       "  <tbody>\n",
       "    <tr>\n",
       "      <th id=\"T_1db9a_level0_row0\" class=\"row_heading level0 row0\" >0</th>\n",
       "      <td id=\"T_1db9a_row0_col0\" class=\"data row0 col0\" >3.9316</td>\n",
       "      <td id=\"T_1db9a_row0_col1\" class=\"data row0 col1\" >44.5689</td>\n",
       "      <td id=\"T_1db9a_row0_col2\" class=\"data row0 col2\" >6.6760</td>\n",
       "      <td id=\"T_1db9a_row0_col3\" class=\"data row0 col3\" >0.9812</td>\n",
       "      <td id=\"T_1db9a_row0_col4\" class=\"data row0 col4\" >0.1731</td>\n",
       "      <td id=\"T_1db9a_row0_col5\" class=\"data row0 col5\" >0.1328</td>\n",
       "    </tr>\n",
       "    <tr>\n",
       "      <th id=\"T_1db9a_level0_row1\" class=\"row_heading level0 row1\" >1</th>\n",
       "      <td id=\"T_1db9a_row1_col0\" class=\"data row1 col0\" >4.2490</td>\n",
       "      <td id=\"T_1db9a_row1_col1\" class=\"data row1 col1\" >106.4776</td>\n",
       "      <td id=\"T_1db9a_row1_col2\" class=\"data row1 col2\" >10.3188</td>\n",
       "      <td id=\"T_1db9a_row1_col3\" class=\"data row1 col3\" >0.9442</td>\n",
       "      <td id=\"T_1db9a_row1_col4\" class=\"data row1 col4\" >0.1606</td>\n",
       "      <td id=\"T_1db9a_row1_col5\" class=\"data row1 col5\" >0.1197</td>\n",
       "    </tr>\n",
       "    <tr>\n",
       "      <th id=\"T_1db9a_level0_row2\" class=\"row_heading level0 row2\" >2</th>\n",
       "      <td id=\"T_1db9a_row2_col0\" class=\"data row2 col0\" >3.8099</td>\n",
       "      <td id=\"T_1db9a_row2_col1\" class=\"data row2 col1\" >45.9515</td>\n",
       "      <td id=\"T_1db9a_row2_col2\" class=\"data row2 col2\" >6.7788</td>\n",
       "      <td id=\"T_1db9a_row2_col3\" class=\"data row2 col3\" >0.9789</td>\n",
       "      <td id=\"T_1db9a_row2_col4\" class=\"data row2 col4\" >0.1616</td>\n",
       "      <td id=\"T_1db9a_row2_col5\" class=\"data row2 col5\" >0.1267</td>\n",
       "    </tr>\n",
       "    <tr>\n",
       "      <th id=\"T_1db9a_level0_row3\" class=\"row_heading level0 row3\" >3</th>\n",
       "      <td id=\"T_1db9a_row3_col0\" class=\"data row3 col0\" >3.7284</td>\n",
       "      <td id=\"T_1db9a_row3_col1\" class=\"data row3 col1\" >39.2377</td>\n",
       "      <td id=\"T_1db9a_row3_col2\" class=\"data row3 col2\" >6.2640</td>\n",
       "      <td id=\"T_1db9a_row3_col3\" class=\"data row3 col3\" >0.9845</td>\n",
       "      <td id=\"T_1db9a_row3_col4\" class=\"data row3 col4\" >0.1524</td>\n",
       "      <td id=\"T_1db9a_row3_col5\" class=\"data row3 col5\" >0.1192</td>\n",
       "    </tr>\n",
       "    <tr>\n",
       "      <th id=\"T_1db9a_level0_row4\" class=\"row_heading level0 row4\" >4</th>\n",
       "      <td id=\"T_1db9a_row4_col0\" class=\"data row4 col0\" >4.0845</td>\n",
       "      <td id=\"T_1db9a_row4_col1\" class=\"data row4 col1\" >78.1395</td>\n",
       "      <td id=\"T_1db9a_row4_col2\" class=\"data row4 col2\" >8.8397</td>\n",
       "      <td id=\"T_1db9a_row4_col3\" class=\"data row4 col3\" >0.9748</td>\n",
       "      <td id=\"T_1db9a_row4_col4\" class=\"data row4 col4\" >0.1728</td>\n",
       "      <td id=\"T_1db9a_row4_col5\" class=\"data row4 col5\" >0.1315</td>\n",
       "    </tr>\n",
       "    <tr>\n",
       "      <th id=\"T_1db9a_level0_row5\" class=\"row_heading level0 row5\" >5</th>\n",
       "      <td id=\"T_1db9a_row5_col0\" class=\"data row5 col0\" >4.0895</td>\n",
       "      <td id=\"T_1db9a_row5_col1\" class=\"data row5 col1\" >98.9872</td>\n",
       "      <td id=\"T_1db9a_row5_col2\" class=\"data row5 col2\" >9.9492</td>\n",
       "      <td id=\"T_1db9a_row5_col3\" class=\"data row5 col3\" >0.9674</td>\n",
       "      <td id=\"T_1db9a_row5_col4\" class=\"data row5 col4\" >0.1644</td>\n",
       "      <td id=\"T_1db9a_row5_col5\" class=\"data row5 col5\" >0.1223</td>\n",
       "    </tr>\n",
       "    <tr>\n",
       "      <th id=\"T_1db9a_level0_row6\" class=\"row_heading level0 row6\" >6</th>\n",
       "      <td id=\"T_1db9a_row6_col0\" class=\"data row6 col0\" >3.5076</td>\n",
       "      <td id=\"T_1db9a_row6_col1\" class=\"data row6 col1\" >46.4297</td>\n",
       "      <td id=\"T_1db9a_row6_col2\" class=\"data row6 col2\" >6.8139</td>\n",
       "      <td id=\"T_1db9a_row6_col3\" class=\"data row6 col3\" >0.9459</td>\n",
       "      <td id=\"T_1db9a_row6_col4\" class=\"data row6 col4\" >0.1606</td>\n",
       "      <td id=\"T_1db9a_row6_col5\" class=\"data row6 col5\" >0.1224</td>\n",
       "    </tr>\n",
       "    <tr>\n",
       "      <th id=\"T_1db9a_level0_row7\" class=\"row_heading level0 row7\" >7</th>\n",
       "      <td id=\"T_1db9a_row7_col0\" class=\"data row7 col0\" >4.0660</td>\n",
       "      <td id=\"T_1db9a_row7_col1\" class=\"data row7 col1\" >49.3195</td>\n",
       "      <td id=\"T_1db9a_row7_col2\" class=\"data row7 col2\" >7.0228</td>\n",
       "      <td id=\"T_1db9a_row7_col3\" class=\"data row7 col3\" >0.9781</td>\n",
       "      <td id=\"T_1db9a_row7_col4\" class=\"data row7 col4\" >0.1739</td>\n",
       "      <td id=\"T_1db9a_row7_col5\" class=\"data row7 col5\" >0.1302</td>\n",
       "    </tr>\n",
       "    <tr>\n",
       "      <th id=\"T_1db9a_level0_row8\" class=\"row_heading level0 row8\" >8</th>\n",
       "      <td id=\"T_1db9a_row8_col0\" class=\"data row8 col0\" >4.7435</td>\n",
       "      <td id=\"T_1db9a_row8_col1\" class=\"data row8 col1\" >158.1815</td>\n",
       "      <td id=\"T_1db9a_row8_col2\" class=\"data row8 col2\" >12.5770</td>\n",
       "      <td id=\"T_1db9a_row8_col3\" class=\"data row8 col3\" >0.9385</td>\n",
       "      <td id=\"T_1db9a_row8_col4\" class=\"data row8 col4\" >0.1780</td>\n",
       "      <td id=\"T_1db9a_row8_col5\" class=\"data row8 col5\" >0.1320</td>\n",
       "    </tr>\n",
       "    <tr>\n",
       "      <th id=\"T_1db9a_level0_row9\" class=\"row_heading level0 row9\" >9</th>\n",
       "      <td id=\"T_1db9a_row9_col0\" class=\"data row9 col0\" >3.9088</td>\n",
       "      <td id=\"T_1db9a_row9_col1\" class=\"data row9 col1\" >89.1391</td>\n",
       "      <td id=\"T_1db9a_row9_col2\" class=\"data row9 col2\" >9.4414</td>\n",
       "      <td id=\"T_1db9a_row9_col3\" class=\"data row9 col3\" >0.9616</td>\n",
       "      <td id=\"T_1db9a_row9_col4\" class=\"data row9 col4\" >0.1518</td>\n",
       "      <td id=\"T_1db9a_row9_col5\" class=\"data row9 col5\" >0.1176</td>\n",
       "    </tr>\n",
       "    <tr>\n",
       "      <th id=\"T_1db9a_level0_row10\" class=\"row_heading level0 row10\" >Mean</th>\n",
       "      <td id=\"T_1db9a_row10_col0\" class=\"data row10 col0\" >4.0119</td>\n",
       "      <td id=\"T_1db9a_row10_col1\" class=\"data row10 col1\" >75.6432</td>\n",
       "      <td id=\"T_1db9a_row10_col2\" class=\"data row10 col2\" >8.4682</td>\n",
       "      <td id=\"T_1db9a_row10_col3\" class=\"data row10 col3\" >0.9655</td>\n",
       "      <td id=\"T_1db9a_row10_col4\" class=\"data row10 col4\" >0.1649</td>\n",
       "      <td id=\"T_1db9a_row10_col5\" class=\"data row10 col5\" >0.1254</td>\n",
       "    </tr>\n",
       "    <tr>\n",
       "      <th id=\"T_1db9a_level0_row11\" class=\"row_heading level0 row11\" >Std</th>\n",
       "      <td id=\"T_1db9a_row11_col0\" class=\"data row11 col0\" >0.3159</td>\n",
       "      <td id=\"T_1db9a_row11_col1\" class=\"data row11 col1\" >36.3532</td>\n",
       "      <td id=\"T_1db9a_row11_col2\" class=\"data row11 col2\" >1.9833</td>\n",
       "      <td id=\"T_1db9a_row11_col3\" class=\"data row11 col3\" >0.0162</td>\n",
       "      <td id=\"T_1db9a_row11_col4\" class=\"data row11 col4\" >0.0087</td>\n",
       "      <td id=\"T_1db9a_row11_col5\" class=\"data row11 col5\" >0.0056</td>\n",
       "    </tr>\n",
       "  </tbody>\n",
       "</table>\n"
      ],
      "text/plain": [
       "<pandas.io.formats.style.Styler at 0x7f50f00c0640>"
      ]
     },
     "metadata": {},
     "output_type": "display_data"
    },
    {
     "data": {
      "application/vnd.jupyter.widget-view+json": {
       "model_id": "5fe36ead68334067ab0b264cd35d9943",
       "version_major": 2,
       "version_minor": 0
      },
      "text/plain": [
       "Processing:   0%|          | 0/7 [00:00<?, ?it/s]"
      ]
     },
     "metadata": {
      "application/vnd.jupyter.widget-view+json": {
       "colab": {
        "custom_widget_manager": {
         "url": "https://ssl.gstatic.com/colaboratory-static/widgets/colab-cdn-widget-manager/2b70e893a8ba7c0f/manager.min.js"
        }
       }
      }
     },
     "output_type": "display_data"
    },
    {
     "name": "stdout",
     "output_type": "stream",
     "text": [
      "Fitting 10 folds for each of 10 candidates, totalling 100 fits\n"
     ]
    },
    {
     "data": {
      "text/html": [],
      "text/plain": [
       "<IPython.core.display.HTML object>"
      ]
     },
     "metadata": {},
     "output_type": "display_data"
    },
    {
     "name": "stdout",
     "output_type": "stream",
     "text": [
      "Original model was better than the tuned model, hence it will be returned. NOTE: The display metrics are for the tuned model (not the original one).\n"
     ]
    },
    {
     "data": {
      "text/html": [],
      "text/plain": [
       "<IPython.core.display.HTML object>"
      ]
     },
     "metadata": {},
     "output_type": "display_data"
    },
    {
     "data": {
      "text/html": [],
      "text/plain": [
       "<IPython.core.display.HTML object>"
      ]
     },
     "metadata": {},
     "output_type": "display_data"
    },
    {
     "data": {
      "text/html": [],
      "text/plain": [
       "<IPython.core.display.HTML object>"
      ]
     },
     "metadata": {},
     "output_type": "display_data"
    },
    {
     "data": {
      "text/html": [
       "<style type=\"text/css\">\n",
       "#T_1018f_row10_col0, #T_1018f_row10_col1, #T_1018f_row10_col2, #T_1018f_row10_col3, #T_1018f_row10_col4, #T_1018f_row10_col5 {\n",
       "  background: yellow;\n",
       "}\n",
       "</style>\n",
       "<table id=\"T_1018f\" class=\"dataframe\">\n",
       "  <thead>\n",
       "    <tr>\n",
       "      <th class=\"blank level0\" >&nbsp;</th>\n",
       "      <th id=\"T_1018f_level0_col0\" class=\"col_heading level0 col0\" >MAE</th>\n",
       "      <th id=\"T_1018f_level0_col1\" class=\"col_heading level0 col1\" >MSE</th>\n",
       "      <th id=\"T_1018f_level0_col2\" class=\"col_heading level0 col2\" >RMSE</th>\n",
       "      <th id=\"T_1018f_level0_col3\" class=\"col_heading level0 col3\" >R2</th>\n",
       "      <th id=\"T_1018f_level0_col4\" class=\"col_heading level0 col4\" >RMSLE</th>\n",
       "      <th id=\"T_1018f_level0_col5\" class=\"col_heading level0 col5\" >MAPE</th>\n",
       "    </tr>\n",
       "    <tr>\n",
       "      <th class=\"index_name level0\" >Fold</th>\n",
       "      <th class=\"blank col0\" >&nbsp;</th>\n",
       "      <th class=\"blank col1\" >&nbsp;</th>\n",
       "      <th class=\"blank col2\" >&nbsp;</th>\n",
       "      <th class=\"blank col3\" >&nbsp;</th>\n",
       "      <th class=\"blank col4\" >&nbsp;</th>\n",
       "      <th class=\"blank col5\" >&nbsp;</th>\n",
       "    </tr>\n",
       "  </thead>\n",
       "  <tbody>\n",
       "    <tr>\n",
       "      <th id=\"T_1018f_level0_row0\" class=\"row_heading level0 row0\" >0</th>\n",
       "      <td id=\"T_1018f_row0_col0\" class=\"data row0 col0\" >3.9106</td>\n",
       "      <td id=\"T_1018f_row0_col1\" class=\"data row0 col1\" >44.4430</td>\n",
       "      <td id=\"T_1018f_row0_col2\" class=\"data row0 col2\" >6.6666</td>\n",
       "      <td id=\"T_1018f_row0_col3\" class=\"data row0 col3\" >0.9812</td>\n",
       "      <td id=\"T_1018f_row0_col4\" class=\"data row0 col4\" >0.1711</td>\n",
       "      <td id=\"T_1018f_row0_col5\" class=\"data row0 col5\" >0.1308</td>\n",
       "    </tr>\n",
       "    <tr>\n",
       "      <th id=\"T_1018f_level0_row1\" class=\"row_heading level0 row1\" >1</th>\n",
       "      <td id=\"T_1018f_row1_col0\" class=\"data row1 col0\" >4.2697</td>\n",
       "      <td id=\"T_1018f_row1_col1\" class=\"data row1 col1\" >106.2689</td>\n",
       "      <td id=\"T_1018f_row1_col2\" class=\"data row1 col2\" >10.3087</td>\n",
       "      <td id=\"T_1018f_row1_col3\" class=\"data row1 col3\" >0.9443</td>\n",
       "      <td id=\"T_1018f_row1_col4\" class=\"data row1 col4\" >0.1639</td>\n",
       "      <td id=\"T_1018f_row1_col5\" class=\"data row1 col5\" >0.1210</td>\n",
       "    </tr>\n",
       "    <tr>\n",
       "      <th id=\"T_1018f_level0_row2\" class=\"row_heading level0 row2\" >2</th>\n",
       "      <td id=\"T_1018f_row2_col0\" class=\"data row2 col0\" >3.8403</td>\n",
       "      <td id=\"T_1018f_row2_col1\" class=\"data row2 col1\" >46.0818</td>\n",
       "      <td id=\"T_1018f_row2_col2\" class=\"data row2 col2\" >6.7884</td>\n",
       "      <td id=\"T_1018f_row2_col3\" class=\"data row2 col3\" >0.9788</td>\n",
       "      <td id=\"T_1018f_row2_col4\" class=\"data row2 col4\" >0.1634</td>\n",
       "      <td id=\"T_1018f_row2_col5\" class=\"data row2 col5\" >0.1267</td>\n",
       "    </tr>\n",
       "    <tr>\n",
       "      <th id=\"T_1018f_level0_row3\" class=\"row_heading level0 row3\" >3</th>\n",
       "      <td id=\"T_1018f_row3_col0\" class=\"data row3 col0\" >3.7396</td>\n",
       "      <td id=\"T_1018f_row3_col1\" class=\"data row3 col1\" >39.5144</td>\n",
       "      <td id=\"T_1018f_row3_col2\" class=\"data row3 col2\" >6.2860</td>\n",
       "      <td id=\"T_1018f_row3_col3\" class=\"data row3 col3\" >0.9844</td>\n",
       "      <td id=\"T_1018f_row3_col4\" class=\"data row3 col4\" >0.1513</td>\n",
       "      <td id=\"T_1018f_row3_col5\" class=\"data row3 col5\" >0.1185</td>\n",
       "    </tr>\n",
       "    <tr>\n",
       "      <th id=\"T_1018f_level0_row4\" class=\"row_heading level0 row4\" >4</th>\n",
       "      <td id=\"T_1018f_row4_col0\" class=\"data row4 col0\" >4.1045</td>\n",
       "      <td id=\"T_1018f_row4_col1\" class=\"data row4 col1\" >77.1857</td>\n",
       "      <td id=\"T_1018f_row4_col2\" class=\"data row4 col2\" >8.7855</td>\n",
       "      <td id=\"T_1018f_row4_col3\" class=\"data row4 col3\" >0.9751</td>\n",
       "      <td id=\"T_1018f_row4_col4\" class=\"data row4 col4\" >0.1757</td>\n",
       "      <td id=\"T_1018f_row4_col5\" class=\"data row4 col5\" >0.1336</td>\n",
       "    </tr>\n",
       "    <tr>\n",
       "      <th id=\"T_1018f_level0_row5\" class=\"row_heading level0 row5\" >5</th>\n",
       "      <td id=\"T_1018f_row5_col0\" class=\"data row5 col0\" >4.1101</td>\n",
       "      <td id=\"T_1018f_row5_col1\" class=\"data row5 col1\" >99.3486</td>\n",
       "      <td id=\"T_1018f_row5_col2\" class=\"data row5 col2\" >9.9674</td>\n",
       "      <td id=\"T_1018f_row5_col3\" class=\"data row5 col3\" >0.9672</td>\n",
       "      <td id=\"T_1018f_row5_col4\" class=\"data row5 col4\" >0.1653</td>\n",
       "      <td id=\"T_1018f_row5_col5\" class=\"data row5 col5\" >0.1223</td>\n",
       "    </tr>\n",
       "    <tr>\n",
       "      <th id=\"T_1018f_level0_row6\" class=\"row_heading level0 row6\" >6</th>\n",
       "      <td id=\"T_1018f_row6_col0\" class=\"data row6 col0\" >3.5175</td>\n",
       "      <td id=\"T_1018f_row6_col1\" class=\"data row6 col1\" >46.2936</td>\n",
       "      <td id=\"T_1018f_row6_col2\" class=\"data row6 col2\" >6.8039</td>\n",
       "      <td id=\"T_1018f_row6_col3\" class=\"data row6 col3\" >0.9460</td>\n",
       "      <td id=\"T_1018f_row6_col4\" class=\"data row6 col4\" >0.1636</td>\n",
       "      <td id=\"T_1018f_row6_col5\" class=\"data row6 col5\" >0.1223</td>\n",
       "    </tr>\n",
       "    <tr>\n",
       "      <th id=\"T_1018f_level0_row7\" class=\"row_heading level0 row7\" >7</th>\n",
       "      <td id=\"T_1018f_row7_col0\" class=\"data row7 col0\" >4.0717</td>\n",
       "      <td id=\"T_1018f_row7_col1\" class=\"data row7 col1\" >49.2562</td>\n",
       "      <td id=\"T_1018f_row7_col2\" class=\"data row7 col2\" >7.0183</td>\n",
       "      <td id=\"T_1018f_row7_col3\" class=\"data row7 col3\" >0.9781</td>\n",
       "      <td id=\"T_1018f_row7_col4\" class=\"data row7 col4\" >0.1755</td>\n",
       "      <td id=\"T_1018f_row7_col5\" class=\"data row7 col5\" >0.1305</td>\n",
       "    </tr>\n",
       "    <tr>\n",
       "      <th id=\"T_1018f_level0_row8\" class=\"row_heading level0 row8\" >8</th>\n",
       "      <td id=\"T_1018f_row8_col0\" class=\"data row8 col0\" >4.7421</td>\n",
       "      <td id=\"T_1018f_row8_col1\" class=\"data row8 col1\" >157.5355</td>\n",
       "      <td id=\"T_1018f_row8_col2\" class=\"data row8 col2\" >12.5513</td>\n",
       "      <td id=\"T_1018f_row8_col3\" class=\"data row8 col3\" >0.9387</td>\n",
       "      <td id=\"T_1018f_row8_col4\" class=\"data row8 col4\" >0.1813</td>\n",
       "      <td id=\"T_1018f_row8_col5\" class=\"data row8 col5\" >0.1325</td>\n",
       "    </tr>\n",
       "    <tr>\n",
       "      <th id=\"T_1018f_level0_row9\" class=\"row_heading level0 row9\" >9</th>\n",
       "      <td id=\"T_1018f_row9_col0\" class=\"data row9 col0\" >3.8972</td>\n",
       "      <td id=\"T_1018f_row9_col1\" class=\"data row9 col1\" >89.5276</td>\n",
       "      <td id=\"T_1018f_row9_col2\" class=\"data row9 col2\" >9.4619</td>\n",
       "      <td id=\"T_1018f_row9_col3\" class=\"data row9 col3\" >0.9614</td>\n",
       "      <td id=\"T_1018f_row9_col4\" class=\"data row9 col4\" >0.1525</td>\n",
       "      <td id=\"T_1018f_row9_col5\" class=\"data row9 col5\" >0.1169</td>\n",
       "    </tr>\n",
       "    <tr>\n",
       "      <th id=\"T_1018f_level0_row10\" class=\"row_heading level0 row10\" >Mean</th>\n",
       "      <td id=\"T_1018f_row10_col0\" class=\"data row10 col0\" >4.0203</td>\n",
       "      <td id=\"T_1018f_row10_col1\" class=\"data row10 col1\" >75.5455</td>\n",
       "      <td id=\"T_1018f_row10_col2\" class=\"data row10 col2\" >8.4638</td>\n",
       "      <td id=\"T_1018f_row10_col3\" class=\"data row10 col3\" >0.9655</td>\n",
       "      <td id=\"T_1018f_row10_col4\" class=\"data row10 col4\" >0.1664</td>\n",
       "      <td id=\"T_1018f_row10_col5\" class=\"data row10 col5\" >0.1255</td>\n",
       "    </tr>\n",
       "    <tr>\n",
       "      <th id=\"T_1018f_level0_row11\" class=\"row_heading level0 row11\" >Std</th>\n",
       "      <td id=\"T_1018f_row11_col0\" class=\"data row11 col0\" >0.3150</td>\n",
       "      <td id=\"T_1018f_row11_col1\" class=\"data row11 col1\" >36.2099</td>\n",
       "      <td id=\"T_1018f_row11_col2\" class=\"data row11 col2\" >1.9773</td>\n",
       "      <td id=\"T_1018f_row11_col3\" class=\"data row11 col3\" >0.0161</td>\n",
       "      <td id=\"T_1018f_row11_col4\" class=\"data row11 col4\" >0.0093</td>\n",
       "      <td id=\"T_1018f_row11_col5\" class=\"data row11 col5\" >0.0058</td>\n",
       "    </tr>\n",
       "  </tbody>\n",
       "</table>\n"
      ],
      "text/plain": [
       "<pandas.io.formats.style.Styler at 0x7f508f34fc10>"
      ]
     },
     "metadata": {},
     "output_type": "display_data"
    },
    {
     "data": {
      "application/vnd.jupyter.widget-view+json": {
       "model_id": "53a22e09395a47be92c908cd4f8739e2",
       "version_major": 2,
       "version_minor": 0
      },
      "text/plain": [
       "Processing:   0%|          | 0/7 [00:00<?, ?it/s]"
      ]
     },
     "metadata": {
      "application/vnd.jupyter.widget-view+json": {
       "colab": {
        "custom_widget_manager": {
         "url": "https://ssl.gstatic.com/colaboratory-static/widgets/colab-cdn-widget-manager/2b70e893a8ba7c0f/manager.min.js"
        }
       }
      }
     },
     "output_type": "display_data"
    },
    {
     "name": "stdout",
     "output_type": "stream",
     "text": [
      "Fitting 10 folds for each of 10 candidates, totalling 100 fits\n"
     ]
    },
    {
     "data": {
      "text/html": [],
      "text/plain": [
       "<IPython.core.display.HTML object>"
      ]
     },
     "metadata": {},
     "output_type": "display_data"
    },
    {
     "name": "stdout",
     "output_type": "stream",
     "text": [
      "Original model was better than the tuned model, hence it will be returned. NOTE: The display metrics are for the tuned model (not the original one).\n"
     ]
    },
    {
     "data": {
      "text/html": [],
      "text/plain": [
       "<IPython.core.display.HTML object>"
      ]
     },
     "metadata": {},
     "output_type": "display_data"
    },
    {
     "data": {
      "text/html": [],
      "text/plain": [
       "<IPython.core.display.HTML object>"
      ]
     },
     "metadata": {},
     "output_type": "display_data"
    },
    {
     "data": {
      "text/html": [],
      "text/plain": [
       "<IPython.core.display.HTML object>"
      ]
     },
     "metadata": {},
     "output_type": "display_data"
    },
    {
     "data": {
      "text/html": [],
      "text/plain": [
       "<IPython.core.display.HTML object>"
      ]
     },
     "metadata": {},
     "output_type": "display_data"
    },
    {
     "data": {
      "text/html": [],
      "text/plain": [
       "<IPython.core.display.HTML object>"
      ]
     },
     "metadata": {},
     "output_type": "display_data"
    },
    {
     "data": {
      "text/html": [],
      "text/plain": [
       "<IPython.core.display.HTML object>"
      ]
     },
     "metadata": {},
     "output_type": "display_data"
    },
    {
     "name": "stdout",
     "output_type": "stream",
     "text": [
      "Stacked Model - R2 Score: 0.9445, MSE: 128.6006\n"
     ]
    }
   ],
   "source": [
    "predictor.tune_and_save_models()"
   ]
  },
  {
   "cell_type": "code",
   "execution_count": 10,
   "id": "vEr3Tr1jAXe7",
   "metadata": {
    "colab": {
     "base_uri": "https://localhost:8080/",
     "height": 34
    },
    "executionInfo": {
     "elapsed": 10223,
     "status": "ok",
     "timestamp": 1730724949896,
     "user": {
      "displayName": "이창민",
      "userId": "14847847938142148141"
     },
     "user_tz": -540
    },
    "id": "vEr3Tr1jAXe7",
    "outputId": "133d49d3-98fd-4193-e7c8-9de990036660"
   },
   "outputs": [
    {
     "data": {
      "text/html": [],
      "text/plain": [
       "<IPython.core.display.HTML object>"
      ]
     },
     "metadata": {},
     "output_type": "display_data"
    },
    {
     "data": {
      "text/html": [],
      "text/plain": [
       "<IPython.core.display.HTML object>"
      ]
     },
     "metadata": {},
     "output_type": "display_data"
    },
    {
     "data": {
      "text/html": [],
      "text/plain": [
       "<IPython.core.display.HTML object>"
      ]
     },
     "metadata": {},
     "output_type": "display_data"
    },
    {
     "data": {
      "text/html": [],
      "text/plain": [
       "<IPython.core.display.HTML object>"
      ]
     },
     "metadata": {},
     "output_type": "display_data"
    },
    {
     "data": {
      "text/html": [],
      "text/plain": [
       "<IPython.core.display.HTML object>"
      ]
     },
     "metadata": {},
     "output_type": "display_data"
    },
    {
     "name": "stdout",
     "output_type": "stream",
     "text": [
      "Stacked Model - R2 Score: 0.9445, MSE: 128.6006\n"
     ]
    }
   ],
   "source": [
    "predictor.stack_models()"
   ]
  },
  {
   "cell_type": "markdown",
   "id": "3fa0b677",
   "metadata": {
    "id": "3fa0b677"
   },
   "source": [
    "## Test 데이터로 성능을 평가한 결과"
   ]
  },
  {
   "cell_type": "code",
   "execution_count": 11,
   "id": "d42630d8",
   "metadata": {
    "colab": {
     "base_uri": "https://localhost:8080/",
     "height": 801
    },
    "executionInfo": {
     "elapsed": 1231,
     "status": "ok",
     "timestamp": 1730724951125,
     "user": {
      "displayName": "이창민",
      "userId": "14847847938142148141"
     },
     "user_tz": -540
    },
    "id": "d42630d8",
    "outputId": "6a88eef3-a52a-47a9-bb6f-0aa9bbe0e58e"
   },
   "outputs": [
    {
     "data": {
      "image/png": "[encoded data removed]",
      "text/plain": [
       "<Figure size 1600x800 with 2 Axes>"
      ]
     },
     "metadata": {},
     "output_type": "display_data"
    }
   ],
   "source": [
    "predictor.display_results()"
   ]
  },
  {
   "cell_type": "markdown",
   "id": "e415c33a",
   "metadata": {
    "id": "e415c33a"
   },
   "source": [
    "# 확인할 수 있는 인사이트\n",
    "## 1. No Scaling, MinMax Scaling, Standard Scaling 중 MinMax Scaling을 통한 ML이 가장 좋게 나온다.\n",
    "    - 우리 data에 적합한 scaling은 MinMaxScaler\n",
    "## 2. Hyperparameter Tuning을 해봤자 default로 돌린 게 제일 잘 나온다.\n",
    "    - data 자체가 많지 않고 task가 복잡한 편이 아님\n",
    "## 3. 일부 regressor를 제외하면 대부분이 비슷한 성능이 나옴.\n",
    "    - Model 자체로 성능을 올리기 보단 더 많은 데이터 혹은 학습기법을 통한 성능 향상이 필요해보임 ex. Stacking Ensemble"
   ]
  }
 ],
 "metadata": {
  "accelerator": "GPU",
  "colab": {
   "gpuType": "A100",
   "provenance": []
  },
  "kernelspec": {
   "display_name": "DL",
   "language": "python",
   "name": "python3"
  },
  "language_info": {
   "codemirror_mode": {
    "name": "ipython",
    "version": 3
   },
   "file_extension": ".py",
   "mimetype": "text/x-python",
   "name": "python",
   "nbconvert_exporter": "python",
   "pygments_lexer": "ipython3",
   "version": "3.9.7"
  },
  "widgets": {
   "application/vnd.jupyter.widget-state+json": {
    "0219c599c1c54e3fb79acffc149d7786": {
     "model_module": "@jupyter-widgets/controls",
     "model_module_version": "1.5.0",
     "model_name": "ProgressStyleModel",
     "state": {
      "_model_module": "@jupyter-widgets/controls",
      "_model_module_version": "1.5.0",
      "_model_name": "ProgressStyleModel",
      "_view_count": null,
      "_view_module": "@jupyter-widgets/base",
      "_view_module_version": "1.2.0",
      "_view_name": "StyleView",
      "bar_color": null,
      "description_width": ""
     }
    },
    "0636158d8221453cbe9428668329616f": {
     "model_module": "@jupyter-widgets/controls",
     "model_module_version": "1.5.0",
     "model_name": "ProgressStyleModel",
     "state": {
      "_model_module": "@jupyter-widgets/controls",
      "_model_module_version": "1.5.0",
      "_model_name": "ProgressStyleModel",
      "_view_count": null,
      "_view_module": "@jupyter-widgets/base",
      "_view_module_version": "1.2.0",
      "_view_name": "StyleView",
      "bar_color": null,
      "description_width": ""
     }
    },
    "15f7ed7110d04afd86eee1912194ce7d": {
     "model_module": "@jupyter-widgets/controls",
     "model_module_version": "1.5.0",
     "model_name": "HTMLModel",
     "state": {
      "_dom_classes": [],
      "_model_module": "@jupyter-widgets/controls",
      "_model_module_version": "1.5.0",
      "_model_name": "HTMLModel",
      "_view_count": null,
      "_view_module": "@jupyter-widgets/controls",
      "_view_module_version": "1.5.0",
      "_view_name": "HTMLView",
      "description": "",
      "description_tooltip": null,
      "layout": "IPY_MODEL_2baf6b9e22e648ba8cb9f10600fa007e",
      "placeholder": "​",
      "style": "IPY_MODEL_99d9fb85443c455fa418d8409bf9eda1",
      "value": "Processing:  86%"
     }
    },
    "164151d71e6f41fc868d9405a26166f7": {
     "model_module": "@jupyter-widgets/base",
     "model_module_version": "1.2.0",
     "model_name": "LayoutModel",
     "state": {
      "_model_module": "@jupyter-widgets/base",
      "_model_module_version": "1.2.0",
      "_model_name": "LayoutModel",
      "_view_count": null,
      "_view_module": "@jupyter-widgets/base",
      "_view_module_version": "1.2.0",
      "_view_name": "LayoutView",
      "align_content": null,
      "align_items": null,
      "align_self": null,
      "border": null,
      "bottom": null,
      "display": null,
      "flex": null,
      "flex_flow": null,
      "grid_area": null,
      "grid_auto_columns": null,
      "grid_auto_flow": null,
      "grid_auto_rows": null,
      "grid_column": null,
      "grid_gap": null,
      "grid_row": null,
      "grid_template_areas": null,
      "grid_template_columns": null,
      "grid_template_rows": null,
      "height": null,
      "justify_content": null,
      "justify_items": null,
      "left": null,
      "margin": null,
      "max_height": null,
      "max_width": null,
      "min_height": null,
      "min_width": null,
      "object_fit": null,
      "object_position": null,
      "order": null,
      "overflow": null,
      "overflow_x": null,
      "overflow_y": null,
      "padding": null,
      "right": null,
      "top": null,
      "visibility": "hidden",
      "width": null
     }
    },
    "17348bfb26f740589680a0b91786f220": {
     "model_module": "@jupyter-widgets/base",
     "model_module_version": "1.2.0",
     "model_name": "LayoutModel",
     "state": {
      "_model_module": "@jupyter-widgets/base",
      "_model_module_version": "1.2.0",
      "_model_name": "LayoutModel",
      "_view_count": null,
      "_view_module": "@jupyter-widgets/base",
      "_view_module_version": "1.2.0",
      "_view_name": "LayoutView",
      "align_content": null,
      "align_items": null,
      "align_self": null,
      "border": null,
      "bottom": null,
      "display": null,
      "flex": null,
      "flex_flow": null,
      "grid_area": null,
      "grid_auto_columns": null,
      "grid_auto_flow": null,
      "grid_auto_rows": null,
      "grid_column": null,
      "grid_gap": null,
      "grid_row": null,
      "grid_template_areas": null,
      "grid_template_columns": null,
      "grid_template_rows": null,
      "height": null,
      "justify_content": null,
      "justify_items": null,
      "left": null,
      "margin": null,
      "max_height": null,
      "max_width": null,
      "min_height": null,
      "min_width": null,
      "object_fit": null,
      "object_position": null,
      "order": null,
      "overflow": null,
      "overflow_x": null,
      "overflow_y": null,
      "padding": null,
      "right": null,
      "top": null,
      "visibility": null,
      "width": null
     }
    },
    "1f7466105b264d6facb1f1f92fdec9b2": {
     "model_module": "@jupyter-widgets/controls",
     "model_module_version": "1.5.0",
     "model_name": "HTMLModel",
     "state": {
      "_dom_classes": [],
      "_model_module": "@jupyter-widgets/controls",
      "_model_module_version": "1.5.0",
      "_model_name": "HTMLModel",
      "_view_count": null,
      "_view_module": "@jupyter-widgets/controls",
      "_view_module_version": "1.5.0",
      "_view_name": "HTMLView",
      "description": "",
      "description_tooltip": null,
      "layout": "IPY_MODEL_a48a6c8d1d91472c8c00ce6f52b5b80e",
      "placeholder": "​",
      "style": "IPY_MODEL_591fddd78b0e41e6929664c424908698",
      "value": " 6/7 [00:01&lt;00:00,  3.40it/s]"
     }
    },
    "207b7531203e4d15acb24354299d0d58": {
     "model_module": "@jupyter-widgets/controls",
     "model_module_version": "1.5.0",
     "model_name": "DescriptionStyleModel",
     "state": {
      "_model_module": "@jupyter-widgets/controls",
      "_model_module_version": "1.5.0",
      "_model_name": "DescriptionStyleModel",
      "_view_count": null,
      "_view_module": "@jupyter-widgets/base",
      "_view_module_version": "1.2.0",
      "_view_name": "StyleView",
      "description_width": ""
     }
    },
    "2129001550c6448695169fa76a4c6a45": {
     "model_module": "@jupyter-widgets/base",
     "model_module_version": "1.2.0",
     "model_name": "LayoutModel",
     "state": {
      "_model_module": "@jupyter-widgets/base",
      "_model_module_version": "1.2.0",
      "_model_name": "LayoutModel",
      "_view_count": null,
      "_view_module": "@jupyter-widgets/base",
      "_view_module_version": "1.2.0",
      "_view_name": "LayoutView",
      "align_content": null,
      "align_items": null,
      "align_self": null,
      "border": null,
      "bottom": null,
      "display": null,
      "flex": null,
      "flex_flow": null,
      "grid_area": null,
      "grid_auto_columns": null,
      "grid_auto_flow": null,
      "grid_auto_rows": null,
      "grid_column": null,
      "grid_gap": null,
      "grid_row": null,
      "grid_template_areas": null,
      "grid_template_columns": null,
      "grid_template_rows": null,
      "height": null,
      "justify_content": null,
      "justify_items": null,
      "left": null,
      "margin": null,
      "max_height": null,
      "max_width": null,
      "min_height": null,
      "min_width": null,
      "object_fit": null,
      "object_position": null,
      "order": null,
      "overflow": null,
      "overflow_x": null,
      "overflow_y": null,
      "padding": null,
      "right": null,
      "top": null,
      "visibility": "hidden",
      "width": null
     }
    },
    "22e6d4d316574844bd2748e9bd7f7e60": {
     "model_module": "@jupyter-widgets/base",
     "model_module_version": "1.2.0",
     "model_name": "LayoutModel",
     "state": {
      "_model_module": "@jupyter-widgets/base",
      "_model_module_version": "1.2.0",
      "_model_name": "LayoutModel",
      "_view_count": null,
      "_view_module": "@jupyter-widgets/base",
      "_view_module_version": "1.2.0",
      "_view_name": "LayoutView",
      "align_content": null,
      "align_items": null,
      "align_self": null,
      "border": null,
      "bottom": null,
      "display": null,
      "flex": null,
      "flex_flow": null,
      "grid_area": null,
      "grid_auto_columns": null,
      "grid_auto_flow": null,
      "grid_auto_rows": null,
      "grid_column": null,
      "grid_gap": null,
      "grid_row": null,
      "grid_template_areas": null,
      "grid_template_columns": null,
      "grid_template_rows": null,
      "height": null,
      "justify_content": null,
      "justify_items": null,
      "left": null,
      "margin": null,
      "max_height": null,
      "max_width": null,
      "min_height": null,
      "min_width": null,
      "object_fit": null,
      "object_position": null,
      "order": null,
      "overflow": null,
      "overflow_x": null,
      "overflow_y": null,
      "padding": null,
      "right": null,
      "top": null,
      "visibility": null,
      "width": null
     }
    },
    "231b62546c9841b8a37713b0e6112272": {
     "model_module": "@jupyter-widgets/controls",
     "model_module_version": "1.5.0",
     "model_name": "DescriptionStyleModel",
     "state": {
      "_model_module": "@jupyter-widgets/controls",
      "_model_module_version": "1.5.0",
      "_model_name": "DescriptionStyleModel",
      "_view_count": null,
      "_view_module": "@jupyter-widgets/base",
      "_view_module_version": "1.2.0",
      "_view_name": "StyleView",
      "description_width": ""
     }
    },
    "279f09df51434af28ce0fcda67b16ce4": {
     "model_module": "@jupyter-widgets/base",
     "model_module_version": "1.2.0",
     "model_name": "LayoutModel",
     "state": {
      "_model_module": "@jupyter-widgets/base",
      "_model_module_version": "1.2.0",
      "_model_name": "LayoutModel",
      "_view_count": null,
      "_view_module": "@jupyter-widgets/base",
      "_view_module_version": "1.2.0",
      "_view_name": "LayoutView",
      "align_content": null,
      "align_items": null,
      "align_self": null,
      "border": null,
      "bottom": null,
      "display": null,
      "flex": null,
      "flex_flow": null,
      "grid_area": null,
      "grid_auto_columns": null,
      "grid_auto_flow": null,
      "grid_auto_rows": null,
      "grid_column": null,
      "grid_gap": null,
      "grid_row": null,
      "grid_template_areas": null,
      "grid_template_columns": null,
      "grid_template_rows": null,
      "height": null,
      "justify_content": null,
      "justify_items": null,
      "left": null,
      "margin": null,
      "max_height": null,
      "max_width": null,
      "min_height": null,
      "min_width": null,
      "object_fit": null,
      "object_position": null,
      "order": null,
      "overflow": null,
      "overflow_x": null,
      "overflow_y": null,
      "padding": null,
      "right": null,
      "top": null,
      "visibility": "hidden",
      "width": null
     }
    },
    "2baf6b9e22e648ba8cb9f10600fa007e": {
     "model_module": "@jupyter-widgets/base",
     "model_module_version": "1.2.0",
     "model_name": "LayoutModel",
     "state": {
      "_model_module": "@jupyter-widgets/base",
      "_model_module_version": "1.2.0",
      "_model_name": "LayoutModel",
      "_view_count": null,
      "_view_module": "@jupyter-widgets/base",
      "_view_module_version": "1.2.0",
      "_view_name": "LayoutView",
      "align_content": null,
      "align_items": null,
      "align_self": null,
      "border": null,
      "bottom": null,
      "display": null,
      "flex": null,
      "flex_flow": null,
      "grid_area": null,
      "grid_auto_columns": null,
      "grid_auto_flow": null,
      "grid_auto_rows": null,
      "grid_column": null,
      "grid_gap": null,
      "grid_row": null,
      "grid_template_areas": null,
      "grid_template_columns": null,
      "grid_template_rows": null,
      "height": null,
      "justify_content": null,
      "justify_items": null,
      "left": null,
      "margin": null,
      "max_height": null,
      "max_width": null,
      "min_height": null,
      "min_width": null,
      "object_fit": null,
      "object_position": null,
      "order": null,
      "overflow": null,
      "overflow_x": null,
      "overflow_y": null,
      "padding": null,
      "right": null,
      "top": null,
      "visibility": null,
      "width": null
     }
    },
    "340b105ee93c45889792354d42e3a1e1": {
     "model_module": "@jupyter-widgets/controls",
     "model_module_version": "1.5.0",
     "model_name": "HTMLModel",
     "state": {
      "_dom_classes": [],
      "_model_module": "@jupyter-widgets/controls",
      "_model_module_version": "1.5.0",
      "_model_name": "HTMLModel",
      "_view_count": null,
      "_view_module": "@jupyter-widgets/controls",
      "_view_module_version": "1.5.0",
      "_view_name": "HTMLView",
      "description": "",
      "description_tooltip": null,
      "layout": "IPY_MODEL_4dfe8cf9686f4e168c46caf5ed862cab",
      "placeholder": "​",
      "style": "IPY_MODEL_57515004b9b248ecb9f06b80754e2ed5",
      "value": "Processing: 100%"
     }
    },
    "3e6b35cd2f844c249bc6401ca48dd219": {
     "model_module": "@jupyter-widgets/base",
     "model_module_version": "1.2.0",
     "model_name": "LayoutModel",
     "state": {
      "_model_module": "@jupyter-widgets/base",
      "_model_module_version": "1.2.0",
      "_model_name": "LayoutModel",
      "_view_count": null,
      "_view_module": "@jupyter-widgets/base",
      "_view_module_version": "1.2.0",
      "_view_name": "LayoutView",
      "align_content": null,
      "align_items": null,
      "align_self": null,
      "border": null,
      "bottom": null,
      "display": null,
      "flex": null,
      "flex_flow": null,
      "grid_area": null,
      "grid_auto_columns": null,
      "grid_auto_flow": null,
      "grid_auto_rows": null,
      "grid_column": null,
      "grid_gap": null,
      "grid_row": null,
      "grid_template_areas": null,
      "grid_template_columns": null,
      "grid_template_rows": null,
      "height": null,
      "justify_content": null,
      "justify_items": null,
      "left": null,
      "margin": null,
      "max_height": null,
      "max_width": null,
      "min_height": null,
      "min_width": null,
      "object_fit": null,
      "object_position": null,
      "order": null,
      "overflow": null,
      "overflow_x": null,
      "overflow_y": null,
      "padding": null,
      "right": null,
      "top": null,
      "visibility": null,
      "width": null
     }
    },
    "4253efbb31934a4c8c121fb931640745": {
     "model_module": "@jupyter-widgets/base",
     "model_module_version": "1.2.0",
     "model_name": "LayoutModel",
     "state": {
      "_model_module": "@jupyter-widgets/base",
      "_model_module_version": "1.2.0",
      "_model_name": "LayoutModel",
      "_view_count": null,
      "_view_module": "@jupyter-widgets/base",
      "_view_module_version": "1.2.0",
      "_view_name": "LayoutView",
      "align_content": null,
      "align_items": null,
      "align_self": null,
      "border": null,
      "bottom": null,
      "display": null,
      "flex": null,
      "flex_flow": null,
      "grid_area": null,
      "grid_auto_columns": null,
      "grid_auto_flow": null,
      "grid_auto_rows": null,
      "grid_column": null,
      "grid_gap": null,
      "grid_row": null,
      "grid_template_areas": null,
      "grid_template_columns": null,
      "grid_template_rows": null,
      "height": null,
      "justify_content": null,
      "justify_items": null,
      "left": null,
      "margin": null,
      "max_height": null,
      "max_width": null,
      "min_height": null,
      "min_width": null,
      "object_fit": null,
      "object_position": null,
      "order": null,
      "overflow": null,
      "overflow_x": null,
      "overflow_y": null,
      "padding": null,
      "right": null,
      "top": null,
      "visibility": "hidden",
      "width": null
     }
    },
    "44a5e165ce704091a1983e3d982035f3": {
     "model_module": "@jupyter-widgets/controls",
     "model_module_version": "1.5.0",
     "model_name": "HTMLModel",
     "state": {
      "_dom_classes": [],
      "_model_module": "@jupyter-widgets/controls",
      "_model_module_version": "1.5.0",
      "_model_name": "HTMLModel",
      "_view_count": null,
      "_view_module": "@jupyter-widgets/controls",
      "_view_module_version": "1.5.0",
      "_view_name": "HTMLView",
      "description": "",
      "description_tooltip": null,
      "layout": "IPY_MODEL_3e6b35cd2f844c249bc6401ca48dd219",
      "placeholder": "​",
      "style": "IPY_MODEL_55bf1e6ca78e42599122c7b23ed8291b",
      "value": " 7/7 [00:53&lt;00:00,  6.02s/it]"
     }
    },
    "454888ae56534d018a95588419ba9418": {
     "model_module": "@jupyter-widgets/controls",
     "model_module_version": "1.5.0",
     "model_name": "DescriptionStyleModel",
     "state": {
      "_model_module": "@jupyter-widgets/controls",
      "_model_module_version": "1.5.0",
      "_model_name": "DescriptionStyleModel",
      "_view_count": null,
      "_view_module": "@jupyter-widgets/base",
      "_view_module_version": "1.2.0",
      "_view_name": "StyleView",
      "description_width": ""
     }
    },
    "49ab6c84336142869b19e84e571093fc": {
     "model_module": "@jupyter-widgets/base",
     "model_module_version": "1.2.0",
     "model_name": "LayoutModel",
     "state": {
      "_model_module": "@jupyter-widgets/base",
      "_model_module_version": "1.2.0",
      "_model_name": "LayoutModel",
      "_view_count": null,
      "_view_module": "@jupyter-widgets/base",
      "_view_module_version": "1.2.0",
      "_view_name": "LayoutView",
      "align_content": null,
      "align_items": null,
      "align_self": null,
      "border": null,
      "bottom": null,
      "display": null,
      "flex": null,
      "flex_flow": null,
      "grid_area": null,
      "grid_auto_columns": null,
      "grid_auto_flow": null,
      "grid_auto_rows": null,
      "grid_column": null,
      "grid_gap": null,
      "grid_row": null,
      "grid_template_areas": null,
      "grid_template_columns": null,
      "grid_template_rows": null,
      "height": null,
      "justify_content": null,
      "justify_items": null,
      "left": null,
      "margin": null,
      "max_height": null,
      "max_width": null,
      "min_height": null,
      "min_width": null,
      "object_fit": null,
      "object_position": null,
      "order": null,
      "overflow": null,
      "overflow_x": null,
      "overflow_y": null,
      "padding": null,
      "right": null,
      "top": null,
      "visibility": null,
      "width": null
     }
    },
    "4a23803f277b4efab857d721eeb47798": {
     "model_module": "@jupyter-widgets/controls",
     "model_module_version": "1.5.0",
     "model_name": "DescriptionStyleModel",
     "state": {
      "_model_module": "@jupyter-widgets/controls",
      "_model_module_version": "1.5.0",
      "_model_name": "DescriptionStyleModel",
      "_view_count": null,
      "_view_module": "@jupyter-widgets/base",
      "_view_module_version": "1.2.0",
      "_view_name": "StyleView",
      "description_width": ""
     }
    },
    "4dfe8cf9686f4e168c46caf5ed862cab": {
     "model_module": "@jupyter-widgets/base",
     "model_module_version": "1.2.0",
     "model_name": "LayoutModel",
     "state": {
      "_model_module": "@jupyter-widgets/base",
      "_model_module_version": "1.2.0",
      "_model_name": "LayoutModel",
      "_view_count": null,
      "_view_module": "@jupyter-widgets/base",
      "_view_module_version": "1.2.0",
      "_view_name": "LayoutView",
      "align_content": null,
      "align_items": null,
      "align_self": null,
      "border": null,
      "bottom": null,
      "display": null,
      "flex": null,
      "flex_flow": null,
      "grid_area": null,
      "grid_auto_columns": null,
      "grid_auto_flow": null,
      "grid_auto_rows": null,
      "grid_column": null,
      "grid_gap": null,
      "grid_row": null,
      "grid_template_areas": null,
      "grid_template_columns": null,
      "grid_template_rows": null,
      "height": null,
      "justify_content": null,
      "justify_items": null,
      "left": null,
      "margin": null,
      "max_height": null,
      "max_width": null,
      "min_height": null,
      "min_width": null,
      "object_fit": null,
      "object_position": null,
      "order": null,
      "overflow": null,
      "overflow_x": null,
      "overflow_y": null,
      "padding": null,
      "right": null,
      "top": null,
      "visibility": null,
      "width": null
     }
    },
    "4e73db2f1b134dc38482d696e88c8835": {
     "model_module": "@jupyter-widgets/controls",
     "model_module_version": "1.5.0",
     "model_name": "HTMLModel",
     "state": {
      "_dom_classes": [],
      "_model_module": "@jupyter-widgets/controls",
      "_model_module_version": "1.5.0",
      "_model_name": "HTMLModel",
      "_view_count": null,
      "_view_module": "@jupyter-widgets/controls",
      "_view_module_version": "1.5.0",
      "_view_name": "HTMLView",
      "description": "",
      "description_tooltip": null,
      "layout": "IPY_MODEL_d7124e12c1e5475386f223a8090ae72a",
      "placeholder": "​",
      "style": "IPY_MODEL_76276a0d9f8c456ea60b5f79e49873ca",
      "value": " 85/85 [01:04&lt;00:00,  1.72it/s]"
     }
    },
    "53a22e09395a47be92c908cd4f8739e2": {
     "model_module": "@jupyter-widgets/controls",
     "model_module_version": "1.5.0",
     "model_name": "HBoxModel",
     "state": {
      "_dom_classes": [],
      "_model_module": "@jupyter-widgets/controls",
      "_model_module_version": "1.5.0",
      "_model_name": "HBoxModel",
      "_view_count": null,
      "_view_module": "@jupyter-widgets/controls",
      "_view_module_version": "1.5.0",
      "_view_name": "HBoxView",
      "box_style": "",
      "children": [
       "IPY_MODEL_15f7ed7110d04afd86eee1912194ce7d",
       "IPY_MODEL_633daebe51ed4aa3ac6ea4cbf433e102",
       "IPY_MODEL_efe4866b4a49496e8833866ddfb3002b"
      ],
      "layout": "IPY_MODEL_4253efbb31934a4c8c121fb931640745"
     }
    },
    "55bf1e6ca78e42599122c7b23ed8291b": {
     "model_module": "@jupyter-widgets/controls",
     "model_module_version": "1.5.0",
     "model_name": "DescriptionStyleModel",
     "state": {
      "_model_module": "@jupyter-widgets/controls",
      "_model_module_version": "1.5.0",
      "_model_name": "DescriptionStyleModel",
      "_view_count": null,
      "_view_module": "@jupyter-widgets/base",
      "_view_module_version": "1.2.0",
      "_view_name": "StyleView",
      "description_width": ""
     }
    },
    "57515004b9b248ecb9f06b80754e2ed5": {
     "model_module": "@jupyter-widgets/controls",
     "model_module_version": "1.5.0",
     "model_name": "DescriptionStyleModel",
     "state": {
      "_model_module": "@jupyter-widgets/controls",
      "_model_module_version": "1.5.0",
      "_model_name": "DescriptionStyleModel",
      "_view_count": null,
      "_view_module": "@jupyter-widgets/base",
      "_view_module_version": "1.2.0",
      "_view_name": "StyleView",
      "description_width": ""
     }
    },
    "591fddd78b0e41e6929664c424908698": {
     "model_module": "@jupyter-widgets/controls",
     "model_module_version": "1.5.0",
     "model_name": "DescriptionStyleModel",
     "state": {
      "_model_module": "@jupyter-widgets/controls",
      "_model_module_version": "1.5.0",
      "_model_name": "DescriptionStyleModel",
      "_view_count": null,
      "_view_module": "@jupyter-widgets/base",
      "_view_module_version": "1.2.0",
      "_view_name": "StyleView",
      "description_width": ""
     }
    },
    "5e20d8e5a60948f19185c6cf4053efb6": {
     "model_module": "@jupyter-widgets/base",
     "model_module_version": "1.2.0",
     "model_name": "LayoutModel",
     "state": {
      "_model_module": "@jupyter-widgets/base",
      "_model_module_version": "1.2.0",
      "_model_name": "LayoutModel",
      "_view_count": null,
      "_view_module": "@jupyter-widgets/base",
      "_view_module_version": "1.2.0",
      "_view_name": "LayoutView",
      "align_content": null,
      "align_items": null,
      "align_self": null,
      "border": null,
      "bottom": null,
      "display": null,
      "flex": null,
      "flex_flow": null,
      "grid_area": null,
      "grid_auto_columns": null,
      "grid_auto_flow": null,
      "grid_auto_rows": null,
      "grid_column": null,
      "grid_gap": null,
      "grid_row": null,
      "grid_template_areas": null,
      "grid_template_columns": null,
      "grid_template_rows": null,
      "height": null,
      "justify_content": null,
      "justify_items": null,
      "left": null,
      "margin": null,
      "max_height": null,
      "max_width": null,
      "min_height": null,
      "min_width": null,
      "object_fit": null,
      "object_position": null,
      "order": null,
      "overflow": null,
      "overflow_x": null,
      "overflow_y": null,
      "padding": null,
      "right": null,
      "top": null,
      "visibility": "hidden",
      "width": null
     }
    },
    "5fe36ead68334067ab0b264cd35d9943": {
     "model_module": "@jupyter-widgets/controls",
     "model_module_version": "1.5.0",
     "model_name": "HBoxModel",
     "state": {
      "_dom_classes": [],
      "_model_module": "@jupyter-widgets/controls",
      "_model_module_version": "1.5.0",
      "_model_name": "HBoxModel",
      "_view_count": null,
      "_view_module": "@jupyter-widgets/controls",
      "_view_module_version": "1.5.0",
      "_view_name": "HBoxView",
      "box_style": "",
      "children": [
       "IPY_MODEL_f7b0a78e0db340bca8fe1f800963a0f2",
       "IPY_MODEL_7d4fb9cc16da4d98b407ed9d0dd8d408",
       "IPY_MODEL_1f7466105b264d6facb1f1f92fdec9b2"
      ],
      "layout": "IPY_MODEL_164151d71e6f41fc868d9405a26166f7"
     }
    },
    "6258bee3bd674e3192001b38af500852": {
     "model_module": "@jupyter-widgets/controls",
     "model_module_version": "1.5.0",
     "model_name": "ProgressStyleModel",
     "state": {
      "_model_module": "@jupyter-widgets/controls",
      "_model_module_version": "1.5.0",
      "_model_name": "ProgressStyleModel",
      "_view_count": null,
      "_view_module": "@jupyter-widgets/base",
      "_view_module_version": "1.2.0",
      "_view_name": "StyleView",
      "bar_color": null,
      "description_width": ""
     }
    },
    "62bcff33de174c548a5c929df5e4007d": {
     "model_module": "@jupyter-widgets/base",
     "model_module_version": "1.2.0",
     "model_name": "LayoutModel",
     "state": {
      "_model_module": "@jupyter-widgets/base",
      "_model_module_version": "1.2.0",
      "_model_name": "LayoutModel",
      "_view_count": null,
      "_view_module": "@jupyter-widgets/base",
      "_view_module_version": "1.2.0",
      "_view_name": "LayoutView",
      "align_content": null,
      "align_items": null,
      "align_self": null,
      "border": null,
      "bottom": null,
      "display": null,
      "flex": null,
      "flex_flow": null,
      "grid_area": null,
      "grid_auto_columns": null,
      "grid_auto_flow": null,
      "grid_auto_rows": null,
      "grid_column": null,
      "grid_gap": null,
      "grid_row": null,
      "grid_template_areas": null,
      "grid_template_columns": null,
      "grid_template_rows": null,
      "height": null,
      "justify_content": null,
      "justify_items": null,
      "left": null,
      "margin": null,
      "max_height": null,
      "max_width": null,
      "min_height": null,
      "min_width": null,
      "object_fit": null,
      "object_position": null,
      "order": null,
      "overflow": null,
      "overflow_x": null,
      "overflow_y": null,
      "padding": null,
      "right": null,
      "top": null,
      "visibility": null,
      "width": null
     }
    },
    "633daebe51ed4aa3ac6ea4cbf433e102": {
     "model_module": "@jupyter-widgets/controls",
     "model_module_version": "1.5.0",
     "model_name": "FloatProgressModel",
     "state": {
      "_dom_classes": [],
      "_model_module": "@jupyter-widgets/controls",
      "_model_module_version": "1.5.0",
      "_model_name": "FloatProgressModel",
      "_view_count": null,
      "_view_module": "@jupyter-widgets/controls",
      "_view_module_version": "1.5.0",
      "_view_name": "ProgressView",
      "bar_style": "",
      "description": "",
      "description_tooltip": null,
      "layout": "IPY_MODEL_62bcff33de174c548a5c929df5e4007d",
      "max": 7,
      "min": 0,
      "orientation": "horizontal",
      "style": "IPY_MODEL_8057df0f935b4d808ccdfe03ff39432d",
      "value": 7
     }
    },
    "69e6b210db7745af89742d3750f6409a": {
     "model_module": "@jupyter-widgets/controls",
     "model_module_version": "1.5.0",
     "model_name": "FloatProgressModel",
     "state": {
      "_dom_classes": [],
      "_model_module": "@jupyter-widgets/controls",
      "_model_module_version": "1.5.0",
      "_model_name": "FloatProgressModel",
      "_view_count": null,
      "_view_module": "@jupyter-widgets/controls",
      "_view_module_version": "1.5.0",
      "_view_name": "ProgressView",
      "bar_style": "",
      "description": "",
      "description_tooltip": null,
      "layout": "IPY_MODEL_fd6a89082d9f4577b7e77dd44e1b77c7",
      "max": 85,
      "min": 0,
      "orientation": "horizontal",
      "style": "IPY_MODEL_6258bee3bd674e3192001b38af500852",
      "value": 85
     }
    },
    "76276a0d9f8c456ea60b5f79e49873ca": {
     "model_module": "@jupyter-widgets/controls",
     "model_module_version": "1.5.0",
     "model_name": "DescriptionStyleModel",
     "state": {
      "_model_module": "@jupyter-widgets/controls",
      "_model_module_version": "1.5.0",
      "_model_name": "DescriptionStyleModel",
      "_view_count": null,
      "_view_module": "@jupyter-widgets/base",
      "_view_module_version": "1.2.0",
      "_view_name": "StyleView",
      "description_width": ""
     }
    },
    "782434b1e31f4d86a180b71f83c04d40": {
     "model_module": "@jupyter-widgets/controls",
     "model_module_version": "1.5.0",
     "model_name": "HBoxModel",
     "state": {
      "_dom_classes": [],
      "_model_module": "@jupyter-widgets/controls",
      "_model_module_version": "1.5.0",
      "_model_name": "HBoxModel",
      "_view_count": null,
      "_view_module": "@jupyter-widgets/controls",
      "_view_module_version": "1.5.0",
      "_view_name": "HBoxView",
      "box_style": "",
      "children": [
       "IPY_MODEL_80d0ab0de0514702b77d3703c93d7ab5",
       "IPY_MODEL_69e6b210db7745af89742d3750f6409a",
       "IPY_MODEL_4e73db2f1b134dc38482d696e88c8835"
      ],
      "layout": "IPY_MODEL_5e20d8e5a60948f19185c6cf4053efb6"
     }
    },
    "7b880155e2654051a0adbb7c0861632b": {
     "model_module": "@jupyter-widgets/base",
     "model_module_version": "1.2.0",
     "model_name": "LayoutModel",
     "state": {
      "_model_module": "@jupyter-widgets/base",
      "_model_module_version": "1.2.0",
      "_model_name": "LayoutModel",
      "_view_count": null,
      "_view_module": "@jupyter-widgets/base",
      "_view_module_version": "1.2.0",
      "_view_name": "LayoutView",
      "align_content": null,
      "align_items": null,
      "align_self": null,
      "border": null,
      "bottom": null,
      "display": null,
      "flex": null,
      "flex_flow": null,
      "grid_area": null,
      "grid_auto_columns": null,
      "grid_auto_flow": null,
      "grid_auto_rows": null,
      "grid_column": null,
      "grid_gap": null,
      "grid_row": null,
      "grid_template_areas": null,
      "grid_template_columns": null,
      "grid_template_rows": null,
      "height": null,
      "justify_content": null,
      "justify_items": null,
      "left": null,
      "margin": null,
      "max_height": null,
      "max_width": null,
      "min_height": null,
      "min_width": null,
      "object_fit": null,
      "object_position": null,
      "order": null,
      "overflow": null,
      "overflow_x": null,
      "overflow_y": null,
      "padding": null,
      "right": null,
      "top": null,
      "visibility": "hidden",
      "width": null
     }
    },
    "7c4fbb5ca8a747468ebe271ea415792b": {
     "model_module": "@jupyter-widgets/base",
     "model_module_version": "1.2.0",
     "model_name": "LayoutModel",
     "state": {
      "_model_module": "@jupyter-widgets/base",
      "_model_module_version": "1.2.0",
      "_model_name": "LayoutModel",
      "_view_count": null,
      "_view_module": "@jupyter-widgets/base",
      "_view_module_version": "1.2.0",
      "_view_name": "LayoutView",
      "align_content": null,
      "align_items": null,
      "align_self": null,
      "border": null,
      "bottom": null,
      "display": null,
      "flex": null,
      "flex_flow": null,
      "grid_area": null,
      "grid_auto_columns": null,
      "grid_auto_flow": null,
      "grid_auto_rows": null,
      "grid_column": null,
      "grid_gap": null,
      "grid_row": null,
      "grid_template_areas": null,
      "grid_template_columns": null,
      "grid_template_rows": null,
      "height": null,
      "justify_content": null,
      "justify_items": null,
      "left": null,
      "margin": null,
      "max_height": null,
      "max_width": null,
      "min_height": null,
      "min_width": null,
      "object_fit": null,
      "object_position": null,
      "order": null,
      "overflow": null,
      "overflow_x": null,
      "overflow_y": null,
      "padding": null,
      "right": null,
      "top": null,
      "visibility": null,
      "width": null
     }
    },
    "7d4fb9cc16da4d98b407ed9d0dd8d408": {
     "model_module": "@jupyter-widgets/controls",
     "model_module_version": "1.5.0",
     "model_name": "FloatProgressModel",
     "state": {
      "_dom_classes": [],
      "_model_module": "@jupyter-widgets/controls",
      "_model_module_version": "1.5.0",
      "_model_name": "FloatProgressModel",
      "_view_count": null,
      "_view_module": "@jupyter-widgets/controls",
      "_view_module_version": "1.5.0",
      "_view_name": "ProgressView",
      "bar_style": "",
      "description": "",
      "description_tooltip": null,
      "layout": "IPY_MODEL_49ab6c84336142869b19e84e571093fc",
      "max": 7,
      "min": 0,
      "orientation": "horizontal",
      "style": "IPY_MODEL_a91f3d6bfcc843a1acda7ced86cc70f8",
      "value": 7
     }
    },
    "7e7c45441c274279852d4a9f663780c0": {
     "model_module": "@jupyter-widgets/controls",
     "model_module_version": "1.5.0",
     "model_name": "FloatProgressModel",
     "state": {
      "_dom_classes": [],
      "_model_module": "@jupyter-widgets/controls",
      "_model_module_version": "1.5.0",
      "_model_name": "FloatProgressModel",
      "_view_count": null,
      "_view_module": "@jupyter-widgets/controls",
      "_view_module_version": "1.5.0",
      "_view_name": "ProgressView",
      "bar_style": "",
      "description": "",
      "description_tooltip": null,
      "layout": "IPY_MODEL_f6d86a3907034900afdb69781d18838f",
      "max": 7,
      "min": 0,
      "orientation": "horizontal",
      "style": "IPY_MODEL_d06a583a038744449d76c24fcdedb06b",
      "value": 7
     }
    },
    "8057df0f935b4d808ccdfe03ff39432d": {
     "model_module": "@jupyter-widgets/controls",
     "model_module_version": "1.5.0",
     "model_name": "ProgressStyleModel",
     "state": {
      "_model_module": "@jupyter-widgets/controls",
      "_model_module_version": "1.5.0",
      "_model_name": "ProgressStyleModel",
      "_view_count": null,
      "_view_module": "@jupyter-widgets/base",
      "_view_module_version": "1.2.0",
      "_view_name": "StyleView",
      "bar_color": null,
      "description_width": ""
     }
    },
    "80d0ab0de0514702b77d3703c93d7ab5": {
     "model_module": "@jupyter-widgets/controls",
     "model_module_version": "1.5.0",
     "model_name": "HTMLModel",
     "state": {
      "_dom_classes": [],
      "_model_module": "@jupyter-widgets/controls",
      "_model_module_version": "1.5.0",
      "_model_name": "HTMLModel",
      "_view_count": null,
      "_view_module": "@jupyter-widgets/controls",
      "_view_module_version": "1.5.0",
      "_view_name": "HTMLView",
      "description": "",
      "description_tooltip": null,
      "layout": "IPY_MODEL_7c4fbb5ca8a747468ebe271ea415792b",
      "placeholder": "​",
      "style": "IPY_MODEL_eff6845215604f80b6837bec4ed764b1",
      "value": "Processing: 100%"
     }
    },
    "80df81df4b3a4d34940fb30b64947a18": {
     "model_module": "@jupyter-widgets/controls",
     "model_module_version": "1.5.0",
     "model_name": "HBoxModel",
     "state": {
      "_dom_classes": [],
      "_model_module": "@jupyter-widgets/controls",
      "_model_module_version": "1.5.0",
      "_model_name": "HBoxModel",
      "_view_count": null,
      "_view_module": "@jupyter-widgets/controls",
      "_view_module_version": "1.5.0",
      "_view_name": "HBoxView",
      "box_style": "",
      "children": [
       "IPY_MODEL_340b105ee93c45889792354d42e3a1e1",
       "IPY_MODEL_7e7c45441c274279852d4a9f663780c0",
       "IPY_MODEL_8b1b64f765a243ac902456439db5b79d"
      ],
      "layout": "IPY_MODEL_279f09df51434af28ce0fcda67b16ce4"
     }
    },
    "8b1b64f765a243ac902456439db5b79d": {
     "model_module": "@jupyter-widgets/controls",
     "model_module_version": "1.5.0",
     "model_name": "HTMLModel",
     "state": {
      "_dom_classes": [],
      "_model_module": "@jupyter-widgets/controls",
      "_model_module_version": "1.5.0",
      "_model_name": "HTMLModel",
      "_view_count": null,
      "_view_module": "@jupyter-widgets/controls",
      "_view_module_version": "1.5.0",
      "_view_name": "HTMLView",
      "description": "",
      "description_tooltip": null,
      "layout": "IPY_MODEL_17348bfb26f740589680a0b91786f220",
      "placeholder": "​",
      "style": "IPY_MODEL_454888ae56534d018a95588419ba9418",
      "value": " 7/7 [00:32&lt;00:00,  4.58s/it]"
     }
    },
    "8f4ce3250ab045b9909c1d5247729996": {
     "model_module": "@jupyter-widgets/base",
     "model_module_version": "1.2.0",
     "model_name": "LayoutModel",
     "state": {
      "_model_module": "@jupyter-widgets/base",
      "_model_module_version": "1.2.0",
      "_model_name": "LayoutModel",
      "_view_count": null,
      "_view_module": "@jupyter-widgets/base",
      "_view_module_version": "1.2.0",
      "_view_name": "LayoutView",
      "align_content": null,
      "align_items": null,
      "align_self": null,
      "border": null,
      "bottom": null,
      "display": null,
      "flex": null,
      "flex_flow": null,
      "grid_area": null,
      "grid_auto_columns": null,
      "grid_auto_flow": null,
      "grid_auto_rows": null,
      "grid_column": null,
      "grid_gap": null,
      "grid_row": null,
      "grid_template_areas": null,
      "grid_template_columns": null,
      "grid_template_rows": null,
      "height": null,
      "justify_content": null,
      "justify_items": null,
      "left": null,
      "margin": null,
      "max_height": null,
      "max_width": null,
      "min_height": null,
      "min_width": null,
      "object_fit": null,
      "object_position": null,
      "order": null,
      "overflow": null,
      "overflow_x": null,
      "overflow_y": null,
      "padding": null,
      "right": null,
      "top": null,
      "visibility": null,
      "width": null
     }
    },
    "99d9fb85443c455fa418d8409bf9eda1": {
     "model_module": "@jupyter-widgets/controls",
     "model_module_version": "1.5.0",
     "model_name": "DescriptionStyleModel",
     "state": {
      "_model_module": "@jupyter-widgets/controls",
      "_model_module_version": "1.5.0",
      "_model_name": "DescriptionStyleModel",
      "_view_count": null,
      "_view_module": "@jupyter-widgets/base",
      "_view_module_version": "1.2.0",
      "_view_name": "StyleView",
      "description_width": ""
     }
    },
    "9db9cd2c7a4f43f4afa4d93fa81417d4": {
     "model_module": "@jupyter-widgets/controls",
     "model_module_version": "1.5.0",
     "model_name": "FloatProgressModel",
     "state": {
      "_dom_classes": [],
      "_model_module": "@jupyter-widgets/controls",
      "_model_module_version": "1.5.0",
      "_model_name": "FloatProgressModel",
      "_view_count": null,
      "_view_module": "@jupyter-widgets/controls",
      "_view_module_version": "1.5.0",
      "_view_name": "ProgressView",
      "bar_style": "",
      "description": "",
      "description_tooltip": null,
      "layout": "IPY_MODEL_a60e7beb53ef4deb8875730beab9578a",
      "max": 7,
      "min": 0,
      "orientation": "horizontal",
      "style": "IPY_MODEL_0219c599c1c54e3fb79acffc149d7786",
      "value": 7
     }
    },
    "a158f8d7ae4c410fafdb25614841d03a": {
     "model_module": "@jupyter-widgets/controls",
     "model_module_version": "1.5.0",
     "model_name": "HTMLModel",
     "state": {
      "_dom_classes": [],
      "_model_module": "@jupyter-widgets/controls",
      "_model_module_version": "1.5.0",
      "_model_name": "HTMLModel",
      "_view_count": null,
      "_view_module": "@jupyter-widgets/controls",
      "_view_module_version": "1.5.0",
      "_view_name": "HTMLView",
      "description": "",
      "description_tooltip": null,
      "layout": "IPY_MODEL_8f4ce3250ab045b9909c1d5247729996",
      "placeholder": "​",
      "style": "IPY_MODEL_ab01e82423c44cc0ba6a1d933158557b",
      "value": "Processing: 100%"
     }
    },
    "a48a6c8d1d91472c8c00ce6f52b5b80e": {
     "model_module": "@jupyter-widgets/base",
     "model_module_version": "1.2.0",
     "model_name": "LayoutModel",
     "state": {
      "_model_module": "@jupyter-widgets/base",
      "_model_module_version": "1.2.0",
      "_model_name": "LayoutModel",
      "_view_count": null,
      "_view_module": "@jupyter-widgets/base",
      "_view_module_version": "1.2.0",
      "_view_name": "LayoutView",
      "align_content": null,
      "align_items": null,
      "align_self": null,
      "border": null,
      "bottom": null,
      "display": null,
      "flex": null,
      "flex_flow": null,
      "grid_area": null,
      "grid_auto_columns": null,
      "grid_auto_flow": null,
      "grid_auto_rows": null,
      "grid_column": null,
      "grid_gap": null,
      "grid_row": null,
      "grid_template_areas": null,
      "grid_template_columns": null,
      "grid_template_rows": null,
      "height": null,
      "justify_content": null,
      "justify_items": null,
      "left": null,
      "margin": null,
      "max_height": null,
      "max_width": null,
      "min_height": null,
      "min_width": null,
      "object_fit": null,
      "object_position": null,
      "order": null,
      "overflow": null,
      "overflow_x": null,
      "overflow_y": null,
      "padding": null,
      "right": null,
      "top": null,
      "visibility": null,
      "width": null
     }
    },
    "a60e7beb53ef4deb8875730beab9578a": {
     "model_module": "@jupyter-widgets/base",
     "model_module_version": "1.2.0",
     "model_name": "LayoutModel",
     "state": {
      "_model_module": "@jupyter-widgets/base",
      "_model_module_version": "1.2.0",
      "_model_name": "LayoutModel",
      "_view_count": null,
      "_view_module": "@jupyter-widgets/base",
      "_view_module_version": "1.2.0",
      "_view_name": "LayoutView",
      "align_content": null,
      "align_items": null,
      "align_self": null,
      "border": null,
      "bottom": null,
      "display": null,
      "flex": null,
      "flex_flow": null,
      "grid_area": null,
      "grid_auto_columns": null,
      "grid_auto_flow": null,
      "grid_auto_rows": null,
      "grid_column": null,
      "grid_gap": null,
      "grid_row": null,
      "grid_template_areas": null,
      "grid_template_columns": null,
      "grid_template_rows": null,
      "height": null,
      "justify_content": null,
      "justify_items": null,
      "left": null,
      "margin": null,
      "max_height": null,
      "max_width": null,
      "min_height": null,
      "min_width": null,
      "object_fit": null,
      "object_position": null,
      "order": null,
      "overflow": null,
      "overflow_x": null,
      "overflow_y": null,
      "padding": null,
      "right": null,
      "top": null,
      "visibility": null,
      "width": null
     }
    },
    "a7c10d8e83e949ba8c85df39203cb816": {
     "model_module": "@jupyter-widgets/controls",
     "model_module_version": "1.5.0",
     "model_name": "HBoxModel",
     "state": {
      "_dom_classes": [],
      "_model_module": "@jupyter-widgets/controls",
      "_model_module_version": "1.5.0",
      "_model_name": "HBoxModel",
      "_view_count": null,
      "_view_module": "@jupyter-widgets/controls",
      "_view_module_version": "1.5.0",
      "_view_name": "HBoxView",
      "box_style": "",
      "children": [
       "IPY_MODEL_e2b99794840d4e0a8e247b3d63b50852",
       "IPY_MODEL_ccbeb4025f9b4ffc9fa66b0dd34f24c1",
       "IPY_MODEL_44a5e165ce704091a1983e3d982035f3"
      ],
      "layout": "IPY_MODEL_2129001550c6448695169fa76a4c6a45"
     }
    },
    "a91f3d6bfcc843a1acda7ced86cc70f8": {
     "model_module": "@jupyter-widgets/controls",
     "model_module_version": "1.5.0",
     "model_name": "ProgressStyleModel",
     "state": {
      "_model_module": "@jupyter-widgets/controls",
      "_model_module_version": "1.5.0",
      "_model_name": "ProgressStyleModel",
      "_view_count": null,
      "_view_module": "@jupyter-widgets/base",
      "_view_module_version": "1.2.0",
      "_view_name": "StyleView",
      "bar_color": null,
      "description_width": ""
     }
    },
    "ab01e82423c44cc0ba6a1d933158557b": {
     "model_module": "@jupyter-widgets/controls",
     "model_module_version": "1.5.0",
     "model_name": "DescriptionStyleModel",
     "state": {
      "_model_module": "@jupyter-widgets/controls",
      "_model_module_version": "1.5.0",
      "_model_name": "DescriptionStyleModel",
      "_view_count": null,
      "_view_module": "@jupyter-widgets/base",
      "_view_module_version": "1.2.0",
      "_view_name": "StyleView",
      "description_width": ""
     }
    },
    "ad2d5e27020148a79624487ff12a5745": {
     "model_module": "@jupyter-widgets/controls",
     "model_module_version": "1.5.0",
     "model_name": "HTMLModel",
     "state": {
      "_dom_classes": [],
      "_model_module": "@jupyter-widgets/controls",
      "_model_module_version": "1.5.0",
      "_model_name": "HTMLModel",
      "_view_count": null,
      "_view_module": "@jupyter-widgets/controls",
      "_view_module_version": "1.5.0",
      "_view_name": "HTMLView",
      "description": "",
      "description_tooltip": null,
      "layout": "IPY_MODEL_22e6d4d316574844bd2748e9bd7f7e60",
      "placeholder": "​",
      "style": "IPY_MODEL_fac165c7b4d84486af74ca98a4af5fc8",
      "value": " 7/7 [00:04&lt;00:00,  1.53it/s]"
     }
    },
    "c04a95a1f2e444dcb55df1dffec6dc20": {
     "model_module": "@jupyter-widgets/base",
     "model_module_version": "1.2.0",
     "model_name": "LayoutModel",
     "state": {
      "_model_module": "@jupyter-widgets/base",
      "_model_module_version": "1.2.0",
      "_model_name": "LayoutModel",
      "_view_count": null,
      "_view_module": "@jupyter-widgets/base",
      "_view_module_version": "1.2.0",
      "_view_name": "LayoutView",
      "align_content": null,
      "align_items": null,
      "align_self": null,
      "border": null,
      "bottom": null,
      "display": null,
      "flex": null,
      "flex_flow": null,
      "grid_area": null,
      "grid_auto_columns": null,
      "grid_auto_flow": null,
      "grid_auto_rows": null,
      "grid_column": null,
      "grid_gap": null,
      "grid_row": null,
      "grid_template_areas": null,
      "grid_template_columns": null,
      "grid_template_rows": null,
      "height": null,
      "justify_content": null,
      "justify_items": null,
      "left": null,
      "margin": null,
      "max_height": null,
      "max_width": null,
      "min_height": null,
      "min_width": null,
      "object_fit": null,
      "object_position": null,
      "order": null,
      "overflow": null,
      "overflow_x": null,
      "overflow_y": null,
      "padding": null,
      "right": null,
      "top": null,
      "visibility": null,
      "width": null
     }
    },
    "c442a7c971f143718350d60ca3e7c448": {
     "model_module": "@jupyter-widgets/base",
     "model_module_version": "1.2.0",
     "model_name": "LayoutModel",
     "state": {
      "_model_module": "@jupyter-widgets/base",
      "_model_module_version": "1.2.0",
      "_model_name": "LayoutModel",
      "_view_count": null,
      "_view_module": "@jupyter-widgets/base",
      "_view_module_version": "1.2.0",
      "_view_name": "LayoutView",
      "align_content": null,
      "align_items": null,
      "align_self": null,
      "border": null,
      "bottom": null,
      "display": null,
      "flex": null,
      "flex_flow": null,
      "grid_area": null,
      "grid_auto_columns": null,
      "grid_auto_flow": null,
      "grid_auto_rows": null,
      "grid_column": null,
      "grid_gap": null,
      "grid_row": null,
      "grid_template_areas": null,
      "grid_template_columns": null,
      "grid_template_rows": null,
      "height": null,
      "justify_content": null,
      "justify_items": null,
      "left": null,
      "margin": null,
      "max_height": null,
      "max_width": null,
      "min_height": null,
      "min_width": null,
      "object_fit": null,
      "object_position": null,
      "order": null,
      "overflow": null,
      "overflow_x": null,
      "overflow_y": null,
      "padding": null,
      "right": null,
      "top": null,
      "visibility": null,
      "width": null
     }
    },
    "ccbeb4025f9b4ffc9fa66b0dd34f24c1": {
     "model_module": "@jupyter-widgets/controls",
     "model_module_version": "1.5.0",
     "model_name": "FloatProgressModel",
     "state": {
      "_dom_classes": [],
      "_model_module": "@jupyter-widgets/controls",
      "_model_module_version": "1.5.0",
      "_model_name": "FloatProgressModel",
      "_view_count": null,
      "_view_module": "@jupyter-widgets/controls",
      "_view_module_version": "1.5.0",
      "_view_name": "ProgressView",
      "bar_style": "",
      "description": "",
      "description_tooltip": null,
      "layout": "IPY_MODEL_c04a95a1f2e444dcb55df1dffec6dc20",
      "max": 7,
      "min": 0,
      "orientation": "horizontal",
      "style": "IPY_MODEL_0636158d8221453cbe9428668329616f",
      "value": 7
     }
    },
    "d06a583a038744449d76c24fcdedb06b": {
     "model_module": "@jupyter-widgets/controls",
     "model_module_version": "1.5.0",
     "model_name": "ProgressStyleModel",
     "state": {
      "_model_module": "@jupyter-widgets/controls",
      "_model_module_version": "1.5.0",
      "_model_name": "ProgressStyleModel",
      "_view_count": null,
      "_view_module": "@jupyter-widgets/base",
      "_view_module_version": "1.2.0",
      "_view_name": "StyleView",
      "bar_color": null,
      "description_width": ""
     }
    },
    "d3899dbd60bc4d0ca5c97f497887ece4": {
     "model_module": "@jupyter-widgets/base",
     "model_module_version": "1.2.0",
     "model_name": "LayoutModel",
     "state": {
      "_model_module": "@jupyter-widgets/base",
      "_model_module_version": "1.2.0",
      "_model_name": "LayoutModel",
      "_view_count": null,
      "_view_module": "@jupyter-widgets/base",
      "_view_module_version": "1.2.0",
      "_view_name": "LayoutView",
      "align_content": null,
      "align_items": null,
      "align_self": null,
      "border": null,
      "bottom": null,
      "display": null,
      "flex": null,
      "flex_flow": null,
      "grid_area": null,
      "grid_auto_columns": null,
      "grid_auto_flow": null,
      "grid_auto_rows": null,
      "grid_column": null,
      "grid_gap": null,
      "grid_row": null,
      "grid_template_areas": null,
      "grid_template_columns": null,
      "grid_template_rows": null,
      "height": null,
      "justify_content": null,
      "justify_items": null,
      "left": null,
      "margin": null,
      "max_height": null,
      "max_width": null,
      "min_height": null,
      "min_width": null,
      "object_fit": null,
      "object_position": null,
      "order": null,
      "overflow": null,
      "overflow_x": null,
      "overflow_y": null,
      "padding": null,
      "right": null,
      "top": null,
      "visibility": null,
      "width": null
     }
    },
    "d7124e12c1e5475386f223a8090ae72a": {
     "model_module": "@jupyter-widgets/base",
     "model_module_version": "1.2.0",
     "model_name": "LayoutModel",
     "state": {
      "_model_module": "@jupyter-widgets/base",
      "_model_module_version": "1.2.0",
      "_model_name": "LayoutModel",
      "_view_count": null,
      "_view_module": "@jupyter-widgets/base",
      "_view_module_version": "1.2.0",
      "_view_name": "LayoutView",
      "align_content": null,
      "align_items": null,
      "align_self": null,
      "border": null,
      "bottom": null,
      "display": null,
      "flex": null,
      "flex_flow": null,
      "grid_area": null,
      "grid_auto_columns": null,
      "grid_auto_flow": null,
      "grid_auto_rows": null,
      "grid_column": null,
      "grid_gap": null,
      "grid_row": null,
      "grid_template_areas": null,
      "grid_template_columns": null,
      "grid_template_rows": null,
      "height": null,
      "justify_content": null,
      "justify_items": null,
      "left": null,
      "margin": null,
      "max_height": null,
      "max_width": null,
      "min_height": null,
      "min_width": null,
      "object_fit": null,
      "object_position": null,
      "order": null,
      "overflow": null,
      "overflow_x": null,
      "overflow_y": null,
      "padding": null,
      "right": null,
      "top": null,
      "visibility": null,
      "width": null
     }
    },
    "d7a3586728a34e10ab0171f66032e74f": {
     "model_module": "@jupyter-widgets/base",
     "model_module_version": "1.2.0",
     "model_name": "LayoutModel",
     "state": {
      "_model_module": "@jupyter-widgets/base",
      "_model_module_version": "1.2.0",
      "_model_name": "LayoutModel",
      "_view_count": null,
      "_view_module": "@jupyter-widgets/base",
      "_view_module_version": "1.2.0",
      "_view_name": "LayoutView",
      "align_content": null,
      "align_items": null,
      "align_self": null,
      "border": null,
      "bottom": null,
      "display": null,
      "flex": null,
      "flex_flow": null,
      "grid_area": null,
      "grid_auto_columns": null,
      "grid_auto_flow": null,
      "grid_auto_rows": null,
      "grid_column": null,
      "grid_gap": null,
      "grid_row": null,
      "grid_template_areas": null,
      "grid_template_columns": null,
      "grid_template_rows": null,
      "height": null,
      "justify_content": null,
      "justify_items": null,
      "left": null,
      "margin": null,
      "max_height": null,
      "max_width": null,
      "min_height": null,
      "min_width": null,
      "object_fit": null,
      "object_position": null,
      "order": null,
      "overflow": null,
      "overflow_x": null,
      "overflow_y": null,
      "padding": null,
      "right": null,
      "top": null,
      "visibility": null,
      "width": null
     }
    },
    "dac445aa8d4c46f086638d69e61b84f1": {
     "model_module": "@jupyter-widgets/controls",
     "model_module_version": "1.5.0",
     "model_name": "HBoxModel",
     "state": {
      "_dom_classes": [],
      "_model_module": "@jupyter-widgets/controls",
      "_model_module_version": "1.5.0",
      "_model_name": "HBoxModel",
      "_view_count": null,
      "_view_module": "@jupyter-widgets/controls",
      "_view_module_version": "1.5.0",
      "_view_name": "HBoxView",
      "box_style": "",
      "children": [
       "IPY_MODEL_a158f8d7ae4c410fafdb25614841d03a",
       "IPY_MODEL_9db9cd2c7a4f43f4afa4d93fa81417d4",
       "IPY_MODEL_ad2d5e27020148a79624487ff12a5745"
      ],
      "layout": "IPY_MODEL_7b880155e2654051a0adbb7c0861632b"
     }
    },
    "e2b99794840d4e0a8e247b3d63b50852": {
     "model_module": "@jupyter-widgets/controls",
     "model_module_version": "1.5.0",
     "model_name": "HTMLModel",
     "state": {
      "_dom_classes": [],
      "_model_module": "@jupyter-widgets/controls",
      "_model_module_version": "1.5.0",
      "_model_name": "HTMLModel",
      "_view_count": null,
      "_view_module": "@jupyter-widgets/controls",
      "_view_module_version": "1.5.0",
      "_view_name": "HTMLView",
      "description": "",
      "description_tooltip": null,
      "layout": "IPY_MODEL_d7a3586728a34e10ab0171f66032e74f",
      "placeholder": "​",
      "style": "IPY_MODEL_4a23803f277b4efab857d721eeb47798",
      "value": "Processing: 100%"
     }
    },
    "efe4866b4a49496e8833866ddfb3002b": {
     "model_module": "@jupyter-widgets/controls",
     "model_module_version": "1.5.0",
     "model_name": "HTMLModel",
     "state": {
      "_dom_classes": [],
      "_model_module": "@jupyter-widgets/controls",
      "_model_module_version": "1.5.0",
      "_model_name": "HTMLModel",
      "_view_count": null,
      "_view_module": "@jupyter-widgets/controls",
      "_view_module_version": "1.5.0",
      "_view_name": "HTMLView",
      "description": "",
      "description_tooltip": null,
      "layout": "IPY_MODEL_d3899dbd60bc4d0ca5c97f497887ece4",
      "placeholder": "​",
      "style": "IPY_MODEL_231b62546c9841b8a37713b0e6112272",
      "value": " 6/7 [00:01&lt;00:00,  5.09it/s]"
     }
    },
    "eff6845215604f80b6837bec4ed764b1": {
     "model_module": "@jupyter-widgets/controls",
     "model_module_version": "1.5.0",
     "model_name": "DescriptionStyleModel",
     "state": {
      "_model_module": "@jupyter-widgets/controls",
      "_model_module_version": "1.5.0",
      "_model_name": "DescriptionStyleModel",
      "_view_count": null,
      "_view_module": "@jupyter-widgets/base",
      "_view_module_version": "1.2.0",
      "_view_name": "StyleView",
      "description_width": ""
     }
    },
    "f6d86a3907034900afdb69781d18838f": {
     "model_module": "@jupyter-widgets/base",
     "model_module_version": "1.2.0",
     "model_name": "LayoutModel",
     "state": {
      "_model_module": "@jupyter-widgets/base",
      "_model_module_version": "1.2.0",
      "_model_name": "LayoutModel",
      "_view_count": null,
      "_view_module": "@jupyter-widgets/base",
      "_view_module_version": "1.2.0",
      "_view_name": "LayoutView",
      "align_content": null,
      "align_items": null,
      "align_self": null,
      "border": null,
      "bottom": null,
      "display": null,
      "flex": null,
      "flex_flow": null,
      "grid_area": null,
      "grid_auto_columns": null,
      "grid_auto_flow": null,
      "grid_auto_rows": null,
      "grid_column": null,
      "grid_gap": null,
      "grid_row": null,
      "grid_template_areas": null,
      "grid_template_columns": null,
      "grid_template_rows": null,
      "height": null,
      "justify_content": null,
      "justify_items": null,
      "left": null,
      "margin": null,
      "max_height": null,
      "max_width": null,
      "min_height": null,
      "min_width": null,
      "object_fit": null,
      "object_position": null,
      "order": null,
      "overflow": null,
      "overflow_x": null,
      "overflow_y": null,
      "padding": null,
      "right": null,
      "top": null,
      "visibility": null,
      "width": null
     }
    },
    "f7b0a78e0db340bca8fe1f800963a0f2": {
     "model_module": "@jupyter-widgets/controls",
     "model_module_version": "1.5.0",
     "model_name": "HTMLModel",
     "state": {
      "_dom_classes": [],
      "_model_module": "@jupyter-widgets/controls",
      "_model_module_version": "1.5.0",
      "_model_name": "HTMLModel",
      "_view_count": null,
      "_view_module": "@jupyter-widgets/controls",
      "_view_module_version": "1.5.0",
      "_view_name": "HTMLView",
      "description": "",
      "description_tooltip": null,
      "layout": "IPY_MODEL_c442a7c971f143718350d60ca3e7c448",
      "placeholder": "​",
      "style": "IPY_MODEL_207b7531203e4d15acb24354299d0d58",
      "value": "Processing:  86%"
     }
    },
    "fac165c7b4d84486af74ca98a4af5fc8": {
     "model_module": "@jupyter-widgets/controls",
     "model_module_version": "1.5.0",
     "model_name": "DescriptionStyleModel",
     "state": {
      "_model_module": "@jupyter-widgets/controls",
      "_model_module_version": "1.5.0",
      "_model_name": "DescriptionStyleModel",
      "_view_count": null,
      "_view_module": "@jupyter-widgets/base",
      "_view_module_version": "1.2.0",
      "_view_name": "StyleView",
      "description_width": ""
     }
    },
    "fd6a89082d9f4577b7e77dd44e1b77c7": {
     "model_module": "@jupyter-widgets/base",
     "model_module_version": "1.2.0",
     "model_name": "LayoutModel",
     "state": {
      "_model_module": "@jupyter-widgets/base",
      "_model_module_version": "1.2.0",
      "_model_name": "LayoutModel",
      "_view_count": null,
      "_view_module": "@jupyter-widgets/base",
      "_view_module_version": "1.2.0",
      "_view_name": "LayoutView",
      "align_content": null,
      "align_items": null,
      "align_self": null,
      "border": null,
      "bottom": null,
      "display": null,
      "flex": null,
      "flex_flow": null,
      "grid_area": null,
      "grid_auto_columns": null,
      "grid_auto_flow": null,
      "grid_auto_rows": null,
      "grid_column": null,
      "grid_gap": null,
      "grid_row": null,
      "grid_template_areas": null,
      "grid_template_columns": null,
      "grid_template_rows": null,
      "height": null,
      "justify_content": null,
      "justify_items": null,
      "left": null,
      "margin": null,
      "max_height": null,
      "max_width": null,
      "min_height": null,
      "min_width": null,
      "object_fit": null,
      "object_position": null,
      "order": null,
      "overflow": null,
      "overflow_x": null,
      "overflow_y": null,
      "padding": null,
      "right": null,
      "top": null,
      "visibility": null,
      "width": null
     }
    }
   }
  }
 },
 "nbformat": 4,
 "nbformat_minor": 5
}
